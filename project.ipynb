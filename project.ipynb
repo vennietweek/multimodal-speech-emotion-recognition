{
 "cells": [
  {
   "cell_type": "code",
   "execution_count": 17,
   "metadata": {},
   "outputs": [],
   "source": [
    "import os\n",
    "import sys\n",
    "import copy\n",
    "import pickle\n",
    "import datetime\n",
    "import numpy as np\n",
    "import pandas as pd\n",
    "import tensorflow as tf\n",
    "import matplotlib.pyplot as plt\n",
    "import seaborn as sns\n",
    "import keras.api._v2.keras as keras\n",
    "import keras.backend as K\n",
    "from keras.optimizers.legacy import Adam\n",
    "from keras.optimizers import SGD\n",
    "from keras import callbacks\n",
    "from keras.models import Model\n",
    "from keras.layers import Layer, Dense, Input, Activation, Lambda, BatchNormalization, Conv1D, SpatialDropout1D, add, GlobalAveragePooling1D, LSTM, Dense, concatenate, TimeDistributed\n",
    "from keras.activations import sigmoid\n",
    "from sklearn.model_selection import KFold\n",
    "from keras.callbacks import ModelCheckpoint\n",
    "from sklearn.metrics import classification_report, confusion_matrix, precision_recall_fscore_support, accuracy_score\n",
    "import tensorflow as tf\n",
    "from tensorflow.keras import optimizers"
   ]
  },
  {
   "cell_type": "code",
   "execution_count": 12,
   "metadata": {},
   "outputs": [
    {
     "name": "stdout",
     "output_type": "stream",
     "text": [
      "Number of training samples:  120\n",
      "Number of testing samples:  31\n",
      "Max length of sequences:  110\n",
      "\n",
      "Train text shape: 120 samples, 110 timesteps, 100 features\n",
      "Train audio shape: 120 samples, 110 timesteps, 100 features\n",
      "Train visual shape: 120 samples, 110 timesteps, 512 features\n",
      "\n",
      "Test text shape: 31 samples, 110 timesteps, 100 features\n",
      "Test audio shape: 31 samples, 110 timesteps, 100 features\n",
      "Test visual shape: 31 samples, 110 timesteps, 512 features\n",
      "\n",
      "Train data shape: 120 samples, 110 timesteps, 712 features\n",
      "Train label shape: 120 samples, 110 timesteps, 6 classes\n",
      "\n",
      "Test data shape: 31 samples, 110 timesteps, 712 features\n",
      "Test label shape: 31 samples, 110 timesteps, 6 classes\n",
      "\n"
     ]
    }
   ],
   "source": [
    "# Load multimodal data\n",
    "\n",
    "from collections import Counter\n",
    "# emotion_counter = Counter()\n",
    "\n",
    "def createOneHot(train_label, test_label):\n",
    "    \n",
    "    maxlen = int(max(train_label.max(), test_label.max()))\n",
    "\n",
    "    train = np.zeros((train_label.shape[0], train_label.shape[1], maxlen + 1))\n",
    "    test = np.zeros((test_label.shape[0], test_label.shape[1], maxlen + 1))\n",
    "\n",
    "    for i in range(train_label.shape[0]):\n",
    "        for j in range(train_label.shape[1]):\n",
    "            train[i, j, train_label[i, j]] = 1\n",
    "\n",
    "    for i in range(test_label.shape[0]):\n",
    "        for j in range(test_label.shape[1]):\n",
    "            test[i, j, test_label[i, j]] = 1\n",
    "\n",
    "    return train, test\n",
    "\n",
    "# Load data\n",
    "f = open(\"dataset/iemocap/raw/IEMOCAP_features_raw.pkl\", \"rb\")\n",
    "u = pickle._Unpickler(f)\n",
    "u.encoding = 'latin1'\n",
    "videoIDs, videoSpeakers, videoLabels, videoText, videoAudio, videoVisual, videoSentence, trainVid, testVid = u.load()\n",
    "# label index mapping = {'hap':0, 'sad':1, 'neu':2, 'ang':3, 'exc':4, 'fru':5}\n",
    "\n",
    "print('Number of training samples: ',len(trainVid))\n",
    "print('Number of testing samples: ',len(testVid))\n",
    "\n",
    "train_audio = []\n",
    "train_text = []\n",
    "train_visual = []\n",
    "train_seq_len = []\n",
    "train_label = []\n",
    "\n",
    "test_audio = []\n",
    "test_text = []\n",
    "test_visual = []\n",
    "test_seq_len = []\n",
    "test_label = []\n",
    "for vid in trainVid:\n",
    "    train_seq_len.append(len(videoIDs[vid]))\n",
    "for vid in testVid:\n",
    "    test_seq_len.append(len(videoIDs[vid]))\n",
    "\n",
    "max_len = max(max(train_seq_len), max(test_seq_len))\n",
    "print('Max length of sequences: ', max_len)\n",
    "print()\n",
    "\n",
    "for vid in trainVid:\n",
    "    # emotion_counter.update(videoLabels[vid])\n",
    "    train_label.append(videoLabels[vid] + [0] * (max_len - len(videoIDs[vid])))\n",
    "    pad = [np.zeros(videoText[vid][0].shape)] * (max_len - len(videoIDs[vid]))\n",
    "    text = np.stack(videoText[vid] + pad, axis=0)\n",
    "    train_text.append(text)\n",
    "\n",
    "    pad = [np.zeros(videoAudio[vid][0].shape)] * (max_len - len(videoIDs[vid]))\n",
    "    audio = np.stack(videoAudio[vid] + pad, axis=0)\n",
    "    train_audio.append(audio)\n",
    "\n",
    "    pad = [np.zeros(videoVisual[vid][0].shape)] * (max_len - len(videoIDs[vid]))\n",
    "    video = np.stack(videoVisual[vid] + pad, axis=0)\n",
    "    train_visual.append(video)\n",
    "\n",
    "for vid in testVid:\n",
    "    test_label.append(videoLabels[vid] + [0] * (max_len - len(videoIDs[vid])))\n",
    "    pad = [np.zeros(videoText[vid][0].shape)] * (max_len - len(videoIDs[vid]))\n",
    "    text = np.stack(videoText[vid] + pad, axis=0)\n",
    "    test_text.append(text)\n",
    "\n",
    "    pad = [np.zeros(videoAudio[vid][0].shape)] * (max_len - len(videoIDs[vid]))\n",
    "    audio = np.stack(videoAudio[vid] + pad, axis=0)\n",
    "    test_audio.append(audio)\n",
    "\n",
    "    pad = [np.zeros(videoVisual[vid][0].shape)] * (max_len - len(videoIDs[vid]))\n",
    "    video = np.stack(videoVisual[vid] + pad, axis=0)\n",
    "    test_visual.append(video)\n",
    "\n",
    "train_text = np.stack(train_text, axis=0)\n",
    "train_audio = np.stack(train_audio, axis=0)\n",
    "train_visual = np.stack(train_visual, axis=0)\n",
    "print(f\"Train text shape: {train_text.shape[0]} samples, {train_text.shape[1]} timesteps, {train_text.shape[2]} features\")\n",
    "print(f\"Train audio shape: {train_audio.shape[0]} samples, {train_audio.shape[1]} timesteps, {train_audio.shape[2]} features\")\n",
    "print(f\"Train visual shape: {train_visual.shape[0]} samples, {train_visual.shape[1]} timesteps, {train_visual.shape[2]} features\")\n",
    "print()\n",
    "\n",
    "test_text = np.stack(test_text, axis=0)\n",
    "test_audio = np.stack(test_audio, axis=0)\n",
    "test_visual = np.stack(test_visual, axis=0)\n",
    "print(f\"Test text shape: {test_text.shape[0]} samples, {test_text.shape[1]} timesteps, {test_text.shape[2]} features\")\n",
    "print(f\"Test audio shape: {test_audio.shape[0]} samples, {test_audio.shape[1]} timesteps, {test_audio.shape[2]} features\")\n",
    "print(f\"Test visual shape: {test_visual.shape[0]} samples, {test_visual.shape[1]} timesteps, {test_visual.shape[2]} features\")\n",
    "print()\n",
    "\n",
    "train_label = np.array(train_label)\n",
    "test_label = np.array(test_label)\n",
    "train_seq_len = np.array(train_seq_len)\n",
    "test_seq_len = np.array(test_seq_len)\n",
    "\n",
    "train_mask = np.zeros((train_text.shape[0], train_text.shape[1]), dtype='float')\n",
    "for i in range(len(train_seq_len)):\n",
    "    train_mask[i, :train_seq_len[i]] = 1.0\n",
    "\n",
    "test_mask = np.zeros((test_text.shape[0], test_text.shape[1]), dtype='float')\n",
    "for i in range(len(test_seq_len)):\n",
    "    test_mask[i, :test_seq_len[i]] = 1.0\n",
    "\n",
    "train_label, test_label = createOneHot(train_label, test_label)\n",
    "train_data = np.concatenate((train_audio, train_visual, train_text), axis=-1)\n",
    "test_data = np.concatenate((test_audio, test_visual, test_text), axis=-1)\n",
    "audio_text_train_data = np.concatenate((train_audio, train_text), axis=-1)\n",
    "audio_text_test_data = np.concatenate((test_audio, test_text), axis=-1)\n",
    "\n",
    "print(f\"Train data shape: {train_data.shape[0]} samples, {train_data.shape[1]} timesteps, {train_data.shape[2]} features\")\n",
    "print(f\"Train label shape: {train_label.shape[0]} samples, {train_label.shape[1]} timesteps, {train_label.shape[2]} classes\")\n",
    "print()\n",
    "print(f\"Test data shape: {test_data.shape[0]} samples, {test_data.shape[1]} timesteps, {test_data.shape[2]} features\")\n",
    "print(f\"Test label shape: {test_label.shape[0]} samples, {test_label.shape[1]} timesteps, {test_label.shape[2]} classes\")\n",
    "print()\n",
    "\n",
    "# for emotion, count in emotion_counter.items():\n",
    "#   print(f\"{emotion}: {count}\")"
   ]
  },
  {
   "cell_type": "code",
   "execution_count": 66,
   "metadata": {},
   "outputs": [],
   "source": [
    "class BaseModel:\n",
    "    def __init__(self, input_shape, num_classes):\n",
    "        self.input_shape = input_shape\n",
    "        self.num_classes = num_classes\n",
    "        self.model = self.build_model()\n",
    "\n",
    "    def build_model(self):\n",
    "        pass\n",
    "\n",
    "    def compile(self, lr=0.001):\n",
    "        self.model.compile(\n",
    "            optimizer=Adam(lr=lr),\n",
    "            loss='categorical_crossentropy',\n",
    "            metrics=['accuracy']\n",
    "        )\n",
    "\n",
    "    def train(self, x_train, y_train, x_val, y_val, epochs=10, batch_size=32):\n",
    "        return self.model.fit(\n",
    "            x_train, y_train,\n",
    "            validation_data=(x_val, y_val),\n",
    "            epochs=epochs,\n",
    "            batch_size=batch_size\n",
    "        )\n",
    "\n",
    "    def evaluate(self, x_test, y_test):\n",
    "        predictions = self.model.predict(x_test)\n",
    "        y_pred = np.argmax(predictions, axis=-1).flatten()\n",
    "        y_true = np.argmax(y_test, axis=-1).flatten()\n",
    "\n",
    "        accuracy = accuracy_score(y_true, y_pred)\n",
    "        precision, recall, f1, _ = precision_recall_fscore_support(y_true, y_pred, average='macro')\n",
    "\n",
    "        # Return a dictionary of metrics\n",
    "        return {\n",
    "            'accuracy': accuracy,\n",
    "            'precision': precision,\n",
    "            'recall': recall,\n",
    "            'f1_score': f1,\n",
    "        }\n"
   ]
  },
  {
   "cell_type": "code",
   "execution_count": 67,
   "metadata": {},
   "outputs": [],
   "source": [
    "class EarlyFusionModel(BaseModel):\n",
    "    def build_model(self):\n",
    "        inputs = Input(shape=self.input_shape)\n",
    "        x = LSTM(64, return_sequences=True)(inputs)\n",
    "        x = LSTM(64, return_sequences=True)(x)\n",
    "        outputs = Dense(self.num_classes, activation='softmax')(x)\n",
    "        return Model(inputs, outputs)\n",
    "    \n",
    "    def train_and_evaluate_on_test(self, x_train, y_train, x_test, y_test, epochs=10, batch_size=32):\n",
    "        # Train the model on the entire training dataset\n",
    "        history = self.model.fit(\n",
    "            x_train, y_train,\n",
    "            epochs=epochs,\n",
    "            batch_size=batch_size,\n",
    "            verbose=1\n",
    "        )\n",
    "\n",
    "        # Evaluate the model on the test dataset\n",
    "        test_metrics = self.evaluate(x_test, y_test)\n",
    "\n",
    "        return history, test_metrics"
   ]
  },
  {
   "cell_type": "code",
   "execution_count": 68,
   "metadata": {},
   "outputs": [
    {
     "name": "stdout",
     "output_type": "stream",
     "text": [
      "Epoch 1/10\n"
     ]
    },
    {
     "name": "stderr",
     "output_type": "stream",
     "text": [
      "/Users/venessa/Desktop/5342project/venv/lib/python3.8/site-packages/keras/src/optimizers/legacy/adam.py:118: UserWarning: The `lr` argument is deprecated, use `learning_rate` instead.\n",
      "  super().__init__(name, **kwargs)\n",
      "2024-03-16 15:12:17.683280: I tensorflow/core/grappler/optimizers/custom_graph_optimizer_registry.cc:114] Plugin optimizer for device_type GPU is enabled.\n",
      "2024-03-16 15:12:17.907597: I tensorflow/core/grappler/optimizers/custom_graph_optimizer_registry.cc:114] Plugin optimizer for device_type GPU is enabled.\n",
      "2024-03-16 15:12:18.065967: I tensorflow/core/grappler/optimizers/custom_graph_optimizer_registry.cc:114] Plugin optimizer for device_type GPU is enabled.\n",
      "2024-03-16 15:12:18.285376: I tensorflow/core/grappler/optimizers/custom_graph_optimizer_registry.cc:114] Plugin optimizer for device_type GPU is enabled.\n",
      "2024-03-16 15:12:18.682109: I tensorflow/core/grappler/optimizers/custom_graph_optimizer_registry.cc:114] Plugin optimizer for device_type GPU is enabled.\n"
     ]
    },
    {
     "name": "stdout",
     "output_type": "stream",
     "text": [
      "3/3 [==============================] - ETA: 0s - loss: 1.7168 - accuracy: 0.5271"
     ]
    },
    {
     "name": "stderr",
     "output_type": "stream",
     "text": [
      "2024-03-16 15:12:19.545974: I tensorflow/core/grappler/optimizers/custom_graph_optimizer_registry.cc:114] Plugin optimizer for device_type GPU is enabled.\n",
      "2024-03-16 15:12:19.626058: I tensorflow/core/grappler/optimizers/custom_graph_optimizer_registry.cc:114] Plugin optimizer for device_type GPU is enabled.\n",
      "2024-03-16 15:12:19.745773: I tensorflow/core/grappler/optimizers/custom_graph_optimizer_registry.cc:114] Plugin optimizer for device_type GPU is enabled.\n"
     ]
    },
    {
     "name": "stdout",
     "output_type": "stream",
     "text": [
      "3/3 [==============================] - 3s 490ms/step - loss: 1.7168 - accuracy: 0.5271 - val_loss: 1.6029 - val_accuracy: 0.7515\n",
      "Epoch 2/10\n",
      "3/3 [==============================] - 0s 168ms/step - loss: 1.5259 - accuracy: 0.7978 - val_loss: 1.4422 - val_accuracy: 0.7902\n",
      "Epoch 3/10\n",
      "3/3 [==============================] - 0s 141ms/step - loss: 1.3360 - accuracy: 0.8185 - val_loss: 1.2470 - val_accuracy: 0.7913\n",
      "Epoch 4/10\n",
      "3/3 [==============================] - 0s 87ms/step - loss: 1.0804 - accuracy: 0.8246 - val_loss: 0.9111 - val_accuracy: 0.7803\n",
      "Epoch 5/10\n",
      "3/3 [==============================] - 0s 135ms/step - loss: 0.7025 - accuracy: 0.8277 - val_loss: 0.6170 - val_accuracy: 0.7814\n",
      "Epoch 6/10\n",
      "3/3 [==============================] - 0s 64ms/step - loss: 0.5089 - accuracy: 0.8342 - val_loss: 0.5302 - val_accuracy: 0.8242\n",
      "Epoch 7/10\n",
      "3/3 [==============================] - 0s 91ms/step - loss: 0.4504 - accuracy: 0.8483 - val_loss: 0.4937 - val_accuracy: 0.8299\n",
      "Epoch 8/10\n",
      "3/3 [==============================] - 0s 73ms/step - loss: 0.4164 - accuracy: 0.8596 - val_loss: 0.4587 - val_accuracy: 0.8447\n",
      "Epoch 9/10\n",
      "3/3 [==============================] - 0s 63ms/step - loss: 0.3865 - accuracy: 0.8728 - val_loss: 0.4270 - val_accuracy: 0.8572\n",
      "Epoch 10/10\n",
      "3/3 [==============================] - 0s 62ms/step - loss: 0.3569 - accuracy: 0.8817 - val_loss: 0.3949 - val_accuracy: 0.8655\n"
     ]
    },
    {
     "name": "stderr",
     "output_type": "stream",
     "text": [
      "2024-03-16 15:12:22.483130: I tensorflow/core/grappler/optimizers/custom_graph_optimizer_registry.cc:114] Plugin optimizer for device_type GPU is enabled.\n",
      "2024-03-16 15:12:22.548979: I tensorflow/core/grappler/optimizers/custom_graph_optimizer_registry.cc:114] Plugin optimizer for device_type GPU is enabled.\n",
      "2024-03-16 15:12:22.662038: I tensorflow/core/grappler/optimizers/custom_graph_optimizer_registry.cc:114] Plugin optimizer for device_type GPU is enabled.\n"
     ]
    },
    {
     "name": "stdout",
     "output_type": "stream",
     "text": [
      "1/1 [==============================] - 0s 487ms/step\n",
      "Epoch 1/10\n"
     ]
    },
    {
     "name": "stderr",
     "output_type": "stream",
     "text": [
      "/Users/venessa/Desktop/5342project/venv/lib/python3.8/site-packages/keras/src/optimizers/legacy/adam.py:118: UserWarning: The `lr` argument is deprecated, use `learning_rate` instead.\n",
      "  super().__init__(name, **kwargs)\n",
      "2024-03-16 15:12:23.611197: I tensorflow/core/grappler/optimizers/custom_graph_optimizer_registry.cc:114] Plugin optimizer for device_type GPU is enabled.\n",
      "2024-03-16 15:12:23.780740: I tensorflow/core/grappler/optimizers/custom_graph_optimizer_registry.cc:114] Plugin optimizer for device_type GPU is enabled.\n",
      "2024-03-16 15:12:23.912526: I tensorflow/core/grappler/optimizers/custom_graph_optimizer_registry.cc:114] Plugin optimizer for device_type GPU is enabled.\n",
      "2024-03-16 15:12:24.102132: I tensorflow/core/grappler/optimizers/custom_graph_optimizer_registry.cc:114] Plugin optimizer for device_type GPU is enabled.\n",
      "2024-03-16 15:12:24.333226: I tensorflow/core/grappler/optimizers/custom_graph_optimizer_registry.cc:114] Plugin optimizer for device_type GPU is enabled.\n"
     ]
    },
    {
     "name": "stdout",
     "output_type": "stream",
     "text": [
      "3/3 [==============================] - ETA: 0s - loss: 1.7634 - accuracy: 0.4349"
     ]
    },
    {
     "name": "stderr",
     "output_type": "stream",
     "text": [
      "2024-03-16 15:12:25.793769: I tensorflow/core/grappler/optimizers/custom_graph_optimizer_registry.cc:114] Plugin optimizer for device_type GPU is enabled.\n",
      "2024-03-16 15:12:25.884020: I tensorflow/core/grappler/optimizers/custom_graph_optimizer_registry.cc:114] Plugin optimizer for device_type GPU is enabled.\n",
      "2024-03-16 15:12:26.092494: I tensorflow/core/grappler/optimizers/custom_graph_optimizer_registry.cc:114] Plugin optimizer for device_type GPU is enabled.\n"
     ]
    },
    {
     "name": "stdout",
     "output_type": "stream",
     "text": [
      "3/3 [==============================] - 3s 844ms/step - loss: 1.7634 - accuracy: 0.4349 - val_loss: 1.6595 - val_accuracy: 0.6981\n",
      "Epoch 2/10\n",
      "3/3 [==============================] - 0s 102ms/step - loss: 1.5762 - accuracy: 0.7503 - val_loss: 1.5077 - val_accuracy: 0.7731\n",
      "Epoch 3/10\n",
      "3/3 [==============================] - 0s 96ms/step - loss: 1.4093 - accuracy: 0.7928 - val_loss: 1.3195 - val_accuracy: 0.7973\n",
      "Epoch 4/10\n",
      "3/3 [==============================] - 0s 119ms/step - loss: 1.1772 - accuracy: 0.8154 - val_loss: 0.9914 - val_accuracy: 0.8117\n",
      "Epoch 5/10\n",
      "3/3 [==============================] - 0s 129ms/step - loss: 0.8077 - accuracy: 0.8319 - val_loss: 0.6460 - val_accuracy: 0.8083\n",
      "Epoch 6/10\n",
      "3/3 [==============================] - 0s 75ms/step - loss: 0.5712 - accuracy: 0.8366 - val_loss: 0.5435 - val_accuracy: 0.8205\n",
      "Epoch 7/10\n",
      "3/3 [==============================] - 0s 70ms/step - loss: 0.4861 - accuracy: 0.8432 - val_loss: 0.4864 - val_accuracy: 0.8330\n",
      "Epoch 8/10\n",
      "3/3 [==============================] - 0s 85ms/step - loss: 0.4346 - accuracy: 0.8562 - val_loss: 0.4524 - val_accuracy: 0.8458\n",
      "Epoch 9/10\n",
      "3/3 [==============================] - 0s 53ms/step - loss: 0.4004 - accuracy: 0.8670 - val_loss: 0.4263 - val_accuracy: 0.8602\n",
      "Epoch 10/10\n",
      "3/3 [==============================] - 0s 98ms/step - loss: 0.3726 - accuracy: 0.8789 - val_loss: 0.4008 - val_accuracy: 0.8705\n"
     ]
    },
    {
     "name": "stderr",
     "output_type": "stream",
     "text": [
      "2024-03-16 15:12:29.125783: I tensorflow/core/grappler/optimizers/custom_graph_optimizer_registry.cc:114] Plugin optimizer for device_type GPU is enabled.\n",
      "2024-03-16 15:12:29.190449: I tensorflow/core/grappler/optimizers/custom_graph_optimizer_registry.cc:114] Plugin optimizer for device_type GPU is enabled.\n",
      "2024-03-16 15:12:29.381072: I tensorflow/core/grappler/optimizers/custom_graph_optimizer_registry.cc:114] Plugin optimizer for device_type GPU is enabled.\n"
     ]
    },
    {
     "name": "stdout",
     "output_type": "stream",
     "text": [
      "1/1 [==============================] - 1s 654ms/step\n",
      "Epoch 1/10\n"
     ]
    },
    {
     "name": "stderr",
     "output_type": "stream",
     "text": [
      "/Users/venessa/Desktop/5342project/venv/lib/python3.8/site-packages/keras/src/optimizers/legacy/adam.py:118: UserWarning: The `lr` argument is deprecated, use `learning_rate` instead.\n",
      "  super().__init__(name, **kwargs)\n",
      "2024-03-16 15:12:30.436298: I tensorflow/core/grappler/optimizers/custom_graph_optimizer_registry.cc:114] Plugin optimizer for device_type GPU is enabled.\n",
      "2024-03-16 15:12:30.625698: I tensorflow/core/grappler/optimizers/custom_graph_optimizer_registry.cc:114] Plugin optimizer for device_type GPU is enabled.\n",
      "2024-03-16 15:12:30.758902: I tensorflow/core/grappler/optimizers/custom_graph_optimizer_registry.cc:114] Plugin optimizer for device_type GPU is enabled.\n",
      "2024-03-16 15:12:30.984580: I tensorflow/core/grappler/optimizers/custom_graph_optimizer_registry.cc:114] Plugin optimizer for device_type GPU is enabled.\n",
      "2024-03-16 15:12:31.267949: I tensorflow/core/grappler/optimizers/custom_graph_optimizer_registry.cc:114] Plugin optimizer for device_type GPU is enabled.\n"
     ]
    },
    {
     "name": "stdout",
     "output_type": "stream",
     "text": [
      "3/3 [==============================] - ETA: 0s - loss: 1.7698 - accuracy: 0.4505"
     ]
    },
    {
     "name": "stderr",
     "output_type": "stream",
     "text": [
      "2024-03-16 15:12:32.324828: I tensorflow/core/grappler/optimizers/custom_graph_optimizer_registry.cc:114] Plugin optimizer for device_type GPU is enabled.\n",
      "2024-03-16 15:12:32.458948: I tensorflow/core/grappler/optimizers/custom_graph_optimizer_registry.cc:114] Plugin optimizer for device_type GPU is enabled.\n",
      "2024-03-16 15:12:32.712688: I tensorflow/core/grappler/optimizers/custom_graph_optimizer_registry.cc:114] Plugin optimizer for device_type GPU is enabled.\n"
     ]
    },
    {
     "name": "stdout",
     "output_type": "stream",
     "text": [
      "3/3 [==============================] - 3s 709ms/step - loss: 1.7698 - accuracy: 0.4505 - val_loss: 1.6490 - val_accuracy: 0.7091\n",
      "Epoch 2/10\n",
      "3/3 [==============================] - 0s 101ms/step - loss: 1.5870 - accuracy: 0.7660 - val_loss: 1.5030 - val_accuracy: 0.7693\n",
      "Epoch 3/10\n",
      "3/3 [==============================] - 0s 126ms/step - loss: 1.4299 - accuracy: 0.7989 - val_loss: 1.3296 - val_accuracy: 0.7909\n",
      "Epoch 4/10\n",
      "3/3 [==============================] - 0s 143ms/step - loss: 1.2162 - accuracy: 0.8194 - val_loss: 1.0308 - val_accuracy: 0.8098\n",
      "Epoch 5/10\n",
      "3/3 [==============================] - 0s 106ms/step - loss: 0.8570 - accuracy: 0.8334 - val_loss: 0.6727 - val_accuracy: 0.8072\n",
      "Epoch 6/10\n",
      "3/3 [==============================] - 0s 114ms/step - loss: 0.5910 - accuracy: 0.8364 - val_loss: 0.5564 - val_accuracy: 0.8121\n",
      "Epoch 7/10\n",
      "3/3 [==============================] - 0s 137ms/step - loss: 0.4990 - accuracy: 0.8424 - val_loss: 0.4984 - val_accuracy: 0.8269\n",
      "Epoch 8/10\n",
      "3/3 [==============================] - 0s 128ms/step - loss: 0.4514 - accuracy: 0.8535 - val_loss: 0.4654 - val_accuracy: 0.8364\n",
      "Epoch 9/10\n",
      "3/3 [==============================] - 0s 68ms/step - loss: 0.4162 - accuracy: 0.8613 - val_loss: 0.4259 - val_accuracy: 0.8443\n",
      "Epoch 10/10\n",
      "3/3 [==============================] - 0s 73ms/step - loss: 0.3852 - accuracy: 0.8728 - val_loss: 0.3986 - val_accuracy: 0.8587\n"
     ]
    },
    {
     "name": "stderr",
     "output_type": "stream",
     "text": [
      "2024-03-16 15:12:35.986814: I tensorflow/core/grappler/optimizers/custom_graph_optimizer_registry.cc:114] Plugin optimizer for device_type GPU is enabled.\n",
      "2024-03-16 15:12:36.061851: I tensorflow/core/grappler/optimizers/custom_graph_optimizer_registry.cc:114] Plugin optimizer for device_type GPU is enabled.\n",
      "2024-03-16 15:12:36.257231: I tensorflow/core/grappler/optimizers/custom_graph_optimizer_registry.cc:114] Plugin optimizer for device_type GPU is enabled.\n"
     ]
    },
    {
     "name": "stdout",
     "output_type": "stream",
     "text": [
      "1/1 [==============================] - 1s 689ms/step\n",
      "Epoch 1/10\n"
     ]
    },
    {
     "name": "stderr",
     "output_type": "stream",
     "text": [
      "/Users/venessa/Desktop/5342project/venv/lib/python3.8/site-packages/keras/src/optimizers/legacy/adam.py:118: UserWarning: The `lr` argument is deprecated, use `learning_rate` instead.\n",
      "  super().__init__(name, **kwargs)\n",
      "2024-03-16 15:12:37.408242: I tensorflow/core/grappler/optimizers/custom_graph_optimizer_registry.cc:114] Plugin optimizer for device_type GPU is enabled.\n",
      "2024-03-16 15:12:37.601621: I tensorflow/core/grappler/optimizers/custom_graph_optimizer_registry.cc:114] Plugin optimizer for device_type GPU is enabled.\n",
      "2024-03-16 15:12:37.809388: I tensorflow/core/grappler/optimizers/custom_graph_optimizer_registry.cc:114] Plugin optimizer for device_type GPU is enabled.\n",
      "2024-03-16 15:12:38.144197: I tensorflow/core/grappler/optimizers/custom_graph_optimizer_registry.cc:114] Plugin optimizer for device_type GPU is enabled.\n",
      "2024-03-16 15:12:38.553434: I tensorflow/core/grappler/optimizers/custom_graph_optimizer_registry.cc:114] Plugin optimizer for device_type GPU is enabled.\n"
     ]
    },
    {
     "name": "stdout",
     "output_type": "stream",
     "text": [
      "3/3 [==============================] - ETA: 0s - loss: 1.7173 - accuracy: 0.5505"
     ]
    },
    {
     "name": "stderr",
     "output_type": "stream",
     "text": [
      "2024-03-16 15:12:39.305414: I tensorflow/core/grappler/optimizers/custom_graph_optimizer_registry.cc:114] Plugin optimizer for device_type GPU is enabled.\n",
      "2024-03-16 15:12:39.394679: I tensorflow/core/grappler/optimizers/custom_graph_optimizer_registry.cc:114] Plugin optimizer for device_type GPU is enabled.\n",
      "2024-03-16 15:12:39.508977: I tensorflow/core/grappler/optimizers/custom_graph_optimizer_registry.cc:114] Plugin optimizer for device_type GPU is enabled.\n"
     ]
    },
    {
     "name": "stdout",
     "output_type": "stream",
     "text": [
      "3/3 [==============================] - 3s 456ms/step - loss: 1.7173 - accuracy: 0.5505 - val_loss: 1.5769 - val_accuracy: 0.7716\n",
      "Epoch 2/10\n",
      "3/3 [==============================] - 0s 173ms/step - loss: 1.5246 - accuracy: 0.7594 - val_loss: 1.3883 - val_accuracy: 0.8277\n",
      "Epoch 3/10\n",
      "3/3 [==============================] - 1s 208ms/step - loss: 1.3255 - accuracy: 0.7908 - val_loss: 1.1062 - val_accuracy: 0.8492\n",
      "Epoch 4/10\n",
      "3/3 [==============================] - 0s 163ms/step - loss: 1.0040 - accuracy: 0.8064 - val_loss: 0.6997 - val_accuracy: 0.8504\n",
      "Epoch 5/10\n",
      "3/3 [==============================] - 0s 112ms/step - loss: 0.7032 - accuracy: 0.8097 - val_loss: 0.5116 - val_accuracy: 0.8549\n",
      "Epoch 6/10\n",
      "3/3 [==============================] - 0s 117ms/step - loss: 0.5713 - accuracy: 0.8209 - val_loss: 0.4373 - val_accuracy: 0.8617\n",
      "Epoch 7/10\n",
      "3/3 [==============================] - 0s 60ms/step - loss: 0.5041 - accuracy: 0.8330 - val_loss: 0.3973 - val_accuracy: 0.8735\n",
      "Epoch 8/10\n",
      "3/3 [==============================] - 0s 78ms/step - loss: 0.4582 - accuracy: 0.8488 - val_loss: 0.3688 - val_accuracy: 0.8833\n",
      "Epoch 9/10\n",
      "3/3 [==============================] - 0s 88ms/step - loss: 0.4285 - accuracy: 0.8597 - val_loss: 0.3492 - val_accuracy: 0.8864\n",
      "Epoch 10/10\n",
      "3/3 [==============================] - 0s 67ms/step - loss: 0.3981 - accuracy: 0.8677 - val_loss: 0.3291 - val_accuracy: 0.8932\n"
     ]
    },
    {
     "name": "stderr",
     "output_type": "stream",
     "text": [
      "2024-03-16 15:12:42.612958: I tensorflow/core/grappler/optimizers/custom_graph_optimizer_registry.cc:114] Plugin optimizer for device_type GPU is enabled.\n",
      "2024-03-16 15:12:42.678645: I tensorflow/core/grappler/optimizers/custom_graph_optimizer_registry.cc:114] Plugin optimizer for device_type GPU is enabled.\n",
      "2024-03-16 15:12:42.872790: I tensorflow/core/grappler/optimizers/custom_graph_optimizer_registry.cc:114] Plugin optimizer for device_type GPU is enabled.\n"
     ]
    },
    {
     "name": "stdout",
     "output_type": "stream",
     "text": [
      "1/1 [==============================] - 1s 663ms/step\n",
      "Epoch 1/10\n"
     ]
    },
    {
     "name": "stderr",
     "output_type": "stream",
     "text": [
      "/Users/venessa/Desktop/5342project/venv/lib/python3.8/site-packages/keras/src/optimizers/legacy/adam.py:118: UserWarning: The `lr` argument is deprecated, use `learning_rate` instead.\n",
      "  super().__init__(name, **kwargs)\n",
      "2024-03-16 15:12:44.502341: I tensorflow/core/grappler/optimizers/custom_graph_optimizer_registry.cc:114] Plugin optimizer for device_type GPU is enabled.\n",
      "2024-03-16 15:12:44.701274: I tensorflow/core/grappler/optimizers/custom_graph_optimizer_registry.cc:114] Plugin optimizer for device_type GPU is enabled.\n",
      "2024-03-16 15:12:44.873938: I tensorflow/core/grappler/optimizers/custom_graph_optimizer_registry.cc:114] Plugin optimizer for device_type GPU is enabled.\n",
      "2024-03-16 15:12:45.208996: I tensorflow/core/grappler/optimizers/custom_graph_optimizer_registry.cc:114] Plugin optimizer for device_type GPU is enabled.\n",
      "2024-03-16 15:12:45.612580: I tensorflow/core/grappler/optimizers/custom_graph_optimizer_registry.cc:114] Plugin optimizer for device_type GPU is enabled.\n"
     ]
    },
    {
     "name": "stdout",
     "output_type": "stream",
     "text": [
      "3/3 [==============================] - ETA: 0s - loss: 1.7460 - accuracy: 0.4337"
     ]
    },
    {
     "name": "stderr",
     "output_type": "stream",
     "text": [
      "2024-03-16 15:12:46.466616: I tensorflow/core/grappler/optimizers/custom_graph_optimizer_registry.cc:114] Plugin optimizer for device_type GPU is enabled.\n",
      "2024-03-16 15:12:46.552783: I tensorflow/core/grappler/optimizers/custom_graph_optimizer_registry.cc:114] Plugin optimizer for device_type GPU is enabled.\n",
      "2024-03-16 15:12:46.727598: I tensorflow/core/grappler/optimizers/custom_graph_optimizer_registry.cc:114] Plugin optimizer for device_type GPU is enabled.\n"
     ]
    },
    {
     "name": "stdout",
     "output_type": "stream",
     "text": [
      "3/3 [==============================] - 4s 523ms/step - loss: 1.7460 - accuracy: 0.4337 - val_loss: 1.6170 - val_accuracy: 0.7205\n",
      "Epoch 2/10\n",
      "3/3 [==============================] - 0s 171ms/step - loss: 1.5556 - accuracy: 0.7812 - val_loss: 1.4536 - val_accuracy: 0.7841\n",
      "Epoch 3/10\n",
      "3/3 [==============================] - 0s 179ms/step - loss: 1.3952 - accuracy: 0.8105 - val_loss: 1.2831 - val_accuracy: 0.8125\n",
      "Epoch 4/10\n",
      "3/3 [==============================] - 0s 106ms/step - loss: 1.1938 - accuracy: 0.8283 - val_loss: 1.0185 - val_accuracy: 0.8299\n",
      "Epoch 5/10\n",
      "3/3 [==============================] - 0s 68ms/step - loss: 0.8589 - accuracy: 0.8440 - val_loss: 0.6469 - val_accuracy: 0.8364\n",
      "Epoch 6/10\n",
      "3/3 [==============================] - 0s 111ms/step - loss: 0.5364 - accuracy: 0.8504 - val_loss: 0.5138 - val_accuracy: 0.8417\n",
      "Epoch 7/10\n",
      "3/3 [==============================] - 0s 78ms/step - loss: 0.4512 - accuracy: 0.8580 - val_loss: 0.4703 - val_accuracy: 0.8477\n",
      "Epoch 8/10\n",
      "3/3 [==============================] - 0s 88ms/step - loss: 0.4159 - accuracy: 0.8642 - val_loss: 0.4399 - val_accuracy: 0.8549\n",
      "Epoch 9/10\n",
      "3/3 [==============================] - 0s 78ms/step - loss: 0.3862 - accuracy: 0.8716 - val_loss: 0.4103 - val_accuracy: 0.8648\n",
      "Epoch 10/10\n",
      "3/3 [==============================] - 0s 83ms/step - loss: 0.3578 - accuracy: 0.8831 - val_loss: 0.3885 - val_accuracy: 0.8746\n"
     ]
    },
    {
     "name": "stderr",
     "output_type": "stream",
     "text": [
      "2024-03-16 15:12:49.958378: I tensorflow/core/grappler/optimizers/custom_graph_optimizer_registry.cc:114] Plugin optimizer for device_type GPU is enabled.\n",
      "2024-03-16 15:12:50.023741: I tensorflow/core/grappler/optimizers/custom_graph_optimizer_registry.cc:114] Plugin optimizer for device_type GPU is enabled.\n",
      "2024-03-16 15:12:50.224018: I tensorflow/core/grappler/optimizers/custom_graph_optimizer_registry.cc:114] Plugin optimizer for device_type GPU is enabled.\n"
     ]
    },
    {
     "name": "stdout",
     "output_type": "stream",
     "text": [
      "1/1 [==============================] - 1s 662ms/step\n",
      "K-Fold Cross-Validation Results (5 folds):\n",
      "Average Accuracy: 0.8725 ± 0.0116\n",
      "Average Precision: 0.7678 ± 0.0207\n",
      "Average Recall: 0.7811 ± 0.0174\n",
      "Average F1-Score: 0.7720 ± 0.0181\n"
     ]
    }
   ],
   "source": [
    "# Perform cross validation\n",
    "def cross_val_training(model_class, data, labels, num_folds=5, epochs=10, batch_size=32):\n",
    "    kf = KFold(n_splits=num_folds, shuffle=True)\n",
    "    accuracies, precisions, recalls, f1_scores = [], [], [], []\n",
    "\n",
    "    for train_index, val_index in kf.split(data):\n",
    "        x_train_fold, x_val_fold = data[train_index], data[val_index]\n",
    "        y_train_fold, y_val_fold = labels[train_index], labels[val_index]\n",
    "\n",
    "        model = model_class(input_shape=x_train_fold.shape[1:], num_classes=y_train_fold.shape[2])\n",
    "        model.compile(lr=0.001)\n",
    "        model.train(x_train_fold, y_train_fold, x_val_fold, y_val_fold, epochs=epochs, batch_size=batch_size)\n",
    "        \n",
    "        # Evaluate the model on the validation fold\n",
    "        y_pred = model.model.predict(x_val_fold)\n",
    "        y_pred = np.argmax(y_pred, axis=-1).flatten()\n",
    "        y_true = np.argmax(y_val_fold, axis=-1).flatten()\n",
    "        \n",
    "        # Calculate and store metrics\n",
    "        accuracy = accuracy_score(y_true, y_pred)\n",
    "        precision, recall, f1, _ = precision_recall_fscore_support(y_true, y_pred, average='macro')\n",
    "        \n",
    "        accuracies.append(accuracy)\n",
    "        precisions.append(precision)\n",
    "        recalls.append(recall)\n",
    "        f1_scores.append(f1)\n",
    "    \n",
    "    # Calculate average metrics across all folds\n",
    "    avg_accuracy = np.mean(accuracies)\n",
    "    avg_precision = np.mean(precisions)\n",
    "    avg_recall = np.mean(recalls)\n",
    "    avg_f1 = np.mean(f1_scores)\n",
    "\n",
    "    # Calculate standard deviations\n",
    "    std_accuracy = np.std(accuracies)\n",
    "    std_precision = np.std(precisions)\n",
    "    std_recall = np.std(recalls)\n",
    "    std_f1 = np.std(f1_scores)\n",
    "\n",
    "    print(f\"K-Fold Cross-Validation Results ({num_folds} folds):\")\n",
    "    print(f\"Average Accuracy: {avg_accuracy:.4f} ± {std_accuracy:.4f}\")\n",
    "    print(f\"Average Precision: {avg_precision:.4f} ± {std_precision:.4f}\")\n",
    "    print(f\"Average Recall: {avg_recall:.4f} ± {std_recall:.4f}\")\n",
    "    print(f\"Average F1-Score: {avg_f1:.4f} ± {std_f1:.4f}\")\n",
    "\n",
    "cross_val_training(EarlyFusionModel, train_data, train_label, num_folds=5, epochs=10, batch_size=32)"
   ]
  },
  {
   "cell_type": "code",
   "execution_count": 69,
   "metadata": {},
   "outputs": [
    {
     "name": "stdout",
     "output_type": "stream",
     "text": [
      "Epoch 1/10\n"
     ]
    },
    {
     "name": "stderr",
     "output_type": "stream",
     "text": [
      "/Users/venessa/Desktop/5342project/venv/lib/python3.8/site-packages/keras/src/optimizers/legacy/adam.py:118: UserWarning: The `lr` argument is deprecated, use `learning_rate` instead.\n",
      "  super().__init__(name, **kwargs)\n",
      "2024-03-16 15:12:53.883385: I tensorflow/core/grappler/optimizers/custom_graph_optimizer_registry.cc:114] Plugin optimizer for device_type GPU is enabled.\n",
      "2024-03-16 15:12:54.077559: I tensorflow/core/grappler/optimizers/custom_graph_optimizer_registry.cc:114] Plugin optimizer for device_type GPU is enabled.\n",
      "2024-03-16 15:12:54.308008: I tensorflow/core/grappler/optimizers/custom_graph_optimizer_registry.cc:114] Plugin optimizer for device_type GPU is enabled.\n",
      "2024-03-16 15:12:54.732859: I tensorflow/core/grappler/optimizers/custom_graph_optimizer_registry.cc:114] Plugin optimizer for device_type GPU is enabled.\n",
      "2024-03-16 15:12:55.178551: I tensorflow/core/grappler/optimizers/custom_graph_optimizer_registry.cc:114] Plugin optimizer for device_type GPU is enabled.\n"
     ]
    },
    {
     "name": "stdout",
     "output_type": "stream",
     "text": [
      "4/4 [==============================] - 3s 279ms/step - loss: 1.7512 - accuracy: 0.4660\n",
      "Epoch 2/10\n",
      "4/4 [==============================] - 1s 129ms/step - loss: 1.5435 - accuracy: 0.7802\n",
      "Epoch 3/10\n",
      "4/4 [==============================] - 0s 73ms/step - loss: 1.3521 - accuracy: 0.8039\n",
      "Epoch 4/10\n",
      "4/4 [==============================] - 0s 74ms/step - loss: 1.0340 - accuracy: 0.8298\n",
      "Epoch 5/10\n",
      "4/4 [==============================] - 0s 77ms/step - loss: 0.6247 - accuracy: 0.8414\n",
      "Epoch 6/10\n",
      "4/4 [==============================] - 0s 84ms/step - loss: 0.4831 - accuracy: 0.8524\n",
      "Epoch 7/10\n",
      "4/4 [==============================] - 0s 46ms/step - loss: 0.4219 - accuracy: 0.8608\n",
      "Epoch 8/10\n",
      "4/4 [==============================] - 0s 49ms/step - loss: 0.3865 - accuracy: 0.8746\n",
      "Epoch 9/10\n",
      "4/4 [==============================] - 0s 67ms/step - loss: 0.3544 - accuracy: 0.8867\n",
      "Epoch 10/10\n",
      "4/4 [==============================] - 0s 68ms/step - loss: 0.3228 - accuracy: 0.8969\n"
     ]
    },
    {
     "name": "stderr",
     "output_type": "stream",
     "text": [
      "2024-03-16 15:12:59.262132: I tensorflow/core/grappler/optimizers/custom_graph_optimizer_registry.cc:114] Plugin optimizer for device_type GPU is enabled.\n",
      "2024-03-16 15:12:59.328255: I tensorflow/core/grappler/optimizers/custom_graph_optimizer_registry.cc:114] Plugin optimizer for device_type GPU is enabled.\n",
      "2024-03-16 15:12:59.529972: I tensorflow/core/grappler/optimizers/custom_graph_optimizer_registry.cc:114] Plugin optimizer for device_type GPU is enabled.\n"
     ]
    },
    {
     "name": "stdout",
     "output_type": "stream",
     "text": [
      "1/1 [==============================] - 1s 688ms/step\n",
      "Test Metrics:\n",
      "Accuracy: 0.7657\n",
      "Precision: 0.6927\n",
      "Recall: 0.5655\n",
      "F1 Score: 0.5995\n"
     ]
    }
   ],
   "source": [
    "# Train and evaluate based on train and test data\n",
    "# Instantiate the model\n",
    "early_fusion_model = EarlyFusionModel(input_shape=train_data.shape[1:], num_classes=train_label.shape[2])\n",
    "\n",
    "# Compile the model\n",
    "early_fusion_model.compile(lr=0.001)\n",
    "\n",
    "# Train and evaluate on the test dataset\n",
    "history, test_metrics = early_fusion_model.train_and_evaluate_on_test(train_data, train_label, test_data, test_label, epochs=10, batch_size=32)\n",
    "\n",
    "# Print the test metrics\n",
    "print(\"Test Metrics:\")\n",
    "print(f\"Accuracy: {test_metrics['accuracy']:.4f}\")\n",
    "print(f\"Precision: {test_metrics['precision']:.4f}\")\n",
    "print(f\"Recall: {test_metrics['recall']:.4f}\")\n",
    "print(f\"F1 Score: {test_metrics['f1_score']:.4f}\")\n"
   ]
  },
  {
   "cell_type": "code",
   "execution_count": 70,
   "metadata": {},
   "outputs": [],
   "source": [
    "class LateFusionModel(BaseModel):\n",
    "    def __init__(self, input_shapes, num_classes):\n",
    "        self.input_shapes = input_shapes  # This will be a list of input shapes for each modality\n",
    "        super().__init__(input_shape=None, num_classes=num_classes)  # We pass None to input_shape\n",
    "\n",
    "    def build_model(self):\n",
    "        inputs = [Input(shape=shape) for shape in self.input_shapes]\n",
    "        features = [LSTM(32, return_sequences=True)(input_tensor) for input_tensor in inputs]\n",
    "        combined_features = concatenate(features, axis=-1)\n",
    "        outputs = TimeDistributed(Dense(self.num_classes, activation='softmax'))(combined_features)\n",
    "        model = Model(inputs=inputs, outputs=outputs)\n",
    "        return model\n",
    "    \n",
    "    def train_and_evaluate_on_test(self):\n",
    "        history = self.model.fit(\n",
    "            [train_audio, train_visual, train_text], train_label,\n",
    "            epochs=10,\n",
    "            batch_size=32,\n",
    "            verbose=1\n",
    "        )\n",
    "        test_metrics = self.evaluate([test_audio, test_visual, test_text], test_label)\n",
    "        return history, test_metrics"
   ]
  },
  {
   "cell_type": "code",
   "execution_count": 71,
   "metadata": {},
   "outputs": [
    {
     "name": "stdout",
     "output_type": "stream",
     "text": [
      "Epoch 1/10\n"
     ]
    },
    {
     "name": "stderr",
     "output_type": "stream",
     "text": [
      "/Users/venessa/Desktop/5342project/venv/lib/python3.8/site-packages/keras/src/optimizers/legacy/adam.py:118: UserWarning: The `lr` argument is deprecated, use `learning_rate` instead.\n",
      "  super().__init__(name, **kwargs)\n",
      "2024-03-16 15:16:00.414519: I tensorflow/core/grappler/optimizers/custom_graph_optimizer_registry.cc:114] Plugin optimizer for device_type GPU is enabled.\n",
      "2024-03-16 15:16:00.696117: I tensorflow/core/grappler/optimizers/custom_graph_optimizer_registry.cc:114] Plugin optimizer for device_type GPU is enabled.\n",
      "2024-03-16 15:16:00.698337: I tensorflow/core/grappler/optimizers/custom_graph_optimizer_registry.cc:114] Plugin optimizer for device_type GPU is enabled.\n",
      "2024-03-16 15:16:00.698827: I tensorflow/core/grappler/optimizers/custom_graph_optimizer_registry.cc:114] Plugin optimizer for device_type GPU is enabled.\n",
      "2024-03-16 15:16:01.619847: I tensorflow/core/grappler/optimizers/custom_graph_optimizer_registry.cc:114] Plugin optimizer for device_type GPU is enabled.\n",
      "2024-03-16 15:16:01.642442: I tensorflow/core/grappler/optimizers/custom_graph_optimizer_registry.cc:114] Plugin optimizer for device_type GPU is enabled.\n",
      "2024-03-16 15:16:01.667913: I tensorflow/core/grappler/optimizers/custom_graph_optimizer_registry.cc:114] Plugin optimizer for device_type GPU is enabled.\n"
     ]
    },
    {
     "name": "stdout",
     "output_type": "stream",
     "text": [
      "3/3 [==============================] - ETA: 0s - loss: 1.7611 - accuracy: 0.4263"
     ]
    },
    {
     "name": "stderr",
     "output_type": "stream",
     "text": [
      "2024-03-16 15:16:03.560582: I tensorflow/core/grappler/optimizers/custom_graph_optimizer_registry.cc:114] Plugin optimizer for device_type GPU is enabled.\n",
      "2024-03-16 15:16:03.661326: I tensorflow/core/grappler/optimizers/custom_graph_optimizer_registry.cc:114] Plugin optimizer for device_type GPU is enabled.\n",
      "2024-03-16 15:16:03.661994: I tensorflow/core/grappler/optimizers/custom_graph_optimizer_registry.cc:114] Plugin optimizer for device_type GPU is enabled.\n",
      "2024-03-16 15:16:03.662562: I tensorflow/core/grappler/optimizers/custom_graph_optimizer_registry.cc:114] Plugin optimizer for device_type GPU is enabled.\n"
     ]
    },
    {
     "name": "stdout",
     "output_type": "stream",
     "text": [
      "3/3 [==============================] - 5s 822ms/step - loss: 1.7611 - accuracy: 0.4263 - val_loss: 1.7014 - val_accuracy: 0.6367\n",
      "Epoch 2/10\n",
      "3/3 [==============================] - 1s 312ms/step - loss: 1.6684 - accuracy: 0.6903 - val_loss: 1.6154 - val_accuracy: 0.7568\n",
      "Epoch 3/10\n",
      "3/3 [==============================] - 0s 166ms/step - loss: 1.5823 - accuracy: 0.7956 - val_loss: 1.5311 - val_accuracy: 0.8280\n",
      "Epoch 4/10\n",
      "3/3 [==============================] - 0s 133ms/step - loss: 1.4947 - accuracy: 0.8591 - val_loss: 1.4387 - val_accuracy: 0.8689\n",
      "Epoch 5/10\n",
      "3/3 [==============================] - 0s 137ms/step - loss: 1.3983 - accuracy: 0.8938 - val_loss: 1.3310 - val_accuracy: 0.8939\n",
      "Epoch 6/10\n",
      "3/3 [==============================] - 0s 146ms/step - loss: 1.2795 - accuracy: 0.9068 - val_loss: 1.1918 - val_accuracy: 0.8898\n",
      "Epoch 7/10\n",
      "3/3 [==============================] - 0s 89ms/step - loss: 1.1154 - accuracy: 0.8860 - val_loss: 0.9933 - val_accuracy: 0.8439\n",
      "Epoch 8/10\n",
      "3/3 [==============================] - 0s 80ms/step - loss: 0.8875 - accuracy: 0.8324 - val_loss: 0.7718 - val_accuracy: 0.7777\n",
      "Epoch 9/10\n",
      "3/3 [==============================] - 0s 67ms/step - loss: 0.6783 - accuracy: 0.7962 - val_loss: 0.6436 - val_accuracy: 0.7742\n",
      "Epoch 10/10\n",
      "3/3 [==============================] - 0s 69ms/step - loss: 0.5620 - accuracy: 0.8126 - val_loss: 0.5457 - val_accuracy: 0.8379\n"
     ]
    },
    {
     "name": "stderr",
     "output_type": "stream",
     "text": [
      "2024-03-16 15:16:08.284310: I tensorflow/core/grappler/optimizers/custom_graph_optimizer_registry.cc:114] Plugin optimizer for device_type GPU is enabled.\n",
      "2024-03-16 15:16:08.375681: I tensorflow/core/grappler/optimizers/custom_graph_optimizer_registry.cc:114] Plugin optimizer for device_type GPU is enabled.\n",
      "2024-03-16 15:16:08.375873: I tensorflow/core/grappler/optimizers/custom_graph_optimizer_registry.cc:114] Plugin optimizer for device_type GPU is enabled.\n",
      "2024-03-16 15:16:08.375911: I tensorflow/core/grappler/optimizers/custom_graph_optimizer_registry.cc:114] Plugin optimizer for device_type GPU is enabled.\n"
     ]
    },
    {
     "name": "stdout",
     "output_type": "stream",
     "text": [
      "1/1 [==============================] - 1s 1s/step\n",
      "Epoch 1/10\n"
     ]
    },
    {
     "name": "stderr",
     "output_type": "stream",
     "text": [
      "/Users/venessa/Desktop/5342project/venv/lib/python3.8/site-packages/keras/src/optimizers/legacy/adam.py:118: UserWarning: The `lr` argument is deprecated, use `learning_rate` instead.\n",
      "  super().__init__(name, **kwargs)\n",
      "2024-03-16 15:16:09.928840: I tensorflow/core/grappler/optimizers/custom_graph_optimizer_registry.cc:114] Plugin optimizer for device_type GPU is enabled.\n",
      "2024-03-16 15:16:10.276138: I tensorflow/core/grappler/optimizers/custom_graph_optimizer_registry.cc:114] Plugin optimizer for device_type GPU is enabled.\n",
      "2024-03-16 15:16:10.277155: I tensorflow/core/grappler/optimizers/custom_graph_optimizer_registry.cc:114] Plugin optimizer for device_type GPU is enabled.\n",
      "2024-03-16 15:16:10.277540: I tensorflow/core/grappler/optimizers/custom_graph_optimizer_registry.cc:114] Plugin optimizer for device_type GPU is enabled.\n",
      "2024-03-16 15:16:11.106563: I tensorflow/core/grappler/optimizers/custom_graph_optimizer_registry.cc:114] Plugin optimizer for device_type GPU is enabled.\n",
      "2024-03-16 15:16:11.128577: I tensorflow/core/grappler/optimizers/custom_graph_optimizer_registry.cc:114] Plugin optimizer for device_type GPU is enabled.\n",
      "2024-03-16 15:16:11.152776: I tensorflow/core/grappler/optimizers/custom_graph_optimizer_registry.cc:114] Plugin optimizer for device_type GPU is enabled.\n"
     ]
    },
    {
     "name": "stdout",
     "output_type": "stream",
     "text": [
      "3/3 [==============================] - ETA: 0s - loss: 1.8125 - accuracy: 0.4286"
     ]
    },
    {
     "name": "stderr",
     "output_type": "stream",
     "text": [
      "2024-03-16 15:16:12.830291: I tensorflow/core/grappler/optimizers/custom_graph_optimizer_registry.cc:114] Plugin optimizer for device_type GPU is enabled.\n",
      "2024-03-16 15:16:12.928909: I tensorflow/core/grappler/optimizers/custom_graph_optimizer_registry.cc:114] Plugin optimizer for device_type GPU is enabled.\n",
      "2024-03-16 15:16:12.929673: I tensorflow/core/grappler/optimizers/custom_graph_optimizer_registry.cc:114] Plugin optimizer for device_type GPU is enabled.\n",
      "2024-03-16 15:16:12.929698: I tensorflow/core/grappler/optimizers/custom_graph_optimizer_registry.cc:114] Plugin optimizer for device_type GPU is enabled.\n"
     ]
    },
    {
     "name": "stdout",
     "output_type": "stream",
     "text": [
      "3/3 [==============================] - 4s 764ms/step - loss: 1.8125 - accuracy: 0.4286 - val_loss: 1.7331 - val_accuracy: 0.5758\n",
      "Epoch 2/10\n",
      "3/3 [==============================] - 1s 358ms/step - loss: 1.7027 - accuracy: 0.6488 - val_loss: 1.6349 - val_accuracy: 0.7083\n",
      "Epoch 3/10\n",
      "3/3 [==============================] - 0s 177ms/step - loss: 1.5995 - accuracy: 0.7679 - val_loss: 1.5425 - val_accuracy: 0.7833\n",
      "Epoch 4/10\n",
      "3/3 [==============================] - 1s 257ms/step - loss: 1.5021 - accuracy: 0.8363 - val_loss: 1.4455 - val_accuracy: 0.8345\n",
      "Epoch 5/10\n",
      "3/3 [==============================] - 0s 108ms/step - loss: 1.4018 - accuracy: 0.8755 - val_loss: 1.3399 - val_accuracy: 0.8629\n",
      "Epoch 6/10\n",
      "3/3 [==============================] - 0s 100ms/step - loss: 1.2869 - accuracy: 0.8954 - val_loss: 1.2145 - val_accuracy: 0.8780\n",
      "Epoch 7/10\n",
      "3/3 [==============================] - 0s 81ms/step - loss: 1.1390 - accuracy: 0.8949 - val_loss: 1.0447 - val_accuracy: 0.8492\n",
      "Epoch 8/10\n",
      "3/3 [==============================] - 0s 63ms/step - loss: 0.9324 - accuracy: 0.8680 - val_loss: 0.8250 - val_accuracy: 0.8015\n",
      "Epoch 9/10\n",
      "3/3 [==============================] - 0s 70ms/step - loss: 0.6894 - accuracy: 0.8434 - val_loss: 0.6476 - val_accuracy: 0.8000\n",
      "Epoch 10/10\n",
      "3/3 [==============================] - 0s 46ms/step - loss: 0.5332 - accuracy: 0.8470 - val_loss: 0.5445 - val_accuracy: 0.8307\n"
     ]
    },
    {
     "name": "stderr",
     "output_type": "stream",
     "text": [
      "2024-03-16 15:16:17.009298: I tensorflow/core/grappler/optimizers/custom_graph_optimizer_registry.cc:114] Plugin optimizer for device_type GPU is enabled.\n",
      "2024-03-16 15:16:17.093419: I tensorflow/core/grappler/optimizers/custom_graph_optimizer_registry.cc:114] Plugin optimizer for device_type GPU is enabled.\n",
      "2024-03-16 15:16:17.093455: I tensorflow/core/grappler/optimizers/custom_graph_optimizer_registry.cc:114] Plugin optimizer for device_type GPU is enabled.\n",
      "2024-03-16 15:16:17.093489: I tensorflow/core/grappler/optimizers/custom_graph_optimizer_registry.cc:114] Plugin optimizer for device_type GPU is enabled.\n"
     ]
    },
    {
     "name": "stdout",
     "output_type": "stream",
     "text": [
      "1/1 [==============================] - 1s 729ms/step\n",
      "Epoch 1/10\n"
     ]
    },
    {
     "name": "stderr",
     "output_type": "stream",
     "text": [
      "/Users/venessa/Desktop/5342project/venv/lib/python3.8/site-packages/keras/src/optimizers/legacy/adam.py:118: UserWarning: The `lr` argument is deprecated, use `learning_rate` instead.\n",
      "  super().__init__(name, **kwargs)\n",
      "2024-03-16 15:16:18.673432: I tensorflow/core/grappler/optimizers/custom_graph_optimizer_registry.cc:114] Plugin optimizer for device_type GPU is enabled.\n",
      "2024-03-16 15:16:18.931424: I tensorflow/core/grappler/optimizers/custom_graph_optimizer_registry.cc:114] Plugin optimizer for device_type GPU is enabled.\n",
      "2024-03-16 15:16:18.931469: I tensorflow/core/grappler/optimizers/custom_graph_optimizer_registry.cc:114] Plugin optimizer for device_type GPU is enabled.\n",
      "2024-03-16 15:16:18.932434: I tensorflow/core/grappler/optimizers/custom_graph_optimizer_registry.cc:114] Plugin optimizer for device_type GPU is enabled.\n",
      "2024-03-16 15:16:19.795857: I tensorflow/core/grappler/optimizers/custom_graph_optimizer_registry.cc:114] Plugin optimizer for device_type GPU is enabled.\n",
      "2024-03-16 15:16:19.817109: I tensorflow/core/grappler/optimizers/custom_graph_optimizer_registry.cc:114] Plugin optimizer for device_type GPU is enabled.\n",
      "2024-03-16 15:16:19.842051: I tensorflow/core/grappler/optimizers/custom_graph_optimizer_registry.cc:114] Plugin optimizer for device_type GPU is enabled.\n"
     ]
    },
    {
     "name": "stdout",
     "output_type": "stream",
     "text": [
      "3/3 [==============================] - ETA: 0s - loss: 1.7883 - accuracy: 0.4290"
     ]
    },
    {
     "name": "stderr",
     "output_type": "stream",
     "text": [
      "2024-03-16 15:16:21.628341: I tensorflow/core/grappler/optimizers/custom_graph_optimizer_registry.cc:114] Plugin optimizer for device_type GPU is enabled.\n",
      "2024-03-16 15:16:21.729281: I tensorflow/core/grappler/optimizers/custom_graph_optimizer_registry.cc:114] Plugin optimizer for device_type GPU is enabled.\n",
      "2024-03-16 15:16:21.730076: I tensorflow/core/grappler/optimizers/custom_graph_optimizer_registry.cc:114] Plugin optimizer for device_type GPU is enabled.\n",
      "2024-03-16 15:16:21.730105: I tensorflow/core/grappler/optimizers/custom_graph_optimizer_registry.cc:114] Plugin optimizer for device_type GPU is enabled.\n"
     ]
    },
    {
     "name": "stdout",
     "output_type": "stream",
     "text": [
      "3/3 [==============================] - 4s 819ms/step - loss: 1.7883 - accuracy: 0.4290 - val_loss: 1.7269 - val_accuracy: 0.6208\n",
      "Epoch 2/10\n",
      "3/3 [==============================] - 1s 302ms/step - loss: 1.6746 - accuracy: 0.6775 - val_loss: 1.6242 - val_accuracy: 0.7375\n",
      "Epoch 3/10\n",
      "3/3 [==============================] - 1s 221ms/step - loss: 1.5722 - accuracy: 0.7711 - val_loss: 1.5270 - val_accuracy: 0.8095\n",
      "Epoch 4/10\n",
      "3/3 [==============================] - 1s 191ms/step - loss: 1.4742 - accuracy: 0.8359 - val_loss: 1.4258 - val_accuracy: 0.8640\n",
      "Epoch 5/10\n",
      "3/3 [==============================] - 0s 121ms/step - loss: 1.3742 - accuracy: 0.8723 - val_loss: 1.3138 - val_accuracy: 0.8883\n",
      "Epoch 6/10\n",
      "3/3 [==============================] - 0s 62ms/step - loss: 1.2583 - accuracy: 0.8885 - val_loss: 1.1769 - val_accuracy: 0.8909\n",
      "Epoch 7/10\n",
      "3/3 [==============================] - 0s 118ms/step - loss: 1.1070 - accuracy: 0.8827 - val_loss: 0.9906 - val_accuracy: 0.8765\n",
      "Epoch 8/10\n",
      "3/3 [==============================] - 0s 46ms/step - loss: 0.9088 - accuracy: 0.8656 - val_loss: 0.7476 - val_accuracy: 0.8633\n",
      "Epoch 9/10\n",
      "3/3 [==============================] - 0s 54ms/step - loss: 0.6725 - accuracy: 0.8566 - val_loss: 0.5600 - val_accuracy: 0.8614\n",
      "Epoch 10/10\n",
      "3/3 [==============================] - 0s 59ms/step - loss: 0.5208 - accuracy: 0.8733 - val_loss: 0.4609 - val_accuracy: 0.8943\n"
     ]
    },
    {
     "name": "stderr",
     "output_type": "stream",
     "text": [
      "2024-03-16 15:16:26.509974: I tensorflow/core/grappler/optimizers/custom_graph_optimizer_registry.cc:114] Plugin optimizer for device_type GPU is enabled.\n",
      "2024-03-16 15:16:26.600396: I tensorflow/core/grappler/optimizers/custom_graph_optimizer_registry.cc:114] Plugin optimizer for device_type GPU is enabled.\n",
      "2024-03-16 15:16:26.600850: I tensorflow/core/grappler/optimizers/custom_graph_optimizer_registry.cc:114] Plugin optimizer for device_type GPU is enabled.\n",
      "2024-03-16 15:16:26.600863: I tensorflow/core/grappler/optimizers/custom_graph_optimizer_registry.cc:114] Plugin optimizer for device_type GPU is enabled.\n"
     ]
    },
    {
     "name": "stdout",
     "output_type": "stream",
     "text": [
      "1/1 [==============================] - 1s 1s/step\n",
      "Epoch 1/10\n"
     ]
    },
    {
     "name": "stderr",
     "output_type": "stream",
     "text": [
      "/Users/venessa/Desktop/5342project/venv/lib/python3.8/site-packages/keras/src/optimizers/legacy/adam.py:118: UserWarning: The `lr` argument is deprecated, use `learning_rate` instead.\n",
      "  super().__init__(name, **kwargs)\n",
      "2024-03-16 15:16:28.192661: I tensorflow/core/grappler/optimizers/custom_graph_optimizer_registry.cc:114] Plugin optimizer for device_type GPU is enabled.\n",
      "2024-03-16 15:16:28.441984: I tensorflow/core/grappler/optimizers/custom_graph_optimizer_registry.cc:114] Plugin optimizer for device_type GPU is enabled.\n",
      "2024-03-16 15:16:28.443155: I tensorflow/core/grappler/optimizers/custom_graph_optimizer_registry.cc:114] Plugin optimizer for device_type GPU is enabled.\n",
      "2024-03-16 15:16:28.443197: I tensorflow/core/grappler/optimizers/custom_graph_optimizer_registry.cc:114] Plugin optimizer for device_type GPU is enabled.\n",
      "2024-03-16 15:16:29.366791: I tensorflow/core/grappler/optimizers/custom_graph_optimizer_registry.cc:114] Plugin optimizer for device_type GPU is enabled.\n",
      "2024-03-16 15:16:29.390371: I tensorflow/core/grappler/optimizers/custom_graph_optimizer_registry.cc:114] Plugin optimizer for device_type GPU is enabled.\n",
      "2024-03-16 15:16:29.416506: I tensorflow/core/grappler/optimizers/custom_graph_optimizer_registry.cc:114] Plugin optimizer for device_type GPU is enabled.\n"
     ]
    },
    {
     "name": "stdout",
     "output_type": "stream",
     "text": [
      "3/3 [==============================] - ETA: 0s - loss: 1.7819 - accuracy: 0.4182"
     ]
    },
    {
     "name": "stderr",
     "output_type": "stream",
     "text": [
      "2024-03-16 15:16:31.256566: I tensorflow/core/grappler/optimizers/custom_graph_optimizer_registry.cc:114] Plugin optimizer for device_type GPU is enabled.\n",
      "2024-03-16 15:16:31.355016: I tensorflow/core/grappler/optimizers/custom_graph_optimizer_registry.cc:114] Plugin optimizer for device_type GPU is enabled.\n",
      "2024-03-16 15:16:31.355136: I tensorflow/core/grappler/optimizers/custom_graph_optimizer_registry.cc:114] Plugin optimizer for device_type GPU is enabled.\n",
      "2024-03-16 15:16:31.355293: I tensorflow/core/grappler/optimizers/custom_graph_optimizer_registry.cc:114] Plugin optimizer for device_type GPU is enabled.\n"
     ]
    },
    {
     "name": "stdout",
     "output_type": "stream",
     "text": [
      "3/3 [==============================] - 5s 872ms/step - loss: 1.7819 - accuracy: 0.4182 - val_loss: 1.7007 - val_accuracy: 0.6250\n",
      "Epoch 2/10\n",
      "3/3 [==============================] - 1s 299ms/step - loss: 1.6740 - accuracy: 0.6895 - val_loss: 1.6079 - val_accuracy: 0.7553\n",
      "Epoch 3/10\n",
      "3/3 [==============================] - 1s 221ms/step - loss: 1.5735 - accuracy: 0.7938 - val_loss: 1.5169 - val_accuracy: 0.7970\n",
      "Epoch 4/10\n",
      "3/3 [==============================] - 0s 99ms/step - loss: 1.4754 - accuracy: 0.8361 - val_loss: 1.4197 - val_accuracy: 0.8265\n",
      "Epoch 5/10\n",
      "3/3 [==============================] - 0s 132ms/step - loss: 1.3667 - accuracy: 0.8613 - val_loss: 1.3038 - val_accuracy: 0.8386\n",
      "Epoch 6/10\n",
      "3/3 [==============================] - 0s 110ms/step - loss: 1.2314 - accuracy: 0.8743 - val_loss: 1.1478 - val_accuracy: 0.8511\n",
      "Epoch 7/10\n",
      "3/3 [==============================] - 0s 105ms/step - loss: 1.0508 - accuracy: 0.8818 - val_loss: 0.9552 - val_accuracy: 0.8542\n",
      "Epoch 8/10\n",
      "3/3 [==============================] - 0s 121ms/step - loss: 0.8435 - accuracy: 0.8846 - val_loss: 0.7668 - val_accuracy: 0.8561\n",
      "Epoch 9/10\n",
      "3/3 [==============================] - 0s 89ms/step - loss: 0.6623 - accuracy: 0.8858 - val_loss: 0.6213 - val_accuracy: 0.8655\n",
      "Epoch 10/10\n",
      "3/3 [==============================] - 0s 66ms/step - loss: 0.5386 - accuracy: 0.8908 - val_loss: 0.5279 - val_accuracy: 0.8811\n"
     ]
    },
    {
     "name": "stderr",
     "output_type": "stream",
     "text": [
      "2024-03-16 15:16:35.858351: I tensorflow/core/grappler/optimizers/custom_graph_optimizer_registry.cc:114] Plugin optimizer for device_type GPU is enabled.\n",
      "2024-03-16 15:16:35.947299: I tensorflow/core/grappler/optimizers/custom_graph_optimizer_registry.cc:114] Plugin optimizer for device_type GPU is enabled.\n",
      "2024-03-16 15:16:35.947325: I tensorflow/core/grappler/optimizers/custom_graph_optimizer_registry.cc:114] Plugin optimizer for device_type GPU is enabled.\n",
      "2024-03-16 15:16:35.947605: I tensorflow/core/grappler/optimizers/custom_graph_optimizer_registry.cc:114] Plugin optimizer for device_type GPU is enabled.\n"
     ]
    },
    {
     "name": "stdout",
     "output_type": "stream",
     "text": [
      "1/1 [==============================] - 1s 749ms/step\n",
      "Epoch 1/10\n"
     ]
    },
    {
     "name": "stderr",
     "output_type": "stream",
     "text": [
      "/Users/venessa/Desktop/5342project/venv/lib/python3.8/site-packages/keras/src/optimizers/legacy/adam.py:118: UserWarning: The `lr` argument is deprecated, use `learning_rate` instead.\n",
      "  super().__init__(name, **kwargs)\n",
      "2024-03-16 15:16:37.486552: I tensorflow/core/grappler/optimizers/custom_graph_optimizer_registry.cc:114] Plugin optimizer for device_type GPU is enabled.\n",
      "2024-03-16 15:16:37.741668: I tensorflow/core/grappler/optimizers/custom_graph_optimizer_registry.cc:114] Plugin optimizer for device_type GPU is enabled.\n",
      "2024-03-16 15:16:37.742448: I tensorflow/core/grappler/optimizers/custom_graph_optimizer_registry.cc:114] Plugin optimizer for device_type GPU is enabled.\n",
      "2024-03-16 15:16:37.742641: I tensorflow/core/grappler/optimizers/custom_graph_optimizer_registry.cc:114] Plugin optimizer for device_type GPU is enabled.\n",
      "2024-03-16 15:16:38.651619: I tensorflow/core/grappler/optimizers/custom_graph_optimizer_registry.cc:114] Plugin optimizer for device_type GPU is enabled.\n",
      "2024-03-16 15:16:38.673530: I tensorflow/core/grappler/optimizers/custom_graph_optimizer_registry.cc:114] Plugin optimizer for device_type GPU is enabled.\n",
      "2024-03-16 15:16:38.699786: I tensorflow/core/grappler/optimizers/custom_graph_optimizer_registry.cc:114] Plugin optimizer for device_type GPU is enabled.\n"
     ]
    },
    {
     "name": "stdout",
     "output_type": "stream",
     "text": [
      "3/3 [==============================] - ETA: 0s - loss: 1.8323 - accuracy: 0.3865"
     ]
    },
    {
     "name": "stderr",
     "output_type": "stream",
     "text": [
      "2024-03-16 15:16:40.599372: I tensorflow/core/grappler/optimizers/custom_graph_optimizer_registry.cc:114] Plugin optimizer for device_type GPU is enabled.\n",
      "2024-03-16 15:16:40.700869: I tensorflow/core/grappler/optimizers/custom_graph_optimizer_registry.cc:114] Plugin optimizer for device_type GPU is enabled.\n",
      "2024-03-16 15:16:40.701348: I tensorflow/core/grappler/optimizers/custom_graph_optimizer_registry.cc:114] Plugin optimizer for device_type GPU is enabled.\n",
      "2024-03-16 15:16:40.702622: I tensorflow/core/grappler/optimizers/custom_graph_optimizer_registry.cc:114] Plugin optimizer for device_type GPU is enabled.\n"
     ]
    },
    {
     "name": "stdout",
     "output_type": "stream",
     "text": [
      "3/3 [==============================] - 5s 872ms/step - loss: 1.8323 - accuracy: 0.3865 - val_loss: 1.7405 - val_accuracy: 0.6360\n",
      "Epoch 2/10\n",
      "3/3 [==============================] - 1s 438ms/step - loss: 1.7181 - accuracy: 0.6082 - val_loss: 1.6525 - val_accuracy: 0.7405\n",
      "Epoch 3/10\n",
      "3/3 [==============================] - 1s 175ms/step - loss: 1.6127 - accuracy: 0.7186 - val_loss: 1.5662 - val_accuracy: 0.7989\n",
      "Epoch 4/10\n",
      "3/3 [==============================] - 0s 114ms/step - loss: 1.5119 - accuracy: 0.7915 - val_loss: 1.4765 - val_accuracy: 0.8481\n",
      "Epoch 5/10\n",
      "3/3 [==============================] - 0s 115ms/step - loss: 1.4115 - accuracy: 0.8390 - val_loss: 1.3739 - val_accuracy: 0.8818\n",
      "Epoch 6/10\n",
      "3/3 [==============================] - 0s 117ms/step - loss: 1.3003 - accuracy: 0.8633 - val_loss: 1.2462 - val_accuracy: 0.8875\n",
      "Epoch 7/10\n",
      "3/3 [==============================] - 0s 96ms/step - loss: 1.1642 - accuracy: 0.8648 - val_loss: 1.0682 - val_accuracy: 0.8739\n",
      "Epoch 8/10\n",
      "3/3 [==============================] - 0s 52ms/step - loss: 0.9866 - accuracy: 0.8432 - val_loss: 0.8320 - val_accuracy: 0.8576\n",
      "Epoch 9/10\n",
      "3/3 [==============================] - 0s 70ms/step - loss: 0.7779 - accuracy: 0.8256 - val_loss: 0.6018 - val_accuracy: 0.8557\n",
      "Epoch 10/10\n",
      "3/3 [==============================] - 0s 71ms/step - loss: 0.6074 - accuracy: 0.8284 - val_loss: 0.4660 - val_accuracy: 0.8803\n"
     ]
    },
    {
     "name": "stderr",
     "output_type": "stream",
     "text": [
      "2024-03-16 15:16:45.204298: I tensorflow/core/grappler/optimizers/custom_graph_optimizer_registry.cc:114] Plugin optimizer for device_type GPU is enabled.\n",
      "2024-03-16 15:16:45.290444: I tensorflow/core/grappler/optimizers/custom_graph_optimizer_registry.cc:114] Plugin optimizer for device_type GPU is enabled.\n",
      "2024-03-16 15:16:45.290471: I tensorflow/core/grappler/optimizers/custom_graph_optimizer_registry.cc:114] Plugin optimizer for device_type GPU is enabled.\n",
      "2024-03-16 15:16:45.290498: I tensorflow/core/grappler/optimizers/custom_graph_optimizer_registry.cc:114] Plugin optimizer for device_type GPU is enabled.\n"
     ]
    },
    {
     "name": "stdout",
     "output_type": "stream",
     "text": [
      "1/1 [==============================] - 1s 766ms/step\n",
      "K-Fold Cross-Validation Results (5 folds):\n",
      "Average Accuracy: 0.8648 ± 0.0256\n",
      "Average Precision: 0.8881 ± 0.0183\n",
      "Average Recall: 0.7141 ± 0.0432\n",
      "Average F1-Score: 0.7732 ± 0.0311\n"
     ]
    }
   ],
   "source": [
    "def cross_val_training_late_fusion(model_class, modalities_data, labels, num_folds=5, epochs=10, batch_size=32):\n",
    "    kf = KFold(n_splits=num_folds, shuffle=True)\n",
    "    accuracies, precisions, recalls, f1_scores = [], [], [], []\n",
    "\n",
    "    # Ensure modalities_data is a list of datasets, one for each modality\n",
    "    if not isinstance(modalities_data, list):\n",
    "        raise ValueError(\"modalities_data should be a list of datasets, one for each modality.\")\n",
    "\n",
    "    for train_index, val_index in kf.split(modalities_data[0]):  # Use the first modality to generate indices\n",
    "        # Prepare training and validation data for each modality\n",
    "        x_train_fold = [modality[train_index] for modality in modalities_data]\n",
    "        x_val_fold = [modality[val_index] for modality in modalities_data]\n",
    "        y_train_fold, y_val_fold = labels[train_index], labels[val_index]\n",
    "\n",
    "        # Instantiate the model for each fold. Pass None to input_shape for LateFusionModel\n",
    "        model = model_class(input_shapes=[modality.shape[1:] for modality in x_train_fold], num_classes=y_train_fold.shape[-1])\n",
    "        model.compile(lr=0.001)\n",
    "\n",
    "        # Train the model using the custom train method, which internally uses .fit()\n",
    "        model.train(x_train_fold, y_train_fold, x_val_fold, y_val_fold, epochs=epochs, batch_size=batch_size)\n",
    "\n",
    "        # Evaluate the model on the validation fold using the custom evaluate method\n",
    "        metrics = model.evaluate(x_val_fold, y_val_fold)\n",
    "\n",
    "        # Store the evaluation metrics\n",
    "        accuracies.append(metrics['accuracy'])\n",
    "        precisions.append(metrics['precision'])\n",
    "        recalls.append(metrics['recall'])\n",
    "        f1_scores.append(metrics['f1_score'])\n",
    "    \n",
    "    # Calculate and print the average and standard deviation of the metrics across all folds\n",
    "    avg_accuracy = np.mean(accuracies)\n",
    "    avg_precision = np.mean(precisions)\n",
    "    avg_recall = np.mean(recalls)\n",
    "    avg_f1 = np.mean(f1_scores)\n",
    "\n",
    "    # Calculate standard deviations\n",
    "    std_accuracy = np.std(accuracies)\n",
    "    std_precision = np.std(precisions)\n",
    "    std_recall = np.std(recalls)\n",
    "    std_f1 = np.std(f1_scores)\n",
    "\n",
    "    print(f\"K-Fold Cross-Validation Results ({num_folds} folds):\")\n",
    "    print(f\"Average Accuracy: {avg_accuracy:.4f} ± {std_accuracy:.4f}\")\n",
    "    print(f\"Average Precision: {avg_precision:.4f} ± {std_precision:.4f}\")\n",
    "    print(f\"Average Recall: {avg_recall:.4f} ± {std_recall:.4f}\")\n",
    "    print(f\"Average F1-Score: {avg_f1:.4f} ± {std_f1:.4f}\")\n",
    "\n",
    "cross_val_training_late_fusion(LateFusionModel, [train_audio, train_visual, train_text], train_label, num_folds=5, epochs=10, batch_size=32)"
   ]
  },
  {
   "cell_type": "code",
   "execution_count": 72,
   "metadata": {},
   "outputs": [
    {
     "name": "stdout",
     "output_type": "stream",
     "text": [
      "Epoch 1/10\n"
     ]
    },
    {
     "name": "stderr",
     "output_type": "stream",
     "text": [
      "/Users/venessa/Desktop/5342project/venv/lib/python3.8/site-packages/keras/src/optimizers/legacy/adam.py:118: UserWarning: The `lr` argument is deprecated, use `learning_rate` instead.\n",
      "  super().__init__(name, **kwargs)\n",
      "2024-03-16 15:18:25.214959: I tensorflow/core/grappler/optimizers/custom_graph_optimizer_registry.cc:114] Plugin optimizer for device_type GPU is enabled.\n",
      "2024-03-16 15:18:25.536325: I tensorflow/core/grappler/optimizers/custom_graph_optimizer_registry.cc:114] Plugin optimizer for device_type GPU is enabled.\n",
      "2024-03-16 15:18:25.536364: I tensorflow/core/grappler/optimizers/custom_graph_optimizer_registry.cc:114] Plugin optimizer for device_type GPU is enabled.\n",
      "2024-03-16 15:18:25.536383: I tensorflow/core/grappler/optimizers/custom_graph_optimizer_registry.cc:114] Plugin optimizer for device_type GPU is enabled.\n",
      "2024-03-16 15:18:26.516749: I tensorflow/core/grappler/optimizers/custom_graph_optimizer_registry.cc:114] Plugin optimizer for device_type GPU is enabled.\n",
      "2024-03-16 15:18:26.537954: I tensorflow/core/grappler/optimizers/custom_graph_optimizer_registry.cc:114] Plugin optimizer for device_type GPU is enabled.\n",
      "2024-03-16 15:18:26.559670: I tensorflow/core/grappler/optimizers/custom_graph_optimizer_registry.cc:114] Plugin optimizer for device_type GPU is enabled.\n"
     ]
    },
    {
     "name": "stdout",
     "output_type": "stream",
     "text": [
      "4/4 [==============================] - 5s 517ms/step - loss: 1.7841 - accuracy: 0.4283\n",
      "Epoch 2/10\n",
      "4/4 [==============================] - 1s 198ms/step - loss: 1.6521 - accuracy: 0.7025\n",
      "Epoch 3/10\n",
      "4/4 [==============================] - 1s 193ms/step - loss: 1.5379 - accuracy: 0.8000\n",
      "Epoch 4/10\n",
      "4/4 [==============================] - 0s 140ms/step - loss: 1.4183 - accuracy: 0.8458\n",
      "Epoch 5/10\n",
      "4/4 [==============================] - 0s 91ms/step - loss: 1.2744 - accuracy: 0.8739\n",
      "Epoch 6/10\n",
      "4/4 [==============================] - 0s 85ms/step - loss: 1.0724 - accuracy: 0.8741\n",
      "Epoch 7/10\n",
      "4/4 [==============================] - 0s 60ms/step - loss: 0.7988 - accuracy: 0.8513\n",
      "Epoch 8/10\n",
      "4/4 [==============================] - 0s 48ms/step - loss: 0.5861 - accuracy: 0.8394\n",
      "Epoch 9/10\n",
      "4/4 [==============================] - 0s 40ms/step - loss: 0.4720 - accuracy: 0.8792\n",
      "Epoch 10/10\n",
      "4/4 [==============================] - 0s 50ms/step - loss: 0.4081 - accuracy: 0.9189\n"
     ]
    },
    {
     "name": "stderr",
     "output_type": "stream",
     "text": [
      "2024-03-16 15:18:32.914517: I tensorflow/core/grappler/optimizers/custom_graph_optimizer_registry.cc:114] Plugin optimizer for device_type GPU is enabled.\n",
      "2024-03-16 15:18:33.002422: I tensorflow/core/grappler/optimizers/custom_graph_optimizer_registry.cc:114] Plugin optimizer for device_type GPU is enabled.\n",
      "2024-03-16 15:18:33.002992: I tensorflow/core/grappler/optimizers/custom_graph_optimizer_registry.cc:114] Plugin optimizer for device_type GPU is enabled.\n",
      "2024-03-16 15:18:33.003037: I tensorflow/core/grappler/optimizers/custom_graph_optimizer_registry.cc:114] Plugin optimizer for device_type GPU is enabled.\n"
     ]
    },
    {
     "name": "stdout",
     "output_type": "stream",
     "text": [
      "1/1 [==============================] - 1s 754ms/step\n",
      "Test Metrics for Late Fusion Model:\n",
      "Accuracy: 0.7554\n",
      "Precision: 0.6290\n",
      "Recall: 0.5856\n",
      "F1 Score: 0.5891\n"
     ]
    }
   ],
   "source": [
    "# Example: Instantiating and compiling the LateFusionModel\n",
    "input_shapes = [train_audio.shape[1:], train_visual.shape[1:], train_text.shape[1:]]  # Adjust as per your data\n",
    "num_classes = train_label.shape[-1]  # Assuming one-hot encoded labels\n",
    "\n",
    "model = LateFusionModel(input_shapes=input_shapes, num_classes=num_classes)\n",
    "model.compile(lr=0.001)  # Make sure your BaseModel's compile method properly configures the underlying Keras model\n",
    "\n",
    "history, test_metrics = model.train_and_evaluate_on_test()\n",
    "\n",
    "print(\"Test Metrics for Late Fusion Model:\")\n",
    "print(f\"Accuracy: {test_metrics['accuracy']:.4f}\")\n",
    "print(f\"Precision: {test_metrics['precision']:.4f}\")\n",
    "print(f\"Recall: {test_metrics['recall']:.4f}\")\n",
    "print(f\"F1 Score: {test_metrics['f1_score']:.4f}\")"
   ]
  },
  {
   "cell_type": "code",
   "execution_count": 73,
   "metadata": {},
   "outputs": [
    {
     "name": "stdout",
     "output_type": "stream",
     "text": [
      "Epoch 1/10\n"
     ]
    },
    {
     "name": "stderr",
     "output_type": "stream",
     "text": [
      "/Users/venessa/Desktop/5342project/venv/lib/python3.8/site-packages/keras/src/optimizers/legacy/adam.py:118: UserWarning: The `lr` argument is deprecated, use `learning_rate` instead.\n",
      "  super().__init__(name, **kwargs)\n",
      "2024-03-16 15:19:34.843413: I tensorflow/core/grappler/optimizers/custom_graph_optimizer_registry.cc:114] Plugin optimizer for device_type GPU is enabled.\n",
      "2024-03-16 15:19:35.020940: I tensorflow/core/grappler/optimizers/custom_graph_optimizer_registry.cc:114] Plugin optimizer for device_type GPU is enabled.\n",
      "2024-03-16 15:19:35.304012: I tensorflow/core/grappler/optimizers/custom_graph_optimizer_registry.cc:114] Plugin optimizer for device_type GPU is enabled.\n",
      "2024-03-16 15:19:35.665435: I tensorflow/core/grappler/optimizers/custom_graph_optimizer_registry.cc:114] Plugin optimizer for device_type GPU is enabled.\n",
      "2024-03-16 15:19:36.098029: I tensorflow/core/grappler/optimizers/custom_graph_optimizer_registry.cc:114] Plugin optimizer for device_type GPU is enabled.\n"
     ]
    },
    {
     "name": "stdout",
     "output_type": "stream",
     "text": [
      "3/3 [==============================] - ETA: 0s - loss: 1.7782 - accuracy: 0.4376"
     ]
    },
    {
     "name": "stderr",
     "output_type": "stream",
     "text": [
      "2024-03-16 15:19:37.491131: I tensorflow/core/grappler/optimizers/custom_graph_optimizer_registry.cc:114] Plugin optimizer for device_type GPU is enabled.\n",
      "2024-03-16 15:19:37.580506: I tensorflow/core/grappler/optimizers/custom_graph_optimizer_registry.cc:114] Plugin optimizer for device_type GPU is enabled.\n",
      "2024-03-16 15:19:37.795985: I tensorflow/core/grappler/optimizers/custom_graph_optimizer_registry.cc:114] Plugin optimizer for device_type GPU is enabled.\n"
     ]
    },
    {
     "name": "stdout",
     "output_type": "stream",
     "text": [
      "3/3 [==============================] - 4s 692ms/step - loss: 1.7782 - accuracy: 0.4376 - val_loss: 1.7387 - val_accuracy: 0.6258\n",
      "Epoch 2/10\n",
      "3/3 [==============================] - 0s 132ms/step - loss: 1.7183 - accuracy: 0.6062 - val_loss: 1.6620 - val_accuracy: 0.6186\n",
      "Epoch 3/10\n",
      "3/3 [==============================] - 1s 186ms/step - loss: 1.6161 - accuracy: 0.6026 - val_loss: 1.5078 - val_accuracy: 0.6152\n",
      "Epoch 4/10\n",
      "3/3 [==============================] - 0s 161ms/step - loss: 1.4195 - accuracy: 0.6012 - val_loss: 1.2102 - val_accuracy: 0.6159\n",
      "Epoch 5/10\n",
      "3/3 [==============================] - 0s 88ms/step - loss: 1.1685 - accuracy: 0.6037 - val_loss: 1.0242 - val_accuracy: 0.6295\n",
      "Epoch 6/10\n",
      "3/3 [==============================] - 0s 76ms/step - loss: 1.0419 - accuracy: 0.6218 - val_loss: 0.9292 - val_accuracy: 0.6693\n",
      "Epoch 7/10\n",
      "3/3 [==============================] - 0s 106ms/step - loss: 0.9665 - accuracy: 0.6454 - val_loss: 0.8826 - val_accuracy: 0.6640\n",
      "Epoch 8/10\n",
      "3/3 [==============================] - 0s 84ms/step - loss: 0.9133 - accuracy: 0.6464 - val_loss: 0.8042 - val_accuracy: 0.6788\n",
      "Epoch 9/10\n",
      "3/3 [==============================] - 0s 59ms/step - loss: 0.8729 - accuracy: 0.6672 - val_loss: 0.7996 - val_accuracy: 0.6773\n",
      "Epoch 10/10\n",
      "3/3 [==============================] - 0s 60ms/step - loss: 0.8386 - accuracy: 0.6830 - val_loss: 0.7661 - val_accuracy: 0.6951\n"
     ]
    },
    {
     "name": "stderr",
     "output_type": "stream",
     "text": [
      "2024-03-16 15:19:41.155523: I tensorflow/core/grappler/optimizers/custom_graph_optimizer_registry.cc:114] Plugin optimizer for device_type GPU is enabled.\n",
      "2024-03-16 15:19:41.221018: I tensorflow/core/grappler/optimizers/custom_graph_optimizer_registry.cc:114] Plugin optimizer for device_type GPU is enabled.\n",
      "2024-03-16 15:19:41.428797: I tensorflow/core/grappler/optimizers/custom_graph_optimizer_registry.cc:114] Plugin optimizer for device_type GPU is enabled.\n"
     ]
    },
    {
     "name": "stdout",
     "output_type": "stream",
     "text": [
      "1/1 [==============================] - 1s 691ms/step\n",
      "Epoch 1/10\n"
     ]
    },
    {
     "name": "stderr",
     "output_type": "stream",
     "text": [
      "/Users/venessa/Desktop/5342project/venv/lib/python3.8/site-packages/sklearn/metrics/_classification.py:1471: UndefinedMetricWarning: Precision and F-score are ill-defined and being set to 0.0 in labels with no predicted samples. Use `zero_division` parameter to control this behavior.\n",
      "  _warn_prf(average, modifier, msg_start, len(result))\n",
      "/Users/venessa/Desktop/5342project/venv/lib/python3.8/site-packages/keras/src/optimizers/legacy/adam.py:118: UserWarning: The `lr` argument is deprecated, use `learning_rate` instead.\n",
      "  super().__init__(name, **kwargs)\n",
      "2024-03-16 15:19:42.456752: I tensorflow/core/grappler/optimizers/custom_graph_optimizer_registry.cc:114] Plugin optimizer for device_type GPU is enabled.\n",
      "2024-03-16 15:19:42.622208: I tensorflow/core/grappler/optimizers/custom_graph_optimizer_registry.cc:114] Plugin optimizer for device_type GPU is enabled.\n",
      "2024-03-16 15:19:42.853613: I tensorflow/core/grappler/optimizers/custom_graph_optimizer_registry.cc:114] Plugin optimizer for device_type GPU is enabled.\n",
      "2024-03-16 15:19:43.248469: I tensorflow/core/grappler/optimizers/custom_graph_optimizer_registry.cc:114] Plugin optimizer for device_type GPU is enabled.\n",
      "2024-03-16 15:19:43.712915: I tensorflow/core/grappler/optimizers/custom_graph_optimizer_registry.cc:114] Plugin optimizer for device_type GPU is enabled.\n"
     ]
    },
    {
     "name": "stdout",
     "output_type": "stream",
     "text": [
      "3/3 [==============================] - ETA: 0s - loss: 1.7654 - accuracy: 0.4433"
     ]
    },
    {
     "name": "stderr",
     "output_type": "stream",
     "text": [
      "2024-03-16 15:19:45.216893: I tensorflow/core/grappler/optimizers/custom_graph_optimizer_registry.cc:114] Plugin optimizer for device_type GPU is enabled.\n",
      "2024-03-16 15:19:45.295833: I tensorflow/core/grappler/optimizers/custom_graph_optimizer_registry.cc:114] Plugin optimizer for device_type GPU is enabled.\n",
      "2024-03-16 15:19:45.532079: I tensorflow/core/grappler/optimizers/custom_graph_optimizer_registry.cc:114] Plugin optimizer for device_type GPU is enabled.\n"
     ]
    },
    {
     "name": "stdout",
     "output_type": "stream",
     "text": [
      "3/3 [==============================] - 4s 853ms/step - loss: 1.7654 - accuracy: 0.4433 - val_loss: 1.7257 - val_accuracy: 0.5875\n",
      "Epoch 2/10\n",
      "3/3 [==============================] - 1s 177ms/step - loss: 1.6893 - accuracy: 0.6047 - val_loss: 1.6345 - val_accuracy: 0.5735\n",
      "Epoch 3/10\n",
      "3/3 [==============================] - 0s 109ms/step - loss: 1.5562 - accuracy: 0.6042 - val_loss: 1.4543 - val_accuracy: 0.5735\n",
      "Epoch 4/10\n",
      "3/3 [==============================] - 0s 101ms/step - loss: 1.2903 - accuracy: 0.6042 - val_loss: 1.2382 - val_accuracy: 0.5739\n",
      "Epoch 5/10\n",
      "3/3 [==============================] - 0s 147ms/step - loss: 1.0834 - accuracy: 0.6090 - val_loss: 1.1227 - val_accuracy: 0.5803\n",
      "Epoch 6/10\n",
      "3/3 [==============================] - 0s 146ms/step - loss: 0.9549 - accuracy: 0.6330 - val_loss: 1.0323 - val_accuracy: 0.6125\n",
      "Epoch 7/10\n",
      "3/3 [==============================] - 0s 150ms/step - loss: 0.9255 - accuracy: 0.6497 - val_loss: 0.9742 - val_accuracy: 0.6008\n",
      "Epoch 8/10\n",
      "3/3 [==============================] - 0s 81ms/step - loss: 0.8652 - accuracy: 0.6611 - val_loss: 0.9480 - val_accuracy: 0.6155\n",
      "Epoch 9/10\n",
      "3/3 [==============================] - 0s 56ms/step - loss: 0.8388 - accuracy: 0.6736 - val_loss: 0.9261 - val_accuracy: 0.6383\n",
      "Epoch 10/10\n",
      "3/3 [==============================] - 0s 82ms/step - loss: 0.8062 - accuracy: 0.6833 - val_loss: 0.8873 - val_accuracy: 0.6473\n"
     ]
    },
    {
     "name": "stderr",
     "output_type": "stream",
     "text": [
      "2024-03-16 15:19:49.018717: I tensorflow/core/grappler/optimizers/custom_graph_optimizer_registry.cc:114] Plugin optimizer for device_type GPU is enabled.\n",
      "2024-03-16 15:19:49.086048: I tensorflow/core/grappler/optimizers/custom_graph_optimizer_registry.cc:114] Plugin optimizer for device_type GPU is enabled.\n",
      "2024-03-16 15:19:49.303261: I tensorflow/core/grappler/optimizers/custom_graph_optimizer_registry.cc:114] Plugin optimizer for device_type GPU is enabled.\n"
     ]
    },
    {
     "name": "stdout",
     "output_type": "stream",
     "text": [
      "1/1 [==============================] - 1s 724ms/step\n",
      "Epoch 1/10\n"
     ]
    },
    {
     "name": "stderr",
     "output_type": "stream",
     "text": [
      "/Users/venessa/Desktop/5342project/venv/lib/python3.8/site-packages/sklearn/metrics/_classification.py:1471: UndefinedMetricWarning: Precision and F-score are ill-defined and being set to 0.0 in labels with no predicted samples. Use `zero_division` parameter to control this behavior.\n",
      "  _warn_prf(average, modifier, msg_start, len(result))\n",
      "/Users/venessa/Desktop/5342project/venv/lib/python3.8/site-packages/keras/src/optimizers/legacy/adam.py:118: UserWarning: The `lr` argument is deprecated, use `learning_rate` instead.\n",
      "  super().__init__(name, **kwargs)\n",
      "2024-03-16 15:19:50.350659: I tensorflow/core/grappler/optimizers/custom_graph_optimizer_registry.cc:114] Plugin optimizer for device_type GPU is enabled.\n",
      "2024-03-16 15:19:50.512928: I tensorflow/core/grappler/optimizers/custom_graph_optimizer_registry.cc:114] Plugin optimizer for device_type GPU is enabled.\n",
      "2024-03-16 15:19:50.749718: I tensorflow/core/grappler/optimizers/custom_graph_optimizer_registry.cc:114] Plugin optimizer for device_type GPU is enabled.\n",
      "2024-03-16 15:19:51.112515: I tensorflow/core/grappler/optimizers/custom_graph_optimizer_registry.cc:114] Plugin optimizer for device_type GPU is enabled.\n",
      "2024-03-16 15:19:51.523642: I tensorflow/core/grappler/optimizers/custom_graph_optimizer_registry.cc:114] Plugin optimizer for device_type GPU is enabled.\n"
     ]
    },
    {
     "name": "stdout",
     "output_type": "stream",
     "text": [
      "3/3 [==============================] - ETA: 0s - loss: 1.7776 - accuracy: 0.4084"
     ]
    },
    {
     "name": "stderr",
     "output_type": "stream",
     "text": [
      "2024-03-16 15:19:52.639625: I tensorflow/core/grappler/optimizers/custom_graph_optimizer_registry.cc:114] Plugin optimizer for device_type GPU is enabled.\n",
      "2024-03-16 15:19:52.715512: I tensorflow/core/grappler/optimizers/custom_graph_optimizer_registry.cc:114] Plugin optimizer for device_type GPU is enabled.\n",
      "2024-03-16 15:19:52.926943: I tensorflow/core/grappler/optimizers/custom_graph_optimizer_registry.cc:114] Plugin optimizer for device_type GPU is enabled.\n"
     ]
    },
    {
     "name": "stdout",
     "output_type": "stream",
     "text": [
      "3/3 [==============================] - 3s 644ms/step - loss: 1.7776 - accuracy: 0.4084 - val_loss: 1.7324 - val_accuracy: 0.6777\n",
      "Epoch 2/10\n",
      "3/3 [==============================] - 0s 179ms/step - loss: 1.7149 - accuracy: 0.6023 - val_loss: 1.6405 - val_accuracy: 0.6769\n",
      "Epoch 3/10\n",
      "3/3 [==============================] - 0s 155ms/step - loss: 1.6125 - accuracy: 0.6071 - val_loss: 1.4609 - val_accuracy: 0.6705\n",
      "Epoch 4/10\n",
      "3/3 [==============================] - 0s 150ms/step - loss: 1.4258 - accuracy: 0.6006 - val_loss: 1.1378 - val_accuracy: 0.6655\n",
      "Epoch 5/10\n",
      "3/3 [==============================] - 0s 100ms/step - loss: 1.1876 - accuracy: 0.6014 - val_loss: 0.9592 - val_accuracy: 0.6731\n",
      "Epoch 6/10\n",
      "3/3 [==============================] - 0s 104ms/step - loss: 1.0955 - accuracy: 0.6079 - val_loss: 0.9199 - val_accuracy: 0.6758\n",
      "Epoch 7/10\n",
      "3/3 [==============================] - 0s 89ms/step - loss: 1.0268 - accuracy: 0.6099 - val_loss: 0.8307 - val_accuracy: 0.7004\n",
      "Epoch 8/10\n",
      "3/3 [==============================] - 0s 61ms/step - loss: 0.9361 - accuracy: 0.6205 - val_loss: 0.7946 - val_accuracy: 0.6951\n",
      "Epoch 9/10\n",
      "3/3 [==============================] - 0s 63ms/step - loss: 0.8834 - accuracy: 0.6455 - val_loss: 0.7572 - val_accuracy: 0.6992\n",
      "Epoch 10/10\n",
      "3/3 [==============================] - 0s 97ms/step - loss: 0.8363 - accuracy: 0.6614 - val_loss: 0.7347 - val_accuracy: 0.7208\n"
     ]
    },
    {
     "name": "stderr",
     "output_type": "stream",
     "text": [
      "2024-03-16 15:19:56.152999: I tensorflow/core/grappler/optimizers/custom_graph_optimizer_registry.cc:114] Plugin optimizer for device_type GPU is enabled.\n",
      "2024-03-16 15:19:56.216133: I tensorflow/core/grappler/optimizers/custom_graph_optimizer_registry.cc:114] Plugin optimizer for device_type GPU is enabled.\n",
      "2024-03-16 15:19:56.430908: I tensorflow/core/grappler/optimizers/custom_graph_optimizer_registry.cc:114] Plugin optimizer for device_type GPU is enabled.\n"
     ]
    },
    {
     "name": "stdout",
     "output_type": "stream",
     "text": [
      "1/1 [==============================] - 1s 688ms/step\n",
      "Epoch 1/10\n"
     ]
    },
    {
     "name": "stderr",
     "output_type": "stream",
     "text": [
      "/Users/venessa/Desktop/5342project/venv/lib/python3.8/site-packages/sklearn/metrics/_classification.py:1471: UndefinedMetricWarning: Precision and F-score are ill-defined and being set to 0.0 in labels with no predicted samples. Use `zero_division` parameter to control this behavior.\n",
      "  _warn_prf(average, modifier, msg_start, len(result))\n",
      "/Users/venessa/Desktop/5342project/venv/lib/python3.8/site-packages/keras/src/optimizers/legacy/adam.py:118: UserWarning: The `lr` argument is deprecated, use `learning_rate` instead.\n",
      "  super().__init__(name, **kwargs)\n",
      "2024-03-16 15:19:57.440368: I tensorflow/core/grappler/optimizers/custom_graph_optimizer_registry.cc:114] Plugin optimizer for device_type GPU is enabled.\n",
      "2024-03-16 15:19:57.603486: I tensorflow/core/grappler/optimizers/custom_graph_optimizer_registry.cc:114] Plugin optimizer for device_type GPU is enabled.\n",
      "2024-03-16 15:19:57.827823: I tensorflow/core/grappler/optimizers/custom_graph_optimizer_registry.cc:114] Plugin optimizer for device_type GPU is enabled.\n",
      "2024-03-16 15:19:58.203493: I tensorflow/core/grappler/optimizers/custom_graph_optimizer_registry.cc:114] Plugin optimizer for device_type GPU is enabled.\n",
      "2024-03-16 15:19:58.618455: I tensorflow/core/grappler/optimizers/custom_graph_optimizer_registry.cc:114] Plugin optimizer for device_type GPU is enabled.\n"
     ]
    },
    {
     "name": "stdout",
     "output_type": "stream",
     "text": [
      "3/3 [==============================] - ETA: 0s - loss: 1.7843 - accuracy: 0.3872"
     ]
    },
    {
     "name": "stderr",
     "output_type": "stream",
     "text": [
      "2024-03-16 15:19:59.562963: I tensorflow/core/grappler/optimizers/custom_graph_optimizer_registry.cc:114] Plugin optimizer for device_type GPU is enabled.\n",
      "2024-03-16 15:19:59.641735: I tensorflow/core/grappler/optimizers/custom_graph_optimizer_registry.cc:114] Plugin optimizer for device_type GPU is enabled.\n",
      "2024-03-16 15:19:59.866287: I tensorflow/core/grappler/optimizers/custom_graph_optimizer_registry.cc:114] Plugin optimizer for device_type GPU is enabled.\n"
     ]
    },
    {
     "name": "stdout",
     "output_type": "stream",
     "text": [
      "3/3 [==============================] - 3s 582ms/step - loss: 1.7843 - accuracy: 0.3872 - val_loss: 1.7607 - val_accuracy: 0.5716\n",
      "Epoch 2/10\n",
      "3/3 [==============================] - 1s 235ms/step - loss: 1.7378 - accuracy: 0.6328 - val_loss: 1.7090 - val_accuracy: 0.5701\n",
      "Epoch 3/10\n",
      "3/3 [==============================] - 1s 215ms/step - loss: 1.6726 - accuracy: 0.6333 - val_loss: 1.6239 - val_accuracy: 0.5716\n",
      "Epoch 4/10\n",
      "3/3 [==============================] - 0s 106ms/step - loss: 1.5539 - accuracy: 0.6196 - val_loss: 1.4690 - val_accuracy: 0.5720\n",
      "Epoch 5/10\n",
      "3/3 [==============================] - 0s 126ms/step - loss: 1.3303 - accuracy: 0.6187 - val_loss: 1.2332 - val_accuracy: 0.5716\n",
      "Epoch 6/10\n",
      "3/3 [==============================] - 0s 103ms/step - loss: 1.0812 - accuracy: 0.6237 - val_loss: 1.1169 - val_accuracy: 0.5708\n",
      "Epoch 7/10\n",
      "3/3 [==============================] - 0s 100ms/step - loss: 0.9570 - accuracy: 0.6414 - val_loss: 1.0106 - val_accuracy: 0.5811\n",
      "Epoch 8/10\n",
      "3/3 [==============================] - 0s 83ms/step - loss: 0.8923 - accuracy: 0.6608 - val_loss: 0.9534 - val_accuracy: 0.5871\n",
      "Epoch 9/10\n",
      "3/3 [==============================] - 0s 83ms/step - loss: 0.8387 - accuracy: 0.6599 - val_loss: 0.9491 - val_accuracy: 0.5902\n",
      "Epoch 10/10\n",
      "3/3 [==============================] - 0s 62ms/step - loss: 0.8123 - accuracy: 0.6724 - val_loss: 0.8608 - val_accuracy: 0.6258\n"
     ]
    },
    {
     "name": "stderr",
     "output_type": "stream",
     "text": [
      "2024-03-16 15:20:03.356643: I tensorflow/core/grappler/optimizers/custom_graph_optimizer_registry.cc:114] Plugin optimizer for device_type GPU is enabled.\n",
      "2024-03-16 15:20:03.419440: I tensorflow/core/grappler/optimizers/custom_graph_optimizer_registry.cc:114] Plugin optimizer for device_type GPU is enabled.\n",
      "2024-03-16 15:20:03.626363: I tensorflow/core/grappler/optimizers/custom_graph_optimizer_registry.cc:114] Plugin optimizer for device_type GPU is enabled.\n"
     ]
    },
    {
     "name": "stdout",
     "output_type": "stream",
     "text": [
      "1/1 [==============================] - 1s 687ms/step\n",
      "Epoch 1/10\n"
     ]
    },
    {
     "name": "stderr",
     "output_type": "stream",
     "text": [
      "/Users/venessa/Desktop/5342project/venv/lib/python3.8/site-packages/sklearn/metrics/_classification.py:1471: UndefinedMetricWarning: Precision and F-score are ill-defined and being set to 0.0 in labels with no predicted samples. Use `zero_division` parameter to control this behavior.\n",
      "  _warn_prf(average, modifier, msg_start, len(result))\n",
      "/Users/venessa/Desktop/5342project/venv/lib/python3.8/site-packages/keras/src/optimizers/legacy/adam.py:118: UserWarning: The `lr` argument is deprecated, use `learning_rate` instead.\n",
      "  super().__init__(name, **kwargs)\n",
      "2024-03-16 15:20:05.161391: I tensorflow/core/grappler/optimizers/custom_graph_optimizer_registry.cc:114] Plugin optimizer for device_type GPU is enabled.\n",
      "2024-03-16 15:20:05.332023: I tensorflow/core/grappler/optimizers/custom_graph_optimizer_registry.cc:114] Plugin optimizer for device_type GPU is enabled.\n",
      "2024-03-16 15:20:05.595697: I tensorflow/core/grappler/optimizers/custom_graph_optimizer_registry.cc:114] Plugin optimizer for device_type GPU is enabled.\n",
      "2024-03-16 15:20:05.945609: I tensorflow/core/grappler/optimizers/custom_graph_optimizer_registry.cc:114] Plugin optimizer for device_type GPU is enabled.\n",
      "2024-03-16 15:20:06.373390: I tensorflow/core/grappler/optimizers/custom_graph_optimizer_registry.cc:114] Plugin optimizer for device_type GPU is enabled.\n"
     ]
    },
    {
     "name": "stdout",
     "output_type": "stream",
     "text": [
      "3/3 [==============================] - ETA: 0s - loss: 1.7789 - accuracy: 0.4705"
     ]
    },
    {
     "name": "stderr",
     "output_type": "stream",
     "text": [
      "2024-03-16 15:20:07.572999: I tensorflow/core/grappler/optimizers/custom_graph_optimizer_registry.cc:114] Plugin optimizer for device_type GPU is enabled.\n",
      "2024-03-16 15:20:07.654026: I tensorflow/core/grappler/optimizers/custom_graph_optimizer_registry.cc:114] Plugin optimizer for device_type GPU is enabled.\n",
      "2024-03-16 15:20:07.893489: I tensorflow/core/grappler/optimizers/custom_graph_optimizer_registry.cc:114] Plugin optimizer for device_type GPU is enabled.\n"
     ]
    },
    {
     "name": "stdout",
     "output_type": "stream",
     "text": [
      "3/3 [==============================] - 4s 709ms/step - loss: 1.7789 - accuracy: 0.4705 - val_loss: 1.7401 - val_accuracy: 0.6015\n",
      "Epoch 2/10\n",
      "3/3 [==============================] - 1s 189ms/step - loss: 1.7200 - accuracy: 0.6038 - val_loss: 1.6629 - val_accuracy: 0.5894\n",
      "Epoch 3/10\n",
      "3/3 [==============================] - 0s 177ms/step - loss: 1.6320 - accuracy: 0.6007 - val_loss: 1.5240 - val_accuracy: 0.5902\n",
      "Epoch 4/10\n",
      "3/3 [==============================] - 0s 102ms/step - loss: 1.4613 - accuracy: 0.6006 - val_loss: 1.2862 - val_accuracy: 0.5924\n",
      "Epoch 5/10\n",
      "3/3 [==============================] - 0s 124ms/step - loss: 1.2182 - accuracy: 0.6021 - val_loss: 1.1300 - val_accuracy: 0.5966\n",
      "Epoch 6/10\n",
      "3/3 [==============================] - 0s 161ms/step - loss: 1.0843 - accuracy: 0.6087 - val_loss: 1.0336 - val_accuracy: 0.6246\n",
      "Epoch 7/10\n",
      "3/3 [==============================] - 0s 109ms/step - loss: 0.9836 - accuracy: 0.6287 - val_loss: 0.9601 - val_accuracy: 0.6432\n",
      "Epoch 8/10\n",
      "3/3 [==============================] - 0s 60ms/step - loss: 0.9153 - accuracy: 0.6426 - val_loss: 0.9062 - val_accuracy: 0.6527\n",
      "Epoch 9/10\n",
      "3/3 [==============================] - 0s 64ms/step - loss: 0.8710 - accuracy: 0.6517 - val_loss: 0.9058 - val_accuracy: 0.6583\n",
      "Epoch 10/10\n",
      "3/3 [==============================] - 0s 89ms/step - loss: 0.8370 - accuracy: 0.6652 - val_loss: 0.8523 - val_accuracy: 0.6822\n"
     ]
    },
    {
     "name": "stderr",
     "output_type": "stream",
     "text": [
      "2024-03-16 15:20:11.524917: I tensorflow/core/grappler/optimizers/custom_graph_optimizer_registry.cc:114] Plugin optimizer for device_type GPU is enabled.\n",
      "2024-03-16 15:20:11.589774: I tensorflow/core/grappler/optimizers/custom_graph_optimizer_registry.cc:114] Plugin optimizer for device_type GPU is enabled.\n",
      "2024-03-16 15:20:11.803123: I tensorflow/core/grappler/optimizers/custom_graph_optimizer_registry.cc:114] Plugin optimizer for device_type GPU is enabled.\n"
     ]
    },
    {
     "name": "stdout",
     "output_type": "stream",
     "text": [
      "1/1 [==============================] - 1s 700ms/step\n",
      "K-Fold Cross-Validation Results (5 folds):\n",
      "Average Accuracy: 0.6742 ± 0.0339\n",
      "Average Precision: 0.3638 ± 0.0416\n",
      "Average Recall: 0.4376 ± 0.0208\n",
      "Average F1-Score: 0.3688 ± 0.0233\n"
     ]
    },
    {
     "name": "stderr",
     "output_type": "stream",
     "text": [
      "/Users/venessa/Desktop/5342project/venv/lib/python3.8/site-packages/sklearn/metrics/_classification.py:1471: UndefinedMetricWarning: Precision and F-score are ill-defined and being set to 0.0 in labels with no predicted samples. Use `zero_division` parameter to control this behavior.\n",
      "  _warn_prf(average, modifier, msg_start, len(result))\n"
     ]
    }
   ],
   "source": [
    "# Try with just audio data\n",
    "cross_val_training(EarlyFusionModel, train_audio, train_label, num_folds=5, epochs=10, batch_size=32)"
   ]
  },
  {
   "cell_type": "code",
   "execution_count": 75,
   "metadata": {},
   "outputs": [
    {
     "name": "stdout",
     "output_type": "stream",
     "text": [
      "Epoch 1/10\n"
     ]
    },
    {
     "name": "stderr",
     "output_type": "stream",
     "text": [
      "/Users/venessa/Desktop/5342project/venv/lib/python3.8/site-packages/keras/src/optimizers/legacy/adam.py:118: UserWarning: The `lr` argument is deprecated, use `learning_rate` instead.\n",
      "  super().__init__(name, **kwargs)\n",
      "2024-03-16 15:20:48.741976: I tensorflow/core/grappler/optimizers/custom_graph_optimizer_registry.cc:114] Plugin optimizer for device_type GPU is enabled.\n",
      "2024-03-16 15:20:48.925939: I tensorflow/core/grappler/optimizers/custom_graph_optimizer_registry.cc:114] Plugin optimizer for device_type GPU is enabled.\n",
      "2024-03-16 15:20:49.178592: I tensorflow/core/grappler/optimizers/custom_graph_optimizer_registry.cc:114] Plugin optimizer for device_type GPU is enabled.\n",
      "2024-03-16 15:20:49.535699: I tensorflow/core/grappler/optimizers/custom_graph_optimizer_registry.cc:114] Plugin optimizer for device_type GPU is enabled.\n",
      "2024-03-16 15:20:49.965963: I tensorflow/core/grappler/optimizers/custom_graph_optimizer_registry.cc:114] Plugin optimizer for device_type GPU is enabled.\n"
     ]
    },
    {
     "name": "stdout",
     "output_type": "stream",
     "text": [
      "3/3 [==============================] - ETA: 0s - loss: 1.7761 - accuracy: 0.4501"
     ]
    },
    {
     "name": "stderr",
     "output_type": "stream",
     "text": [
      "2024-03-16 15:20:51.009208: I tensorflow/core/grappler/optimizers/custom_graph_optimizer_registry.cc:114] Plugin optimizer for device_type GPU is enabled.\n",
      "2024-03-16 15:20:51.092589: I tensorflow/core/grappler/optimizers/custom_graph_optimizer_registry.cc:114] Plugin optimizer for device_type GPU is enabled.\n",
      "2024-03-16 15:20:51.317016: I tensorflow/core/grappler/optimizers/custom_graph_optimizer_registry.cc:114] Plugin optimizer for device_type GPU is enabled.\n"
     ]
    },
    {
     "name": "stdout",
     "output_type": "stream",
     "text": [
      "3/3 [==============================] - 4s 604ms/step - loss: 1.7761 - accuracy: 0.4501 - val_loss: 1.7574 - val_accuracy: 0.5830\n",
      "Epoch 2/10\n",
      "3/3 [==============================] - 1s 225ms/step - loss: 1.7156 - accuracy: 0.6019 - val_loss: 1.6829 - val_accuracy: 0.5818\n",
      "Epoch 3/10\n",
      "3/3 [==============================] - 0s 127ms/step - loss: 1.5695 - accuracy: 0.6021 - val_loss: 1.5212 - val_accuracy: 0.5818\n",
      "Epoch 4/10\n",
      "3/3 [==============================] - 0s 168ms/step - loss: 1.3227 - accuracy: 0.6021 - val_loss: 1.3722 - val_accuracy: 0.5818\n",
      "Epoch 5/10\n",
      "3/3 [==============================] - 0s 141ms/step - loss: 1.1980 - accuracy: 0.6021 - val_loss: 1.3288 - val_accuracy: 0.5818\n",
      "Epoch 6/10\n",
      "3/3 [==============================] - 0s 107ms/step - loss: 1.1665 - accuracy: 0.6022 - val_loss: 1.2508 - val_accuracy: 0.5822\n",
      "Epoch 7/10\n",
      "3/3 [==============================] - 0s 85ms/step - loss: 1.0945 - accuracy: 0.6023 - val_loss: 1.1268 - val_accuracy: 0.5864\n",
      "Epoch 8/10\n",
      "3/3 [==============================] - 0s 82ms/step - loss: 0.9837 - accuracy: 0.6110 - val_loss: 1.0141 - val_accuracy: 0.5973\n",
      "Epoch 9/10\n",
      "3/3 [==============================] - 0s 77ms/step - loss: 0.9034 - accuracy: 0.6408 - val_loss: 0.9560 - val_accuracy: 0.6106\n",
      "Epoch 10/10\n",
      "3/3 [==============================] - 0s 69ms/step - loss: 0.8759 - accuracy: 0.6530 - val_loss: 0.9401 - val_accuracy: 0.6064\n"
     ]
    },
    {
     "name": "stderr",
     "output_type": "stream",
     "text": [
      "2024-03-16 15:20:54.817537: I tensorflow/core/grappler/optimizers/custom_graph_optimizer_registry.cc:114] Plugin optimizer for device_type GPU is enabled.\n",
      "2024-03-16 15:20:54.881400: I tensorflow/core/grappler/optimizers/custom_graph_optimizer_registry.cc:114] Plugin optimizer for device_type GPU is enabled.\n",
      "2024-03-16 15:20:55.096899: I tensorflow/core/grappler/optimizers/custom_graph_optimizer_registry.cc:114] Plugin optimizer for device_type GPU is enabled.\n"
     ]
    },
    {
     "name": "stdout",
     "output_type": "stream",
     "text": [
      "1/1 [==============================] - 1s 713ms/step\n"
     ]
    },
    {
     "name": "stderr",
     "output_type": "stream",
     "text": [
      "/Users/venessa/Desktop/5342project/venv/lib/python3.8/site-packages/sklearn/metrics/_classification.py:1471: UndefinedMetricWarning: Precision and F-score are ill-defined and being set to 0.0 in labels with no predicted samples. Use `zero_division` parameter to control this behavior.\n",
      "  _warn_prf(average, modifier, msg_start, len(result))\n",
      "/Users/venessa/Desktop/5342project/venv/lib/python3.8/site-packages/keras/src/optimizers/legacy/adam.py:118: UserWarning: The `lr` argument is deprecated, use `learning_rate` instead.\n",
      "  super().__init__(name, **kwargs)\n"
     ]
    },
    {
     "name": "stdout",
     "output_type": "stream",
     "text": [
      "Epoch 1/10\n"
     ]
    },
    {
     "name": "stderr",
     "output_type": "stream",
     "text": [
      "2024-03-16 15:20:56.137026: I tensorflow/core/grappler/optimizers/custom_graph_optimizer_registry.cc:114] Plugin optimizer for device_type GPU is enabled.\n",
      "2024-03-16 15:20:56.303016: I tensorflow/core/grappler/optimizers/custom_graph_optimizer_registry.cc:114] Plugin optimizer for device_type GPU is enabled.\n",
      "2024-03-16 15:20:56.528419: I tensorflow/core/grappler/optimizers/custom_graph_optimizer_registry.cc:114] Plugin optimizer for device_type GPU is enabled.\n",
      "2024-03-16 15:20:56.874404: I tensorflow/core/grappler/optimizers/custom_graph_optimizer_registry.cc:114] Plugin optimizer for device_type GPU is enabled.\n",
      "2024-03-16 15:20:57.291553: I tensorflow/core/grappler/optimizers/custom_graph_optimizer_registry.cc:114] Plugin optimizer for device_type GPU is enabled.\n"
     ]
    },
    {
     "name": "stdout",
     "output_type": "stream",
     "text": [
      "3/3 [==============================] - ETA: 0s - loss: 1.7819 - accuracy: 0.4281"
     ]
    },
    {
     "name": "stderr",
     "output_type": "stream",
     "text": [
      "2024-03-16 15:20:58.386259: I tensorflow/core/grappler/optimizers/custom_graph_optimizer_registry.cc:114] Plugin optimizer for device_type GPU is enabled.\n",
      "2024-03-16 15:20:58.509085: I tensorflow/core/grappler/optimizers/custom_graph_optimizer_registry.cc:114] Plugin optimizer for device_type GPU is enabled.\n",
      "2024-03-16 15:20:58.726882: I tensorflow/core/grappler/optimizers/custom_graph_optimizer_registry.cc:114] Plugin optimizer for device_type GPU is enabled.\n"
     ]
    },
    {
     "name": "stdout",
     "output_type": "stream",
     "text": [
      "3/3 [==============================] - 4s 668ms/step - loss: 1.7819 - accuracy: 0.4281 - val_loss: 1.7600 - val_accuracy: 0.6106\n",
      "Epoch 2/10\n",
      "3/3 [==============================] - 0s 193ms/step - loss: 1.7405 - accuracy: 0.5949 - val_loss: 1.7027 - val_accuracy: 0.6106\n",
      "Epoch 3/10\n",
      "3/3 [==============================] - 1s 185ms/step - loss: 1.6655 - accuracy: 0.5949 - val_loss: 1.5699 - val_accuracy: 0.6106\n",
      "Epoch 4/10\n",
      "3/3 [==============================] - 0s 124ms/step - loss: 1.4947 - accuracy: 0.5949 - val_loss: 1.2980 - val_accuracy: 0.6106\n",
      "Epoch 5/10\n",
      "3/3 [==============================] - 0s 131ms/step - loss: 1.2423 - accuracy: 0.5949 - val_loss: 1.1604 - val_accuracy: 0.6106\n",
      "Epoch 6/10\n",
      "3/3 [==============================] - 0s 99ms/step - loss: 1.1472 - accuracy: 0.5949 - val_loss: 1.0918 - val_accuracy: 0.6136\n",
      "Epoch 7/10\n",
      "3/3 [==============================] - 0s 84ms/step - loss: 1.0422 - accuracy: 0.6101 - val_loss: 0.9505 - val_accuracy: 0.6390\n",
      "Epoch 8/10\n",
      "3/3 [==============================] - 0s 102ms/step - loss: 0.9338 - accuracy: 0.6449 - val_loss: 0.8958 - val_accuracy: 0.6417\n",
      "Epoch 9/10\n",
      "3/3 [==============================] - 0s 57ms/step - loss: 0.8897 - accuracy: 0.6534 - val_loss: 0.8576 - val_accuracy: 0.6485\n",
      "Epoch 10/10\n",
      "3/3 [==============================] - 0s 79ms/step - loss: 0.8876 - accuracy: 0.6484 - val_loss: 0.8474 - val_accuracy: 0.6492\n"
     ]
    },
    {
     "name": "stderr",
     "output_type": "stream",
     "text": [
      "2024-03-16 15:21:02.039463: I tensorflow/core/grappler/optimizers/custom_graph_optimizer_registry.cc:114] Plugin optimizer for device_type GPU is enabled.\n",
      "2024-03-16 15:21:02.103748: I tensorflow/core/grappler/optimizers/custom_graph_optimizer_registry.cc:114] Plugin optimizer for device_type GPU is enabled.\n",
      "2024-03-16 15:21:02.317152: I tensorflow/core/grappler/optimizers/custom_graph_optimizer_registry.cc:114] Plugin optimizer for device_type GPU is enabled.\n"
     ]
    },
    {
     "name": "stdout",
     "output_type": "stream",
     "text": [
      "1/1 [==============================] - 1s 692ms/step\n"
     ]
    },
    {
     "name": "stderr",
     "output_type": "stream",
     "text": [
      "/Users/venessa/Desktop/5342project/venv/lib/python3.8/site-packages/sklearn/metrics/_classification.py:1471: UndefinedMetricWarning: Precision and F-score are ill-defined and being set to 0.0 in labels with no predicted samples. Use `zero_division` parameter to control this behavior.\n",
      "  _warn_prf(average, modifier, msg_start, len(result))\n",
      "/Users/venessa/Desktop/5342project/venv/lib/python3.8/site-packages/keras/src/optimizers/legacy/adam.py:118: UserWarning: The `lr` argument is deprecated, use `learning_rate` instead.\n",
      "  super().__init__(name, **kwargs)\n"
     ]
    },
    {
     "name": "stdout",
     "output_type": "stream",
     "text": [
      "Epoch 1/10\n"
     ]
    },
    {
     "name": "stderr",
     "output_type": "stream",
     "text": [
      "2024-03-16 15:21:03.381347: I tensorflow/core/grappler/optimizers/custom_graph_optimizer_registry.cc:114] Plugin optimizer for device_type GPU is enabled.\n",
      "2024-03-16 15:21:03.549564: I tensorflow/core/grappler/optimizers/custom_graph_optimizer_registry.cc:114] Plugin optimizer for device_type GPU is enabled.\n",
      "2024-03-16 15:21:03.778818: I tensorflow/core/grappler/optimizers/custom_graph_optimizer_registry.cc:114] Plugin optimizer for device_type GPU is enabled.\n",
      "2024-03-16 15:21:04.125457: I tensorflow/core/grappler/optimizers/custom_graph_optimizer_registry.cc:114] Plugin optimizer for device_type GPU is enabled.\n",
      "2024-03-16 15:21:04.544152: I tensorflow/core/grappler/optimizers/custom_graph_optimizer_registry.cc:114] Plugin optimizer for device_type GPU is enabled.\n"
     ]
    },
    {
     "name": "stdout",
     "output_type": "stream",
     "text": [
      "3/3 [==============================] - ETA: 0s - loss: 1.7735 - accuracy: 0.5420"
     ]
    },
    {
     "name": "stderr",
     "output_type": "stream",
     "text": [
      "2024-03-16 15:21:06.173947: I tensorflow/core/grappler/optimizers/custom_graph_optimizer_registry.cc:114] Plugin optimizer for device_type GPU is enabled.\n",
      "2024-03-16 15:21:06.267573: I tensorflow/core/grappler/optimizers/custom_graph_optimizer_registry.cc:114] Plugin optimizer for device_type GPU is enabled.\n",
      "2024-03-16 15:21:06.497377: I tensorflow/core/grappler/optimizers/custom_graph_optimizer_registry.cc:114] Plugin optimizer for device_type GPU is enabled.\n"
     ]
    },
    {
     "name": "stdout",
     "output_type": "stream",
     "text": [
      "3/3 [==============================] - 4s 926ms/step - loss: 1.7735 - accuracy: 0.5420 - val_loss: 1.7360 - val_accuracy: 0.5890\n",
      "Epoch 2/10\n",
      "3/3 [==============================] - 1s 205ms/step - loss: 1.7045 - accuracy: 0.6003 - val_loss: 1.6241 - val_accuracy: 0.5890\n",
      "Epoch 3/10\n",
      "3/3 [==============================] - 0s 137ms/step - loss: 1.5436 - accuracy: 0.6003 - val_loss: 1.3997 - val_accuracy: 0.5890\n",
      "Epoch 4/10\n",
      "3/3 [==============================] - 0s 127ms/step - loss: 1.2897 - accuracy: 0.6003 - val_loss: 1.2026 - val_accuracy: 0.5890\n",
      "Epoch 5/10\n",
      "3/3 [==============================] - 0s 119ms/step - loss: 1.1719 - accuracy: 0.6003 - val_loss: 1.1457 - val_accuracy: 0.5902\n",
      "Epoch 6/10\n",
      "3/3 [==============================] - 0s 137ms/step - loss: 1.1197 - accuracy: 0.6035 - val_loss: 1.0371 - val_accuracy: 0.6239\n",
      "Epoch 7/10\n",
      "3/3 [==============================] - 0s 132ms/step - loss: 0.9939 - accuracy: 0.6277 - val_loss: 0.9185 - val_accuracy: 0.6746\n",
      "Epoch 8/10\n",
      "3/3 [==============================] - 0s 128ms/step - loss: 0.9327 - accuracy: 0.6408 - val_loss: 0.9019 - val_accuracy: 0.6689\n",
      "Epoch 9/10\n",
      "3/3 [==============================] - 0s 60ms/step - loss: 0.9240 - accuracy: 0.6455 - val_loss: 0.8888 - val_accuracy: 0.6716\n",
      "Epoch 10/10\n",
      "3/3 [==============================] - 0s 93ms/step - loss: 0.9052 - accuracy: 0.6400 - val_loss: 0.8780 - val_accuracy: 0.6723\n"
     ]
    },
    {
     "name": "stderr",
     "output_type": "stream",
     "text": [
      "2024-03-16 15:21:10.067429: I tensorflow/core/grappler/optimizers/custom_graph_optimizer_registry.cc:114] Plugin optimizer for device_type GPU is enabled.\n",
      "2024-03-16 15:21:10.132960: I tensorflow/core/grappler/optimizers/custom_graph_optimizer_registry.cc:114] Plugin optimizer for device_type GPU is enabled.\n",
      "2024-03-16 15:21:10.357691: I tensorflow/core/grappler/optimizers/custom_graph_optimizer_registry.cc:114] Plugin optimizer for device_type GPU is enabled.\n"
     ]
    },
    {
     "name": "stdout",
     "output_type": "stream",
     "text": [
      "1/1 [==============================] - 1s 722ms/step\n"
     ]
    },
    {
     "name": "stderr",
     "output_type": "stream",
     "text": [
      "/Users/venessa/Desktop/5342project/venv/lib/python3.8/site-packages/sklearn/metrics/_classification.py:1471: UndefinedMetricWarning: Precision and F-score are ill-defined and being set to 0.0 in labels with no predicted samples. Use `zero_division` parameter to control this behavior.\n",
      "  _warn_prf(average, modifier, msg_start, len(result))\n",
      "/Users/venessa/Desktop/5342project/venv/lib/python3.8/site-packages/keras/src/optimizers/legacy/adam.py:118: UserWarning: The `lr` argument is deprecated, use `learning_rate` instead.\n",
      "  super().__init__(name, **kwargs)\n"
     ]
    },
    {
     "name": "stdout",
     "output_type": "stream",
     "text": [
      "Epoch 1/10\n"
     ]
    },
    {
     "name": "stderr",
     "output_type": "stream",
     "text": [
      "2024-03-16 15:21:11.423322: I tensorflow/core/grappler/optimizers/custom_graph_optimizer_registry.cc:114] Plugin optimizer for device_type GPU is enabled.\n",
      "2024-03-16 15:21:11.602202: I tensorflow/core/grappler/optimizers/custom_graph_optimizer_registry.cc:114] Plugin optimizer for device_type GPU is enabled.\n",
      "2024-03-16 15:21:11.852581: I tensorflow/core/grappler/optimizers/custom_graph_optimizer_registry.cc:114] Plugin optimizer for device_type GPU is enabled.\n",
      "2024-03-16 15:21:12.208144: I tensorflow/core/grappler/optimizers/custom_graph_optimizer_registry.cc:114] Plugin optimizer for device_type GPU is enabled.\n",
      "2024-03-16 15:21:12.625020: I tensorflow/core/grappler/optimizers/custom_graph_optimizer_registry.cc:114] Plugin optimizer for device_type GPU is enabled.\n"
     ]
    },
    {
     "name": "stdout",
     "output_type": "stream",
     "text": [
      "3/3 [==============================] - ETA: 0s - loss: 1.7819 - accuracy: 0.4422"
     ]
    },
    {
     "name": "stderr",
     "output_type": "stream",
     "text": [
      "2024-03-16 15:21:13.763876: I tensorflow/core/grappler/optimizers/custom_graph_optimizer_registry.cc:114] Plugin optimizer for device_type GPU is enabled.\n",
      "2024-03-16 15:21:13.856507: I tensorflow/core/grappler/optimizers/custom_graph_optimizer_registry.cc:114] Plugin optimizer for device_type GPU is enabled.\n",
      "2024-03-16 15:21:14.070597: I tensorflow/core/grappler/optimizers/custom_graph_optimizer_registry.cc:114] Plugin optimizer for device_type GPU is enabled.\n"
     ]
    },
    {
     "name": "stdout",
     "output_type": "stream",
     "text": [
      "3/3 [==============================] - 4s 667ms/step - loss: 1.7819 - accuracy: 0.4422 - val_loss: 1.7540 - val_accuracy: 0.5811\n",
      "Epoch 2/10\n",
      "3/3 [==============================] - 0s 161ms/step - loss: 1.7397 - accuracy: 0.6033 - val_loss: 1.6925 - val_accuracy: 0.5803\n",
      "Epoch 3/10\n",
      "3/3 [==============================] - 0s 125ms/step - loss: 1.6576 - accuracy: 0.6025 - val_loss: 1.5523 - val_accuracy: 0.5803\n",
      "Epoch 4/10\n",
      "3/3 [==============================] - 1s 171ms/step - loss: 1.4761 - accuracy: 0.6025 - val_loss: 1.3068 - val_accuracy: 0.5803\n",
      "Epoch 5/10\n",
      "3/3 [==============================] - 0s 89ms/step - loss: 1.2289 - accuracy: 0.6025 - val_loss: 1.2125 - val_accuracy: 0.5803\n",
      "Epoch 6/10\n",
      "3/3 [==============================] - 0s 109ms/step - loss: 1.1654 - accuracy: 0.6025 - val_loss: 1.1825 - val_accuracy: 0.5818\n",
      "Epoch 7/10\n",
      "3/3 [==============================] - 0s 99ms/step - loss: 1.1225 - accuracy: 0.6079 - val_loss: 1.1045 - val_accuracy: 0.5883\n",
      "Epoch 8/10\n",
      "3/3 [==============================] - 0s 74ms/step - loss: 1.0121 - accuracy: 0.6251 - val_loss: 0.9686 - val_accuracy: 0.6182\n",
      "Epoch 9/10\n",
      "3/3 [==============================] - 0s 107ms/step - loss: 0.9144 - accuracy: 0.6487 - val_loss: 0.9206 - val_accuracy: 0.6402\n",
      "Epoch 10/10\n",
      "3/3 [==============================] - 0s 81ms/step - loss: 0.8826 - accuracy: 0.6455 - val_loss: 0.9334 - val_accuracy: 0.6371\n"
     ]
    },
    {
     "name": "stderr",
     "output_type": "stream",
     "text": [
      "2024-03-16 15:21:17.341447: I tensorflow/core/grappler/optimizers/custom_graph_optimizer_registry.cc:114] Plugin optimizer for device_type GPU is enabled.\n",
      "2024-03-16 15:21:17.407542: I tensorflow/core/grappler/optimizers/custom_graph_optimizer_registry.cc:114] Plugin optimizer for device_type GPU is enabled.\n",
      "2024-03-16 15:21:17.622595: I tensorflow/core/grappler/optimizers/custom_graph_optimizer_registry.cc:114] Plugin optimizer for device_type GPU is enabled.\n"
     ]
    },
    {
     "name": "stdout",
     "output_type": "stream",
     "text": [
      "1/1 [==============================] - 1s 701ms/step\n"
     ]
    },
    {
     "name": "stderr",
     "output_type": "stream",
     "text": [
      "/Users/venessa/Desktop/5342project/venv/lib/python3.8/site-packages/sklearn/metrics/_classification.py:1471: UndefinedMetricWarning: Precision and F-score are ill-defined and being set to 0.0 in labels with no predicted samples. Use `zero_division` parameter to control this behavior.\n",
      "  _warn_prf(average, modifier, msg_start, len(result))\n",
      "/Users/venessa/Desktop/5342project/venv/lib/python3.8/site-packages/keras/src/optimizers/legacy/adam.py:118: UserWarning: The `lr` argument is deprecated, use `learning_rate` instead.\n",
      "  super().__init__(name, **kwargs)\n"
     ]
    },
    {
     "name": "stdout",
     "output_type": "stream",
     "text": [
      "Epoch 1/10\n"
     ]
    },
    {
     "name": "stderr",
     "output_type": "stream",
     "text": [
      "2024-03-16 15:21:18.670978: I tensorflow/core/grappler/optimizers/custom_graph_optimizer_registry.cc:114] Plugin optimizer for device_type GPU is enabled.\n",
      "2024-03-16 15:21:18.840645: I tensorflow/core/grappler/optimizers/custom_graph_optimizer_registry.cc:114] Plugin optimizer for device_type GPU is enabled.\n",
      "2024-03-16 15:21:19.063997: I tensorflow/core/grappler/optimizers/custom_graph_optimizer_registry.cc:114] Plugin optimizer for device_type GPU is enabled.\n",
      "2024-03-16 15:21:19.406574: I tensorflow/core/grappler/optimizers/custom_graph_optimizer_registry.cc:114] Plugin optimizer for device_type GPU is enabled.\n",
      "2024-03-16 15:21:19.827756: I tensorflow/core/grappler/optimizers/custom_graph_optimizer_registry.cc:114] Plugin optimizer for device_type GPU is enabled.\n"
     ]
    },
    {
     "name": "stdout",
     "output_type": "stream",
     "text": [
      "3/3 [==============================] - ETA: 0s - loss: 1.7799 - accuracy: 0.4525"
     ]
    },
    {
     "name": "stderr",
     "output_type": "stream",
     "text": [
      "2024-03-16 15:21:20.820064: I tensorflow/core/grappler/optimizers/custom_graph_optimizer_registry.cc:114] Plugin optimizer for device_type GPU is enabled.\n",
      "2024-03-16 15:21:20.908680: I tensorflow/core/grappler/optimizers/custom_graph_optimizer_registry.cc:114] Plugin optimizer for device_type GPU is enabled.\n",
      "2024-03-16 15:21:21.120650: I tensorflow/core/grappler/optimizers/custom_graph_optimizer_registry.cc:114] Plugin optimizer for device_type GPU is enabled.\n"
     ]
    },
    {
     "name": "stdout",
     "output_type": "stream",
     "text": [
      "3/3 [==============================] - 3s 604ms/step - loss: 1.7799 - accuracy: 0.4525 - val_loss: 1.7470 - val_accuracy: 0.6295\n",
      "Epoch 2/10\n",
      "3/3 [==============================] - 1s 258ms/step - loss: 1.7307 - accuracy: 0.5906 - val_loss: 1.6474 - val_accuracy: 0.6284\n",
      "Epoch 3/10\n",
      "3/3 [==============================] - 0s 172ms/step - loss: 1.5964 - accuracy: 0.5904 - val_loss: 1.3668 - val_accuracy: 0.6284\n",
      "Epoch 4/10\n",
      "3/3 [==============================] - 0s 129ms/step - loss: 1.3390 - accuracy: 0.5904 - val_loss: 1.1118 - val_accuracy: 0.6284\n",
      "Epoch 5/10\n",
      "3/3 [==============================] - 0s 116ms/step - loss: 1.1965 - accuracy: 0.5905 - val_loss: 0.9924 - val_accuracy: 0.6428\n",
      "Epoch 6/10\n",
      "3/3 [==============================] - 0s 99ms/step - loss: 1.0900 - accuracy: 0.6190 - val_loss: 0.9825 - val_accuracy: 0.6716\n",
      "Epoch 7/10\n",
      "3/3 [==============================] - 0s 71ms/step - loss: 1.0443 - accuracy: 0.6339 - val_loss: 0.8832 - val_accuracy: 0.6739\n",
      "Epoch 8/10\n",
      "3/3 [==============================] - 0s 127ms/step - loss: 0.9725 - accuracy: 0.6406 - val_loss: 0.8784 - val_accuracy: 0.6761\n",
      "Epoch 9/10\n",
      "3/3 [==============================] - 0s 101ms/step - loss: 0.9358 - accuracy: 0.6457 - val_loss: 0.9040 - val_accuracy: 0.6534\n",
      "Epoch 10/10\n",
      "3/3 [==============================] - 0s 80ms/step - loss: 0.9185 - accuracy: 0.6354 - val_loss: 0.8495 - val_accuracy: 0.6746\n"
     ]
    },
    {
     "name": "stderr",
     "output_type": "stream",
     "text": [
      "2024-03-16 15:21:24.680187: I tensorflow/core/grappler/optimizers/custom_graph_optimizer_registry.cc:114] Plugin optimizer for device_type GPU is enabled.\n",
      "2024-03-16 15:21:24.743912: I tensorflow/core/grappler/optimizers/custom_graph_optimizer_registry.cc:114] Plugin optimizer for device_type GPU is enabled.\n",
      "2024-03-16 15:21:24.958729: I tensorflow/core/grappler/optimizers/custom_graph_optimizer_registry.cc:114] Plugin optimizer for device_type GPU is enabled.\n"
     ]
    },
    {
     "name": "stdout",
     "output_type": "stream",
     "text": [
      "1/1 [==============================] - 1s 696ms/step\n",
      "K-Fold Cross-Validation Results (5 folds):\n",
      "Average Accuracy: 0.6480 ± 0.0251\n",
      "Average Precision: 0.1957 ± 0.0273\n",
      "Average Recall: 0.2934 ± 0.0172\n",
      "Average F1-Score: 0.2185 ± 0.0198\n"
     ]
    },
    {
     "name": "stderr",
     "output_type": "stream",
     "text": [
      "/Users/venessa/Desktop/5342project/venv/lib/python3.8/site-packages/sklearn/metrics/_classification.py:1471: UndefinedMetricWarning: Precision and F-score are ill-defined and being set to 0.0 in labels with no predicted samples. Use `zero_division` parameter to control this behavior.\n",
      "  _warn_prf(average, modifier, msg_start, len(result))\n"
     ]
    }
   ],
   "source": [
    "cross_val_training(EarlyFusionModel, train_visual, train_label, num_folds=5, epochs=10, batch_size=32)"
   ]
  },
  {
   "cell_type": "code",
   "execution_count": 76,
   "metadata": {},
   "outputs": [
    {
     "name": "stdout",
     "output_type": "stream",
     "text": [
      "Epoch 1/10\n"
     ]
    },
    {
     "name": "stderr",
     "output_type": "stream",
     "text": [
      "/Users/venessa/Desktop/5342project/venv/lib/python3.8/site-packages/keras/src/optimizers/legacy/adam.py:118: UserWarning: The `lr` argument is deprecated, use `learning_rate` instead.\n",
      "  super().__init__(name, **kwargs)\n",
      "2024-03-16 15:22:44.197177: I tensorflow/core/grappler/optimizers/custom_graph_optimizer_registry.cc:114] Plugin optimizer for device_type GPU is enabled.\n",
      "2024-03-16 15:22:44.362592: I tensorflow/core/grappler/optimizers/custom_graph_optimizer_registry.cc:114] Plugin optimizer for device_type GPU is enabled.\n",
      "2024-03-16 15:22:44.668789: I tensorflow/core/grappler/optimizers/custom_graph_optimizer_registry.cc:114] Plugin optimizer for device_type GPU is enabled.\n",
      "2024-03-16 15:22:45.035232: I tensorflow/core/grappler/optimizers/custom_graph_optimizer_registry.cc:114] Plugin optimizer for device_type GPU is enabled.\n",
      "2024-03-16 15:22:45.465208: I tensorflow/core/grappler/optimizers/custom_graph_optimizer_registry.cc:114] Plugin optimizer for device_type GPU is enabled.\n"
     ]
    },
    {
     "name": "stdout",
     "output_type": "stream",
     "text": [
      "3/3 [==============================] - ETA: 0s - loss: 1.7438 - accuracy: 0.4625"
     ]
    },
    {
     "name": "stderr",
     "output_type": "stream",
     "text": [
      "2024-03-16 15:22:46.530273: I tensorflow/core/grappler/optimizers/custom_graph_optimizer_registry.cc:114] Plugin optimizer for device_type GPU is enabled.\n",
      "2024-03-16 15:22:46.621736: I tensorflow/core/grappler/optimizers/custom_graph_optimizer_registry.cc:114] Plugin optimizer for device_type GPU is enabled.\n",
      "2024-03-16 15:22:46.843969: I tensorflow/core/grappler/optimizers/custom_graph_optimizer_registry.cc:114] Plugin optimizer for device_type GPU is enabled.\n"
     ]
    },
    {
     "name": "stdout",
     "output_type": "stream",
     "text": [
      "3/3 [==============================] - 4s 626ms/step - loss: 1.7438 - accuracy: 0.4625 - val_loss: 1.6604 - val_accuracy: 0.7034\n",
      "Epoch 2/10\n",
      "3/3 [==============================] - 1s 215ms/step - loss: 1.6060 - accuracy: 0.7540 - val_loss: 1.5406 - val_accuracy: 0.7837\n",
      "Epoch 3/10\n",
      "3/3 [==============================] - 1s 200ms/step - loss: 1.4790 - accuracy: 0.7912 - val_loss: 1.4069 - val_accuracy: 0.8019\n",
      "Epoch 4/10\n",
      "3/3 [==============================] - 0s 141ms/step - loss: 1.3309 - accuracy: 0.8095 - val_loss: 1.2274 - val_accuracy: 0.8170\n",
      "Epoch 5/10\n",
      "3/3 [==============================] - 0s 109ms/step - loss: 1.1047 - accuracy: 0.8226 - val_loss: 0.9307 - val_accuracy: 0.8106\n",
      "Epoch 6/10\n",
      "3/3 [==============================] - 0s 97ms/step - loss: 0.7407 - accuracy: 0.8317 - val_loss: 0.6309 - val_accuracy: 0.7917\n",
      "Epoch 7/10\n",
      "3/3 [==============================] - 0s 105ms/step - loss: 0.5095 - accuracy: 0.8366 - val_loss: 0.5697 - val_accuracy: 0.8106\n",
      "Epoch 8/10\n",
      "3/3 [==============================] - 0s 55ms/step - loss: 0.4485 - accuracy: 0.8527 - val_loss: 0.5246 - val_accuracy: 0.8390\n",
      "Epoch 9/10\n",
      "3/3 [==============================] - 0s 57ms/step - loss: 0.4110 - accuracy: 0.8615 - val_loss: 0.5029 - val_accuracy: 0.8398\n",
      "Epoch 10/10\n",
      "3/3 [==============================] - 0s 61ms/step - loss: 0.3866 - accuracy: 0.8693 - val_loss: 0.4820 - val_accuracy: 0.8428\n"
     ]
    },
    {
     "name": "stderr",
     "output_type": "stream",
     "text": [
      "2024-03-16 15:22:50.832918: I tensorflow/core/grappler/optimizers/custom_graph_optimizer_registry.cc:114] Plugin optimizer for device_type GPU is enabled.\n",
      "2024-03-16 15:22:50.907444: I tensorflow/core/grappler/optimizers/custom_graph_optimizer_registry.cc:114] Plugin optimizer for device_type GPU is enabled.\n",
      "2024-03-16 15:22:51.167972: I tensorflow/core/grappler/optimizers/custom_graph_optimizer_registry.cc:114] Plugin optimizer for device_type GPU is enabled.\n"
     ]
    },
    {
     "name": "stdout",
     "output_type": "stream",
     "text": [
      "1/1 [==============================] - 1s 1s/step\n",
      "Epoch 1/10\n"
     ]
    },
    {
     "name": "stderr",
     "output_type": "stream",
     "text": [
      "/Users/venessa/Desktop/5342project/venv/lib/python3.8/site-packages/keras/src/optimizers/legacy/adam.py:118: UserWarning: The `lr` argument is deprecated, use `learning_rate` instead.\n",
      "  super().__init__(name, **kwargs)\n",
      "2024-03-16 15:22:52.183187: I tensorflow/core/grappler/optimizers/custom_graph_optimizer_registry.cc:114] Plugin optimizer for device_type GPU is enabled.\n",
      "2024-03-16 15:22:52.346771: I tensorflow/core/grappler/optimizers/custom_graph_optimizer_registry.cc:114] Plugin optimizer for device_type GPU is enabled.\n",
      "2024-03-16 15:22:52.574400: I tensorflow/core/grappler/optimizers/custom_graph_optimizer_registry.cc:114] Plugin optimizer for device_type GPU is enabled.\n",
      "2024-03-16 15:22:52.924163: I tensorflow/core/grappler/optimizers/custom_graph_optimizer_registry.cc:114] Plugin optimizer for device_type GPU is enabled.\n",
      "2024-03-16 15:22:53.335580: I tensorflow/core/grappler/optimizers/custom_graph_optimizer_registry.cc:114] Plugin optimizer for device_type GPU is enabled.\n"
     ]
    },
    {
     "name": "stdout",
     "output_type": "stream",
     "text": [
      "3/3 [==============================] - ETA: 0s - loss: 1.7754 - accuracy: 0.4276"
     ]
    },
    {
     "name": "stderr",
     "output_type": "stream",
     "text": [
      "2024-03-16 15:22:54.356831: I tensorflow/core/grappler/optimizers/custom_graph_optimizer_registry.cc:114] Plugin optimizer for device_type GPU is enabled.\n",
      "2024-03-16 15:22:54.433705: I tensorflow/core/grappler/optimizers/custom_graph_optimizer_registry.cc:114] Plugin optimizer for device_type GPU is enabled.\n",
      "2024-03-16 15:22:54.652983: I tensorflow/core/grappler/optimizers/custom_graph_optimizer_registry.cc:114] Plugin optimizer for device_type GPU is enabled.\n"
     ]
    },
    {
     "name": "stdout",
     "output_type": "stream",
     "text": [
      "3/3 [==============================] - 3s 625ms/step - loss: 1.7754 - accuracy: 0.4276 - val_loss: 1.6723 - val_accuracy: 0.6947\n",
      "Epoch 2/10\n",
      "3/3 [==============================] - 1s 197ms/step - loss: 1.6203 - accuracy: 0.7247 - val_loss: 1.5313 - val_accuracy: 0.7822\n",
      "Epoch 3/10\n",
      "3/3 [==============================] - 0s 139ms/step - loss: 1.4585 - accuracy: 0.7949 - val_loss: 1.3457 - val_accuracy: 0.8042\n",
      "Epoch 4/10\n",
      "3/3 [==============================] - 0s 119ms/step - loss: 1.2252 - accuracy: 0.8098 - val_loss: 1.0252 - val_accuracy: 0.8106\n",
      "Epoch 5/10\n",
      "3/3 [==============================] - 0s 125ms/step - loss: 0.8524 - accuracy: 0.8143 - val_loss: 0.6334 - val_accuracy: 0.8049\n",
      "Epoch 6/10\n",
      "3/3 [==============================] - 0s 81ms/step - loss: 0.5976 - accuracy: 0.8173 - val_loss: 0.5288 - val_accuracy: 0.8258\n",
      "Epoch 7/10\n",
      "3/3 [==============================] - 0s 112ms/step - loss: 0.5209 - accuracy: 0.8352 - val_loss: 0.4803 - val_accuracy: 0.8398\n",
      "Epoch 8/10\n",
      "3/3 [==============================] - 0s 83ms/step - loss: 0.4756 - accuracy: 0.8401 - val_loss: 0.4519 - val_accuracy: 0.8424\n",
      "Epoch 9/10\n",
      "3/3 [==============================] - 0s 112ms/step - loss: 0.4406 - accuracy: 0.8486 - val_loss: 0.4229 - val_accuracy: 0.8527\n",
      "Epoch 10/10\n",
      "3/3 [==============================] - 0s 58ms/step - loss: 0.4126 - accuracy: 0.8582 - val_loss: 0.4013 - val_accuracy: 0.8598\n"
     ]
    },
    {
     "name": "stderr",
     "output_type": "stream",
     "text": [
      "2024-03-16 15:22:58.051286: I tensorflow/core/grappler/optimizers/custom_graph_optimizer_registry.cc:114] Plugin optimizer for device_type GPU is enabled.\n",
      "2024-03-16 15:22:58.115793: I tensorflow/core/grappler/optimizers/custom_graph_optimizer_registry.cc:114] Plugin optimizer for device_type GPU is enabled.\n",
      "2024-03-16 15:22:58.330473: I tensorflow/core/grappler/optimizers/custom_graph_optimizer_registry.cc:114] Plugin optimizer for device_type GPU is enabled.\n"
     ]
    },
    {
     "name": "stdout",
     "output_type": "stream",
     "text": [
      "1/1 [==============================] - 1s 709ms/step\n",
      "Epoch 1/10\n"
     ]
    },
    {
     "name": "stderr",
     "output_type": "stream",
     "text": [
      "/Users/venessa/Desktop/5342project/venv/lib/python3.8/site-packages/keras/src/optimizers/legacy/adam.py:118: UserWarning: The `lr` argument is deprecated, use `learning_rate` instead.\n",
      "  super().__init__(name, **kwargs)\n",
      "2024-03-16 15:22:59.377512: I tensorflow/core/grappler/optimizers/custom_graph_optimizer_registry.cc:114] Plugin optimizer for device_type GPU is enabled.\n",
      "2024-03-16 15:22:59.544205: I tensorflow/core/grappler/optimizers/custom_graph_optimizer_registry.cc:114] Plugin optimizer for device_type GPU is enabled.\n",
      "2024-03-16 15:22:59.770723: I tensorflow/core/grappler/optimizers/custom_graph_optimizer_registry.cc:114] Plugin optimizer for device_type GPU is enabled.\n",
      "2024-03-16 15:23:00.154303: I tensorflow/core/grappler/optimizers/custom_graph_optimizer_registry.cc:114] Plugin optimizer for device_type GPU is enabled.\n",
      "2024-03-16 15:23:00.574413: I tensorflow/core/grappler/optimizers/custom_graph_optimizer_registry.cc:114] Plugin optimizer for device_type GPU is enabled.\n"
     ]
    },
    {
     "name": "stdout",
     "output_type": "stream",
     "text": [
      "3/3 [==============================] - ETA: 0s - loss: 1.7792 - accuracy: 0.4205"
     ]
    },
    {
     "name": "stderr",
     "output_type": "stream",
     "text": [
      "2024-03-16 15:23:01.598825: I tensorflow/core/grappler/optimizers/custom_graph_optimizer_registry.cc:114] Plugin optimizer for device_type GPU is enabled.\n",
      "2024-03-16 15:23:01.674212: I tensorflow/core/grappler/optimizers/custom_graph_optimizer_registry.cc:114] Plugin optimizer for device_type GPU is enabled.\n",
      "2024-03-16 15:23:01.888441: I tensorflow/core/grappler/optimizers/custom_graph_optimizer_registry.cc:114] Plugin optimizer for device_type GPU is enabled.\n"
     ]
    },
    {
     "name": "stdout",
     "output_type": "stream",
     "text": [
      "3/3 [==============================] - 3s 618ms/step - loss: 1.7792 - accuracy: 0.4205 - val_loss: 1.6690 - val_accuracy: 0.7091\n",
      "Epoch 2/10\n",
      "3/3 [==============================] - 0s 133ms/step - loss: 1.6287 - accuracy: 0.7444 - val_loss: 1.5197 - val_accuracy: 0.7716\n",
      "Epoch 3/10\n",
      "3/3 [==============================] - 0s 131ms/step - loss: 1.4635 - accuracy: 0.7903 - val_loss: 1.3212 - val_accuracy: 0.7943\n",
      "Epoch 4/10\n",
      "3/3 [==============================] - 0s 161ms/step - loss: 1.2134 - accuracy: 0.8020 - val_loss: 0.9940 - val_accuracy: 0.7951\n",
      "Epoch 5/10\n",
      "3/3 [==============================] - 0s 121ms/step - loss: 0.8265 - accuracy: 0.8043 - val_loss: 0.6831 - val_accuracy: 0.7951\n",
      "Epoch 6/10\n",
      "3/3 [==============================] - 0s 98ms/step - loss: 0.5963 - accuracy: 0.8097 - val_loss: 0.6095 - val_accuracy: 0.8027\n",
      "Epoch 7/10\n",
      "3/3 [==============================] - 0s 89ms/step - loss: 0.5247 - accuracy: 0.8280 - val_loss: 0.5590 - val_accuracy: 0.8140\n",
      "Epoch 8/10\n",
      "3/3 [==============================] - 0s 71ms/step - loss: 0.4803 - accuracy: 0.8482 - val_loss: 0.5165 - val_accuracy: 0.8258\n",
      "Epoch 9/10\n",
      "3/3 [==============================] - 0s 124ms/step - loss: 0.4486 - accuracy: 0.8592 - val_loss: 0.4839 - val_accuracy: 0.8375\n",
      "Epoch 10/10\n",
      "3/3 [==============================] - 0s 72ms/step - loss: 0.4202 - accuracy: 0.8663 - val_loss: 0.4542 - val_accuracy: 0.8466\n"
     ]
    },
    {
     "name": "stderr",
     "output_type": "stream",
     "text": [
      "2024-03-16 15:23:05.199168: I tensorflow/core/grappler/optimizers/custom_graph_optimizer_registry.cc:114] Plugin optimizer for device_type GPU is enabled.\n",
      "2024-03-16 15:23:05.263944: I tensorflow/core/grappler/optimizers/custom_graph_optimizer_registry.cc:114] Plugin optimizer for device_type GPU is enabled.\n",
      "2024-03-16 15:23:05.478357: I tensorflow/core/grappler/optimizers/custom_graph_optimizer_registry.cc:114] Plugin optimizer for device_type GPU is enabled.\n"
     ]
    },
    {
     "name": "stdout",
     "output_type": "stream",
     "text": [
      "1/1 [==============================] - 1s 725ms/step\n",
      "Epoch 1/10\n"
     ]
    },
    {
     "name": "stderr",
     "output_type": "stream",
     "text": [
      "/Users/venessa/Desktop/5342project/venv/lib/python3.8/site-packages/keras/src/optimizers/legacy/adam.py:118: UserWarning: The `lr` argument is deprecated, use `learning_rate` instead.\n",
      "  super().__init__(name, **kwargs)\n",
      "2024-03-16 15:23:06.559653: I tensorflow/core/grappler/optimizers/custom_graph_optimizer_registry.cc:114] Plugin optimizer for device_type GPU is enabled.\n",
      "2024-03-16 15:23:06.724373: I tensorflow/core/grappler/optimizers/custom_graph_optimizer_registry.cc:114] Plugin optimizer for device_type GPU is enabled.\n",
      "2024-03-16 15:23:06.953937: I tensorflow/core/grappler/optimizers/custom_graph_optimizer_registry.cc:114] Plugin optimizer for device_type GPU is enabled.\n",
      "2024-03-16 15:23:07.318920: I tensorflow/core/grappler/optimizers/custom_graph_optimizer_registry.cc:114] Plugin optimizer for device_type GPU is enabled.\n",
      "2024-03-16 15:23:07.746892: I tensorflow/core/grappler/optimizers/custom_graph_optimizer_registry.cc:114] Plugin optimizer for device_type GPU is enabled.\n"
     ]
    },
    {
     "name": "stdout",
     "output_type": "stream",
     "text": [
      "3/3 [==============================] - ETA: 0s - loss: 1.7476 - accuracy: 0.4261"
     ]
    },
    {
     "name": "stderr",
     "output_type": "stream",
     "text": [
      "2024-03-16 15:23:08.886531: I tensorflow/core/grappler/optimizers/custom_graph_optimizer_registry.cc:114] Plugin optimizer for device_type GPU is enabled.\n",
      "2024-03-16 15:23:08.972236: I tensorflow/core/grappler/optimizers/custom_graph_optimizer_registry.cc:114] Plugin optimizer for device_type GPU is enabled.\n",
      "2024-03-16 15:23:09.188486: I tensorflow/core/grappler/optimizers/custom_graph_optimizer_registry.cc:114] Plugin optimizer for device_type GPU is enabled.\n"
     ]
    },
    {
     "name": "stdout",
     "output_type": "stream",
     "text": [
      "3/3 [==============================] - 4s 656ms/step - loss: 1.7476 - accuracy: 0.4261 - val_loss: 1.6888 - val_accuracy: 0.6739\n",
      "Epoch 2/10\n",
      "3/3 [==============================] - 1s 196ms/step - loss: 1.6039 - accuracy: 0.7058 - val_loss: 1.5791 - val_accuracy: 0.7527\n",
      "Epoch 3/10\n",
      "3/3 [==============================] - 0s 144ms/step - loss: 1.4680 - accuracy: 0.7711 - val_loss: 1.4530 - val_accuracy: 0.8042\n",
      "Epoch 4/10\n",
      "3/3 [==============================] - 0s 80ms/step - loss: 1.3093 - accuracy: 0.8079 - val_loss: 1.2611 - val_accuracy: 0.8254\n",
      "Epoch 5/10\n",
      "3/3 [==============================] - 0s 149ms/step - loss: 1.0688 - accuracy: 0.8275 - val_loss: 0.8942 - val_accuracy: 0.8322\n",
      "Epoch 6/10\n",
      "3/3 [==============================] - 0s 89ms/step - loss: 0.7242 - accuracy: 0.8294 - val_loss: 0.5691 - val_accuracy: 0.8288\n",
      "Epoch 7/10\n",
      "3/3 [==============================] - 0s 106ms/step - loss: 0.5422 - accuracy: 0.8318 - val_loss: 0.4805 - val_accuracy: 0.8455\n",
      "Epoch 8/10\n",
      "3/3 [==============================] - 0s 107ms/step - loss: 0.4798 - accuracy: 0.8460 - val_loss: 0.4419 - val_accuracy: 0.8568\n",
      "Epoch 9/10\n",
      "3/3 [==============================] - 0s 55ms/step - loss: 0.4459 - accuracy: 0.8543 - val_loss: 0.4174 - val_accuracy: 0.8629\n",
      "Epoch 10/10\n",
      "3/3 [==============================] - 0s 108ms/step - loss: 0.4164 - accuracy: 0.8598 - val_loss: 0.3918 - val_accuracy: 0.8701\n"
     ]
    },
    {
     "name": "stderr",
     "output_type": "stream",
     "text": [
      "2024-03-16 15:23:12.639211: I tensorflow/core/grappler/optimizers/custom_graph_optimizer_registry.cc:114] Plugin optimizer for device_type GPU is enabled.\n",
      "2024-03-16 15:23:12.702516: I tensorflow/core/grappler/optimizers/custom_graph_optimizer_registry.cc:114] Plugin optimizer for device_type GPU is enabled.\n",
      "2024-03-16 15:23:12.912375: I tensorflow/core/grappler/optimizers/custom_graph_optimizer_registry.cc:114] Plugin optimizer for device_type GPU is enabled.\n"
     ]
    },
    {
     "name": "stdout",
     "output_type": "stream",
     "text": [
      "1/1 [==============================] - 1s 691ms/step\n",
      "Epoch 1/10\n"
     ]
    },
    {
     "name": "stderr",
     "output_type": "stream",
     "text": [
      "/Users/venessa/Desktop/5342project/venv/lib/python3.8/site-packages/keras/src/optimizers/legacy/adam.py:118: UserWarning: The `lr` argument is deprecated, use `learning_rate` instead.\n",
      "  super().__init__(name, **kwargs)\n",
      "2024-03-16 15:23:14.561231: I tensorflow/core/grappler/optimizers/custom_graph_optimizer_registry.cc:114] Plugin optimizer for device_type GPU is enabled.\n",
      "2024-03-16 15:23:14.728195: I tensorflow/core/grappler/optimizers/custom_graph_optimizer_registry.cc:114] Plugin optimizer for device_type GPU is enabled.\n",
      "2024-03-16 15:23:15.054838: I tensorflow/core/grappler/optimizers/custom_graph_optimizer_registry.cc:114] Plugin optimizer for device_type GPU is enabled.\n",
      "2024-03-16 15:23:15.465256: I tensorflow/core/grappler/optimizers/custom_graph_optimizer_registry.cc:114] Plugin optimizer for device_type GPU is enabled.\n",
      "2024-03-16 15:23:15.882501: I tensorflow/core/grappler/optimizers/custom_graph_optimizer_registry.cc:114] Plugin optimizer for device_type GPU is enabled.\n"
     ]
    },
    {
     "name": "stdout",
     "output_type": "stream",
     "text": [
      "3/3 [==============================] - ETA: 0s - loss: 1.7508 - accuracy: 0.4422"
     ]
    },
    {
     "name": "stderr",
     "output_type": "stream",
     "text": [
      "2024-03-16 15:23:16.992916: I tensorflow/core/grappler/optimizers/custom_graph_optimizer_registry.cc:114] Plugin optimizer for device_type GPU is enabled.\n",
      "2024-03-16 15:23:17.069941: I tensorflow/core/grappler/optimizers/custom_graph_optimizer_registry.cc:114] Plugin optimizer for device_type GPU is enabled.\n",
      "2024-03-16 15:23:17.282402: I tensorflow/core/grappler/optimizers/custom_graph_optimizer_registry.cc:114] Plugin optimizer for device_type GPU is enabled.\n"
     ]
    },
    {
     "name": "stdout",
     "output_type": "stream",
     "text": [
      "3/3 [==============================] - 4s 666ms/step - loss: 1.7508 - accuracy: 0.4422 - val_loss: 1.6439 - val_accuracy: 0.7352\n",
      "Epoch 2/10\n",
      "3/3 [==============================] - 0s 137ms/step - loss: 1.5977 - accuracy: 0.7555 - val_loss: 1.5083 - val_accuracy: 0.8015\n",
      "Epoch 3/10\n",
      "3/3 [==============================] - 0s 151ms/step - loss: 1.4500 - accuracy: 0.8024 - val_loss: 1.3408 - val_accuracy: 0.8129\n",
      "Epoch 4/10\n",
      "3/3 [==============================] - 0s 141ms/step - loss: 1.2508 - accuracy: 0.8153 - val_loss: 1.0640 - val_accuracy: 0.8098\n",
      "Epoch 5/10\n",
      "3/3 [==============================] - 0s 68ms/step - loss: 0.9147 - accuracy: 0.8208 - val_loss: 0.7055 - val_accuracy: 0.8178\n",
      "Epoch 6/10\n",
      "3/3 [==============================] - 0s 149ms/step - loss: 0.6191 - accuracy: 0.8227 - val_loss: 0.5838 - val_accuracy: 0.8178\n",
      "Epoch 7/10\n",
      "3/3 [==============================] - 0s 74ms/step - loss: 0.5257 - accuracy: 0.8340 - val_loss: 0.5245 - val_accuracy: 0.8345\n",
      "Epoch 8/10\n",
      "3/3 [==============================] - 0s 87ms/step - loss: 0.4727 - accuracy: 0.8471 - val_loss: 0.4808 - val_accuracy: 0.8485\n",
      "Epoch 9/10\n",
      "3/3 [==============================] - 0s 98ms/step - loss: 0.4357 - accuracy: 0.8538 - val_loss: 0.4527 - val_accuracy: 0.8580\n",
      "Epoch 10/10\n",
      "3/3 [==============================] - 0s 57ms/step - loss: 0.4093 - accuracy: 0.8611 - val_loss: 0.4315 - val_accuracy: 0.8614\n"
     ]
    },
    {
     "name": "stderr",
     "output_type": "stream",
     "text": [
      "2024-03-16 15:23:20.499783: I tensorflow/core/grappler/optimizers/custom_graph_optimizer_registry.cc:114] Plugin optimizer for device_type GPU is enabled.\n",
      "2024-03-16 15:23:20.568347: I tensorflow/core/grappler/optimizers/custom_graph_optimizer_registry.cc:114] Plugin optimizer for device_type GPU is enabled.\n",
      "2024-03-16 15:23:20.791602: I tensorflow/core/grappler/optimizers/custom_graph_optimizer_registry.cc:114] Plugin optimizer for device_type GPU is enabled.\n"
     ]
    },
    {
     "name": "stdout",
     "output_type": "stream",
     "text": [
      "1/1 [==============================] - 1s 713ms/step\n",
      "K-Fold Cross-Validation Results (5 folds):\n",
      "Average Accuracy: 0.8561 ± 0.0100\n",
      "Average Precision: 0.7445 ± 0.0094\n",
      "Average Recall: 0.7509 ± 0.0232\n",
      "Average F1-Score: 0.7443 ± 0.0133\n"
     ]
    }
   ],
   "source": [
    "cross_val_training(EarlyFusionModel, train_text, train_label, num_folds=5, epochs=10, batch_size=32)"
   ]
  },
  {
   "cell_type": "code",
   "execution_count": 78,
   "metadata": {},
   "outputs": [
    {
     "name": "stdout",
     "output_type": "stream",
     "text": [
      "Epoch 1/10\n"
     ]
    },
    {
     "name": "stderr",
     "output_type": "stream",
     "text": [
      "/Users/venessa/Desktop/5342project/venv/lib/python3.8/site-packages/keras/src/optimizers/legacy/adam.py:118: UserWarning: The `lr` argument is deprecated, use `learning_rate` instead.\n",
      "  super().__init__(name, **kwargs)\n",
      "2024-03-16 15:28:55.763612: I tensorflow/core/grappler/optimizers/custom_graph_optimizer_registry.cc:114] Plugin optimizer for device_type GPU is enabled.\n",
      "2024-03-16 15:28:55.952965: I tensorflow/core/grappler/optimizers/custom_graph_optimizer_registry.cc:114] Plugin optimizer for device_type GPU is enabled.\n",
      "2024-03-16 15:28:56.191874: I tensorflow/core/grappler/optimizers/custom_graph_optimizer_registry.cc:114] Plugin optimizer for device_type GPU is enabled.\n",
      "2024-03-16 15:28:56.685013: I tensorflow/core/grappler/optimizers/custom_graph_optimizer_registry.cc:114] Plugin optimizer for device_type GPU is enabled.\n",
      "2024-03-16 15:28:57.112980: I tensorflow/core/grappler/optimizers/custom_graph_optimizer_registry.cc:114] Plugin optimizer for device_type GPU is enabled.\n"
     ]
    },
    {
     "name": "stdout",
     "output_type": "stream",
     "text": [
      "4/4 [==============================] - 3s 284ms/step - loss: 1.7350 - accuracy: 0.4908\n",
      "Epoch 2/10\n",
      "4/4 [==============================] - 1s 155ms/step - loss: 1.5545 - accuracy: 0.7670\n",
      "Epoch 3/10\n",
      "4/4 [==============================] - 0s 116ms/step - loss: 1.3612 - accuracy: 0.7997\n",
      "Epoch 4/10\n",
      "4/4 [==============================] - 0s 90ms/step - loss: 1.0152 - accuracy: 0.8158\n",
      "Epoch 5/10\n",
      "4/4 [==============================] - 0s 65ms/step - loss: 0.5962 - accuracy: 0.8242\n",
      "Epoch 6/10\n",
      "4/4 [==============================] - 0s 97ms/step - loss: 0.4972 - accuracy: 0.8352\n",
      "Epoch 7/10\n",
      "4/4 [==============================] - 0s 71ms/step - loss: 0.4454 - accuracy: 0.8505\n",
      "Epoch 8/10\n",
      "4/4 [==============================] - 0s 51ms/step - loss: 0.4104 - accuracy: 0.8609\n",
      "Epoch 9/10\n",
      "4/4 [==============================] - 0s 49ms/step - loss: 0.3779 - accuracy: 0.8721\n",
      "Epoch 10/10\n",
      "4/4 [==============================] - 0s 49ms/step - loss: 0.3460 - accuracy: 0.8858\n"
     ]
    },
    {
     "name": "stderr",
     "output_type": "stream",
     "text": [
      "2024-03-16 15:29:01.360368: I tensorflow/core/grappler/optimizers/custom_graph_optimizer_registry.cc:114] Plugin optimizer for device_type GPU is enabled.\n",
      "2024-03-16 15:29:01.423680: I tensorflow/core/grappler/optimizers/custom_graph_optimizer_registry.cc:114] Plugin optimizer for device_type GPU is enabled.\n",
      "2024-03-16 15:29:01.635429: I tensorflow/core/grappler/optimizers/custom_graph_optimizer_registry.cc:114] Plugin optimizer for device_type GPU is enabled.\n"
     ]
    },
    {
     "name": "stdout",
     "output_type": "stream",
     "text": [
      "1/1 [==============================] - 1s 687ms/step\n",
      "Test Metrics for text:\n",
      "Accuracy: 0.7674\n",
      "Precision: 0.6824\n",
      "Recall: 0.5699\n",
      "F1 Score: 0.6011\n"
     ]
    }
   ],
   "source": [
    "# Train and evaluate based on train and test data\n",
    "# Instantiate the model\n",
    "early_fusion_model = EarlyFusionModel(input_shape=train_text.shape[1:], num_classes=train_label.shape[2])\n",
    "\n",
    "# Compile the model\n",
    "early_fusion_model.compile(lr=0.001)\n",
    "\n",
    "# Train and evaluate on the test dataset\n",
    "history, test_metrics = early_fusion_model.train_and_evaluate_on_test(train_text, train_label, test_text, test_label, epochs=10, batch_size=32)\n",
    "\n",
    "# Print the test metrics\n",
    "print(\"Test Metrics for text:\")\n",
    "print(f\"Accuracy: {test_metrics['accuracy']:.4f}\")\n",
    "print(f\"Precision: {test_metrics['precision']:.4f}\")\n",
    "print(f\"Recall: {test_metrics['recall']:.4f}\")\n",
    "print(f\"F1 Score: {test_metrics['f1_score']:.4f}\")\n"
   ]
  },
  {
   "cell_type": "code",
   "execution_count": 79,
   "metadata": {},
   "outputs": [
    {
     "name": "stdout",
     "output_type": "stream",
     "text": [
      "Epoch 1/10\n"
     ]
    },
    {
     "name": "stderr",
     "output_type": "stream",
     "text": [
      "/Users/venessa/Desktop/5342project/venv/lib/python3.8/site-packages/keras/src/optimizers/legacy/adam.py:118: UserWarning: The `lr` argument is deprecated, use `learning_rate` instead.\n",
      "  super().__init__(name, **kwargs)\n",
      "2024-03-16 15:29:19.002007: I tensorflow/core/grappler/optimizers/custom_graph_optimizer_registry.cc:114] Plugin optimizer for device_type GPU is enabled.\n",
      "2024-03-16 15:29:19.206458: I tensorflow/core/grappler/optimizers/custom_graph_optimizer_registry.cc:114] Plugin optimizer for device_type GPU is enabled.\n",
      "2024-03-16 15:29:19.534450: I tensorflow/core/grappler/optimizers/custom_graph_optimizer_registry.cc:114] Plugin optimizer for device_type GPU is enabled.\n",
      "2024-03-16 15:29:20.015969: I tensorflow/core/grappler/optimizers/custom_graph_optimizer_registry.cc:114] Plugin optimizer for device_type GPU is enabled.\n",
      "2024-03-16 15:29:20.462083: I tensorflow/core/grappler/optimizers/custom_graph_optimizer_registry.cc:114] Plugin optimizer for device_type GPU is enabled.\n"
     ]
    },
    {
     "name": "stdout",
     "output_type": "stream",
     "text": [
      "4/4 [==============================] - 4s 312ms/step - loss: 1.7700 - accuracy: 0.4690\n",
      "Epoch 2/10\n",
      "4/4 [==============================] - 1s 194ms/step - loss: 1.6635 - accuracy: 0.6039\n",
      "Epoch 3/10\n",
      "4/4 [==============================] - 0s 93ms/step - loss: 1.4158 - accuracy: 0.6021\n",
      "Epoch 4/10\n",
      "4/4 [==============================] - 0s 81ms/step - loss: 1.1188 - accuracy: 0.6089\n",
      "Epoch 5/10\n",
      "4/4 [==============================] - 0s 51ms/step - loss: 0.9897 - accuracy: 0.6407\n",
      "Epoch 6/10\n",
      "4/4 [==============================] - 0s 76ms/step - loss: 0.8986 - accuracy: 0.6642\n",
      "Epoch 7/10\n",
      "4/4 [==============================] - 0s 58ms/step - loss: 0.8717 - accuracy: 0.6721\n",
      "Epoch 8/10\n",
      "4/4 [==============================] - 0s 53ms/step - loss: 0.8383 - accuracy: 0.6793\n",
      "Epoch 9/10\n",
      "4/4 [==============================] - 0s 61ms/step - loss: 0.8123 - accuracy: 0.6870\n",
      "Epoch 10/10\n",
      "4/4 [==============================] - 0s 61ms/step - loss: 0.7883 - accuracy: 0.7036\n"
     ]
    },
    {
     "name": "stderr",
     "output_type": "stream",
     "text": [
      "2024-03-16 15:29:24.967784: I tensorflow/core/grappler/optimizers/custom_graph_optimizer_registry.cc:114] Plugin optimizer for device_type GPU is enabled.\n",
      "2024-03-16 15:29:25.034467: I tensorflow/core/grappler/optimizers/custom_graph_optimizer_registry.cc:114] Plugin optimizer for device_type GPU is enabled.\n",
      "2024-03-16 15:29:25.300778: I tensorflow/core/grappler/optimizers/custom_graph_optimizer_registry.cc:114] Plugin optimizer for device_type GPU is enabled.\n"
     ]
    },
    {
     "name": "stdout",
     "output_type": "stream",
     "text": [
      "1/1 [==============================] - 1s 798ms/step\n",
      "Test Metrics for audio:\n",
      "Accuracy: 0.6666\n",
      "Precision: 0.5647\n",
      "Recall: 0.4334\n",
      "F1 Score: 0.3776\n"
     ]
    }
   ],
   "source": [
    "# Train and evaluate based on train and test data\n",
    "# Instantiate the model\n",
    "early_fusion_model = EarlyFusionModel(input_shape=train_audio.shape[1:], num_classes=train_label.shape[2])\n",
    "\n",
    "# Compile the model\n",
    "early_fusion_model.compile(lr=0.001)\n",
    "\n",
    "# Train and evaluate on the test dataset\n",
    "history, test_metrics = early_fusion_model.train_and_evaluate_on_test(train_audio, train_label, test_audio, test_label, epochs=10, batch_size=32)\n",
    "\n",
    "# Print the test metrics\n",
    "print(\"Test Metrics for audio:\")\n",
    "print(f\"Accuracy: {test_metrics['accuracy']:.4f}\")\n",
    "print(f\"Precision: {test_metrics['precision']:.4f}\")\n",
    "print(f\"Recall: {test_metrics['recall']:.4f}\")\n",
    "print(f\"F1 Score: {test_metrics['f1_score']:.4f}\")\n"
   ]
  },
  {
   "cell_type": "code",
   "execution_count": 81,
   "metadata": {},
   "outputs": [
    {
     "name": "stdout",
     "output_type": "stream",
     "text": [
      "Epoch 1/10\n"
     ]
    },
    {
     "name": "stderr",
     "output_type": "stream",
     "text": [
      "/Users/venessa/Desktop/5342project/venv/lib/python3.8/site-packages/keras/src/optimizers/legacy/adam.py:118: UserWarning: The `lr` argument is deprecated, use `learning_rate` instead.\n",
      "  super().__init__(name, **kwargs)\n",
      "2024-03-16 15:30:02.716937: I tensorflow/core/grappler/optimizers/custom_graph_optimizer_registry.cc:114] Plugin optimizer for device_type GPU is enabled.\n",
      "2024-03-16 15:30:02.920025: I tensorflow/core/grappler/optimizers/custom_graph_optimizer_registry.cc:114] Plugin optimizer for device_type GPU is enabled.\n",
      "2024-03-16 15:30:03.198556: I tensorflow/core/grappler/optimizers/custom_graph_optimizer_registry.cc:114] Plugin optimizer for device_type GPU is enabled.\n",
      "2024-03-16 15:30:03.702355: I tensorflow/core/grappler/optimizers/custom_graph_optimizer_registry.cc:114] Plugin optimizer for device_type GPU is enabled.\n",
      "2024-03-16 15:30:04.132755: I tensorflow/core/grappler/optimizers/custom_graph_optimizer_registry.cc:114] Plugin optimizer for device_type GPU is enabled.\n"
     ]
    },
    {
     "name": "stdout",
     "output_type": "stream",
     "text": [
      "4/4 [==============================] - 4s 320ms/step - loss: 1.7769 - accuracy: 0.4806\n",
      "Epoch 2/10\n",
      "4/4 [==============================] - 0s 110ms/step - loss: 1.7004 - accuracy: 0.5983\n",
      "Epoch 3/10\n",
      "4/4 [==============================] - 0s 110ms/step - loss: 1.4602 - accuracy: 0.5980\n",
      "Epoch 4/10\n",
      "4/4 [==============================] - 0s 109ms/step - loss: 1.1911 - accuracy: 0.5982\n",
      "Epoch 5/10\n",
      "4/4 [==============================] - 0s 79ms/step - loss: 1.1204 - accuracy: 0.6134\n",
      "Epoch 6/10\n",
      "4/4 [==============================] - 0s 56ms/step - loss: 0.9727 - accuracy: 0.6327\n",
      "Epoch 7/10\n",
      "4/4 [==============================] - 0s 49ms/step - loss: 0.9072 - accuracy: 0.6489\n",
      "Epoch 8/10\n",
      "4/4 [==============================] - 0s 53ms/step - loss: 0.9031 - accuracy: 0.6439\n",
      "Epoch 9/10\n",
      "4/4 [==============================] - 0s 48ms/step - loss: 0.8805 - accuracy: 0.6469\n",
      "Epoch 10/10\n",
      "4/4 [==============================] - 0s 84ms/step - loss: 0.8623 - accuracy: 0.6527\n"
     ]
    },
    {
     "name": "stderr",
     "output_type": "stream",
     "text": [
      "2024-03-16 15:30:08.522543: I tensorflow/core/grappler/optimizers/custom_graph_optimizer_registry.cc:114] Plugin optimizer for device_type GPU is enabled.\n",
      "2024-03-16 15:30:08.591542: I tensorflow/core/grappler/optimizers/custom_graph_optimizer_registry.cc:114] Plugin optimizer for device_type GPU is enabled.\n",
      "2024-03-16 15:30:08.801152: I tensorflow/core/grappler/optimizers/custom_graph_optimizer_registry.cc:114] Plugin optimizer for device_type GPU is enabled.\n"
     ]
    },
    {
     "name": "stdout",
     "output_type": "stream",
     "text": [
      "1/1 [==============================] - 1s 690ms/step\n",
      "Test Metrics for video:\n",
      "Accuracy: 0.6381\n",
      "Precision: 0.1871\n",
      "Recall: 0.3037\n",
      "F1 Score: 0.2178\n"
     ]
    },
    {
     "name": "stderr",
     "output_type": "stream",
     "text": [
      "/Users/venessa/Desktop/5342project/venv/lib/python3.8/site-packages/sklearn/metrics/_classification.py:1471: UndefinedMetricWarning: Precision and F-score are ill-defined and being set to 0.0 in labels with no predicted samples. Use `zero_division` parameter to control this behavior.\n",
      "  _warn_prf(average, modifier, msg_start, len(result))\n"
     ]
    }
   ],
   "source": [
    "# Train and evaluate based on train and test data\n",
    "# Instantiate the model\n",
    "early_fusion_model = EarlyFusionModel(input_shape=train_visual.shape[1:], num_classes=train_label.shape[2])\n",
    "\n",
    "# Compile the model\n",
    "early_fusion_model.compile(lr=0.001)\n",
    "\n",
    "# Train and evaluate on the test dataset\n",
    "history, test_metrics = early_fusion_model.train_and_evaluate_on_test(train_visual, train_label, test_visual, test_label, epochs=10, batch_size=32)\n",
    "\n",
    "# Print the test metrics\n",
    "print(\"Test Metrics for video:\")\n",
    "print(f\"Accuracy: {test_metrics['accuracy']:.4f}\")\n",
    "print(f\"Precision: {test_metrics['precision']:.4f}\")\n",
    "print(f\"Recall: {test_metrics['recall']:.4f}\")\n",
    "print(f\"F1 Score: {test_metrics['f1_score']:.4f}\")\n"
   ]
  }
 ],
 "metadata": {
  "kernelspec": {
   "display_name": "venv",
   "language": "python",
   "name": "python3"
  },
  "language_info": {
   "codemirror_mode": {
    "name": "ipython",
    "version": 3
   },
   "file_extension": ".py",
   "mimetype": "text/x-python",
   "name": "python",
   "nbconvert_exporter": "python",
   "pygments_lexer": "ipython3",
   "version": "3.8.18"
  }
 },
 "nbformat": 4,
 "nbformat_minor": 2
}
