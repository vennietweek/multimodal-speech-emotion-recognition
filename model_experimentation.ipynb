{
 "cells": [
  {
   "cell_type": "code",
   "execution_count": 18,
   "metadata": {},
   "outputs": [],
   "source": [
    "import os\n",
    "import sys\n",
    "import copy\n",
    "import pickle\n",
    "import datetime\n",
    "import numpy as np\n",
    "import pandas as pd\n",
    "import tensorflow as tf\n",
    "import matplotlib.pyplot as plt\n",
    "import seaborn as sns\n",
    "import keras.api._v2.keras as keras\n",
    "import keras.backend as K\n",
    "from keras.optimizers.legacy import Adam\n",
    "from keras.optimizers import SGD\n",
    "from keras import callbacks\n",
    "from keras.models import Model\n",
    "from keras.layers import Layer, Dense, Input, Activation, Lambda, BatchNormalization, Conv1D, SpatialDropout1D, add, GlobalAveragePooling1D, LSTM, Dense, concatenate, TimeDistributed, Bidirectional, Dropout, Embedding, Attention, MultiHeadAttention, LayerNormalization, Flatten, Conv2D, MaxPooling2D\n",
    "from keras.activations import sigmoid\n",
    "from sklearn.model_selection import KFold\n",
    "from keras.callbacks import ModelCheckpoint\n",
    "from sklearn.metrics import classification_report, confusion_matrix, precision_recall_fscore_support, accuracy_score\n",
    "import tensorflow as tf\n",
    "from data_load import load_data\n",
    "from basemodel import BaseModel\n",
    "from train import cross_val_training"
   ]
  },
  {
   "cell_type": "code",
   "execution_count": 5,
   "metadata": {},
   "outputs": [],
   "source": [
    "# Reload whenever the source code is changed\n",
    "\n",
    "%load_ext autoreload\n",
    "%autoreload 2"
   ]
  },
  {
   "cell_type": "code",
   "execution_count": 6,
   "metadata": {},
   "outputs": [
    {
     "name": "stdout",
     "output_type": "stream",
     "text": [
      "Number of training samples:  120\n",
      "Number of testing samples:  31\n",
      "Max length of sequences:  110\n",
      "\n",
      "Train text shape: 120 samples, 110 timesteps, 100 features\n",
      "Train audio shape: 120 samples, 110 timesteps, 100 features\n",
      "Train visual shape: 120 samples, 110 timesteps, 512 features\n",
      "\n",
      "Test text shape: 31 samples, 110 timesteps, 100 features\n",
      "Test audio shape: 31 samples, 110 timesteps, 100 features\n",
      "Test visual shape: 31 samples, 110 timesteps, 512 features\n",
      "\n"
     ]
    }
   ],
   "source": [
    "# Load data\n",
    "train_data, train_label, test_data, test_label, train_text, train_audio, train_visual, test_text, test_audio, test_visual = load_data()"
   ]
  },
  {
   "cell_type": "code",
   "execution_count": 81,
   "metadata": {},
   "outputs": [],
   "source": [
    "# Define text-only model\n",
    "\n",
    "class RNNModel(BaseModel):\n",
    "    def build_model(self):\n",
    "        inputs = Input(shape=self.input_shape)\n",
    "        x = Bidirectional(LSTM(64, return_sequences=True))(inputs)\n",
    "        x = Bidirectional(LSTM(64, return_sequences=True))(x)\n",
    "        x = Dropout(0.5)(x)\n",
    "        x = Dense(64, activation='relu')(x)\n",
    "        outputs = Dense(self.num_classes, activation='softmax')(x)\n",
    "        return Model(inputs, outputs)\n"
   ]
  },
  {
   "cell_type": "code",
   "execution_count": 115,
   "metadata": {},
   "outputs": [
    {
     "name": "stderr",
     "output_type": "stream",
     "text": [
      "WARNING:absl:At this time, the v2.11+ optimizer `tf.keras.optimizers.Adam` runs slowly on M1/M2 Macs, please use the legacy Keras optimizer instead, located at `tf.keras.optimizers.legacy.Adam`.\n",
      "WARNING:absl:`lr` is deprecated in Keras optimizer, please use `learning_rate` or use the legacy optimizer, e.g.,tf.keras.optimizers.legacy.Adam.\n",
      "WARNING:absl:There is a known slowdown when using v2.11+ Keras optimizers on M1/M2 Macs. Falling back to the legacy Keras optimizer, i.e., `tf.keras.optimizers.legacy.Adam`.\n"
     ]
    },
    {
     "name": "stdout",
     "output_type": "stream",
     "text": [
      "Epoch 1/10\n"
     ]
    },
    {
     "name": "stderr",
     "output_type": "stream",
     "text": [
      "2024-03-29 11:07:17.246445: I tensorflow/core/grappler/optimizers/custom_graph_optimizer_registry.cc:114] Plugin optimizer for device_type GPU is enabled.\n",
      "2024-03-29 11:07:17.907578: I tensorflow/core/grappler/optimizers/custom_graph_optimizer_registry.cc:114] Plugin optimizer for device_type GPU is enabled.\n",
      "2024-03-29 11:07:17.907892: I tensorflow/core/grappler/optimizers/custom_graph_optimizer_registry.cc:114] Plugin optimizer for device_type GPU is enabled.\n",
      "2024-03-29 11:07:18.451459: I tensorflow/core/grappler/optimizers/custom_graph_optimizer_registry.cc:114] Plugin optimizer for device_type GPU is enabled.\n",
      "2024-03-29 11:07:18.465254: I tensorflow/core/grappler/optimizers/custom_graph_optimizer_registry.cc:114] Plugin optimizer for device_type GPU is enabled.\n",
      "2024-03-29 11:07:19.126688: I tensorflow/core/grappler/optimizers/custom_graph_optimizer_registry.cc:114] Plugin optimizer for device_type GPU is enabled.\n",
      "2024-03-29 11:07:19.153620: I tensorflow/core/grappler/optimizers/custom_graph_optimizer_registry.cc:114] Plugin optimizer for device_type GPU is enabled.\n",
      "2024-03-29 11:07:19.907037: I tensorflow/core/grappler/optimizers/custom_graph_optimizer_registry.cc:114] Plugin optimizer for device_type GPU is enabled.\n",
      "2024-03-29 11:07:19.932475: I tensorflow/core/grappler/optimizers/custom_graph_optimizer_registry.cc:114] Plugin optimizer for device_type GPU is enabled.\n"
     ]
    },
    {
     "name": "stdout",
     "output_type": "stream",
     "text": [
      "3/3 [==============================] - ETA: 0s - loss: 1.7338 - accuracy: 0.4605"
     ]
    },
    {
     "name": "stderr",
     "output_type": "stream",
     "text": [
      "2024-03-29 11:07:22.151785: I tensorflow/core/grappler/optimizers/custom_graph_optimizer_registry.cc:114] Plugin optimizer for device_type GPU is enabled.\n",
      "2024-03-29 11:07:22.366628: I tensorflow/core/grappler/optimizers/custom_graph_optimizer_registry.cc:114] Plugin optimizer for device_type GPU is enabled.\n",
      "2024-03-29 11:07:22.379763: I tensorflow/core/grappler/optimizers/custom_graph_optimizer_registry.cc:114] Plugin optimizer for device_type GPU is enabled.\n",
      "2024-03-29 11:07:22.725248: I tensorflow/core/grappler/optimizers/custom_graph_optimizer_registry.cc:114] Plugin optimizer for device_type GPU is enabled.\n",
      "2024-03-29 11:07:22.736152: I tensorflow/core/grappler/optimizers/custom_graph_optimizer_registry.cc:114] Plugin optimizer for device_type GPU is enabled.\n"
     ]
    },
    {
     "name": "stdout",
     "output_type": "stream",
     "text": [
      "3/3 [==============================] - 8s 1s/step - loss: 1.7338 - accuracy: 0.4605 - val_loss: 1.6005 - val_accuracy: 0.7451\n",
      "Epoch 2/10\n",
      "3/3 [==============================] - 1s 270ms/step - loss: 1.5410 - accuracy: 0.7623 - val_loss: 1.4297 - val_accuracy: 0.7894\n",
      "Epoch 3/10\n",
      "3/3 [==============================] - 1s 228ms/step - loss: 1.3559 - accuracy: 0.8205 - val_loss: 1.2281 - val_accuracy: 0.8314\n",
      "Epoch 4/10\n",
      "3/3 [==============================] - 1s 234ms/step - loss: 1.1181 - accuracy: 0.8499 - val_loss: 0.9078 - val_accuracy: 0.8742\n",
      "Epoch 5/10\n",
      "3/3 [==============================] - 0s 151ms/step - loss: 0.7427 - accuracy: 0.8771 - val_loss: 0.4561 - val_accuracy: 0.8837\n",
      "Epoch 6/10\n",
      "3/3 [==============================] - 1s 255ms/step - loss: 0.4220 - accuracy: 0.8751 - val_loss: 0.3476 - val_accuracy: 0.8777\n",
      "Epoch 7/10\n",
      "3/3 [==============================] - 0s 203ms/step - loss: 0.3472 - accuracy: 0.8793 - val_loss: 0.2980 - val_accuracy: 0.8958\n",
      "Epoch 8/10\n",
      "3/3 [==============================] - 0s 173ms/step - loss: 0.2960 - accuracy: 0.8995 - val_loss: 0.2655 - val_accuracy: 0.9098\n",
      "Epoch 9/10\n",
      "3/3 [==============================] - 0s 144ms/step - loss: 0.2747 - accuracy: 0.9086 - val_loss: 0.2498 - val_accuracy: 0.9170\n",
      "Epoch 10/10\n",
      "3/3 [==============================] - 0s 180ms/step - loss: 0.2511 - accuracy: 0.9130 - val_loss: 0.2303 - val_accuracy: 0.9231\n"
     ]
    },
    {
     "name": "stderr",
     "output_type": "stream",
     "text": [
      "2024-03-29 11:07:28.772431: I tensorflow/core/grappler/optimizers/custom_graph_optimizer_registry.cc:114] Plugin optimizer for device_type GPU is enabled.\n",
      "2024-03-29 11:07:28.894984: I tensorflow/core/grappler/optimizers/custom_graph_optimizer_registry.cc:114] Plugin optimizer for device_type GPU is enabled.\n",
      "2024-03-29 11:07:28.905376: I tensorflow/core/grappler/optimizers/custom_graph_optimizer_registry.cc:114] Plugin optimizer for device_type GPU is enabled.\n",
      "2024-03-29 11:07:29.229631: I tensorflow/core/grappler/optimizers/custom_graph_optimizer_registry.cc:114] Plugin optimizer for device_type GPU is enabled.\n",
      "2024-03-29 11:07:29.241668: I tensorflow/core/grappler/optimizers/custom_graph_optimizer_registry.cc:114] Plugin optimizer for device_type GPU is enabled.\n"
     ]
    },
    {
     "name": "stdout",
     "output_type": "stream",
     "text": [
      "1/1 [==============================] - 1s 1s/step\n"
     ]
    },
    {
     "name": "stderr",
     "output_type": "stream",
     "text": [
      "WARNING:absl:At this time, the v2.11+ optimizer `tf.keras.optimizers.Adam` runs slowly on M1/M2 Macs, please use the legacy Keras optimizer instead, located at `tf.keras.optimizers.legacy.Adam`.\n",
      "WARNING:absl:`lr` is deprecated in Keras optimizer, please use `learning_rate` or use the legacy optimizer, e.g.,tf.keras.optimizers.legacy.Adam.\n",
      "WARNING:absl:There is a known slowdown when using v2.11+ Keras optimizers on M1/M2 Macs. Falling back to the legacy Keras optimizer, i.e., `tf.keras.optimizers.legacy.Adam`.\n"
     ]
    },
    {
     "name": "stdout",
     "output_type": "stream",
     "text": [
      "Epoch 1/10\n"
     ]
    },
    {
     "name": "stderr",
     "output_type": "stream",
     "text": [
      "2024-03-29 11:07:31.287099: I tensorflow/core/grappler/optimizers/custom_graph_optimizer_registry.cc:114] Plugin optimizer for device_type GPU is enabled.\n",
      "2024-03-29 11:07:31.704070: I tensorflow/core/grappler/optimizers/custom_graph_optimizer_registry.cc:114] Plugin optimizer for device_type GPU is enabled.\n",
      "2024-03-29 11:07:31.760963: I tensorflow/core/grappler/optimizers/custom_graph_optimizer_registry.cc:114] Plugin optimizer for device_type GPU is enabled.\n",
      "2024-03-29 11:07:32.185479: I tensorflow/core/grappler/optimizers/custom_graph_optimizer_registry.cc:114] Plugin optimizer for device_type GPU is enabled.\n",
      "2024-03-29 11:07:32.199071: I tensorflow/core/grappler/optimizers/custom_graph_optimizer_registry.cc:114] Plugin optimizer for device_type GPU is enabled.\n",
      "2024-03-29 11:07:32.872705: I tensorflow/core/grappler/optimizers/custom_graph_optimizer_registry.cc:114] Plugin optimizer for device_type GPU is enabled.\n",
      "2024-03-29 11:07:32.896082: I tensorflow/core/grappler/optimizers/custom_graph_optimizer_registry.cc:114] Plugin optimizer for device_type GPU is enabled.\n",
      "2024-03-29 11:07:33.629164: I tensorflow/core/grappler/optimizers/custom_graph_optimizer_registry.cc:114] Plugin optimizer for device_type GPU is enabled.\n",
      "2024-03-29 11:07:33.653847: I tensorflow/core/grappler/optimizers/custom_graph_optimizer_registry.cc:114] Plugin optimizer for device_type GPU is enabled.\n"
     ]
    },
    {
     "name": "stdout",
     "output_type": "stream",
     "text": [
      "3/3 [==============================] - ETA: 0s - loss: 1.7390 - accuracy: 0.4872"
     ]
    },
    {
     "name": "stderr",
     "output_type": "stream",
     "text": [
      "2024-03-29 11:07:35.445558: I tensorflow/core/grappler/optimizers/custom_graph_optimizer_registry.cc:114] Plugin optimizer for device_type GPU is enabled.\n",
      "2024-03-29 11:07:35.601456: I tensorflow/core/grappler/optimizers/custom_graph_optimizer_registry.cc:114] Plugin optimizer for device_type GPU is enabled.\n",
      "2024-03-29 11:07:35.617261: I tensorflow/core/grappler/optimizers/custom_graph_optimizer_registry.cc:114] Plugin optimizer for device_type GPU is enabled.\n",
      "2024-03-29 11:07:35.964446: I tensorflow/core/grappler/optimizers/custom_graph_optimizer_registry.cc:114] Plugin optimizer for device_type GPU is enabled.\n",
      "2024-03-29 11:07:35.975631: I tensorflow/core/grappler/optimizers/custom_graph_optimizer_registry.cc:114] Plugin optimizer for device_type GPU is enabled.\n"
     ]
    },
    {
     "name": "stdout",
     "output_type": "stream",
     "text": [
      "3/3 [==============================] - 6s 1s/step - loss: 1.7390 - accuracy: 0.4872 - val_loss: 1.6018 - val_accuracy: 0.7867\n",
      "Epoch 2/10\n",
      "3/3 [==============================] - 1s 314ms/step - loss: 1.5418 - accuracy: 0.7836 - val_loss: 1.3997 - val_accuracy: 0.8307\n",
      "Epoch 3/10\n",
      "3/3 [==============================] - 1s 238ms/step - loss: 1.3234 - accuracy: 0.8343 - val_loss: 1.1323 - val_accuracy: 0.8508\n",
      "Epoch 4/10\n",
      "3/3 [==============================] - 1s 196ms/step - loss: 1.0143 - accuracy: 0.8499 - val_loss: 0.7165 - val_accuracy: 0.8587\n",
      "Epoch 5/10\n",
      "3/3 [==============================] - 1s 242ms/step - loss: 0.5879 - accuracy: 0.8550 - val_loss: 0.4351 - val_accuracy: 0.8667\n",
      "Epoch 6/10\n",
      "3/3 [==============================] - 1s 262ms/step - loss: 0.4076 - accuracy: 0.8636 - val_loss: 0.3800 - val_accuracy: 0.8795\n",
      "Epoch 7/10\n",
      "3/3 [==============================] - 0s 171ms/step - loss: 0.3395 - accuracy: 0.8869 - val_loss: 0.3355 - val_accuracy: 0.8920\n",
      "Epoch 8/10\n",
      "3/3 [==============================] - 0s 210ms/step - loss: 0.3021 - accuracy: 0.8966 - val_loss: 0.3117 - val_accuracy: 0.8966\n",
      "Epoch 9/10\n",
      "3/3 [==============================] - 0s 186ms/step - loss: 0.2800 - accuracy: 0.9073 - val_loss: 0.2868 - val_accuracy: 0.9008\n",
      "Epoch 10/10\n",
      "3/3 [==============================] - 0s 128ms/step - loss: 0.2531 - accuracy: 0.9157 - val_loss: 0.2591 - val_accuracy: 0.9114\n"
     ]
    },
    {
     "name": "stderr",
     "output_type": "stream",
     "text": [
      "2024-03-29 11:07:42.407074: I tensorflow/core/grappler/optimizers/custom_graph_optimizer_registry.cc:114] Plugin optimizer for device_type GPU is enabled.\n",
      "2024-03-29 11:07:42.539549: I tensorflow/core/grappler/optimizers/custom_graph_optimizer_registry.cc:114] Plugin optimizer for device_type GPU is enabled.\n",
      "2024-03-29 11:07:42.550731: I tensorflow/core/grappler/optimizers/custom_graph_optimizer_registry.cc:114] Plugin optimizer for device_type GPU is enabled.\n",
      "2024-03-29 11:07:42.869961: I tensorflow/core/grappler/optimizers/custom_graph_optimizer_registry.cc:114] Plugin optimizer for device_type GPU is enabled.\n",
      "2024-03-29 11:07:42.880794: I tensorflow/core/grappler/optimizers/custom_graph_optimizer_registry.cc:114] Plugin optimizer for device_type GPU is enabled.\n"
     ]
    },
    {
     "name": "stdout",
     "output_type": "stream",
     "text": [
      "1/1 [==============================] - 1s 1s/step\n"
     ]
    },
    {
     "name": "stderr",
     "output_type": "stream",
     "text": [
      "WARNING:absl:At this time, the v2.11+ optimizer `tf.keras.optimizers.Adam` runs slowly on M1/M2 Macs, please use the legacy Keras optimizer instead, located at `tf.keras.optimizers.legacy.Adam`.\n",
      "WARNING:absl:`lr` is deprecated in Keras optimizer, please use `learning_rate` or use the legacy optimizer, e.g.,tf.keras.optimizers.legacy.Adam.\n",
      "WARNING:absl:There is a known slowdown when using v2.11+ Keras optimizers on M1/M2 Macs. Falling back to the legacy Keras optimizer, i.e., `tf.keras.optimizers.legacy.Adam`.\n"
     ]
    },
    {
     "name": "stdout",
     "output_type": "stream",
     "text": [
      "Epoch 1/10\n"
     ]
    },
    {
     "name": "stderr",
     "output_type": "stream",
     "text": [
      "2024-03-29 11:07:45.639307: I tensorflow/core/grappler/optimizers/custom_graph_optimizer_registry.cc:114] Plugin optimizer for device_type GPU is enabled.\n",
      "2024-03-29 11:07:46.001397: I tensorflow/core/grappler/optimizers/custom_graph_optimizer_registry.cc:114] Plugin optimizer for device_type GPU is enabled.\n",
      "2024-03-29 11:07:46.158996: I tensorflow/core/grappler/optimizers/custom_graph_optimizer_registry.cc:114] Plugin optimizer for device_type GPU is enabled.\n",
      "2024-03-29 11:07:46.477261: I tensorflow/core/grappler/optimizers/custom_graph_optimizer_registry.cc:114] Plugin optimizer for device_type GPU is enabled.\n",
      "2024-03-29 11:07:46.491935: I tensorflow/core/grappler/optimizers/custom_graph_optimizer_registry.cc:114] Plugin optimizer for device_type GPU is enabled.\n",
      "2024-03-29 11:07:47.142808: I tensorflow/core/grappler/optimizers/custom_graph_optimizer_registry.cc:114] Plugin optimizer for device_type GPU is enabled.\n",
      "2024-03-29 11:07:47.167379: I tensorflow/core/grappler/optimizers/custom_graph_optimizer_registry.cc:114] Plugin optimizer for device_type GPU is enabled.\n",
      "2024-03-29 11:07:47.910224: I tensorflow/core/grappler/optimizers/custom_graph_optimizer_registry.cc:114] Plugin optimizer for device_type GPU is enabled.\n",
      "2024-03-29 11:07:47.934143: I tensorflow/core/grappler/optimizers/custom_graph_optimizer_registry.cc:114] Plugin optimizer for device_type GPU is enabled.\n"
     ]
    },
    {
     "name": "stdout",
     "output_type": "stream",
     "text": [
      "3/3 [==============================] - ETA: 0s - loss: 1.7259 - accuracy: 0.5178"
     ]
    },
    {
     "name": "stderr",
     "output_type": "stream",
     "text": [
      "2024-03-29 11:07:49.632460: I tensorflow/core/grappler/optimizers/custom_graph_optimizer_registry.cc:114] Plugin optimizer for device_type GPU is enabled.\n",
      "2024-03-29 11:07:49.784270: I tensorflow/core/grappler/optimizers/custom_graph_optimizer_registry.cc:114] Plugin optimizer for device_type GPU is enabled.\n",
      "2024-03-29 11:07:49.795915: I tensorflow/core/grappler/optimizers/custom_graph_optimizer_registry.cc:114] Plugin optimizer for device_type GPU is enabled.\n",
      "2024-03-29 11:07:50.121229: I tensorflow/core/grappler/optimizers/custom_graph_optimizer_registry.cc:114] Plugin optimizer for device_type GPU is enabled.\n",
      "2024-03-29 11:07:50.132675: I tensorflow/core/grappler/optimizers/custom_graph_optimizer_registry.cc:114] Plugin optimizer for device_type GPU is enabled.\n"
     ]
    },
    {
     "name": "stdout",
     "output_type": "stream",
     "text": [
      "3/3 [==============================] - 6s 1s/step - loss: 1.7259 - accuracy: 0.5178 - val_loss: 1.5929 - val_accuracy: 0.8333\n",
      "Epoch 2/10\n",
      "3/3 [==============================] - 1s 289ms/step - loss: 1.5485 - accuracy: 0.7981 - val_loss: 1.4209 - val_accuracy: 0.8489\n",
      "Epoch 3/10\n",
      "3/3 [==============================] - 1s 327ms/step - loss: 1.3697 - accuracy: 0.8335 - val_loss: 1.2183 - val_accuracy: 0.8697\n",
      "Epoch 4/10\n",
      "3/3 [==============================] - 1s 175ms/step - loss: 1.1441 - accuracy: 0.8575 - val_loss: 0.9067 - val_accuracy: 0.8939\n",
      "Epoch 5/10\n",
      "3/3 [==============================] - 1s 307ms/step - loss: 0.7857 - accuracy: 0.8753 - val_loss: 0.4548 - val_accuracy: 0.9072\n",
      "Epoch 6/10\n",
      "3/3 [==============================] - 1s 197ms/step - loss: 0.4441 - accuracy: 0.8777 - val_loss: 0.2975 - val_accuracy: 0.9023\n",
      "Epoch 7/10\n",
      "3/3 [==============================] - 0s 159ms/step - loss: 0.3506 - accuracy: 0.8813 - val_loss: 0.2548 - val_accuracy: 0.9140\n",
      "Epoch 8/10\n",
      "3/3 [==============================] - 0s 172ms/step - loss: 0.3024 - accuracy: 0.8934 - val_loss: 0.2295 - val_accuracy: 0.9265\n",
      "Epoch 9/10\n",
      "3/3 [==============================] - 0s 125ms/step - loss: 0.2744 - accuracy: 0.9072 - val_loss: 0.2144 - val_accuracy: 0.9345\n",
      "Epoch 10/10\n",
      "3/3 [==============================] - 0s 151ms/step - loss: 0.2507 - accuracy: 0.9166 - val_loss: 0.1977 - val_accuracy: 0.9420\n"
     ]
    },
    {
     "name": "stderr",
     "output_type": "stream",
     "text": [
      "2024-03-29 11:07:56.444737: I tensorflow/core/grappler/optimizers/custom_graph_optimizer_registry.cc:114] Plugin optimizer for device_type GPU is enabled.\n",
      "2024-03-29 11:07:56.565344: I tensorflow/core/grappler/optimizers/custom_graph_optimizer_registry.cc:114] Plugin optimizer for device_type GPU is enabled.\n",
      "2024-03-29 11:07:56.575676: I tensorflow/core/grappler/optimizers/custom_graph_optimizer_registry.cc:114] Plugin optimizer for device_type GPU is enabled.\n",
      "2024-03-29 11:07:56.929180: I tensorflow/core/grappler/optimizers/custom_graph_optimizer_registry.cc:114] Plugin optimizer for device_type GPU is enabled.\n",
      "2024-03-29 11:07:56.939982: I tensorflow/core/grappler/optimizers/custom_graph_optimizer_registry.cc:114] Plugin optimizer for device_type GPU is enabled.\n"
     ]
    },
    {
     "name": "stdout",
     "output_type": "stream",
     "text": [
      "1/1 [==============================] - 1s 1s/step\n"
     ]
    },
    {
     "name": "stderr",
     "output_type": "stream",
     "text": [
      "WARNING:absl:At this time, the v2.11+ optimizer `tf.keras.optimizers.Adam` runs slowly on M1/M2 Macs, please use the legacy Keras optimizer instead, located at `tf.keras.optimizers.legacy.Adam`.\n",
      "WARNING:absl:`lr` is deprecated in Keras optimizer, please use `learning_rate` or use the legacy optimizer, e.g.,tf.keras.optimizers.legacy.Adam.\n",
      "WARNING:absl:There is a known slowdown when using v2.11+ Keras optimizers on M1/M2 Macs. Falling back to the legacy Keras optimizer, i.e., `tf.keras.optimizers.legacy.Adam`.\n"
     ]
    },
    {
     "name": "stdout",
     "output_type": "stream",
     "text": [
      "Epoch 1/10\n"
     ]
    },
    {
     "name": "stderr",
     "output_type": "stream",
     "text": [
      "2024-03-29 11:07:58.919731: I tensorflow/core/grappler/optimizers/custom_graph_optimizer_registry.cc:114] Plugin optimizer for device_type GPU is enabled.\n",
      "2024-03-29 11:07:59.281823: I tensorflow/core/grappler/optimizers/custom_graph_optimizer_registry.cc:114] Plugin optimizer for device_type GPU is enabled.\n",
      "2024-03-29 11:07:59.297317: I tensorflow/core/grappler/optimizers/custom_graph_optimizer_registry.cc:114] Plugin optimizer for device_type GPU is enabled.\n",
      "2024-03-29 11:07:59.696052: I tensorflow/core/grappler/optimizers/custom_graph_optimizer_registry.cc:114] Plugin optimizer for device_type GPU is enabled.\n",
      "2024-03-29 11:07:59.709847: I tensorflow/core/grappler/optimizers/custom_graph_optimizer_registry.cc:114] Plugin optimizer for device_type GPU is enabled.\n",
      "2024-03-29 11:08:00.409633: I tensorflow/core/grappler/optimizers/custom_graph_optimizer_registry.cc:114] Plugin optimizer for device_type GPU is enabled.\n",
      "2024-03-29 11:08:00.433242: I tensorflow/core/grappler/optimizers/custom_graph_optimizer_registry.cc:114] Plugin optimizer for device_type GPU is enabled.\n",
      "2024-03-29 11:08:01.279572: I tensorflow/core/grappler/optimizers/custom_graph_optimizer_registry.cc:114] Plugin optimizer for device_type GPU is enabled.\n",
      "2024-03-29 11:08:01.303121: I tensorflow/core/grappler/optimizers/custom_graph_optimizer_registry.cc:114] Plugin optimizer for device_type GPU is enabled.\n"
     ]
    },
    {
     "name": "stdout",
     "output_type": "stream",
     "text": [
      "3/3 [==============================] - ETA: 0s - loss: 1.7279 - accuracy: 0.4782"
     ]
    },
    {
     "name": "stderr",
     "output_type": "stream",
     "text": [
      "2024-03-29 11:08:04.457130: I tensorflow/core/grappler/optimizers/custom_graph_optimizer_registry.cc:114] Plugin optimizer for device_type GPU is enabled.\n",
      "2024-03-29 11:08:04.719417: I tensorflow/core/grappler/optimizers/custom_graph_optimizer_registry.cc:114] Plugin optimizer for device_type GPU is enabled.\n",
      "2024-03-29 11:08:04.732667: I tensorflow/core/grappler/optimizers/custom_graph_optimizer_registry.cc:114] Plugin optimizer for device_type GPU is enabled.\n",
      "2024-03-29 11:08:05.174175: I tensorflow/core/grappler/optimizers/custom_graph_optimizer_registry.cc:114] Plugin optimizer for device_type GPU is enabled.\n",
      "2024-03-29 11:08:05.185885: I tensorflow/core/grappler/optimizers/custom_graph_optimizer_registry.cc:114] Plugin optimizer for device_type GPU is enabled.\n"
     ]
    },
    {
     "name": "stdout",
     "output_type": "stream",
     "text": [
      "3/3 [==============================] - 8s 2s/step - loss: 1.7279 - accuracy: 0.4782 - val_loss: 1.5962 - val_accuracy: 0.7758\n",
      "Epoch 2/10\n",
      "3/3 [==============================] - 2s 564ms/step - loss: 1.5368 - accuracy: 0.7530 - val_loss: 1.4304 - val_accuracy: 0.8087\n",
      "Epoch 3/10\n",
      "3/3 [==============================] - 1s 305ms/step - loss: 1.3665 - accuracy: 0.7966 - val_loss: 1.2280 - val_accuracy: 0.8413\n",
      "Epoch 4/10\n",
      "3/3 [==============================] - 1s 247ms/step - loss: 1.1170 - accuracy: 0.8380 - val_loss: 0.8591 - val_accuracy: 0.8701\n",
      "Epoch 5/10\n",
      "3/3 [==============================] - 1s 219ms/step - loss: 0.6966 - accuracy: 0.8655 - val_loss: 0.4095 - val_accuracy: 0.8780\n",
      "Epoch 6/10\n",
      "3/3 [==============================] - 1s 166ms/step - loss: 0.4150 - accuracy: 0.8692 - val_loss: 0.3356 - val_accuracy: 0.8742\n",
      "Epoch 7/10\n",
      "3/3 [==============================] - 1s 207ms/step - loss: 0.3567 - accuracy: 0.8786 - val_loss: 0.2922 - val_accuracy: 0.8943\n",
      "Epoch 8/10\n",
      "3/3 [==============================] - 0s 164ms/step - loss: 0.3024 - accuracy: 0.8963 - val_loss: 0.2641 - val_accuracy: 0.9080\n",
      "Epoch 9/10\n",
      "3/3 [==============================] - 0s 193ms/step - loss: 0.2760 - accuracy: 0.9060 - val_loss: 0.2480 - val_accuracy: 0.9136\n",
      "Epoch 10/10\n",
      "3/3 [==============================] - 0s 129ms/step - loss: 0.2535 - accuracy: 0.9149 - val_loss: 0.2320 - val_accuracy: 0.9220\n"
     ]
    },
    {
     "name": "stderr",
     "output_type": "stream",
     "text": [
      "2024-03-29 11:08:12.545482: I tensorflow/core/grappler/optimizers/custom_graph_optimizer_registry.cc:114] Plugin optimizer for device_type GPU is enabled.\n",
      "2024-03-29 11:08:12.667365: I tensorflow/core/grappler/optimizers/custom_graph_optimizer_registry.cc:114] Plugin optimizer for device_type GPU is enabled.\n",
      "2024-03-29 11:08:12.678416: I tensorflow/core/grappler/optimizers/custom_graph_optimizer_registry.cc:114] Plugin optimizer for device_type GPU is enabled.\n",
      "2024-03-29 11:08:13.003146: I tensorflow/core/grappler/optimizers/custom_graph_optimizer_registry.cc:114] Plugin optimizer for device_type GPU is enabled.\n",
      "2024-03-29 11:08:13.014440: I tensorflow/core/grappler/optimizers/custom_graph_optimizer_registry.cc:114] Plugin optimizer for device_type GPU is enabled.\n"
     ]
    },
    {
     "name": "stdout",
     "output_type": "stream",
     "text": [
      "1/1 [==============================] - 1s 1s/step\n"
     ]
    },
    {
     "name": "stderr",
     "output_type": "stream",
     "text": [
      "WARNING:absl:At this time, the v2.11+ optimizer `tf.keras.optimizers.Adam` runs slowly on M1/M2 Macs, please use the legacy Keras optimizer instead, located at `tf.keras.optimizers.legacy.Adam`.\n",
      "WARNING:absl:`lr` is deprecated in Keras optimizer, please use `learning_rate` or use the legacy optimizer, e.g.,tf.keras.optimizers.legacy.Adam.\n",
      "WARNING:absl:There is a known slowdown when using v2.11+ Keras optimizers on M1/M2 Macs. Falling back to the legacy Keras optimizer, i.e., `tf.keras.optimizers.legacy.Adam`.\n"
     ]
    },
    {
     "name": "stdout",
     "output_type": "stream",
     "text": [
      "Epoch 1/10\n"
     ]
    },
    {
     "name": "stderr",
     "output_type": "stream",
     "text": [
      "2024-03-29 11:08:14.887225: I tensorflow/core/grappler/optimizers/custom_graph_optimizer_registry.cc:114] Plugin optimizer for device_type GPU is enabled.\n",
      "2024-03-29 11:08:15.200830: I tensorflow/core/grappler/optimizers/custom_graph_optimizer_registry.cc:114] Plugin optimizer for device_type GPU is enabled.\n",
      "2024-03-29 11:08:15.261253: I tensorflow/core/grappler/optimizers/custom_graph_optimizer_registry.cc:114] Plugin optimizer for device_type GPU is enabled.\n",
      "2024-03-29 11:08:15.623218: I tensorflow/core/grappler/optimizers/custom_graph_optimizer_registry.cc:114] Plugin optimizer for device_type GPU is enabled.\n",
      "2024-03-29 11:08:15.638840: I tensorflow/core/grappler/optimizers/custom_graph_optimizer_registry.cc:114] Plugin optimizer for device_type GPU is enabled.\n",
      "2024-03-29 11:08:16.531861: I tensorflow/core/grappler/optimizers/custom_graph_optimizer_registry.cc:114] Plugin optimizer for device_type GPU is enabled.\n",
      "2024-03-29 11:08:16.555424: I tensorflow/core/grappler/optimizers/custom_graph_optimizer_registry.cc:114] Plugin optimizer for device_type GPU is enabled.\n",
      "2024-03-29 11:08:17.277161: I tensorflow/core/grappler/optimizers/custom_graph_optimizer_registry.cc:114] Plugin optimizer for device_type GPU is enabled.\n",
      "2024-03-29 11:08:17.300019: I tensorflow/core/grappler/optimizers/custom_graph_optimizer_registry.cc:114] Plugin optimizer for device_type GPU is enabled.\n"
     ]
    },
    {
     "name": "stdout",
     "output_type": "stream",
     "text": [
      "3/3 [==============================] - ETA: 0s - loss: 1.7418 - accuracy: 0.4746"
     ]
    },
    {
     "name": "stderr",
     "output_type": "stream",
     "text": [
      "2024-03-29 11:08:19.443122: I tensorflow/core/grappler/optimizers/custom_graph_optimizer_registry.cc:114] Plugin optimizer for device_type GPU is enabled.\n",
      "2024-03-29 11:08:19.573948: I tensorflow/core/grappler/optimizers/custom_graph_optimizer_registry.cc:114] Plugin optimizer for device_type GPU is enabled.\n",
      "2024-03-29 11:08:19.593237: I tensorflow/core/grappler/optimizers/custom_graph_optimizer_registry.cc:114] Plugin optimizer for device_type GPU is enabled.\n",
      "2024-03-29 11:08:20.165185: I tensorflow/core/grappler/optimizers/custom_graph_optimizer_registry.cc:114] Plugin optimizer for device_type GPU is enabled.\n",
      "2024-03-29 11:08:20.176575: I tensorflow/core/grappler/optimizers/custom_graph_optimizer_registry.cc:114] Plugin optimizer for device_type GPU is enabled.\n"
     ]
    },
    {
     "name": "stdout",
     "output_type": "stream",
     "text": [
      "3/3 [==============================] - 7s 1s/step - loss: 1.7418 - accuracy: 0.4746 - val_loss: 1.6270 - val_accuracy: 0.7826\n",
      "Epoch 2/10\n",
      "3/3 [==============================] - 1s 502ms/step - loss: 1.5671 - accuracy: 0.7787 - val_loss: 1.4587 - val_accuracy: 0.8299\n",
      "Epoch 3/10\n",
      "3/3 [==============================] - 1s 307ms/step - loss: 1.3855 - accuracy: 0.8352 - val_loss: 1.2350 - val_accuracy: 0.8451\n",
      "Epoch 4/10\n",
      "3/3 [==============================] - 1s 433ms/step - loss: 1.1349 - accuracy: 0.8578 - val_loss: 0.8785 - val_accuracy: 0.8583\n",
      "Epoch 5/10\n",
      "3/3 [==============================] - 0s 180ms/step - loss: 0.7236 - accuracy: 0.8727 - val_loss: 0.4818 - val_accuracy: 0.8538\n",
      "Epoch 6/10\n",
      "3/3 [==============================] - 1s 235ms/step - loss: 0.4057 - accuracy: 0.8728 - val_loss: 0.3886 - val_accuracy: 0.8633\n",
      "Epoch 7/10\n",
      "3/3 [==============================] - 1s 203ms/step - loss: 0.3445 - accuracy: 0.8783 - val_loss: 0.3453 - val_accuracy: 0.8799\n",
      "Epoch 8/10\n",
      "3/3 [==============================] - 0s 199ms/step - loss: 0.3000 - accuracy: 0.8947 - val_loss: 0.3248 - val_accuracy: 0.8898\n",
      "Epoch 9/10\n",
      "3/3 [==============================] - 0s 169ms/step - loss: 0.2816 - accuracy: 0.9017 - val_loss: 0.3015 - val_accuracy: 0.9008\n",
      "Epoch 10/10\n",
      "3/3 [==============================] - 0s 112ms/step - loss: 0.2551 - accuracy: 0.9136 - val_loss: 0.2663 - val_accuracy: 0.9129\n"
     ]
    },
    {
     "name": "stderr",
     "output_type": "stream",
     "text": [
      "2024-03-29 11:08:27.641207: I tensorflow/core/grappler/optimizers/custom_graph_optimizer_registry.cc:114] Plugin optimizer for device_type GPU is enabled.\n",
      "2024-03-29 11:08:27.765242: I tensorflow/core/grappler/optimizers/custom_graph_optimizer_registry.cc:114] Plugin optimizer for device_type GPU is enabled.\n",
      "2024-03-29 11:08:27.775792: I tensorflow/core/grappler/optimizers/custom_graph_optimizer_registry.cc:114] Plugin optimizer for device_type GPU is enabled.\n",
      "2024-03-29 11:08:28.123688: I tensorflow/core/grappler/optimizers/custom_graph_optimizer_registry.cc:114] Plugin optimizer for device_type GPU is enabled.\n",
      "2024-03-29 11:08:28.134879: I tensorflow/core/grappler/optimizers/custom_graph_optimizer_registry.cc:114] Plugin optimizer for device_type GPU is enabled.\n"
     ]
    },
    {
     "name": "stdout",
     "output_type": "stream",
     "text": [
      "1/1 [==============================] - 1s 1s/step\n",
      "K-Fold Cross-Validation Results (5 folds):\n",
      "Average Accuracy: 0.9223 ± 0.0109\n",
      "Average Precision: 0.8520 ± 0.0234\n",
      "Average Recall: 0.8634 ± 0.0233\n",
      "Average F1-Score: 0.8553 ± 0.0242\n"
     ]
    }
   ],
   "source": [
    "# Train and evaluate based on train data for text modality\n",
    "\n",
    "rnn_model = cross_val_training(RNNModel, train_text, train_label, num_folds=5, epochs=10, batch_size=32)"
   ]
  },
  {
   "cell_type": "code",
   "execution_count": 116,
   "metadata": {},
   "outputs": [
    {
     "name": "stderr",
     "output_type": "stream",
     "text": [
      "WARNING:absl:At this time, the v2.11+ optimizer `tf.keras.optimizers.Adam` runs slowly on M1/M2 Macs, please use the legacy Keras optimizer instead, located at `tf.keras.optimizers.legacy.Adam`.\n",
      "WARNING:absl:`lr` is deprecated in Keras optimizer, please use `learning_rate` or use the legacy optimizer, e.g.,tf.keras.optimizers.legacy.Adam.\n",
      "WARNING:absl:There is a known slowdown when using v2.11+ Keras optimizers on M1/M2 Macs. Falling back to the legacy Keras optimizer, i.e., `tf.keras.optimizers.legacy.Adam`.\n"
     ]
    },
    {
     "name": "stdout",
     "output_type": "stream",
     "text": [
      "Epoch 1/10\n"
     ]
    },
    {
     "name": "stderr",
     "output_type": "stream",
     "text": [
      "2024-03-29 11:08:47.307262: I tensorflow/core/grappler/optimizers/custom_graph_optimizer_registry.cc:114] Plugin optimizer for device_type GPU is enabled.\n",
      "2024-03-29 11:08:47.686893: I tensorflow/core/grappler/optimizers/custom_graph_optimizer_registry.cc:114] Plugin optimizer for device_type GPU is enabled.\n",
      "2024-03-29 11:08:47.850425: I tensorflow/core/grappler/optimizers/custom_graph_optimizer_registry.cc:114] Plugin optimizer for device_type GPU is enabled.\n",
      "2024-03-29 11:08:48.192011: I tensorflow/core/grappler/optimizers/custom_graph_optimizer_registry.cc:114] Plugin optimizer for device_type GPU is enabled.\n",
      "2024-03-29 11:08:48.207719: I tensorflow/core/grappler/optimizers/custom_graph_optimizer_registry.cc:114] Plugin optimizer for device_type GPU is enabled.\n",
      "2024-03-29 11:08:49.040299: I tensorflow/core/grappler/optimizers/custom_graph_optimizer_registry.cc:114] Plugin optimizer for device_type GPU is enabled.\n",
      "2024-03-29 11:08:49.086706: I tensorflow/core/grappler/optimizers/custom_graph_optimizer_registry.cc:114] Plugin optimizer for device_type GPU is enabled.\n",
      "2024-03-29 11:08:49.803762: I tensorflow/core/grappler/optimizers/custom_graph_optimizer_registry.cc:114] Plugin optimizer for device_type GPU is enabled.\n",
      "2024-03-29 11:08:49.826052: I tensorflow/core/grappler/optimizers/custom_graph_optimizer_registry.cc:114] Plugin optimizer for device_type GPU is enabled.\n"
     ]
    },
    {
     "name": "stdout",
     "output_type": "stream",
     "text": [
      "4/4 [==============================] - 8s 956ms/step - loss: 1.7065 - accuracy: 0.5492\n",
      "Epoch 2/10\n",
      "4/4 [==============================] - 1s 294ms/step - loss: 1.4714 - accuracy: 0.8152\n",
      "Epoch 3/10\n",
      "4/4 [==============================] - 1s 222ms/step - loss: 1.1849 - accuracy: 0.8502\n",
      "Epoch 4/10\n",
      "4/4 [==============================] - 1s 184ms/step - loss: 0.6790 - accuracy: 0.8697\n",
      "Epoch 5/10\n",
      "4/4 [==============================] - 0s 116ms/step - loss: 0.3903 - accuracy: 0.8708\n",
      "Epoch 6/10\n",
      "4/4 [==============================] - 0s 121ms/step - loss: 0.3159 - accuracy: 0.8886\n",
      "Epoch 7/10\n",
      "4/4 [==============================] - 0s 106ms/step - loss: 0.2783 - accuracy: 0.9055\n",
      "Epoch 8/10\n",
      "4/4 [==============================] - 1s 148ms/step - loss: 0.2504 - accuracy: 0.9155\n",
      "Epoch 9/10\n",
      "4/4 [==============================] - 1s 102ms/step - loss: 0.2161 - accuracy: 0.9283\n",
      "Epoch 10/10\n",
      "4/4 [==============================] - 0s 103ms/step - loss: 0.1959 - accuracy: 0.9365\n"
     ]
    },
    {
     "name": "stderr",
     "output_type": "stream",
     "text": [
      "2024-03-29 11:08:59.478062: I tensorflow/core/grappler/optimizers/custom_graph_optimizer_registry.cc:114] Plugin optimizer for device_type GPU is enabled.\n",
      "2024-03-29 11:08:59.605794: I tensorflow/core/grappler/optimizers/custom_graph_optimizer_registry.cc:114] Plugin optimizer for device_type GPU is enabled.\n",
      "2024-03-29 11:08:59.616895: I tensorflow/core/grappler/optimizers/custom_graph_optimizer_registry.cc:114] Plugin optimizer for device_type GPU is enabled.\n",
      "2024-03-29 11:09:00.107193: I tensorflow/core/grappler/optimizers/custom_graph_optimizer_registry.cc:114] Plugin optimizer for device_type GPU is enabled.\n",
      "2024-03-29 11:09:00.118731: I tensorflow/core/grappler/optimizers/custom_graph_optimizer_registry.cc:114] Plugin optimizer for device_type GPU is enabled.\n"
     ]
    },
    {
     "name": "stdout",
     "output_type": "stream",
     "text": [
      "1/1 [==============================] - 1s 1s/step\n",
      "Test Metrics for text:\n",
      "Accuracy: 0.7968\n",
      "Precision: 0.6890\n",
      "Recall: 0.6569\n",
      "F1 Score: 0.6643\n"
     ]
    }
   ],
   "source": [
    "# Train and evaluate based on test data for text modality\n",
    "# Instantiate the model\n",
    "rnn_model_text = RNNModel(input_shape=train_text.shape[1:], num_classes=train_label.shape[2])\n",
    "\n",
    "# Compile the model\n",
    "rnn_model_text.compile(lr=0.001)\n",
    "\n",
    "# Train and evaluate on the test dataset\n",
    "history, test_metrics = rnn_model_text.train_and_evaluate_on_test(train_text, train_label, test_text, test_label, epochs=10, batch_size=32)\n",
    "\n",
    "# Print the test metrics\n",
    "print(\"Test Metrics for text:\")\n",
    "print(f\"Accuracy: {test_metrics['accuracy']:.4f}\")\n",
    "print(f\"Precision: {test_metrics['precision']:.4f}\")\n",
    "print(f\"Recall: {test_metrics['recall']:.4f}\")\n",
    "print(f\"F1 Score: {test_metrics['f1_score']:.4f}\")\n"
   ]
  },
  {
   "cell_type": "code",
   "execution_count": 118,
   "metadata": {},
   "outputs": [
    {
     "name": "stderr",
     "output_type": "stream",
     "text": [
      "WARNING:absl:At this time, the v2.11+ optimizer `tf.keras.optimizers.Adam` runs slowly on M1/M2 Macs, please use the legacy Keras optimizer instead, located at `tf.keras.optimizers.legacy.Adam`.\n",
      "WARNING:absl:`lr` is deprecated in Keras optimizer, please use `learning_rate` or use the legacy optimizer, e.g.,tf.keras.optimizers.legacy.Adam.\n",
      "WARNING:absl:There is a known slowdown when using v2.11+ Keras optimizers on M1/M2 Macs. Falling back to the legacy Keras optimizer, i.e., `tf.keras.optimizers.legacy.Adam`.\n"
     ]
    },
    {
     "name": "stdout",
     "output_type": "stream",
     "text": [
      "Epoch 1/10\n"
     ]
    },
    {
     "name": "stderr",
     "output_type": "stream",
     "text": [
      "2024-03-29 11:10:51.024352: I tensorflow/core/grappler/optimizers/custom_graph_optimizer_registry.cc:114] Plugin optimizer for device_type GPU is enabled.\n",
      "2024-03-29 11:10:51.384175: I tensorflow/core/grappler/optimizers/custom_graph_optimizer_registry.cc:114] Plugin optimizer for device_type GPU is enabled.\n",
      "2024-03-29 11:10:51.422632: I tensorflow/core/grappler/optimizers/custom_graph_optimizer_registry.cc:114] Plugin optimizer for device_type GPU is enabled.\n",
      "2024-03-29 11:10:51.895107: I tensorflow/core/grappler/optimizers/custom_graph_optimizer_registry.cc:114] Plugin optimizer for device_type GPU is enabled.\n",
      "2024-03-29 11:10:51.911270: I tensorflow/core/grappler/optimizers/custom_graph_optimizer_registry.cc:114] Plugin optimizer for device_type GPU is enabled.\n",
      "2024-03-29 11:10:53.099337: I tensorflow/core/grappler/optimizers/custom_graph_optimizer_registry.cc:114] Plugin optimizer for device_type GPU is enabled.\n",
      "2024-03-29 11:10:53.122700: I tensorflow/core/grappler/optimizers/custom_graph_optimizer_registry.cc:114] Plugin optimizer for device_type GPU is enabled.\n",
      "2024-03-29 11:10:54.142078: I tensorflow/core/grappler/optimizers/custom_graph_optimizer_registry.cc:114] Plugin optimizer for device_type GPU is enabled.\n",
      "2024-03-29 11:10:54.165253: I tensorflow/core/grappler/optimizers/custom_graph_optimizer_registry.cc:114] Plugin optimizer for device_type GPU is enabled.\n"
     ]
    },
    {
     "name": "stdout",
     "output_type": "stream",
     "text": [
      "4/4 [==============================] - 8s 888ms/step - loss: 1.7537 - accuracy: 0.5112\n",
      "Epoch 2/10\n",
      "4/4 [==============================] - 2s 393ms/step - loss: 1.6135 - accuracy: 0.7008\n",
      "Epoch 3/10\n",
      "4/4 [==============================] - 1s 217ms/step - loss: 1.3403 - accuracy: 0.7060\n",
      "Epoch 4/10\n",
      "4/4 [==============================] - 1s 150ms/step - loss: 0.9302 - accuracy: 0.7035\n",
      "Epoch 5/10\n",
      "4/4 [==============================] - 1s 210ms/step - loss: 0.7495 - accuracy: 0.7101\n",
      "Epoch 6/10\n",
      "4/4 [==============================] - 1s 146ms/step - loss: 0.7013 - accuracy: 0.7190\n",
      "Epoch 7/10\n",
      "4/4 [==============================] - 1s 135ms/step - loss: 0.6844 - accuracy: 0.7261\n",
      "Epoch 8/10\n",
      "4/4 [==============================] - 0s 130ms/step - loss: 0.6595 - accuracy: 0.7354\n",
      "Epoch 9/10\n",
      "4/4 [==============================] - 0s 83ms/step - loss: 0.6372 - accuracy: 0.7452\n",
      "Epoch 10/10\n",
      "4/4 [==============================] - 0s 107ms/step - loss: 0.6159 - accuracy: 0.7481\n"
     ]
    },
    {
     "name": "stderr",
     "output_type": "stream",
     "text": [
      "2024-03-29 11:11:04.861667: I tensorflow/core/grappler/optimizers/custom_graph_optimizer_registry.cc:114] Plugin optimizer for device_type GPU is enabled.\n",
      "2024-03-29 11:11:04.996215: I tensorflow/core/grappler/optimizers/custom_graph_optimizer_registry.cc:114] Plugin optimizer for device_type GPU is enabled.\n",
      "2024-03-29 11:11:04.996235: I tensorflow/core/grappler/optimizers/custom_graph_optimizer_registry.cc:114] Plugin optimizer for device_type GPU is enabled.\n",
      "2024-03-29 11:11:05.479144: I tensorflow/core/grappler/optimizers/custom_graph_optimizer_registry.cc:114] Plugin optimizer for device_type GPU is enabled.\n",
      "2024-03-29 11:11:05.492020: I tensorflow/core/grappler/optimizers/custom_graph_optimizer_registry.cc:114] Plugin optimizer for device_type GPU is enabled.\n"
     ]
    },
    {
     "name": "stdout",
     "output_type": "stream",
     "text": [
      "1/1 [==============================] - 2s 2s/step\n",
      "Test Metrics:\n",
      "Accuracy: 0.7372\n",
      "Precision: 0.5802\n",
      "Recall: 0.5714\n",
      "F1 Score: 0.5436\n"
     ]
    }
   ],
   "source": [
    "# Test on audio modality\n",
    "\n",
    "# Train and evaluate based on test data for text modality\n",
    "# Instantiate the model\n",
    "rnn_model_audio = RNNModel(input_shape=train_text.shape[1:], num_classes=train_label.shape[2])\n",
    "\n",
    "# Compile the model\n",
    "rnn_model_audio.compile(lr=0.001)\n",
    "\n",
    "# Train and evaluate on the test dataset\n",
    "history, test_metrics = rnn_model_audio.train_and_evaluate_on_test(train_audio, train_label, test_audio, test_label, epochs=10, batch_size=32)\n"
   ]
  },
  {
   "cell_type": "code",
   "execution_count": 120,
   "metadata": {},
   "outputs": [
    {
     "name": "stderr",
     "output_type": "stream",
     "text": [
      "WARNING:absl:At this time, the v2.11+ optimizer `tf.keras.optimizers.Adam` runs slowly on M1/M2 Macs, please use the legacy Keras optimizer instead, located at `tf.keras.optimizers.legacy.Adam`.\n",
      "WARNING:absl:`lr` is deprecated in Keras optimizer, please use `learning_rate` or use the legacy optimizer, e.g.,tf.keras.optimizers.legacy.Adam.\n",
      "WARNING:absl:There is a known slowdown when using v2.11+ Keras optimizers on M1/M2 Macs. Falling back to the legacy Keras optimizer, i.e., `tf.keras.optimizers.legacy.Adam`.\n"
     ]
    },
    {
     "name": "stdout",
     "output_type": "stream",
     "text": [
      "Epoch 1/10\n"
     ]
    },
    {
     "name": "stderr",
     "output_type": "stream",
     "text": [
      "2024-03-29 11:11:43.269925: I tensorflow/core/grappler/optimizers/custom_graph_optimizer_registry.cc:114] Plugin optimizer for device_type GPU is enabled.\n",
      "2024-03-29 11:11:43.670013: I tensorflow/core/grappler/optimizers/custom_graph_optimizer_registry.cc:114] Plugin optimizer for device_type GPU is enabled.\n",
      "2024-03-29 11:11:43.811913: I tensorflow/core/grappler/optimizers/custom_graph_optimizer_registry.cc:114] Plugin optimizer for device_type GPU is enabled.\n",
      "2024-03-29 11:11:44.423839: I tensorflow/core/grappler/optimizers/custom_graph_optimizer_registry.cc:114] Plugin optimizer for device_type GPU is enabled.\n",
      "2024-03-29 11:11:44.439559: I tensorflow/core/grappler/optimizers/custom_graph_optimizer_registry.cc:114] Plugin optimizer for device_type GPU is enabled.\n",
      "2024-03-29 11:11:45.592188: I tensorflow/core/grappler/optimizers/custom_graph_optimizer_registry.cc:114] Plugin optimizer for device_type GPU is enabled.\n",
      "2024-03-29 11:11:45.635560: I tensorflow/core/grappler/optimizers/custom_graph_optimizer_registry.cc:114] Plugin optimizer for device_type GPU is enabled.\n",
      "2024-03-29 11:11:46.411321: I tensorflow/core/grappler/optimizers/custom_graph_optimizer_registry.cc:114] Plugin optimizer for device_type GPU is enabled.\n",
      "2024-03-29 11:11:46.433777: I tensorflow/core/grappler/optimizers/custom_graph_optimizer_registry.cc:114] Plugin optimizer for device_type GPU is enabled.\n"
     ]
    },
    {
     "name": "stdout",
     "output_type": "stream",
     "text": [
      "4/4 [==============================] - 8s 863ms/step - loss: 1.7742 - accuracy: 0.4961\n",
      "Epoch 2/10\n",
      "4/4 [==============================] - 2s 485ms/step - loss: 1.6908 - accuracy: 0.6724\n",
      "Epoch 3/10\n",
      "4/4 [==============================] - 1s 352ms/step - loss: 1.4661 - accuracy: 0.6658\n",
      "Epoch 4/10\n",
      "4/4 [==============================] - 1s 207ms/step - loss: 1.0666 - accuracy: 0.6612\n",
      "Epoch 5/10\n",
      "4/4 [==============================] - 1s 250ms/step - loss: 0.8593 - accuracy: 0.6722\n",
      "Epoch 6/10\n",
      "4/4 [==============================] - 1s 161ms/step - loss: 0.8039 - accuracy: 0.6702\n",
      "Epoch 7/10\n",
      "4/4 [==============================] - 1s 131ms/step - loss: 0.7898 - accuracy: 0.6616\n",
      "Epoch 8/10\n",
      "4/4 [==============================] - 1s 122ms/step - loss: 0.7782 - accuracy: 0.6649\n",
      "Epoch 9/10\n",
      "4/4 [==============================] - 1s 129ms/step - loss: 0.7678 - accuracy: 0.6717\n",
      "Epoch 10/10\n",
      "4/4 [==============================] - 1s 144ms/step - loss: 0.7611 - accuracy: 0.6770\n"
     ]
    },
    {
     "name": "stderr",
     "output_type": "stream",
     "text": [
      "2024-03-29 11:11:57.706124: I tensorflow/core/grappler/optimizers/custom_graph_optimizer_registry.cc:114] Plugin optimizer for device_type GPU is enabled.\n",
      "2024-03-29 11:11:57.833490: I tensorflow/core/grappler/optimizers/custom_graph_optimizer_registry.cc:114] Plugin optimizer for device_type GPU is enabled.\n",
      "2024-03-29 11:11:57.833514: I tensorflow/core/grappler/optimizers/custom_graph_optimizer_registry.cc:114] Plugin optimizer for device_type GPU is enabled.\n",
      "2024-03-29 11:11:58.224823: I tensorflow/core/grappler/optimizers/custom_graph_optimizer_registry.cc:114] Plugin optimizer for device_type GPU is enabled.\n",
      "2024-03-29 11:11:58.236423: I tensorflow/core/grappler/optimizers/custom_graph_optimizer_registry.cc:114] Plugin optimizer for device_type GPU is enabled.\n"
     ]
    },
    {
     "name": "stdout",
     "output_type": "stream",
     "text": [
      "1/1 [==============================] - 2s 2s/step\n",
      "Test Metrics:\n",
      "Accuracy: 0.6402\n",
      "Precision: 0.2353\n",
      "Recall: 0.3196\n",
      "F1 Score: 0.2250\n"
     ]
    },
    {
     "name": "stderr",
     "output_type": "stream",
     "text": [
      "/Users/venessa/Desktop/5342project/venv/lib/python3.8/site-packages/sklearn/metrics/_classification.py:1471: UndefinedMetricWarning: Precision and F-score are ill-defined and being set to 0.0 in labels with no predicted samples. Use `zero_division` parameter to control this behavior.\n",
      "  _warn_prf(average, modifier, msg_start, len(result))\n"
     ]
    }
   ],
   "source": [
    "# Test on video modality\n",
    "\n",
    "# Train and evaluate based on test data for text modality\n",
    "# Instantiate the model\n",
    "rnn_model_visual = RNNModel(input_shape=train_visual.shape[1:], num_classes=train_label.shape[2])\n",
    "\n",
    "# Compile the model\n",
    "rnn_model_visual.compile(lr=0.001)\n",
    "\n",
    "# Train and evaluate on the test dataset\n",
    "history, test_metrics = rnn_model_visual.train_and_evaluate_on_test(train_visual, train_label, test_visual, test_label, epochs=10, batch_size=32)\n"
   ]
  },
  {
   "cell_type": "code",
   "execution_count": 83,
   "metadata": {},
   "outputs": [
    {
     "name": "stdout",
     "output_type": "stream",
     "text": [
      "Epoch 1/10\n"
     ]
    },
    {
     "name": "stderr",
     "output_type": "stream",
     "text": [
      "/Users/venessa/Desktop/5342project/venv/lib/python3.8/site-packages/keras/src/optimizers/legacy/adam.py:118: UserWarning: The `lr` argument is deprecated, use `learning_rate` instead.\n",
      "  super().__init__(name, **kwargs)\n",
      "2024-03-30 17:55:58.531837: I tensorflow/core/grappler/optimizers/custom_graph_optimizer_registry.cc:114] Plugin optimizer for device_type GPU is enabled.\n",
      "2024-03-30 17:55:58.917095: I tensorflow/core/grappler/optimizers/custom_graph_optimizer_registry.cc:114] Plugin optimizer for device_type GPU is enabled.\n",
      "2024-03-30 17:55:58.973653: I tensorflow/core/grappler/optimizers/custom_graph_optimizer_registry.cc:114] Plugin optimizer for device_type GPU is enabled.\n",
      "2024-03-30 17:55:59.278210: I tensorflow/core/grappler/optimizers/custom_graph_optimizer_registry.cc:114] Plugin optimizer for device_type GPU is enabled.\n",
      "2024-03-30 17:55:59.292250: I tensorflow/core/grappler/optimizers/custom_graph_optimizer_registry.cc:114] Plugin optimizer for device_type GPU is enabled.\n",
      "2024-03-30 17:55:59.608509: I tensorflow/core/grappler/optimizers/custom_graph_optimizer_registry.cc:114] Plugin optimizer for device_type GPU is enabled.\n",
      "2024-03-30 17:55:59.634393: I tensorflow/core/grappler/optimizers/custom_graph_optimizer_registry.cc:114] Plugin optimizer for device_type GPU is enabled.\n",
      "2024-03-30 17:56:00.189067: I tensorflow/core/grappler/optimizers/custom_graph_optimizer_registry.cc:114] Plugin optimizer for device_type GPU is enabled.\n",
      "2024-03-30 17:56:00.212443: I tensorflow/core/grappler/optimizers/custom_graph_optimizer_registry.cc:114] Plugin optimizer for device_type GPU is enabled.\n"
     ]
    },
    {
     "name": "stdout",
     "output_type": "stream",
     "text": [
      "3/3 [==============================] - ETA: 0s - loss: 1.7431 - accuracy: 0.4516"
     ]
    },
    {
     "name": "stderr",
     "output_type": "stream",
     "text": [
      "2024-03-30 17:56:01.181125: I tensorflow/core/grappler/optimizers/custom_graph_optimizer_registry.cc:114] Plugin optimizer for device_type GPU is enabled.\n",
      "2024-03-30 17:56:01.324687: I tensorflow/core/grappler/optimizers/custom_graph_optimizer_registry.cc:114] Plugin optimizer for device_type GPU is enabled.\n",
      "2024-03-30 17:56:01.335833: I tensorflow/core/grappler/optimizers/custom_graph_optimizer_registry.cc:114] Plugin optimizer for device_type GPU is enabled.\n",
      "2024-03-30 17:56:01.556518: I tensorflow/core/grappler/optimizers/custom_graph_optimizer_registry.cc:114] Plugin optimizer for device_type GPU is enabled.\n",
      "2024-03-30 17:56:01.567377: I tensorflow/core/grappler/optimizers/custom_graph_optimizer_registry.cc:114] Plugin optimizer for device_type GPU is enabled.\n"
     ]
    },
    {
     "name": "stdout",
     "output_type": "stream",
     "text": [
      "3/3 [==============================] - 5s 639ms/step - loss: 1.7431 - accuracy: 0.4516 - val_loss: 1.6101 - val_accuracy: 0.7636\n",
      "Epoch 2/10\n",
      "3/3 [==============================] - 1s 141ms/step - loss: 1.5277 - accuracy: 0.7573 - val_loss: 1.4192 - val_accuracy: 0.8265\n",
      "Epoch 3/10\n",
      "3/3 [==============================] - 0s 138ms/step - loss: 1.3179 - accuracy: 0.8140 - val_loss: 1.1544 - val_accuracy: 0.8564\n",
      "Epoch 4/10\n",
      "3/3 [==============================] - 0s 139ms/step - loss: 1.0136 - accuracy: 0.8535 - val_loss: 0.7026 - val_accuracy: 0.8837\n",
      "Epoch 5/10\n",
      "3/3 [==============================] - 0s 126ms/step - loss: 0.5921 - accuracy: 0.8700 - val_loss: 0.3706 - val_accuracy: 0.8883\n",
      "Epoch 6/10\n",
      "3/3 [==============================] - 0s 123ms/step - loss: 0.3844 - accuracy: 0.8773 - val_loss: 0.3097 - val_accuracy: 0.9015\n",
      "Epoch 7/10\n",
      "3/3 [==============================] - 0s 101ms/step - loss: 0.3184 - accuracy: 0.8933 - val_loss: 0.2648 - val_accuracy: 0.9197\n",
      "Epoch 8/10\n",
      "3/3 [==============================] - 0s 112ms/step - loss: 0.2790 - accuracy: 0.9034 - val_loss: 0.2383 - val_accuracy: 0.9254\n",
      "Epoch 9/10\n",
      "3/3 [==============================] - 0s 100ms/step - loss: 0.2519 - accuracy: 0.9179 - val_loss: 0.2178 - val_accuracy: 0.9273\n",
      "Epoch 10/10\n",
      "3/3 [==============================] - 0s 118ms/step - loss: 0.2268 - accuracy: 0.9247 - val_loss: 0.1967 - val_accuracy: 0.9367\n"
     ]
    },
    {
     "name": "stderr",
     "output_type": "stream",
     "text": [
      "2024-03-30 17:56:05.348785: I tensorflow/core/grappler/optimizers/custom_graph_optimizer_registry.cc:114] Plugin optimizer for device_type GPU is enabled.\n",
      "2024-03-30 17:56:05.478347: I tensorflow/core/grappler/optimizers/custom_graph_optimizer_registry.cc:114] Plugin optimizer for device_type GPU is enabled.\n",
      "2024-03-30 17:56:05.478366: I tensorflow/core/grappler/optimizers/custom_graph_optimizer_registry.cc:114] Plugin optimizer for device_type GPU is enabled.\n"
     ]
    },
    {
     "name": "stdout",
     "output_type": "stream",
     "text": [
      "1/1 [==============================] - 1s 738ms/step\n"
     ]
    },
    {
     "name": "stderr",
     "output_type": "stream",
     "text": [
      "2024-03-30 17:56:05.610749: I tensorflow/core/grappler/optimizers/custom_graph_optimizer_registry.cc:114] Plugin optimizer for device_type GPU is enabled.\n",
      "2024-03-30 17:56:05.626923: I tensorflow/core/grappler/optimizers/custom_graph_optimizer_registry.cc:114] Plugin optimizer for device_type GPU is enabled.\n"
     ]
    },
    {
     "name": "stdout",
     "output_type": "stream",
     "text": [
      "Epoch 1/10\n"
     ]
    },
    {
     "name": "stderr",
     "output_type": "stream",
     "text": [
      "/Users/venessa/Desktop/5342project/venv/lib/python3.8/site-packages/keras/src/optimizers/legacy/adam.py:118: UserWarning: The `lr` argument is deprecated, use `learning_rate` instead.\n",
      "  super().__init__(name, **kwargs)\n",
      "2024-03-30 17:56:07.917997: I tensorflow/core/grappler/optimizers/custom_graph_optimizer_registry.cc:114] Plugin optimizer for device_type GPU is enabled.\n",
      "2024-03-30 17:56:08.307867: I tensorflow/core/grappler/optimizers/custom_graph_optimizer_registry.cc:114] Plugin optimizer for device_type GPU is enabled.\n",
      "2024-03-30 17:56:08.326396: I tensorflow/core/grappler/optimizers/custom_graph_optimizer_registry.cc:114] Plugin optimizer for device_type GPU is enabled.\n",
      "2024-03-30 17:56:08.511417: I tensorflow/core/grappler/optimizers/custom_graph_optimizer_registry.cc:114] Plugin optimizer for device_type GPU is enabled.\n",
      "2024-03-30 17:56:08.526251: I tensorflow/core/grappler/optimizers/custom_graph_optimizer_registry.cc:114] Plugin optimizer for device_type GPU is enabled.\n",
      "2024-03-30 17:56:08.778382: I tensorflow/core/grappler/optimizers/custom_graph_optimizer_registry.cc:114] Plugin optimizer for device_type GPU is enabled.\n",
      "2024-03-30 17:56:08.804197: I tensorflow/core/grappler/optimizers/custom_graph_optimizer_registry.cc:114] Plugin optimizer for device_type GPU is enabled.\n",
      "2024-03-30 17:56:09.068840: I tensorflow/core/grappler/optimizers/custom_graph_optimizer_registry.cc:114] Plugin optimizer for device_type GPU is enabled.\n",
      "2024-03-30 17:56:09.091133: I tensorflow/core/grappler/optimizers/custom_graph_optimizer_registry.cc:114] Plugin optimizer for device_type GPU is enabled.\n"
     ]
    },
    {
     "name": "stdout",
     "output_type": "stream",
     "text": [
      "3/3 [==============================] - ETA: 0s - loss: 1.7307 - accuracy: 0.4539"
     ]
    },
    {
     "name": "stderr",
     "output_type": "stream",
     "text": [
      "2024-03-30 17:56:10.008051: I tensorflow/core/grappler/optimizers/custom_graph_optimizer_registry.cc:114] Plugin optimizer for device_type GPU is enabled.\n",
      "2024-03-30 17:56:10.216815: I tensorflow/core/grappler/optimizers/custom_graph_optimizer_registry.cc:114] Plugin optimizer for device_type GPU is enabled.\n",
      "2024-03-30 17:56:10.217384: I tensorflow/core/grappler/optimizers/custom_graph_optimizer_registry.cc:114] Plugin optimizer for device_type GPU is enabled.\n",
      "2024-03-30 17:56:10.355045: I tensorflow/core/grappler/optimizers/custom_graph_optimizer_registry.cc:114] Plugin optimizer for device_type GPU is enabled.\n",
      "2024-03-30 17:56:10.366146: I tensorflow/core/grappler/optimizers/custom_graph_optimizer_registry.cc:114] Plugin optimizer for device_type GPU is enabled.\n"
     ]
    },
    {
     "name": "stdout",
     "output_type": "stream",
     "text": [
      "3/3 [==============================] - 4s 613ms/step - loss: 1.7307 - accuracy: 0.4539 - val_loss: 1.5939 - val_accuracy: 0.7735\n",
      "Epoch 2/10\n",
      "3/3 [==============================] - 0s 158ms/step - loss: 1.5262 - accuracy: 0.7612 - val_loss: 1.4086 - val_accuracy: 0.8375\n",
      "Epoch 3/10\n",
      "3/3 [==============================] - 0s 118ms/step - loss: 1.3515 - accuracy: 0.8205 - val_loss: 1.2231 - val_accuracy: 0.8640\n",
      "Epoch 4/10\n",
      "3/3 [==============================] - 0s 158ms/step - loss: 1.1480 - accuracy: 0.8527 - val_loss: 0.9421 - val_accuracy: 0.8837\n",
      "Epoch 5/10\n",
      "3/3 [==============================] - 0s 117ms/step - loss: 0.7996 - accuracy: 0.8800 - val_loss: 0.5048 - val_accuracy: 0.8875\n",
      "Epoch 6/10\n",
      "3/3 [==============================] - 0s 114ms/step - loss: 0.4322 - accuracy: 0.8884 - val_loss: 0.3258 - val_accuracy: 0.8852\n",
      "Epoch 7/10\n",
      "3/3 [==============================] - 0s 119ms/step - loss: 0.3155 - accuracy: 0.8982 - val_loss: 0.2777 - val_accuracy: 0.9045\n",
      "Epoch 8/10\n",
      "3/3 [==============================] - 0s 114ms/step - loss: 0.2745 - accuracy: 0.9114 - val_loss: 0.2428 - val_accuracy: 0.9193\n",
      "Epoch 9/10\n",
      "3/3 [==============================] - 0s 113ms/step - loss: 0.2438 - accuracy: 0.9225 - val_loss: 0.2226 - val_accuracy: 0.9250\n",
      "Epoch 10/10\n",
      "3/3 [==============================] - 0s 110ms/step - loss: 0.2177 - accuracy: 0.9301 - val_loss: 0.1997 - val_accuracy: 0.9318\n"
     ]
    },
    {
     "name": "stderr",
     "output_type": "stream",
     "text": [
      "2024-03-30 17:56:14.009107: I tensorflow/core/grappler/optimizers/custom_graph_optimizer_registry.cc:114] Plugin optimizer for device_type GPU is enabled.\n",
      "2024-03-30 17:56:14.127956: I tensorflow/core/grappler/optimizers/custom_graph_optimizer_registry.cc:114] Plugin optimizer for device_type GPU is enabled.\n",
      "2024-03-30 17:56:14.128158: I tensorflow/core/grappler/optimizers/custom_graph_optimizer_registry.cc:114] Plugin optimizer for device_type GPU is enabled.\n"
     ]
    },
    {
     "name": "stdout",
     "output_type": "stream",
     "text": [
      "1/1 [==============================] - 1s 699ms/step\n"
     ]
    },
    {
     "name": "stderr",
     "output_type": "stream",
     "text": [
      "2024-03-30 17:56:14.253748: I tensorflow/core/grappler/optimizers/custom_graph_optimizer_registry.cc:114] Plugin optimizer for device_type GPU is enabled.\n",
      "2024-03-30 17:56:14.266634: I tensorflow/core/grappler/optimizers/custom_graph_optimizer_registry.cc:114] Plugin optimizer for device_type GPU is enabled.\n"
     ]
    },
    {
     "name": "stdout",
     "output_type": "stream",
     "text": [
      "Epoch 1/10\n"
     ]
    },
    {
     "name": "stderr",
     "output_type": "stream",
     "text": [
      "/Users/venessa/Desktop/5342project/venv/lib/python3.8/site-packages/keras/src/optimizers/legacy/adam.py:118: UserWarning: The `lr` argument is deprecated, use `learning_rate` instead.\n",
      "  super().__init__(name, **kwargs)\n",
      "2024-03-30 17:56:16.297893: I tensorflow/core/grappler/optimizers/custom_graph_optimizer_registry.cc:114] Plugin optimizer for device_type GPU is enabled.\n",
      "2024-03-30 17:56:16.758439: I tensorflow/core/grappler/optimizers/custom_graph_optimizer_registry.cc:114] Plugin optimizer for device_type GPU is enabled.\n",
      "2024-03-30 17:56:16.773467: I tensorflow/core/grappler/optimizers/custom_graph_optimizer_registry.cc:114] Plugin optimizer for device_type GPU is enabled.\n",
      "2024-03-30 17:56:16.903487: I tensorflow/core/grappler/optimizers/custom_graph_optimizer_registry.cc:114] Plugin optimizer for device_type GPU is enabled.\n",
      "2024-03-30 17:56:16.916854: I tensorflow/core/grappler/optimizers/custom_graph_optimizer_registry.cc:114] Plugin optimizer for device_type GPU is enabled.\n",
      "2024-03-30 17:56:17.129622: I tensorflow/core/grappler/optimizers/custom_graph_optimizer_registry.cc:114] Plugin optimizer for device_type GPU is enabled.\n",
      "2024-03-30 17:56:17.154347: I tensorflow/core/grappler/optimizers/custom_graph_optimizer_registry.cc:114] Plugin optimizer for device_type GPU is enabled.\n",
      "2024-03-30 17:56:17.429464: I tensorflow/core/grappler/optimizers/custom_graph_optimizer_registry.cc:114] Plugin optimizer for device_type GPU is enabled.\n",
      "2024-03-30 17:56:17.451976: I tensorflow/core/grappler/optimizers/custom_graph_optimizer_registry.cc:114] Plugin optimizer for device_type GPU is enabled.\n"
     ]
    },
    {
     "name": "stdout",
     "output_type": "stream",
     "text": [
      "3/3 [==============================] - ETA: 0s - loss: 1.7485 - accuracy: 0.4337"
     ]
    },
    {
     "name": "stderr",
     "output_type": "stream",
     "text": [
      "2024-03-30 17:56:18.311084: I tensorflow/core/grappler/optimizers/custom_graph_optimizer_registry.cc:114] Plugin optimizer for device_type GPU is enabled.\n",
      "2024-03-30 17:56:18.447371: I tensorflow/core/grappler/optimizers/custom_graph_optimizer_registry.cc:114] Plugin optimizer for device_type GPU is enabled.\n",
      "2024-03-30 17:56:18.447388: I tensorflow/core/grappler/optimizers/custom_graph_optimizer_registry.cc:114] Plugin optimizer for device_type GPU is enabled.\n"
     ]
    },
    {
     "name": "stdout",
     "output_type": "stream",
     "text": [
      "3/3 [==============================] - 4s 544ms/step - loss: 1.7485 - accuracy: 0.4337 - val_loss: 1.5646 - val_accuracy: 0.8080\n"
     ]
    },
    {
     "name": "stderr",
     "output_type": "stream",
     "text": [
      "2024-03-30 17:56:18.585521: I tensorflow/core/grappler/optimizers/custom_graph_optimizer_registry.cc:114] Plugin optimizer for device_type GPU is enabled.\n",
      "2024-03-30 17:56:18.596875: I tensorflow/core/grappler/optimizers/custom_graph_optimizer_registry.cc:114] Plugin optimizer for device_type GPU is enabled.\n"
     ]
    },
    {
     "name": "stdout",
     "output_type": "stream",
     "text": [
      "Epoch 2/10\n",
      "3/3 [==============================] - 0s 122ms/step - loss: 1.5113 - accuracy: 0.7793 - val_loss: 1.3687 - val_accuracy: 0.8379\n",
      "Epoch 3/10\n",
      "3/3 [==============================] - 0s 131ms/step - loss: 1.2983 - accuracy: 0.8290 - val_loss: 1.1412 - val_accuracy: 0.8633\n",
      "Epoch 4/10\n",
      "3/3 [==============================] - 0s 139ms/step - loss: 1.0365 - accuracy: 0.8562 - val_loss: 0.7702 - val_accuracy: 0.8811\n",
      "Epoch 5/10\n",
      "3/3 [==============================] - 0s 121ms/step - loss: 0.6505 - accuracy: 0.8645 - val_loss: 0.3947 - val_accuracy: 0.8807\n",
      "Epoch 6/10\n",
      "3/3 [==============================] - 0s 109ms/step - loss: 0.3958 - accuracy: 0.8761 - val_loss: 0.3032 - val_accuracy: 0.8886\n",
      "Epoch 7/10\n",
      "3/3 [==============================] - 0s 110ms/step - loss: 0.3259 - accuracy: 0.8882 - val_loss: 0.2645 - val_accuracy: 0.9045\n",
      "Epoch 8/10\n",
      "3/3 [==============================] - 0s 115ms/step - loss: 0.2888 - accuracy: 0.9010 - val_loss: 0.2428 - val_accuracy: 0.9133\n",
      "Epoch 9/10\n",
      "3/3 [==============================] - 0s 139ms/step - loss: 0.2635 - accuracy: 0.9108 - val_loss: 0.2197 - val_accuracy: 0.9239\n",
      "Epoch 10/10\n",
      "3/3 [==============================] - 0s 106ms/step - loss: 0.2346 - accuracy: 0.9228 - val_loss: 0.1945 - val_accuracy: 0.9341\n"
     ]
    },
    {
     "name": "stderr",
     "output_type": "stream",
     "text": [
      "2024-03-30 17:56:22.082866: I tensorflow/core/grappler/optimizers/custom_graph_optimizer_registry.cc:114] Plugin optimizer for device_type GPU is enabled.\n",
      "2024-03-30 17:56:22.204053: I tensorflow/core/grappler/optimizers/custom_graph_optimizer_registry.cc:114] Plugin optimizer for device_type GPU is enabled.\n",
      "2024-03-30 17:56:22.204074: I tensorflow/core/grappler/optimizers/custom_graph_optimizer_registry.cc:114] Plugin optimizer for device_type GPU is enabled.\n"
     ]
    },
    {
     "name": "stdout",
     "output_type": "stream",
     "text": [
      "1/1 [==============================] - 1s 700ms/step\n"
     ]
    },
    {
     "name": "stderr",
     "output_type": "stream",
     "text": [
      "2024-03-30 17:56:22.328553: I tensorflow/core/grappler/optimizers/custom_graph_optimizer_registry.cc:114] Plugin optimizer for device_type GPU is enabled.\n",
      "2024-03-30 17:56:22.340794: I tensorflow/core/grappler/optimizers/custom_graph_optimizer_registry.cc:114] Plugin optimizer for device_type GPU is enabled.\n"
     ]
    },
    {
     "name": "stdout",
     "output_type": "stream",
     "text": [
      "Epoch 1/10\n"
     ]
    },
    {
     "name": "stderr",
     "output_type": "stream",
     "text": [
      "/Users/venessa/Desktop/5342project/venv/lib/python3.8/site-packages/keras/src/optimizers/legacy/adam.py:118: UserWarning: The `lr` argument is deprecated, use `learning_rate` instead.\n",
      "  super().__init__(name, **kwargs)\n",
      "2024-03-30 17:56:24.355919: I tensorflow/core/grappler/optimizers/custom_graph_optimizer_registry.cc:114] Plugin optimizer for device_type GPU is enabled.\n",
      "2024-03-30 17:56:24.739521: I tensorflow/core/grappler/optimizers/custom_graph_optimizer_registry.cc:114] Plugin optimizer for device_type GPU is enabled.\n",
      "2024-03-30 17:56:24.755044: I tensorflow/core/grappler/optimizers/custom_graph_optimizer_registry.cc:114] Plugin optimizer for device_type GPU is enabled.\n",
      "2024-03-30 17:56:24.884938: I tensorflow/core/grappler/optimizers/custom_graph_optimizer_registry.cc:114] Plugin optimizer for device_type GPU is enabled.\n",
      "2024-03-30 17:56:24.900625: I tensorflow/core/grappler/optimizers/custom_graph_optimizer_registry.cc:114] Plugin optimizer for device_type GPU is enabled.\n",
      "2024-03-30 17:56:25.110771: I tensorflow/core/grappler/optimizers/custom_graph_optimizer_registry.cc:114] Plugin optimizer for device_type GPU is enabled.\n",
      "2024-03-30 17:56:25.134634: I tensorflow/core/grappler/optimizers/custom_graph_optimizer_registry.cc:114] Plugin optimizer for device_type GPU is enabled.\n",
      "2024-03-30 17:56:25.376804: I tensorflow/core/grappler/optimizers/custom_graph_optimizer_registry.cc:114] Plugin optimizer for device_type GPU is enabled.\n",
      "2024-03-30 17:56:25.399759: I tensorflow/core/grappler/optimizers/custom_graph_optimizer_registry.cc:114] Plugin optimizer for device_type GPU is enabled.\n"
     ]
    },
    {
     "name": "stdout",
     "output_type": "stream",
     "text": [
      "3/3 [==============================] - ETA: 0s - loss: 1.7435 - accuracy: 0.4854"
     ]
    },
    {
     "name": "stderr",
     "output_type": "stream",
     "text": [
      "2024-03-30 17:56:26.198497: I tensorflow/core/grappler/optimizers/custom_graph_optimizer_registry.cc:114] Plugin optimizer for device_type GPU is enabled.\n",
      "2024-03-30 17:56:26.336809: I tensorflow/core/grappler/optimizers/custom_graph_optimizer_registry.cc:114] Plugin optimizer for device_type GPU is enabled.\n",
      "2024-03-30 17:56:26.336835: I tensorflow/core/grappler/optimizers/custom_graph_optimizer_registry.cc:114] Plugin optimizer for device_type GPU is enabled.\n",
      "2024-03-30 17:56:26.463188: I tensorflow/core/grappler/optimizers/custom_graph_optimizer_registry.cc:114] Plugin optimizer for device_type GPU is enabled.\n",
      "2024-03-30 17:56:26.476489: I tensorflow/core/grappler/optimizers/custom_graph_optimizer_registry.cc:114] Plugin optimizer for device_type GPU is enabled.\n"
     ]
    },
    {
     "name": "stdout",
     "output_type": "stream",
     "text": [
      "3/3 [==============================] - 4s 539ms/step - loss: 1.7435 - accuracy: 0.4854 - val_loss: 1.5740 - val_accuracy: 0.7322\n",
      "Epoch 2/10\n",
      "3/3 [==============================] - 1s 229ms/step - loss: 1.5328 - accuracy: 0.7707 - val_loss: 1.3539 - val_accuracy: 0.7917\n",
      "Epoch 3/10\n",
      "3/3 [==============================] - 0s 130ms/step - loss: 1.3188 - accuracy: 0.8198 - val_loss: 1.0778 - val_accuracy: 0.8258\n",
      "Epoch 4/10\n",
      "3/3 [==============================] - 0s 116ms/step - loss: 0.9923 - accuracy: 0.8476 - val_loss: 0.6772 - val_accuracy: 0.8576\n",
      "Epoch 5/10\n",
      "3/3 [==============================] - 0s 116ms/step - loss: 0.5692 - accuracy: 0.8667 - val_loss: 0.4168 - val_accuracy: 0.8701\n",
      "Epoch 6/10\n",
      "3/3 [==============================] - 0s 121ms/step - loss: 0.3635 - accuracy: 0.8822 - val_loss: 0.3469 - val_accuracy: 0.8830\n",
      "Epoch 7/10\n",
      "3/3 [==============================] - 0s 120ms/step - loss: 0.3072 - accuracy: 0.8983 - val_loss: 0.3107 - val_accuracy: 0.8947\n",
      "Epoch 8/10\n",
      "3/3 [==============================] - 0s 107ms/step - loss: 0.2811 - accuracy: 0.9083 - val_loss: 0.2818 - val_accuracy: 0.9023\n",
      "Epoch 9/10\n",
      "3/3 [==============================] - 0s 109ms/step - loss: 0.2499 - accuracy: 0.9198 - val_loss: 0.2550 - val_accuracy: 0.9110\n",
      "Epoch 10/10\n",
      "3/3 [==============================] - 0s 110ms/step - loss: 0.2258 - accuracy: 0.9271 - val_loss: 0.2315 - val_accuracy: 0.9193\n"
     ]
    },
    {
     "name": "stderr",
     "output_type": "stream",
     "text": [
      "2024-03-30 17:56:30.219913: I tensorflow/core/grappler/optimizers/custom_graph_optimizer_registry.cc:114] Plugin optimizer for device_type GPU is enabled.\n",
      "2024-03-30 17:56:30.345113: I tensorflow/core/grappler/optimizers/custom_graph_optimizer_registry.cc:114] Plugin optimizer for device_type GPU is enabled.\n",
      "2024-03-30 17:56:30.345130: I tensorflow/core/grappler/optimizers/custom_graph_optimizer_registry.cc:114] Plugin optimizer for device_type GPU is enabled.\n"
     ]
    },
    {
     "name": "stdout",
     "output_type": "stream",
     "text": [
      "1/1 [==============================] - 1s 748ms/step\n"
     ]
    },
    {
     "name": "stderr",
     "output_type": "stream",
     "text": [
      "2024-03-30 17:56:30.468775: I tensorflow/core/grappler/optimizers/custom_graph_optimizer_registry.cc:114] Plugin optimizer for device_type GPU is enabled.\n",
      "2024-03-30 17:56:30.480805: I tensorflow/core/grappler/optimizers/custom_graph_optimizer_registry.cc:114] Plugin optimizer for device_type GPU is enabled.\n"
     ]
    },
    {
     "name": "stdout",
     "output_type": "stream",
     "text": [
      "Epoch 1/10\n"
     ]
    },
    {
     "name": "stderr",
     "output_type": "stream",
     "text": [
      "/Users/venessa/Desktop/5342project/venv/lib/python3.8/site-packages/keras/src/optimizers/legacy/adam.py:118: UserWarning: The `lr` argument is deprecated, use `learning_rate` instead.\n",
      "  super().__init__(name, **kwargs)\n",
      "2024-03-30 17:56:32.151171: I tensorflow/core/grappler/optimizers/custom_graph_optimizer_registry.cc:114] Plugin optimizer for device_type GPU is enabled.\n",
      "2024-03-30 17:56:32.490705: I tensorflow/core/grappler/optimizers/custom_graph_optimizer_registry.cc:114] Plugin optimizer for device_type GPU is enabled.\n",
      "2024-03-30 17:56:32.507741: I tensorflow/core/grappler/optimizers/custom_graph_optimizer_registry.cc:114] Plugin optimizer for device_type GPU is enabled.\n",
      "2024-03-30 17:56:32.730490: I tensorflow/core/grappler/optimizers/custom_graph_optimizer_registry.cc:114] Plugin optimizer for device_type GPU is enabled.\n",
      "2024-03-30 17:56:32.745510: I tensorflow/core/grappler/optimizers/custom_graph_optimizer_registry.cc:114] Plugin optimizer for device_type GPU is enabled.\n",
      "2024-03-30 17:56:32.992925: I tensorflow/core/grappler/optimizers/custom_graph_optimizer_registry.cc:114] Plugin optimizer for device_type GPU is enabled.\n",
      "2024-03-30 17:56:33.017707: I tensorflow/core/grappler/optimizers/custom_graph_optimizer_registry.cc:114] Plugin optimizer for device_type GPU is enabled.\n",
      "2024-03-30 17:56:33.329352: I tensorflow/core/grappler/optimizers/custom_graph_optimizer_registry.cc:114] Plugin optimizer for device_type GPU is enabled.\n",
      "2024-03-30 17:56:33.351498: I tensorflow/core/grappler/optimizers/custom_graph_optimizer_registry.cc:114] Plugin optimizer for device_type GPU is enabled.\n"
     ]
    },
    {
     "name": "stdout",
     "output_type": "stream",
     "text": [
      "3/3 [==============================] - ETA: 0s - loss: 1.7442 - accuracy: 0.4105"
     ]
    },
    {
     "name": "stderr",
     "output_type": "stream",
     "text": [
      "2024-03-30 17:56:34.349045: I tensorflow/core/grappler/optimizers/custom_graph_optimizer_registry.cc:114] Plugin optimizer for device_type GPU is enabled.\n",
      "2024-03-30 17:56:34.490040: I tensorflow/core/grappler/optimizers/custom_graph_optimizer_registry.cc:114] Plugin optimizer for device_type GPU is enabled.\n",
      "2024-03-30 17:56:34.500709: I tensorflow/core/grappler/optimizers/custom_graph_optimizer_registry.cc:114] Plugin optimizer for device_type GPU is enabled.\n",
      "2024-03-30 17:56:34.680352: I tensorflow/core/grappler/optimizers/custom_graph_optimizer_registry.cc:114] Plugin optimizer for device_type GPU is enabled.\n",
      "2024-03-30 17:56:34.691640: I tensorflow/core/grappler/optimizers/custom_graph_optimizer_registry.cc:114] Plugin optimizer for device_type GPU is enabled.\n"
     ]
    },
    {
     "name": "stdout",
     "output_type": "stream",
     "text": [
      "3/3 [==============================] - 4s 689ms/step - loss: 1.7442 - accuracy: 0.4105 - val_loss: 1.5817 - val_accuracy: 0.7875\n",
      "Epoch 2/10\n",
      "3/3 [==============================] - 1s 190ms/step - loss: 1.5334 - accuracy: 0.7504 - val_loss: 1.3868 - val_accuracy: 0.8333\n",
      "Epoch 3/10\n",
      "3/3 [==============================] - 0s 146ms/step - loss: 1.3381 - accuracy: 0.8241 - val_loss: 1.1472 - val_accuracy: 0.8652\n",
      "Epoch 4/10\n",
      "3/3 [==============================] - 0s 124ms/step - loss: 1.0805 - accuracy: 0.8637 - val_loss: 0.7903 - val_accuracy: 0.8898\n",
      "Epoch 5/10\n",
      "3/3 [==============================] - 0s 124ms/step - loss: 0.7118 - accuracy: 0.8810 - val_loss: 0.4386 - val_accuracy: 0.8883\n",
      "Epoch 6/10\n",
      "3/3 [==============================] - 0s 108ms/step - loss: 0.4300 - accuracy: 0.8829 - val_loss: 0.3166 - val_accuracy: 0.8932\n",
      "Epoch 7/10\n",
      "3/3 [==============================] - 0s 125ms/step - loss: 0.3229 - accuracy: 0.8923 - val_loss: 0.2628 - val_accuracy: 0.9125\n",
      "Epoch 8/10\n",
      "3/3 [==============================] - 0s 106ms/step - loss: 0.2783 - accuracy: 0.9078 - val_loss: 0.2377 - val_accuracy: 0.9170\n",
      "Epoch 9/10\n",
      "3/3 [==============================] - 0s 116ms/step - loss: 0.2520 - accuracy: 0.9160 - val_loss: 0.2163 - val_accuracy: 0.9284\n",
      "Epoch 10/10\n",
      "3/3 [==============================] - 0s 115ms/step - loss: 0.2231 - accuracy: 0.9239 - val_loss: 0.1973 - val_accuracy: 0.9390\n"
     ]
    },
    {
     "name": "stderr",
     "output_type": "stream",
     "text": [
      "2024-03-30 17:56:39.575102: I tensorflow/core/grappler/optimizers/custom_graph_optimizer_registry.cc:114] Plugin optimizer for device_type GPU is enabled.\n",
      "2024-03-30 17:56:39.743388: I tensorflow/core/grappler/optimizers/custom_graph_optimizer_registry.cc:114] Plugin optimizer for device_type GPU is enabled.\n",
      "2024-03-30 17:56:39.744403: I tensorflow/core/grappler/optimizers/custom_graph_optimizer_registry.cc:114] Plugin optimizer for device_type GPU is enabled.\n",
      "2024-03-30 17:56:40.107980: I tensorflow/core/grappler/optimizers/custom_graph_optimizer_registry.cc:114] Plugin optimizer for device_type GPU is enabled.\n",
      "2024-03-30 17:56:40.128524: I tensorflow/core/grappler/optimizers/custom_graph_optimizer_registry.cc:114] Plugin optimizer for device_type GPU is enabled.\n"
     ]
    },
    {
     "name": "stdout",
     "output_type": "stream",
     "text": [
      "1/1 [==============================] - 2s 2s/step\n",
      "K-Fold Cross-Validation Results (5 folds):\n",
      "Average Accuracy: 0.9322 ± 0.0069\n",
      "Average Precision: 0.8797 ± 0.0089\n",
      "Average Recall: 0.8704 ± 0.0183\n",
      "Average F1-Score: 0.8730 ± 0.0117\n"
     ]
    }
   ],
   "source": [
    "# Cross validation for multimodal data\n",
    "\n",
    "cross_val_training(RNNModel, train_data, train_label, num_folds=5, epochs=10, batch_size=32)"
   ]
  },
  {
   "cell_type": "code",
   "execution_count": 84,
   "metadata": {},
   "outputs": [
    {
     "name": "stdout",
     "output_type": "stream",
     "text": [
      "Epoch 1/10\n"
     ]
    },
    {
     "name": "stderr",
     "output_type": "stream",
     "text": [
      "/Users/venessa/Desktop/5342project/venv/lib/python3.8/site-packages/keras/src/optimizers/legacy/adam.py:118: UserWarning: The `lr` argument is deprecated, use `learning_rate` instead.\n",
      "  super().__init__(name, **kwargs)\n",
      "2024-03-30 17:56:43.033273: I tensorflow/core/grappler/optimizers/custom_graph_optimizer_registry.cc:114] Plugin optimizer for device_type GPU is enabled.\n",
      "2024-03-30 17:56:43.432528: I tensorflow/core/grappler/optimizers/custom_graph_optimizer_registry.cc:114] Plugin optimizer for device_type GPU is enabled.\n",
      "2024-03-30 17:56:43.447753: I tensorflow/core/grappler/optimizers/custom_graph_optimizer_registry.cc:114] Plugin optimizer for device_type GPU is enabled.\n",
      "2024-03-30 17:56:43.609135: I tensorflow/core/grappler/optimizers/custom_graph_optimizer_registry.cc:114] Plugin optimizer for device_type GPU is enabled.\n",
      "2024-03-30 17:56:43.625460: I tensorflow/core/grappler/optimizers/custom_graph_optimizer_registry.cc:114] Plugin optimizer for device_type GPU is enabled.\n",
      "2024-03-30 17:56:43.935856: I tensorflow/core/grappler/optimizers/custom_graph_optimizer_registry.cc:114] Plugin optimizer for device_type GPU is enabled.\n",
      "2024-03-30 17:56:43.959294: I tensorflow/core/grappler/optimizers/custom_graph_optimizer_registry.cc:114] Plugin optimizer for device_type GPU is enabled.\n",
      "2024-03-30 17:56:44.356962: I tensorflow/core/grappler/optimizers/custom_graph_optimizer_registry.cc:114] Plugin optimizer for device_type GPU is enabled.\n",
      "2024-03-30 17:56:44.378375: I tensorflow/core/grappler/optimizers/custom_graph_optimizer_registry.cc:114] Plugin optimizer for device_type GPU is enabled.\n"
     ]
    },
    {
     "name": "stdout",
     "output_type": "stream",
     "text": [
      "4/4 [==============================] - 4s 308ms/step - loss: 1.6899 - accuracy: 0.5757\n",
      "Epoch 2/10\n",
      "4/4 [==============================] - 1s 140ms/step - loss: 1.4030 - accuracy: 0.8244\n",
      "Epoch 3/10\n",
      "4/4 [==============================] - 1s 126ms/step - loss: 1.0722 - accuracy: 0.8585\n",
      "Epoch 4/10\n",
      "4/4 [==============================] - 0s 97ms/step - loss: 0.5830 - accuracy: 0.8745\n",
      "Epoch 5/10\n",
      "4/4 [==============================] - 0s 94ms/step - loss: 0.3510 - accuracy: 0.8823\n",
      "Epoch 6/10\n",
      "4/4 [==============================] - 0s 91ms/step - loss: 0.2955 - accuracy: 0.9005\n",
      "Epoch 7/10\n",
      "4/4 [==============================] - 0s 87ms/step - loss: 0.2580 - accuracy: 0.9154\n",
      "Epoch 8/10\n",
      "4/4 [==============================] - 0s 93ms/step - loss: 0.2208 - accuracy: 0.9277\n",
      "Epoch 9/10\n",
      "4/4 [==============================] - 0s 89ms/step - loss: 0.1917 - accuracy: 0.9390\n",
      "Epoch 10/10\n",
      "4/4 [==============================] - 0s 90ms/step - loss: 0.1692 - accuracy: 0.9481\n"
     ]
    },
    {
     "name": "stderr",
     "output_type": "stream",
     "text": [
      "2024-03-30 17:56:49.557111: I tensorflow/core/grappler/optimizers/custom_graph_optimizer_registry.cc:114] Plugin optimizer for device_type GPU is enabled.\n",
      "2024-03-30 17:56:49.686190: I tensorflow/core/grappler/optimizers/custom_graph_optimizer_registry.cc:114] Plugin optimizer for device_type GPU is enabled.\n",
      "2024-03-30 17:56:49.697084: I tensorflow/core/grappler/optimizers/custom_graph_optimizer_registry.cc:114] Plugin optimizer for device_type GPU is enabled.\n",
      "2024-03-30 17:56:49.921696: I tensorflow/core/grappler/optimizers/custom_graph_optimizer_registry.cc:114] Plugin optimizer for device_type GPU is enabled.\n",
      "2024-03-30 17:56:49.932441: I tensorflow/core/grappler/optimizers/custom_graph_optimizer_registry.cc:114] Plugin optimizer for device_type GPU is enabled.\n"
     ]
    },
    {
     "name": "stdout",
     "output_type": "stream",
     "text": [
      "1/1 [==============================] - 1s 974ms/step\n",
      "Test Metrics:\n",
      "Accuracy: 0.8032\n",
      "Precision: 0.7072\n",
      "Recall: 0.6658\n",
      "F1 Score: 0.6764\n"
     ]
    }
   ],
   "source": [
    "# Train and evaluate based on test data for multimodal data\n",
    "\n",
    "# Instantiate the model\n",
    "rnn_model_multimodal = RNNModel(input_shape=train_data.shape[1:], num_classes=train_label.shape[2])\n",
    "\n",
    "# Compile the model\n",
    "rnn_model_multimodal.compile(lr=0.001)\n",
    "\n",
    "# Train and evaluate on the test dataset\n",
    "history, test_metrics = rnn_model_multimodal.train_and_evaluate_on_test(train_data, train_label, test_data, test_label, epochs=10, batch_size=32)"
   ]
  },
  {
   "cell_type": "markdown",
   "metadata": {},
   "source": [
    "## CNN"
   ]
  },
  {
   "cell_type": "code",
   "execution_count": 65,
   "metadata": {},
   "outputs": [],
   "source": [
    "# Define CNN Model\n",
    "\n",
    "class CNNModel(BaseModel):\n",
    "    def build_model(self):\n",
    "        inputs = Input(shape=self.input_shape)\n",
    "        x = Conv1D(64, kernel_size=10, activation='relu', padding='same')(inputs)\n",
    "        x = Conv1D(64, kernel_size=11, activation='relu', padding='same')(x)\n",
    "        x = Conv1D(64, kernel_size=12, activation='relu', padding='same')(x)\n",
    "        x = Dense(64, activation='relu')(x)\n",
    "        outputs = Dense(self.num_classes, activation='softmax')(x)\n",
    "        return Model(inputs, outputs)"
   ]
  },
  {
   "cell_type": "code",
   "execution_count": 67,
   "metadata": {},
   "outputs": [
    {
     "name": "stdout",
     "output_type": "stream",
     "text": [
      "Epoch 1/10\n"
     ]
    },
    {
     "name": "stderr",
     "output_type": "stream",
     "text": [
      "/Users/venessa/Desktop/5342project/venv/lib/python3.8/site-packages/keras/src/optimizers/legacy/adam.py:118: UserWarning: The `lr` argument is deprecated, use `learning_rate` instead.\n",
      "  super().__init__(name, **kwargs)\n",
      "2024-03-30 17:51:36.384941: I tensorflow/core/grappler/optimizers/custom_graph_optimizer_registry.cc:114] Plugin optimizer for device_type GPU is enabled.\n"
     ]
    },
    {
     "name": "stdout",
     "output_type": "stream",
     "text": [
      "3/3 [==============================] - 1s 111ms/step - loss: 2.6966 - accuracy: 0.4210 - val_loss: 1.6335 - val_accuracy: 0.7379\n",
      "Epoch 2/10\n",
      "1/3 [=========>....................] - ETA: 0s - loss: 1.4569 - accuracy: 0.7560"
     ]
    },
    {
     "name": "stderr",
     "output_type": "stream",
     "text": [
      "2024-03-30 17:51:36.705431: I tensorflow/core/grappler/optimizers/custom_graph_optimizer_registry.cc:114] Plugin optimizer for device_type GPU is enabled.\n"
     ]
    },
    {
     "name": "stdout",
     "output_type": "stream",
     "text": [
      "3/3 [==============================] - 0s 38ms/step - loss: 1.4209 - accuracy: 0.7808 - val_loss: 1.4265 - val_accuracy: 0.8420\n",
      "Epoch 3/10\n",
      "3/3 [==============================] - 0s 78ms/step - loss: 1.2287 - accuracy: 0.8553 - val_loss: 1.3103 - val_accuracy: 0.8723\n",
      "Epoch 4/10\n",
      "3/3 [==============================] - 0s 30ms/step - loss: 1.1386 - accuracy: 0.8756 - val_loss: 1.2593 - val_accuracy: 0.8913\n",
      "Epoch 5/10\n",
      "3/3 [==============================] - 0s 30ms/step - loss: 1.0577 - accuracy: 0.8943 - val_loss: 1.1838 - val_accuracy: 0.9015\n",
      "Epoch 6/10\n",
      "3/3 [==============================] - 0s 32ms/step - loss: 0.9890 - accuracy: 0.9130 - val_loss: 1.1321 - val_accuracy: 0.9072\n",
      "Epoch 7/10\n",
      "3/3 [==============================] - 0s 30ms/step - loss: 0.9317 - accuracy: 0.9290 - val_loss: 1.0919 - val_accuracy: 0.9129\n",
      "Epoch 8/10\n",
      "3/3 [==============================] - 0s 28ms/step - loss: 0.8861 - accuracy: 0.9364 - val_loss: 1.0485 - val_accuracy: 0.9186\n",
      "Epoch 9/10\n",
      "3/3 [==============================] - 0s 28ms/step - loss: 0.8381 - accuracy: 0.9420 - val_loss: 1.0048 - val_accuracy: 0.9273\n",
      "Epoch 10/10\n",
      "3/3 [==============================] - 0s 28ms/step - loss: 0.7966 - accuracy: 0.9491 - val_loss: 0.9729 - val_accuracy: 0.9288\n",
      "1/1 [==============================] - 0s 103ms/step\n",
      "Epoch 1/10\n"
     ]
    },
    {
     "name": "stderr",
     "output_type": "stream",
     "text": [
      "2024-03-30 17:51:37.679370: I tensorflow/core/grappler/optimizers/custom_graph_optimizer_registry.cc:114] Plugin optimizer for device_type GPU is enabled.\n",
      "/Users/venessa/Desktop/5342project/venv/lib/python3.8/site-packages/keras/src/optimizers/legacy/adam.py:118: UserWarning: The `lr` argument is deprecated, use `learning_rate` instead.\n",
      "  super().__init__(name, **kwargs)\n"
     ]
    },
    {
     "name": "stdout",
     "output_type": "stream",
     "text": [
      "1/3 [=========>....................] - ETA: 0s - loss: 2.7635 - accuracy: 0.5239"
     ]
    },
    {
     "name": "stderr",
     "output_type": "stream",
     "text": [
      "2024-03-30 17:51:37.944671: I tensorflow/core/grappler/optimizers/custom_graph_optimizer_registry.cc:114] Plugin optimizer for device_type GPU is enabled.\n"
     ]
    },
    {
     "name": "stdout",
     "output_type": "stream",
     "text": [
      "3/3 [==============================] - 1s 120ms/step - loss: 2.2928 - accuracy: 0.4454 - val_loss: 1.5703 - val_accuracy: 0.6822\n",
      "Epoch 2/10\n",
      "1/3 [=========>....................] - ETA: 0s - loss: 1.5360 - accuracy: 0.7423"
     ]
    },
    {
     "name": "stderr",
     "output_type": "stream",
     "text": [
      "2024-03-30 17:51:38.243772: I tensorflow/core/grappler/optimizers/custom_graph_optimizer_registry.cc:114] Plugin optimizer for device_type GPU is enabled.\n"
     ]
    },
    {
     "name": "stdout",
     "output_type": "stream",
     "text": [
      "3/3 [==============================] - 0s 34ms/step - loss: 1.4860 - accuracy: 0.7490 - val_loss: 1.3551 - val_accuracy: 0.7977\n",
      "Epoch 3/10\n",
      "3/3 [==============================] - 0s 34ms/step - loss: 1.2943 - accuracy: 0.8439 - val_loss: 1.2969 - val_accuracy: 0.8307\n",
      "Epoch 4/10\n",
      "3/3 [==============================] - 0s 31ms/step - loss: 1.2141 - accuracy: 0.8701 - val_loss: 1.1944 - val_accuracy: 0.8602\n",
      "Epoch 5/10\n",
      "3/3 [==============================] - 0s 29ms/step - loss: 1.1274 - accuracy: 0.8963 - val_loss: 1.1081 - val_accuracy: 0.8780\n",
      "Epoch 6/10\n",
      "3/3 [==============================] - 0s 30ms/step - loss: 1.0403 - accuracy: 0.9123 - val_loss: 1.0340 - val_accuracy: 0.8890\n",
      "Epoch 7/10\n",
      "3/3 [==============================] - 0s 28ms/step - loss: 0.9729 - accuracy: 0.9280 - val_loss: 0.9859 - val_accuracy: 0.9042\n",
      "Epoch 8/10\n",
      "3/3 [==============================] - 0s 31ms/step - loss: 0.9151 - accuracy: 0.9434 - val_loss: 0.9396 - val_accuracy: 0.9163\n",
      "Epoch 9/10\n",
      "3/3 [==============================] - 0s 28ms/step - loss: 0.8640 - accuracy: 0.9529 - val_loss: 0.8992 - val_accuracy: 0.9227\n",
      "Epoch 10/10\n",
      "3/3 [==============================] - 0s 29ms/step - loss: 0.8164 - accuracy: 0.9593 - val_loss: 0.8617 - val_accuracy: 0.9314\n",
      "1/1 [==============================] - 0s 112ms/step\n",
      "Epoch 1/10\n"
     ]
    },
    {
     "name": "stderr",
     "output_type": "stream",
     "text": [
      "2024-03-30 17:51:39.133648: I tensorflow/core/grappler/optimizers/custom_graph_optimizer_registry.cc:114] Plugin optimizer for device_type GPU is enabled.\n",
      "/Users/venessa/Desktop/5342project/venv/lib/python3.8/site-packages/keras/src/optimizers/legacy/adam.py:118: UserWarning: The `lr` argument is deprecated, use `learning_rate` instead.\n",
      "  super().__init__(name, **kwargs)\n"
     ]
    },
    {
     "name": "stdout",
     "output_type": "stream",
     "text": [
      "1/3 [=========>....................] - ETA: 0s - loss: 2.8353 - accuracy: 0.5597"
     ]
    },
    {
     "name": "stderr",
     "output_type": "stream",
     "text": [
      "2024-03-30 17:51:39.419599: I tensorflow/core/grappler/optimizers/custom_graph_optimizer_registry.cc:114] Plugin optimizer for device_type GPU is enabled.\n"
     ]
    },
    {
     "name": "stdout",
     "output_type": "stream",
     "text": [
      "3/3 [==============================] - 1s 112ms/step - loss: 2.3287 - accuracy: 0.5627 - val_loss: 1.7497 - val_accuracy: 0.5989\n",
      "Epoch 2/10\n",
      "1/3 [=========>....................] - ETA: 0s - loss: 1.7125 - accuracy: 0.6716"
     ]
    },
    {
     "name": "stderr",
     "output_type": "stream",
     "text": [
      "2024-03-30 17:51:39.719378: I tensorflow/core/grappler/optimizers/custom_graph_optimizer_registry.cc:114] Plugin optimizer for device_type GPU is enabled.\n"
     ]
    },
    {
     "name": "stdout",
     "output_type": "stream",
     "text": [
      "3/3 [==============================] - 0s 34ms/step - loss: 1.5847 - accuracy: 0.7121 - val_loss: 1.3710 - val_accuracy: 0.7758\n",
      "Epoch 3/10\n",
      "3/3 [==============================] - 0s 36ms/step - loss: 1.3552 - accuracy: 0.8297 - val_loss: 1.1828 - val_accuracy: 0.8595\n",
      "Epoch 4/10\n",
      "3/3 [==============================] - 0s 30ms/step - loss: 1.2053 - accuracy: 0.8754 - val_loss: 1.1016 - val_accuracy: 0.8792\n",
      "Epoch 5/10\n",
      "3/3 [==============================] - 0s 34ms/step - loss: 1.1228 - accuracy: 0.8916 - val_loss: 1.0472 - val_accuracy: 0.8977\n",
      "Epoch 6/10\n",
      "3/3 [==============================] - 0s 29ms/step - loss: 1.0508 - accuracy: 0.9139 - val_loss: 0.9841 - val_accuracy: 0.9083\n",
      "Epoch 7/10\n",
      "3/3 [==============================] - 0s 28ms/step - loss: 0.9792 - accuracy: 0.9299 - val_loss: 0.9364 - val_accuracy: 0.9167\n",
      "Epoch 8/10\n",
      "3/3 [==============================] - 0s 36ms/step - loss: 0.9203 - accuracy: 0.9427 - val_loss: 0.8842 - val_accuracy: 0.9212\n",
      "Epoch 9/10\n",
      "3/3 [==============================] - 0s 29ms/step - loss: 0.8714 - accuracy: 0.9516 - val_loss: 0.8447 - val_accuracy: 0.9330\n",
      "Epoch 10/10\n",
      "3/3 [==============================] - 0s 28ms/step - loss: 0.8288 - accuracy: 0.9579 - val_loss: 0.8137 - val_accuracy: 0.9318\n",
      "1/1 [==============================] - 0s 106ms/step\n",
      "Epoch 1/10\n"
     ]
    },
    {
     "name": "stderr",
     "output_type": "stream",
     "text": [
      "2024-03-30 17:51:40.627811: I tensorflow/core/grappler/optimizers/custom_graph_optimizer_registry.cc:114] Plugin optimizer for device_type GPU is enabled.\n",
      "/Users/venessa/Desktop/5342project/venv/lib/python3.8/site-packages/keras/src/optimizers/legacy/adam.py:118: UserWarning: The `lr` argument is deprecated, use `learning_rate` instead.\n",
      "  super().__init__(name, **kwargs)\n"
     ]
    },
    {
     "name": "stdout",
     "output_type": "stream",
     "text": [
      "1/3 [=========>....................] - ETA: 0s - loss: 2.7852 - accuracy: 0.5736"
     ]
    },
    {
     "name": "stderr",
     "output_type": "stream",
     "text": [
      "2024-03-30 17:51:40.897442: I tensorflow/core/grappler/optimizers/custom_graph_optimizer_registry.cc:114] Plugin optimizer for device_type GPU is enabled.\n"
     ]
    },
    {
     "name": "stdout",
     "output_type": "stream",
     "text": [
      "3/3 [==============================] - 1s 118ms/step - loss: 2.0819 - accuracy: 0.6133 - val_loss: 1.4507 - val_accuracy: 0.7602\n",
      "Epoch 2/10\n",
      "1/3 [=========>....................] - ETA: 0s - loss: 1.4599 - accuracy: 0.7705"
     ]
    },
    {
     "name": "stderr",
     "output_type": "stream",
     "text": [
      "2024-03-30 17:51:41.203382: I tensorflow/core/grappler/optimizers/custom_graph_optimizer_registry.cc:114] Plugin optimizer for device_type GPU is enabled.\n"
     ]
    },
    {
     "name": "stdout",
     "output_type": "stream",
     "text": [
      "3/3 [==============================] - 0s 37ms/step - loss: 1.3965 - accuracy: 0.7982 - val_loss: 1.2363 - val_accuracy: 0.8549\n",
      "Epoch 3/10\n",
      "3/3 [==============================] - 0s 33ms/step - loss: 1.2218 - accuracy: 0.8641 - val_loss: 1.1387 - val_accuracy: 0.8875\n",
      "Epoch 4/10\n",
      "3/3 [==============================] - 0s 28ms/step - loss: 1.1211 - accuracy: 0.8828 - val_loss: 1.0699 - val_accuracy: 0.8920\n",
      "Epoch 5/10\n",
      "3/3 [==============================] - 0s 30ms/step - loss: 1.0302 - accuracy: 0.9058 - val_loss: 1.0003 - val_accuracy: 0.9167\n",
      "Epoch 6/10\n",
      "3/3 [==============================] - 0s 28ms/step - loss: 0.9548 - accuracy: 0.9289 - val_loss: 0.9369 - val_accuracy: 0.9295\n",
      "Epoch 7/10\n",
      "3/3 [==============================] - 0s 30ms/step - loss: 0.8869 - accuracy: 0.9416 - val_loss: 0.8941 - val_accuracy: 0.9386\n",
      "Epoch 8/10\n",
      "3/3 [==============================] - 0s 28ms/step - loss: 0.8308 - accuracy: 0.9538 - val_loss: 0.8504 - val_accuracy: 0.9447\n",
      "Epoch 9/10\n",
      "3/3 [==============================] - 0s 33ms/step - loss: 0.7771 - accuracy: 0.9600 - val_loss: 0.8098 - val_accuracy: 0.9477\n",
      "Epoch 10/10\n",
      "3/3 [==============================] - 0s 28ms/step - loss: 0.7175 - accuracy: 0.9660 - val_loss: 0.7564 - val_accuracy: 0.9508\n",
      "1/1 [==============================] - 0s 156ms/step\n",
      "Epoch 1/10\n"
     ]
    },
    {
     "name": "stderr",
     "output_type": "stream",
     "text": [
      "2024-03-30 17:51:42.069670: I tensorflow/core/grappler/optimizers/custom_graph_optimizer_registry.cc:114] Plugin optimizer for device_type GPU is enabled.\n",
      "/Users/venessa/Desktop/5342project/venv/lib/python3.8/site-packages/keras/src/optimizers/legacy/adam.py:118: UserWarning: The `lr` argument is deprecated, use `learning_rate` instead.\n",
      "  super().__init__(name, **kwargs)\n",
      "2024-03-30 17:51:42.393094: I tensorflow/core/grappler/optimizers/custom_graph_optimizer_registry.cc:114] Plugin optimizer for device_type GPU is enabled.\n"
     ]
    },
    {
     "name": "stdout",
     "output_type": "stream",
     "text": [
      "3/3 [==============================] - 1s 115ms/step - loss: 2.4975 - accuracy: 0.3149 - val_loss: 1.6937 - val_accuracy: 0.6723\n",
      "Epoch 2/10\n",
      "1/3 [=========>....................] - ETA: 0s - loss: 1.6504 - accuracy: 0.7045"
     ]
    },
    {
     "name": "stderr",
     "output_type": "stream",
     "text": [
      "2024-03-30 17:51:42.727259: I tensorflow/core/grappler/optimizers/custom_graph_optimizer_registry.cc:114] Plugin optimizer for device_type GPU is enabled.\n"
     ]
    },
    {
     "name": "stdout",
     "output_type": "stream",
     "text": [
      "3/3 [==============================] - 0s 34ms/step - loss: 1.5050 - accuracy: 0.7527 - val_loss: 1.3575 - val_accuracy: 0.8042\n",
      "Epoch 3/10\n",
      "3/3 [==============================] - 0s 32ms/step - loss: 1.2396 - accuracy: 0.8498 - val_loss: 1.2530 - val_accuracy: 0.8458\n",
      "Epoch 4/10\n",
      "3/3 [==============================] - 0s 30ms/step - loss: 1.1663 - accuracy: 0.8757 - val_loss: 1.1944 - val_accuracy: 0.8644\n",
      "Epoch 5/10\n",
      "3/3 [==============================] - 0s 29ms/step - loss: 1.0938 - accuracy: 0.8946 - val_loss: 1.1059 - val_accuracy: 0.8826\n",
      "Epoch 6/10\n",
      "3/3 [==============================] - 0s 28ms/step - loss: 1.0155 - accuracy: 0.9119 - val_loss: 1.0465 - val_accuracy: 0.8996\n",
      "Epoch 7/10\n",
      "3/3 [==============================] - 0s 28ms/step - loss: 0.9590 - accuracy: 0.9261 - val_loss: 1.0024 - val_accuracy: 0.9125\n",
      "Epoch 8/10\n",
      "3/3 [==============================] - 0s 29ms/step - loss: 0.9102 - accuracy: 0.9393 - val_loss: 0.9500 - val_accuracy: 0.9269\n",
      "Epoch 9/10\n",
      "3/3 [==============================] - 0s 27ms/step - loss: 0.8689 - accuracy: 0.9460 - val_loss: 0.9134 - val_accuracy: 0.9314\n",
      "Epoch 10/10\n",
      "3/3 [==============================] - 0s 28ms/step - loss: 0.8265 - accuracy: 0.9530 - val_loss: 0.8817 - val_accuracy: 0.9352\n",
      "1/1 [==============================] - 0s 104ms/step\n",
      "K-Fold Cross-Validation Results (5 folds):\n",
      "Average Accuracy: 0.9356 ± 0.0078\n",
      "Average Precision: 0.8884 ± 0.0186\n",
      "Average Recall: 0.8690 ± 0.0267\n",
      "Average F1-Score: 0.8774 ± 0.0222\n"
     ]
    },
    {
     "name": "stderr",
     "output_type": "stream",
     "text": [
      "2024-03-30 17:51:43.580866: I tensorflow/core/grappler/optimizers/custom_graph_optimizer_registry.cc:114] Plugin optimizer for device_type GPU is enabled.\n"
     ]
    }
   ],
   "source": [
    "# Cross validation training for text modality\n",
    "\n",
    "cnn_model = cross_val_training(CNNModel, train_text, train_label, num_folds=5, epochs=10, batch_size=32)"
   ]
  },
  {
   "cell_type": "code",
   "execution_count": 68,
   "metadata": {},
   "outputs": [
    {
     "name": "stdout",
     "output_type": "stream",
     "text": [
      "Epoch 1/10\n"
     ]
    },
    {
     "name": "stderr",
     "output_type": "stream",
     "text": [
      "/Users/venessa/Desktop/5342project/venv/lib/python3.8/site-packages/keras/src/optimizers/legacy/adam.py:118: UserWarning: The `lr` argument is deprecated, use `learning_rate` instead.\n",
      "  super().__init__(name, **kwargs)\n",
      "2024-03-30 17:51:45.625051: I tensorflow/core/grappler/optimizers/custom_graph_optimizer_registry.cc:114] Plugin optimizer for device_type GPU is enabled.\n"
     ]
    },
    {
     "name": "stdout",
     "output_type": "stream",
     "text": [
      "4/4 [==============================] - 1s 57ms/step - loss: 2.4299 - accuracy: 0.5567\n",
      "Epoch 2/10\n",
      "4/4 [==============================] - 0s 23ms/step - loss: 1.5034 - accuracy: 0.7240\n",
      "Epoch 3/10\n",
      "4/4 [==============================] - 0s 24ms/step - loss: 1.2601 - accuracy: 0.8512\n",
      "Epoch 4/10\n",
      "4/4 [==============================] - 0s 29ms/step - loss: 1.1598 - accuracy: 0.8862\n",
      "Epoch 5/10\n",
      "4/4 [==============================] - 0s 23ms/step - loss: 1.0610 - accuracy: 0.9069\n",
      "Epoch 6/10\n",
      "4/4 [==============================] - 0s 25ms/step - loss: 0.9736 - accuracy: 0.9270\n",
      "Epoch 7/10\n",
      "4/4 [==============================] - 0s 23ms/step - loss: 0.9080 - accuracy: 0.9396\n",
      "Epoch 8/10\n",
      "4/4 [==============================] - 0s 23ms/step - loss: 0.8462 - accuracy: 0.9493\n",
      "Epoch 9/10\n",
      "4/4 [==============================] - 0s 42ms/step - loss: 0.7861 - accuracy: 0.9564\n",
      "Epoch 10/10\n",
      "4/4 [==============================] - 0s 22ms/step - loss: 0.7193 - accuracy: 0.9624\n",
      "1/1 [==============================] - 0s 109ms/step\n",
      "Test Metrics:\n",
      "Accuracy: 0.7859\n",
      "Precision: 0.6650\n",
      "Recall: 0.6313\n",
      "F1 Score: 0.6412\n"
     ]
    },
    {
     "name": "stderr",
     "output_type": "stream",
     "text": [
      "2024-03-30 17:51:47.013798: I tensorflow/core/grappler/optimizers/custom_graph_optimizer_registry.cc:114] Plugin optimizer for device_type GPU is enabled.\n"
     ]
    }
   ],
   "source": [
    "# Train and evaluate based on test data for text modality\n",
    "\n",
    "# Instantiate the model\n",
    "cnn_model_text = CNNModel(input_shape=train_text.shape[1:], num_classes=train_label.shape[2])\n",
    "\n",
    "# Compile the model\n",
    "cnn_model_text.compile(lr=0.001)\n",
    "\n",
    "# Train and evaluate on the test dataset\n",
    "history, test_metrics = cnn_model_text.train_and_evaluate_on_test(train_text, train_label, test_text, test_label, epochs=10, batch_size=32)"
   ]
  },
  {
   "cell_type": "code",
   "execution_count": 69,
   "metadata": {},
   "outputs": [
    {
     "name": "stdout",
     "output_type": "stream",
     "text": [
      "Epoch 1/10\n"
     ]
    },
    {
     "name": "stderr",
     "output_type": "stream",
     "text": [
      "/Users/venessa/Desktop/5342project/venv/lib/python3.8/site-packages/keras/src/optimizers/legacy/adam.py:118: UserWarning: The `lr` argument is deprecated, use `learning_rate` instead.\n",
      "  super().__init__(name, **kwargs)\n",
      "2024-03-30 17:51:59.110302: I tensorflow/core/grappler/optimizers/custom_graph_optimizer_registry.cc:114] Plugin optimizer for device_type GPU is enabled.\n"
     ]
    },
    {
     "name": "stdout",
     "output_type": "stream",
     "text": [
      "3/3 [==============================] - 1s 118ms/step - loss: 1.7822 - accuracy: 0.5856 - val_loss: 1.7363 - val_accuracy: 0.6216\n",
      "Epoch 2/10\n",
      "1/3 [=========>....................] - ETA: 0s - loss: 1.7406 - accuracy: 0.6938"
     ]
    },
    {
     "name": "stderr",
     "output_type": "stream",
     "text": [
      "2024-03-30 17:51:59.438680: I tensorflow/core/grappler/optimizers/custom_graph_optimizer_registry.cc:114] Plugin optimizer for device_type GPU is enabled.\n"
     ]
    },
    {
     "name": "stdout",
     "output_type": "stream",
     "text": [
      "3/3 [==============================] - 0s 34ms/step - loss: 1.7117 - accuracy: 0.6934 - val_loss: 1.6140 - val_accuracy: 0.6254\n",
      "Epoch 3/10\n",
      "3/3 [==============================] - 0s 34ms/step - loss: 1.6332 - accuracy: 0.7041 - val_loss: 1.5215 - val_accuracy: 0.6564\n",
      "Epoch 4/10\n",
      "3/3 [==============================] - 0s 33ms/step - loss: 1.4963 - accuracy: 0.7305 - val_loss: 1.3951 - val_accuracy: 0.6693\n",
      "Epoch 5/10\n",
      "3/3 [==============================] - 0s 33ms/step - loss: 1.3406 - accuracy: 0.7571 - val_loss: 1.3430 - val_accuracy: 0.6625\n",
      "Epoch 6/10\n",
      "3/3 [==============================] - 0s 29ms/step - loss: 1.1722 - accuracy: 0.7634 - val_loss: 1.1211 - val_accuracy: 0.6712\n",
      "Epoch 7/10\n",
      "3/3 [==============================] - 0s 28ms/step - loss: 0.9803 - accuracy: 0.7631 - val_loss: 1.0738 - val_accuracy: 0.6610\n",
      "Epoch 8/10\n",
      "3/3 [==============================] - 0s 29ms/step - loss: 0.7620 - accuracy: 0.7652 - val_loss: 0.7740 - val_accuracy: 0.7053\n",
      "Epoch 9/10\n",
      "3/3 [==============================] - 0s 31ms/step - loss: 0.6328 - accuracy: 0.7668 - val_loss: 0.7144 - val_accuracy: 0.7220\n",
      "Epoch 10/10\n",
      "3/3 [==============================] - 0s 39ms/step - loss: 0.5495 - accuracy: 0.7803 - val_loss: 0.7148 - val_accuracy: 0.7197\n",
      "1/1 [==============================] - 0s 121ms/step\n",
      "Epoch 1/10\n"
     ]
    },
    {
     "name": "stderr",
     "output_type": "stream",
     "text": [
      "2024-03-30 17:52:00.384580: I tensorflow/core/grappler/optimizers/custom_graph_optimizer_registry.cc:114] Plugin optimizer for device_type GPU is enabled.\n",
      "/Users/venessa/Desktop/5342project/venv/lib/python3.8/site-packages/keras/src/optimizers/legacy/adam.py:118: UserWarning: The `lr` argument is deprecated, use `learning_rate` instead.\n",
      "  super().__init__(name, **kwargs)\n",
      "2024-03-30 17:52:00.687870: I tensorflow/core/grappler/optimizers/custom_graph_optimizer_registry.cc:114] Plugin optimizer for device_type GPU is enabled.\n"
     ]
    },
    {
     "name": "stdout",
     "output_type": "stream",
     "text": [
      "3/3 [==============================] - 1s 114ms/step - loss: 1.7779 - accuracy: 0.6016 - val_loss: 1.7543 - val_accuracy: 0.6992\n",
      "Epoch 2/10\n",
      "1/3 [=========>....................] - ETA: 0s - loss: 1.7472 - accuracy: 0.6770"
     ]
    },
    {
     "name": "stderr",
     "output_type": "stream",
     "text": [
      "2024-03-30 17:52:00.999246: I tensorflow/core/grappler/optimizers/custom_graph_optimizer_registry.cc:114] Plugin optimizer for device_type GPU is enabled.\n"
     ]
    },
    {
     "name": "stdout",
     "output_type": "stream",
     "text": [
      "3/3 [==============================] - 0s 107ms/step - loss: 1.6851 - accuracy: 0.6995 - val_loss: 1.6600 - val_accuracy: 0.7155\n",
      "Epoch 3/10\n",
      "3/3 [==============================] - 0s 35ms/step - loss: 1.5609 - accuracy: 0.7071 - val_loss: 1.5471 - val_accuracy: 0.7277\n",
      "Epoch 4/10\n",
      "3/3 [==============================] - 0s 31ms/step - loss: 1.4455 - accuracy: 0.7097 - val_loss: 1.4222 - val_accuracy: 0.7284\n",
      "Epoch 5/10\n",
      "3/3 [==============================] - 0s 30ms/step - loss: 1.3109 - accuracy: 0.7309 - val_loss: 1.2647 - val_accuracy: 0.7530\n",
      "Epoch 6/10\n",
      "3/3 [==============================] - 0s 29ms/step - loss: 1.1443 - accuracy: 0.7455 - val_loss: 1.0419 - val_accuracy: 0.7314\n",
      "Epoch 7/10\n",
      "3/3 [==============================] - 0s 27ms/step - loss: 0.9191 - accuracy: 0.7452 - val_loss: 0.7511 - val_accuracy: 0.7655\n",
      "Epoch 8/10\n",
      "3/3 [==============================] - 0s 29ms/step - loss: 0.6893 - accuracy: 0.7601 - val_loss: 0.6013 - val_accuracy: 0.7610\n",
      "Epoch 9/10\n",
      "3/3 [==============================] - 0s 30ms/step - loss: 0.5898 - accuracy: 0.7620 - val_loss: 0.5505 - val_accuracy: 0.7894\n",
      "Epoch 10/10\n",
      "3/3 [==============================] - 0s 29ms/step - loss: 0.5744 - accuracy: 0.7648 - val_loss: 0.5383 - val_accuracy: 0.7867\n",
      "1/1 [==============================] - 0s 102ms/step\n",
      "Epoch 1/10\n"
     ]
    },
    {
     "name": "stderr",
     "output_type": "stream",
     "text": [
      "2024-03-30 17:52:02.040969: I tensorflow/core/grappler/optimizers/custom_graph_optimizer_registry.cc:114] Plugin optimizer for device_type GPU is enabled.\n",
      "/Users/venessa/Desktop/5342project/venv/lib/python3.8/site-packages/keras/src/optimizers/legacy/adam.py:118: UserWarning: The `lr` argument is deprecated, use `learning_rate` instead.\n",
      "  super().__init__(name, **kwargs)\n"
     ]
    },
    {
     "name": "stdout",
     "output_type": "stream",
     "text": [
      "1/3 [=========>....................] - ETA: 0s - loss: 1.7910 - accuracy: 0.5543"
     ]
    },
    {
     "name": "stderr",
     "output_type": "stream",
     "text": [
      "2024-03-30 17:52:02.307409: I tensorflow/core/grappler/optimizers/custom_graph_optimizer_registry.cc:114] Plugin optimizer for device_type GPU is enabled.\n"
     ]
    },
    {
     "name": "stdout",
     "output_type": "stream",
     "text": [
      "3/3 [==============================] - 1s 112ms/step - loss: 1.7694 - accuracy: 0.6452 - val_loss: 1.7158 - val_accuracy: 0.6928\n",
      "Epoch 2/10\n",
      "1/3 [=========>....................] - ETA: 0s - loss: 1.7159 - accuracy: 0.7000"
     ]
    },
    {
     "name": "stderr",
     "output_type": "stream",
     "text": [
      "2024-03-30 17:52:02.608469: I tensorflow/core/grappler/optimizers/custom_graph_optimizer_registry.cc:114] Plugin optimizer for device_type GPU is enabled.\n"
     ]
    },
    {
     "name": "stdout",
     "output_type": "stream",
     "text": [
      "3/3 [==============================] - 0s 36ms/step - loss: 1.6681 - accuracy: 0.7188 - val_loss: 1.6170 - val_accuracy: 0.6871\n",
      "Epoch 3/10\n",
      "3/3 [==============================] - 0s 31ms/step - loss: 1.5487 - accuracy: 0.7156 - val_loss: 1.4634 - val_accuracy: 0.6841\n",
      "Epoch 4/10\n",
      "3/3 [==============================] - 0s 29ms/step - loss: 1.4448 - accuracy: 0.7163 - val_loss: 1.3348 - val_accuracy: 0.7144\n",
      "Epoch 5/10\n",
      "3/3 [==============================] - 0s 28ms/step - loss: 1.3078 - accuracy: 0.7438 - val_loss: 1.2155 - val_accuracy: 0.7140\n",
      "Epoch 6/10\n",
      "3/3 [==============================] - 0s 29ms/step - loss: 1.1507 - accuracy: 0.7233 - val_loss: 0.9847 - val_accuracy: 0.7364\n",
      "Epoch 7/10\n",
      "3/3 [==============================] - 0s 31ms/step - loss: 0.9376 - accuracy: 0.7392 - val_loss: 0.8261 - val_accuracy: 0.7273\n",
      "Epoch 8/10\n",
      "3/3 [==============================] - 0s 28ms/step - loss: 0.7329 - accuracy: 0.7542 - val_loss: 0.6598 - val_accuracy: 0.7458\n",
      "Epoch 9/10\n",
      "3/3 [==============================] - 0s 28ms/step - loss: 0.6229 - accuracy: 0.7572 - val_loss: 0.6244 - val_accuracy: 0.7436\n",
      "Epoch 10/10\n",
      "3/3 [==============================] - 0s 30ms/step - loss: 0.5790 - accuracy: 0.7619 - val_loss: 0.6154 - val_accuracy: 0.7356\n",
      "1/1 [==============================] - 0s 104ms/step\n",
      "Epoch 1/10\n"
     ]
    },
    {
     "name": "stderr",
     "output_type": "stream",
     "text": [
      "2024-03-30 17:52:03.480017: I tensorflow/core/grappler/optimizers/custom_graph_optimizer_registry.cc:114] Plugin optimizer for device_type GPU is enabled.\n",
      "/Users/venessa/Desktop/5342project/venv/lib/python3.8/site-packages/keras/src/optimizers/legacy/adam.py:118: UserWarning: The `lr` argument is deprecated, use `learning_rate` instead.\n",
      "  super().__init__(name, **kwargs)\n",
      "2024-03-30 17:52:03.749933: I tensorflow/core/grappler/optimizers/custom_graph_optimizer_registry.cc:114] Plugin optimizer for device_type GPU is enabled.\n"
     ]
    },
    {
     "name": "stdout",
     "output_type": "stream",
     "text": [
      "3/3 [==============================] - 1s 110ms/step - loss: 1.7716 - accuracy: 0.6295 - val_loss: 1.7165 - val_accuracy: 0.6947\n",
      "Epoch 2/10\n",
      "1/3 [=========>....................] - ETA: 0s - loss: 1.7320 - accuracy: 0.7045"
     ]
    },
    {
     "name": "stderr",
     "output_type": "stream",
     "text": [
      "2024-03-30 17:52:04.072292: I tensorflow/core/grappler/optimizers/custom_graph_optimizer_registry.cc:114] Plugin optimizer for device_type GPU is enabled.\n"
     ]
    },
    {
     "name": "stdout",
     "output_type": "stream",
     "text": [
      "3/3 [==============================] - 0s 34ms/step - loss: 1.6718 - accuracy: 0.6999 - val_loss: 1.5963 - val_accuracy: 0.7250\n",
      "Epoch 3/10\n",
      "3/3 [==============================] - 0s 39ms/step - loss: 1.5561 - accuracy: 0.7122 - val_loss: 1.4657 - val_accuracy: 0.7178\n",
      "Epoch 4/10\n",
      "3/3 [==============================] - 0s 29ms/step - loss: 1.4362 - accuracy: 0.7076 - val_loss: 1.3662 - val_accuracy: 0.7045\n",
      "Epoch 5/10\n",
      "3/3 [==============================] - 0s 30ms/step - loss: 1.2929 - accuracy: 0.7229 - val_loss: 1.1663 - val_accuracy: 0.7223\n",
      "Epoch 6/10\n",
      "3/3 [==============================] - 0s 34ms/step - loss: 1.1022 - accuracy: 0.7226 - val_loss: 0.9795 - val_accuracy: 0.7087\n",
      "Epoch 7/10\n",
      "3/3 [==============================] - 0s 30ms/step - loss: 0.8513 - accuracy: 0.7537 - val_loss: 0.7011 - val_accuracy: 0.7807\n",
      "Epoch 8/10\n",
      "3/3 [==============================] - 0s 32ms/step - loss: 0.6959 - accuracy: 0.7445 - val_loss: 0.6158 - val_accuracy: 0.7527\n",
      "Epoch 9/10\n",
      "3/3 [==============================] - 0s 30ms/step - loss: 0.6259 - accuracy: 0.7353 - val_loss: 0.5980 - val_accuracy: 0.7405\n",
      "Epoch 10/10\n",
      "3/3 [==============================] - 0s 30ms/step - loss: 0.6016 - accuracy: 0.7591 - val_loss: 0.5388 - val_accuracy: 0.7913\n",
      "1/1 [==============================] - 0s 116ms/step\n",
      "Epoch 1/10\n"
     ]
    },
    {
     "name": "stderr",
     "output_type": "stream",
     "text": [
      "2024-03-30 17:52:04.959545: I tensorflow/core/grappler/optimizers/custom_graph_optimizer_registry.cc:114] Plugin optimizer for device_type GPU is enabled.\n",
      "/Users/venessa/Desktop/5342project/venv/lib/python3.8/site-packages/keras/src/optimizers/legacy/adam.py:118: UserWarning: The `lr` argument is deprecated, use `learning_rate` instead.\n",
      "  super().__init__(name, **kwargs)\n",
      "2024-03-30 17:52:05.238389: I tensorflow/core/grappler/optimizers/custom_graph_optimizer_registry.cc:114] Plugin optimizer for device_type GPU is enabled.\n"
     ]
    },
    {
     "name": "stdout",
     "output_type": "stream",
     "text": [
      "3/3 [==============================] - 1s 118ms/step - loss: 1.7724 - accuracy: 0.5513 - val_loss: 1.7245 - val_accuracy: 0.6633\n",
      "Epoch 2/10\n",
      "1/3 [=========>....................] - ETA: 0s - loss: 1.7325 - accuracy: 0.6273"
     ]
    },
    {
     "name": "stderr",
     "output_type": "stream",
     "text": [
      "2024-03-30 17:52:05.596865: I tensorflow/core/grappler/optimizers/custom_graph_optimizer_registry.cc:114] Plugin optimizer for device_type GPU is enabled.\n"
     ]
    },
    {
     "name": "stdout",
     "output_type": "stream",
     "text": [
      "3/3 [==============================] - 0s 35ms/step - loss: 1.7004 - accuracy: 0.6370 - val_loss: 1.6286 - val_accuracy: 0.7451\n",
      "Epoch 3/10\n",
      "3/3 [==============================] - 0s 39ms/step - loss: 1.6235 - accuracy: 0.7027 - val_loss: 1.5578 - val_accuracy: 0.7765\n",
      "Epoch 4/10\n",
      "3/3 [==============================] - 0s 36ms/step - loss: 1.5440 - accuracy: 0.7287 - val_loss: 1.5109 - val_accuracy: 0.7481\n",
      "Epoch 5/10\n",
      "3/3 [==============================] - 0s 30ms/step - loss: 1.4607 - accuracy: 0.7275 - val_loss: 1.4015 - val_accuracy: 0.7966\n",
      "Epoch 6/10\n",
      "3/3 [==============================] - 0s 29ms/step - loss: 1.3609 - accuracy: 0.7461 - val_loss: 1.2991 - val_accuracy: 0.7886\n",
      "Epoch 7/10\n",
      "3/3 [==============================] - 0s 31ms/step - loss: 1.2415 - accuracy: 0.7457 - val_loss: 1.1531 - val_accuracy: 0.7826\n",
      "Epoch 8/10\n",
      "3/3 [==============================] - 0s 29ms/step - loss: 1.0842 - accuracy: 0.7398 - val_loss: 0.9262 - val_accuracy: 0.7966\n",
      "Epoch 9/10\n",
      "3/3 [==============================] - 0s 29ms/step - loss: 0.8824 - accuracy: 0.7603 - val_loss: 0.7017 - val_accuracy: 0.7917\n",
      "Epoch 10/10\n",
      "3/3 [==============================] - 0s 29ms/step - loss: 0.7008 - accuracy: 0.7518 - val_loss: 0.5757 - val_accuracy: 0.7852\n",
      "1/1 [==============================] - 0s 110ms/step\n",
      "K-Fold Cross-Validation Results (5 folds):\n",
      "Average Accuracy: 0.7637 ± 0.0299\n",
      "Average Precision: 0.5781 ± 0.0221\n",
      "Average Recall: 0.5597 ± 0.0297\n",
      "Average F1-Score: 0.5382 ± 0.0305\n"
     ]
    },
    {
     "name": "stderr",
     "output_type": "stream",
     "text": [
      "2024-03-30 17:52:06.485068: I tensorflow/core/grappler/optimizers/custom_graph_optimizer_registry.cc:114] Plugin optimizer for device_type GPU is enabled.\n"
     ]
    }
   ],
   "source": [
    "# Cross validation training for audio modality\n",
    "\n",
    "cnn_model = cross_val_training(CNNModel, train_audio, train_label, num_folds=5, epochs=10, batch_size=32)"
   ]
  },
  {
   "cell_type": "code",
   "execution_count": 75,
   "metadata": {},
   "outputs": [
    {
     "name": "stdout",
     "output_type": "stream",
     "text": [
      "Epoch 1/10\n"
     ]
    },
    {
     "name": "stderr",
     "output_type": "stream",
     "text": [
      "/Users/venessa/Desktop/5342project/venv/lib/python3.8/site-packages/keras/src/optimizers/legacy/adam.py:118: UserWarning: The `lr` argument is deprecated, use `learning_rate` instead.\n",
      "  super().__init__(name, **kwargs)\n",
      "2024-03-30 17:52:54.991829: I tensorflow/core/grappler/optimizers/custom_graph_optimizer_registry.cc:114] Plugin optimizer for device_type GPU is enabled.\n"
     ]
    },
    {
     "name": "stdout",
     "output_type": "stream",
     "text": [
      "4/4 [==============================] - 1s 73ms/step - loss: 1.7732 - accuracy: 0.6058\n",
      "Epoch 2/10\n",
      "4/4 [==============================] - 0s 26ms/step - loss: 1.6500 - accuracy: 0.7089\n",
      "Epoch 3/10\n",
      "4/4 [==============================] - 0s 24ms/step - loss: 1.4621 - accuracy: 0.7216\n",
      "Epoch 4/10\n",
      "4/4 [==============================] - 0s 29ms/step - loss: 1.2712 - accuracy: 0.7292\n",
      "Epoch 5/10\n",
      "4/4 [==============================] - 0s 25ms/step - loss: 1.0173 - accuracy: 0.7562\n",
      "Epoch 6/10\n",
      "4/4 [==============================] - 0s 22ms/step - loss: 0.7930 - accuracy: 0.7435\n",
      "Epoch 7/10\n",
      "4/4 [==============================] - 0s 23ms/step - loss: 0.6429 - accuracy: 0.7423\n",
      "Epoch 8/10\n",
      "4/4 [==============================] - 0s 24ms/step - loss: 0.5882 - accuracy: 0.7597\n",
      "Epoch 9/10\n",
      "4/4 [==============================] - 0s 23ms/step - loss: 0.5644 - accuracy: 0.7677\n",
      "Epoch 10/10\n",
      "4/4 [==============================] - 0s 22ms/step - loss: 0.5620 - accuracy: 0.7622\n",
      "1/1 [==============================] - 0s 125ms/step\n",
      "Test Metrics:\n",
      "Accuracy: 0.7416\n",
      "Precision: 0.5872\n",
      "Recall: 0.5560\n",
      "F1 Score: 0.5475\n"
     ]
    },
    {
     "name": "stderr",
     "output_type": "stream",
     "text": [
      "2024-03-30 17:52:56.470826: I tensorflow/core/grappler/optimizers/custom_graph_optimizer_registry.cc:114] Plugin optimizer for device_type GPU is enabled.\n"
     ]
    }
   ],
   "source": [
    "# Train and evaluate based on test data for audio modality\n",
    "\n",
    "# Instantiate the model\n",
    "cnn_model_audio = CNNModel(input_shape=train_audio.shape[1:], num_classes=train_label.shape[2])\n",
    "\n",
    "# Compile the model\n",
    "cnn_model_audio.compile(lr=0.001)\n",
    "\n",
    "# Train and evaluate on the test dataset\n",
    "history, test_metrics = cnn_model_audio.train_and_evaluate_on_test(train_audio, train_label, test_audio, test_label, epochs=10, batch_size=32)"
   ]
  },
  {
   "cell_type": "code",
   "execution_count": 76,
   "metadata": {},
   "outputs": [
    {
     "name": "stdout",
     "output_type": "stream",
     "text": [
      "Epoch 1/10\n"
     ]
    },
    {
     "name": "stderr",
     "output_type": "stream",
     "text": [
      "/Users/venessa/Desktop/5342project/venv/lib/python3.8/site-packages/keras/src/optimizers/legacy/adam.py:118: UserWarning: The `lr` argument is deprecated, use `learning_rate` instead.\n",
      "  super().__init__(name, **kwargs)\n",
      "2024-03-30 17:53:13.667323: I tensorflow/core/grappler/optimizers/custom_graph_optimizer_registry.cc:114] Plugin optimizer for device_type GPU is enabled.\n"
     ]
    },
    {
     "name": "stdout",
     "output_type": "stream",
     "text": [
      "3/3 [==============================] - 1s 148ms/step - loss: 1.7837 - accuracy: 0.6190 - val_loss: 1.7695 - val_accuracy: 0.6148\n",
      "Epoch 2/10\n",
      "1/3 [=========>....................] - ETA: 0s - loss: 1.7576 - accuracy: 0.6849"
     ]
    },
    {
     "name": "stderr",
     "output_type": "stream",
     "text": [
      "2024-03-30 17:53:14.178466: I tensorflow/core/grappler/optimizers/custom_graph_optimizer_registry.cc:114] Plugin optimizer for device_type GPU is enabled.\n"
     ]
    },
    {
     "name": "stdout",
     "output_type": "stream",
     "text": [
      "3/3 [==============================] - 0s 60ms/step - loss: 1.7392 - accuracy: 0.6767 - val_loss: 1.7478 - val_accuracy: 0.6254\n",
      "Epoch 3/10\n",
      "3/3 [==============================] - 0s 61ms/step - loss: 1.6744 - accuracy: 0.6843 - val_loss: 1.6548 - val_accuracy: 0.6367\n",
      "Epoch 4/10\n",
      "3/3 [==============================] - 0s 39ms/step - loss: 1.5722 - accuracy: 0.6848 - val_loss: 1.5309 - val_accuracy: 0.6337\n",
      "Epoch 5/10\n",
      "3/3 [==============================] - 0s 47ms/step - loss: 1.4218 - accuracy: 0.6954 - val_loss: 1.3449 - val_accuracy: 0.6523\n",
      "Epoch 6/10\n",
      "3/3 [==============================] - 0s 41ms/step - loss: 1.2134 - accuracy: 0.7038 - val_loss: 1.1316 - val_accuracy: 0.6379\n",
      "Epoch 7/10\n",
      "3/3 [==============================] - 0s 34ms/step - loss: 0.9629 - accuracy: 0.7005 - val_loss: 0.9065 - val_accuracy: 0.6473\n",
      "Epoch 8/10\n",
      "3/3 [==============================] - 0s 37ms/step - loss: 0.7654 - accuracy: 0.7069 - val_loss: 0.8111 - val_accuracy: 0.6458\n",
      "Epoch 9/10\n",
      "3/3 [==============================] - 0s 38ms/step - loss: 0.6872 - accuracy: 0.7118 - val_loss: 0.7532 - val_accuracy: 0.6837\n",
      "Epoch 10/10\n",
      "3/3 [==============================] - 0s 35ms/step - loss: 0.6596 - accuracy: 0.7230 - val_loss: 0.7725 - val_accuracy: 0.6655\n",
      "1/1 [==============================] - 0s 138ms/step\n"
     ]
    },
    {
     "name": "stderr",
     "output_type": "stream",
     "text": [
      "2024-03-30 17:53:15.410389: I tensorflow/core/grappler/optimizers/custom_graph_optimizer_registry.cc:114] Plugin optimizer for device_type GPU is enabled.\n",
      "/Users/venessa/Desktop/5342project/venv/lib/python3.8/site-packages/sklearn/metrics/_classification.py:1471: UndefinedMetricWarning: Precision and F-score are ill-defined and being set to 0.0 in labels with no predicted samples. Use `zero_division` parameter to control this behavior.\n",
      "  _warn_prf(average, modifier, msg_start, len(result))\n",
      "/Users/venessa/Desktop/5342project/venv/lib/python3.8/site-packages/keras/src/optimizers/legacy/adam.py:118: UserWarning: The `lr` argument is deprecated, use `learning_rate` instead.\n",
      "  super().__init__(name, **kwargs)\n"
     ]
    },
    {
     "name": "stdout",
     "output_type": "stream",
     "text": [
      "Epoch 1/10\n"
     ]
    },
    {
     "name": "stderr",
     "output_type": "stream",
     "text": [
      "2024-03-30 17:53:15.761848: I tensorflow/core/grappler/optimizers/custom_graph_optimizer_registry.cc:114] Plugin optimizer for device_type GPU is enabled.\n"
     ]
    },
    {
     "name": "stdout",
     "output_type": "stream",
     "text": [
      "3/3 [==============================] - 1s 145ms/step - loss: 1.7849 - accuracy: 0.6071 - val_loss: 1.7636 - val_accuracy: 0.6447\n",
      "Epoch 2/10\n",
      "1/3 [=========>....................] - ETA: 0s - loss: 1.7659 - accuracy: 0.6889"
     ]
    },
    {
     "name": "stderr",
     "output_type": "stream",
     "text": [
      "2024-03-30 17:53:16.167091: I tensorflow/core/grappler/optimizers/custom_graph_optimizer_registry.cc:114] Plugin optimizer for device_type GPU is enabled.\n"
     ]
    },
    {
     "name": "stdout",
     "output_type": "stream",
     "text": [
      "3/3 [==============================] - 0s 50ms/step - loss: 1.7458 - accuracy: 0.6799 - val_loss: 1.7003 - val_accuracy: 0.6398\n",
      "Epoch 3/10\n",
      "3/3 [==============================] - 0s 41ms/step - loss: 1.6641 - accuracy: 0.6796 - val_loss: 1.6027 - val_accuracy: 0.6390\n",
      "Epoch 4/10\n",
      "3/3 [==============================] - 0s 42ms/step - loss: 1.5444 - accuracy: 0.6795 - val_loss: 1.4615 - val_accuracy: 0.6523\n",
      "Epoch 5/10\n",
      "3/3 [==============================] - 0s 38ms/step - loss: 1.3767 - accuracy: 0.6899 - val_loss: 1.2504 - val_accuracy: 0.6530\n",
      "Epoch 6/10\n",
      "3/3 [==============================] - 0s 37ms/step - loss: 1.1471 - accuracy: 0.6883 - val_loss: 1.0294 - val_accuracy: 0.6561\n",
      "Epoch 7/10\n",
      "3/3 [==============================] - 0s 39ms/step - loss: 0.9059 - accuracy: 0.7077 - val_loss: 0.8464 - val_accuracy: 0.6496\n",
      "Epoch 8/10\n",
      "3/3 [==============================] - 0s 35ms/step - loss: 0.7493 - accuracy: 0.7028 - val_loss: 0.7762 - val_accuracy: 0.6580\n",
      "Epoch 9/10\n",
      "3/3 [==============================] - 0s 37ms/step - loss: 0.6913 - accuracy: 0.7275 - val_loss: 0.7454 - val_accuracy: 0.6966\n",
      "Epoch 10/10\n",
      "3/3 [==============================] - 0s 36ms/step - loss: 0.6572 - accuracy: 0.7399 - val_loss: 0.7537 - val_accuracy: 0.6542\n",
      "1/1 [==============================] - 0s 130ms/step\n",
      "Epoch 1/10\n"
     ]
    },
    {
     "name": "stderr",
     "output_type": "stream",
     "text": [
      "2024-03-30 17:53:17.299464: I tensorflow/core/grappler/optimizers/custom_graph_optimizer_registry.cc:114] Plugin optimizer for device_type GPU is enabled.\n",
      "/Users/venessa/Desktop/5342project/venv/lib/python3.8/site-packages/sklearn/metrics/_classification.py:1471: UndefinedMetricWarning: Precision and F-score are ill-defined and being set to 0.0 in labels with no predicted samples. Use `zero_division` parameter to control this behavior.\n",
      "  _warn_prf(average, modifier, msg_start, len(result))\n",
      "/Users/venessa/Desktop/5342project/venv/lib/python3.8/site-packages/keras/src/optimizers/legacy/adam.py:118: UserWarning: The `lr` argument is deprecated, use `learning_rate` instead.\n",
      "  super().__init__(name, **kwargs)\n",
      "2024-03-30 17:53:17.619733: I tensorflow/core/grappler/optimizers/custom_graph_optimizer_registry.cc:114] Plugin optimizer for device_type GPU is enabled.\n"
     ]
    },
    {
     "name": "stdout",
     "output_type": "stream",
     "text": [
      "3/3 [==============================] - 1s 140ms/step - loss: 1.7828 - accuracy: 0.6085 - val_loss: 1.7561 - val_accuracy: 0.6841\n",
      "Epoch 2/10\n",
      "1/3 [=========>....................] - ETA: 0s - loss: 1.7496 - accuracy: 0.6832"
     ]
    },
    {
     "name": "stderr",
     "output_type": "stream",
     "text": [
      "2024-03-30 17:53:18.009733: I tensorflow/core/grappler/optimizers/custom_graph_optimizer_registry.cc:114] Plugin optimizer for device_type GPU is enabled.\n"
     ]
    },
    {
     "name": "stdout",
     "output_type": "stream",
     "text": [
      "3/3 [==============================] - 0s 51ms/step - loss: 1.7321 - accuracy: 0.6686 - val_loss: 1.6895 - val_accuracy: 0.6845\n",
      "Epoch 3/10\n",
      "3/3 [==============================] - 0s 39ms/step - loss: 1.6328 - accuracy: 0.6687 - val_loss: 1.5442 - val_accuracy: 0.6852\n",
      "Epoch 4/10\n",
      "3/3 [==============================] - 0s 40ms/step - loss: 1.4689 - accuracy: 0.6723 - val_loss: 1.3329 - val_accuracy: 0.6875\n",
      "Epoch 5/10\n",
      "3/3 [==============================] - 0s 38ms/step - loss: 1.2349 - accuracy: 0.6777 - val_loss: 1.0586 - val_accuracy: 0.7083\n",
      "Epoch 6/10\n",
      "3/3 [==============================] - 0s 89ms/step - loss: 0.9684 - accuracy: 0.6826 - val_loss: 0.7890 - val_accuracy: 0.7133\n",
      "Epoch 7/10\n",
      "3/3 [==============================] - 0s 44ms/step - loss: 0.7797 - accuracy: 0.7017 - val_loss: 0.6792 - val_accuracy: 0.7144\n",
      "Epoch 8/10\n",
      "3/3 [==============================] - 0s 38ms/step - loss: 0.7164 - accuracy: 0.7055 - val_loss: 0.6455 - val_accuracy: 0.7386\n",
      "Epoch 9/10\n",
      "3/3 [==============================] - 0s 35ms/step - loss: 0.6856 - accuracy: 0.7241 - val_loss: 0.6166 - val_accuracy: 0.7311\n",
      "Epoch 10/10\n",
      "3/3 [==============================] - 0s 41ms/step - loss: 0.6806 - accuracy: 0.7031 - val_loss: 0.5769 - val_accuracy: 0.7606\n",
      "1/1 [==============================] - 0s 131ms/step\n",
      "Epoch 1/10\n"
     ]
    },
    {
     "name": "stderr",
     "output_type": "stream",
     "text": [
      "2024-03-30 17:53:19.270563: I tensorflow/core/grappler/optimizers/custom_graph_optimizer_registry.cc:114] Plugin optimizer for device_type GPU is enabled.\n",
      "/Users/venessa/Desktop/5342project/venv/lib/python3.8/site-packages/keras/src/optimizers/legacy/adam.py:118: UserWarning: The `lr` argument is deprecated, use `learning_rate` instead.\n",
      "  super().__init__(name, **kwargs)\n",
      "2024-03-30 17:53:19.591814: I tensorflow/core/grappler/optimizers/custom_graph_optimizer_registry.cc:114] Plugin optimizer for device_type GPU is enabled.\n"
     ]
    },
    {
     "name": "stdout",
     "output_type": "stream",
     "text": [
      "3/3 [==============================] - 1s 143ms/step - loss: 1.7863 - accuracy: 0.5916 - val_loss: 1.7621 - val_accuracy: 0.6530\n",
      "Epoch 2/10\n",
      "1/3 [=========>....................] - ETA: 0s - loss: 1.7671 - accuracy: 0.6531"
     ]
    },
    {
     "name": "stderr",
     "output_type": "stream",
     "text": [
      "2024-03-30 17:53:19.985307: I tensorflow/core/grappler/optimizers/custom_graph_optimizer_registry.cc:114] Plugin optimizer for device_type GPU is enabled.\n"
     ]
    },
    {
     "name": "stdout",
     "output_type": "stream",
     "text": [
      "3/3 [==============================] - 0s 48ms/step - loss: 1.7510 - accuracy: 0.6570 - val_loss: 1.6978 - val_accuracy: 0.6508\n",
      "Epoch 3/10\n",
      "3/3 [==============================] - 0s 41ms/step - loss: 1.6962 - accuracy: 0.6584 - val_loss: 1.6181 - val_accuracy: 0.7023\n",
      "Epoch 4/10\n",
      "3/3 [==============================] - 0s 45ms/step - loss: 1.6137 - accuracy: 0.6777 - val_loss: 1.5164 - val_accuracy: 0.6848\n",
      "Epoch 5/10\n",
      "3/3 [==============================] - 0s 43ms/step - loss: 1.4960 - accuracy: 0.6822 - val_loss: 1.3721 - val_accuracy: 0.6769\n",
      "Epoch 6/10\n",
      "3/3 [==============================] - 0s 37ms/step - loss: 1.3341 - accuracy: 0.7020 - val_loss: 1.2004 - val_accuracy: 0.7420\n",
      "Epoch 7/10\n",
      "3/3 [==============================] - 0s 39ms/step - loss: 1.1346 - accuracy: 0.7163 - val_loss: 0.9887 - val_accuracy: 0.6784\n",
      "Epoch 8/10\n",
      "3/3 [==============================] - 0s 41ms/step - loss: 0.9087 - accuracy: 0.7146 - val_loss: 0.7476 - val_accuracy: 0.7409\n",
      "Epoch 9/10\n",
      "3/3 [==============================] - 0s 68ms/step - loss: 0.7193 - accuracy: 0.7366 - val_loss: 0.7051 - val_accuracy: 0.7197\n",
      "Epoch 10/10\n",
      "3/3 [==============================] - 0s 37ms/step - loss: 0.6630 - accuracy: 0.7334 - val_loss: 0.6453 - val_accuracy: 0.7178\n",
      "1/1 [==============================] - 0s 123ms/step\n",
      "Epoch 1/10\n"
     ]
    },
    {
     "name": "stderr",
     "output_type": "stream",
     "text": [
      "2024-03-30 17:53:21.206982: I tensorflow/core/grappler/optimizers/custom_graph_optimizer_registry.cc:114] Plugin optimizer for device_type GPU is enabled.\n",
      "/Users/venessa/Desktop/5342project/venv/lib/python3.8/site-packages/sklearn/metrics/_classification.py:1471: UndefinedMetricWarning: Precision and F-score are ill-defined and being set to 0.0 in labels with no predicted samples. Use `zero_division` parameter to control this behavior.\n",
      "  _warn_prf(average, modifier, msg_start, len(result))\n",
      "/Users/venessa/Desktop/5342project/venv/lib/python3.8/site-packages/keras/src/optimizers/legacy/adam.py:118: UserWarning: The `lr` argument is deprecated, use `learning_rate` instead.\n",
      "  super().__init__(name, **kwargs)\n",
      "2024-03-30 17:53:21.528727: I tensorflow/core/grappler/optimizers/custom_graph_optimizer_registry.cc:114] Plugin optimizer for device_type GPU is enabled.\n"
     ]
    },
    {
     "name": "stdout",
     "output_type": "stream",
     "text": [
      "3/3 [==============================] - 1s 142ms/step - loss: 1.7853 - accuracy: 0.6164 - val_loss: 1.7596 - val_accuracy: 0.7087\n",
      "Epoch 2/10\n",
      "1/3 [=========>....................] - ETA: 0s - loss: 1.7674 - accuracy: 0.6452"
     ]
    },
    {
     "name": "stderr",
     "output_type": "stream",
     "text": [
      "2024-03-30 17:53:21.936418: I tensorflow/core/grappler/optimizers/custom_graph_optimizer_registry.cc:114] Plugin optimizer for device_type GPU is enabled.\n"
     ]
    },
    {
     "name": "stdout",
     "output_type": "stream",
     "text": [
      "3/3 [==============================] - 0s 85ms/step - loss: 1.7507 - accuracy: 0.6640 - val_loss: 1.7108 - val_accuracy: 0.7356\n",
      "Epoch 3/10\n",
      "3/3 [==============================] - 0s 47ms/step - loss: 1.6931 - accuracy: 0.6803 - val_loss: 1.6168 - val_accuracy: 0.7322\n",
      "Epoch 4/10\n",
      "3/3 [==============================] - 0s 40ms/step - loss: 1.5868 - accuracy: 0.6844 - val_loss: 1.4829 - val_accuracy: 0.7250\n",
      "Epoch 5/10\n",
      "3/3 [==============================] - 0s 38ms/step - loss: 1.4141 - accuracy: 0.7077 - val_loss: 1.2601 - val_accuracy: 0.7273\n",
      "Epoch 6/10\n",
      "3/3 [==============================] - 0s 39ms/step - loss: 1.1800 - accuracy: 0.7131 - val_loss: 0.9795 - val_accuracy: 0.7409\n",
      "Epoch 7/10\n",
      "3/3 [==============================] - 0s 38ms/step - loss: 0.9028 - accuracy: 0.7273 - val_loss: 0.7430 - val_accuracy: 0.7394\n",
      "Epoch 8/10\n",
      "3/3 [==============================] - 0s 40ms/step - loss: 0.7113 - accuracy: 0.7224 - val_loss: 0.6224 - val_accuracy: 0.7523\n",
      "Epoch 9/10\n",
      "3/3 [==============================] - 0s 45ms/step - loss: 0.6115 - accuracy: 0.7495 - val_loss: 0.5825 - val_accuracy: 0.7705\n",
      "Epoch 10/10\n",
      "3/3 [==============================] - 0s 37ms/step - loss: 0.5884 - accuracy: 0.7563 - val_loss: 0.5758 - val_accuracy: 0.7670\n",
      "1/1 [==============================] - 0s 128ms/step\n",
      "K-Fold Cross-Validation Results (5 folds):\n",
      "Average Accuracy: 0.7130 ± 0.0467\n",
      "Average Precision: 0.4545 ± 0.0757\n",
      "Average Recall: 0.4442 ± 0.0718\n",
      "Average F1-Score: 0.3945 ± 0.0758\n"
     ]
    },
    {
     "name": "stderr",
     "output_type": "stream",
     "text": [
      "2024-03-30 17:53:23.200388: I tensorflow/core/grappler/optimizers/custom_graph_optimizer_registry.cc:114] Plugin optimizer for device_type GPU is enabled.\n"
     ]
    }
   ],
   "source": [
    "# Cross validation training for video modality\n",
    "\n",
    "cnn_model = cross_val_training(CNNModel, train_visual, train_label, num_folds=5, epochs=10, batch_size=32)"
   ]
  },
  {
   "cell_type": "code",
   "execution_count": 77,
   "metadata": {},
   "outputs": [
    {
     "name": "stdout",
     "output_type": "stream",
     "text": [
      "Epoch 1/10\n"
     ]
    },
    {
     "name": "stderr",
     "output_type": "stream",
     "text": [
      "/Users/venessa/Desktop/5342project/venv/lib/python3.8/site-packages/keras/src/optimizers/legacy/adam.py:118: UserWarning: The `lr` argument is deprecated, use `learning_rate` instead.\n",
      "  super().__init__(name, **kwargs)\n",
      "2024-03-30 17:53:31.810588: I tensorflow/core/grappler/optimizers/custom_graph_optimizer_registry.cc:114] Plugin optimizer for device_type GPU is enabled.\n"
     ]
    },
    {
     "name": "stdout",
     "output_type": "stream",
     "text": [
      "4/4 [==============================] - 1s 82ms/step - loss: 1.7822 - accuracy: 0.6012\n",
      "Epoch 2/10\n",
      "4/4 [==============================] - 0s 49ms/step - loss: 1.7160 - accuracy: 0.6702\n",
      "Epoch 3/10\n",
      "4/4 [==============================] - 0s 37ms/step - loss: 1.6002 - accuracy: 0.6780\n",
      "Epoch 4/10\n",
      "4/4 [==============================] - 0s 32ms/step - loss: 1.4760 - accuracy: 0.6799\n",
      "Epoch 5/10\n",
      "4/4 [==============================] - 0s 29ms/step - loss: 1.3039 - accuracy: 0.6866\n",
      "Epoch 6/10\n",
      "4/4 [==============================] - 0s 28ms/step - loss: 1.0872 - accuracy: 0.6971\n",
      "Epoch 7/10\n",
      "4/4 [==============================] - 0s 32ms/step - loss: 0.8441 - accuracy: 0.7123\n",
      "Epoch 8/10\n",
      "4/4 [==============================] - 0s 27ms/step - loss: 0.7153 - accuracy: 0.7067\n",
      "Epoch 9/10\n",
      "4/4 [==============================] - 0s 29ms/step - loss: 0.6752 - accuracy: 0.7192\n",
      "Epoch 10/10\n",
      "4/4 [==============================] - 0s 28ms/step - loss: 0.6576 - accuracy: 0.7352\n",
      "1/1 [==============================] - 0s 127ms/step\n",
      "Test Metrics:\n",
      "Accuracy: 0.7079\n",
      "Precision: 0.5544\n",
      "Recall: 0.4544\n",
      "F1 Score: 0.4129\n"
     ]
    },
    {
     "name": "stderr",
     "output_type": "stream",
     "text": [
      "2024-03-30 17:53:33.664215: I tensorflow/core/grappler/optimizers/custom_graph_optimizer_registry.cc:114] Plugin optimizer for device_type GPU is enabled.\n"
     ]
    }
   ],
   "source": [
    "# Train and evaluate based on test data for video modality\n",
    "\n",
    "# Instantiate the model\n",
    "cnn_model_visual = CNNModel(input_shape=train_visual.shape[1:], num_classes=train_label.shape[2])\n",
    "\n",
    "# Compile the model\n",
    "cnn_model_visual.compile(lr=0.001)\n",
    "\n",
    "# Train and evaluate on the test dataset\n",
    "history, test_metrics = cnn_model_visual.train_and_evaluate_on_test(train_visual, train_label, test_visual, test_label, epochs=10, batch_size=32)"
   ]
  },
  {
   "cell_type": "code",
   "execution_count": 82,
   "metadata": {},
   "outputs": [
    {
     "name": "stdout",
     "output_type": "stream",
     "text": [
      "Epoch 1/10\n"
     ]
    },
    {
     "name": "stderr",
     "output_type": "stream",
     "text": [
      "/Users/venessa/Desktop/5342project/venv/lib/python3.8/site-packages/keras/src/optimizers/legacy/adam.py:118: UserWarning: The `lr` argument is deprecated, use `learning_rate` instead.\n",
      "  super().__init__(name, **kwargs)\n",
      "2024-03-30 17:55:38.094049: I tensorflow/core/grappler/optimizers/custom_graph_optimizer_registry.cc:114] Plugin optimizer for device_type GPU is enabled.\n"
     ]
    },
    {
     "name": "stdout",
     "output_type": "stream",
     "text": [
      "3/3 [==============================] - 1s 155ms/step - loss: 1.8405 - accuracy: 0.6096 - val_loss: 1.4583 - val_accuracy: 0.7708\n",
      "Epoch 2/10\n",
      "1/3 [=========>....................] - ETA: 0s - loss: 1.4418 - accuracy: 0.7727"
     ]
    },
    {
     "name": "stderr",
     "output_type": "stream",
     "text": [
      "2024-03-30 17:55:38.591089: I tensorflow/core/grappler/optimizers/custom_graph_optimizer_registry.cc:114] Plugin optimizer for device_type GPU is enabled.\n"
     ]
    },
    {
     "name": "stdout",
     "output_type": "stream",
     "text": [
      "3/3 [==============================] - 0s 54ms/step - loss: 1.3707 - accuracy: 0.8096 - val_loss: 1.2684 - val_accuracy: 0.8689\n",
      "Epoch 3/10\n",
      "3/3 [==============================] - 0s 48ms/step - loss: 1.2121 - accuracy: 0.8857 - val_loss: 1.2097 - val_accuracy: 0.8883\n",
      "Epoch 4/10\n",
      "3/3 [==============================] - 0s 39ms/step - loss: 1.1164 - accuracy: 0.9085 - val_loss: 1.1027 - val_accuracy: 0.9045\n",
      "Epoch 5/10\n",
      "3/3 [==============================] - 0s 45ms/step - loss: 1.0296 - accuracy: 0.9278 - val_loss: 1.0388 - val_accuracy: 0.9182\n",
      "Epoch 6/10\n",
      "3/3 [==============================] - 0s 50ms/step - loss: 0.9622 - accuracy: 0.9406 - val_loss: 0.9872 - val_accuracy: 0.9231\n",
      "Epoch 7/10\n",
      "3/3 [==============================] - 0s 39ms/step - loss: 0.9084 - accuracy: 0.9520 - val_loss: 0.9279 - val_accuracy: 0.9345\n",
      "Epoch 8/10\n",
      "3/3 [==============================] - 0s 44ms/step - loss: 0.8605 - accuracy: 0.9567 - val_loss: 0.9012 - val_accuracy: 0.9364\n",
      "Epoch 9/10\n",
      "3/3 [==============================] - 0s 50ms/step - loss: 0.8096 - accuracy: 0.9630 - val_loss: 0.8560 - val_accuracy: 0.9386\n",
      "Epoch 10/10\n",
      "3/3 [==============================] - 0s 43ms/step - loss: 0.7632 - accuracy: 0.9675 - val_loss: 0.8194 - val_accuracy: 0.9409\n",
      "1/1 [==============================] - 0s 144ms/step\n"
     ]
    },
    {
     "name": "stderr",
     "output_type": "stream",
     "text": [
      "2024-03-30 17:55:39.879193: I tensorflow/core/grappler/optimizers/custom_graph_optimizer_registry.cc:114] Plugin optimizer for device_type GPU is enabled.\n",
      "/Users/venessa/Desktop/5342project/venv/lib/python3.8/site-packages/keras/src/optimizers/legacy/adam.py:118: UserWarning: The `lr` argument is deprecated, use `learning_rate` instead.\n",
      "  super().__init__(name, **kwargs)\n"
     ]
    },
    {
     "name": "stdout",
     "output_type": "stream",
     "text": [
      "Epoch 1/10\n"
     ]
    },
    {
     "name": "stderr",
     "output_type": "stream",
     "text": [
      "2024-03-30 17:55:40.255209: I tensorflow/core/grappler/optimizers/custom_graph_optimizer_registry.cc:114] Plugin optimizer for device_type GPU is enabled.\n"
     ]
    },
    {
     "name": "stdout",
     "output_type": "stream",
     "text": [
      "3/3 [==============================] - 1s 151ms/step - loss: 1.8354 - accuracy: 0.5884 - val_loss: 1.5206 - val_accuracy: 0.7545\n",
      "Epoch 2/10\n",
      "1/3 [=========>....................] - ETA: 0s - loss: 1.4795 - accuracy: 0.7619"
     ]
    },
    {
     "name": "stderr",
     "output_type": "stream",
     "text": [
      "2024-03-30 17:55:40.684442: I tensorflow/core/grappler/optimizers/custom_graph_optimizer_registry.cc:114] Plugin optimizer for device_type GPU is enabled.\n"
     ]
    },
    {
     "name": "stdout",
     "output_type": "stream",
     "text": [
      "3/3 [==============================] - 0s 58ms/step - loss: 1.4131 - accuracy: 0.7957 - val_loss: 1.2422 - val_accuracy: 0.8655\n",
      "Epoch 3/10\n",
      "3/3 [==============================] - 0s 60ms/step - loss: 1.2157 - accuracy: 0.8659 - val_loss: 1.1608 - val_accuracy: 0.8951\n",
      "Epoch 4/10\n",
      "3/3 [==============================] - 0s 39ms/step - loss: 1.1041 - accuracy: 0.8973 - val_loss: 1.0698 - val_accuracy: 0.9125\n",
      "Epoch 5/10\n",
      "3/3 [==============================] - 0s 45ms/step - loss: 0.9992 - accuracy: 0.9215 - val_loss: 0.9926 - val_accuracy: 0.9322\n",
      "Epoch 6/10\n",
      "3/3 [==============================] - 0s 34ms/step - loss: 0.9289 - accuracy: 0.9357 - val_loss: 0.9276 - val_accuracy: 0.9447\n",
      "Epoch 7/10\n",
      "3/3 [==============================] - 0s 40ms/step - loss: 0.8614 - accuracy: 0.9490 - val_loss: 0.8828 - val_accuracy: 0.9500\n",
      "Epoch 8/10\n",
      "3/3 [==============================] - 0s 39ms/step - loss: 0.8066 - accuracy: 0.9587 - val_loss: 0.8427 - val_accuracy: 0.9534\n",
      "Epoch 9/10\n",
      "3/3 [==============================] - 0s 41ms/step - loss: 0.7471 - accuracy: 0.9653 - val_loss: 0.7810 - val_accuracy: 0.9591\n",
      "Epoch 10/10\n",
      "3/3 [==============================] - 0s 37ms/step - loss: 0.6814 - accuracy: 0.9699 - val_loss: 0.7199 - val_accuracy: 0.9617\n",
      "1/1 [==============================] - 0s 133ms/step\n"
     ]
    },
    {
     "name": "stderr",
     "output_type": "stream",
     "text": [
      "2024-03-30 17:55:41.902697: I tensorflow/core/grappler/optimizers/custom_graph_optimizer_registry.cc:114] Plugin optimizer for device_type GPU is enabled.\n",
      "/Users/venessa/Desktop/5342project/venv/lib/python3.8/site-packages/keras/src/optimizers/legacy/adam.py:118: UserWarning: The `lr` argument is deprecated, use `learning_rate` instead.\n",
      "  super().__init__(name, **kwargs)\n"
     ]
    },
    {
     "name": "stdout",
     "output_type": "stream",
     "text": [
      "Epoch 1/10\n"
     ]
    },
    {
     "name": "stderr",
     "output_type": "stream",
     "text": [
      "2024-03-30 17:55:42.248859: I tensorflow/core/grappler/optimizers/custom_graph_optimizer_registry.cc:114] Plugin optimizer for device_type GPU is enabled.\n"
     ]
    },
    {
     "name": "stdout",
     "output_type": "stream",
     "text": [
      "3/3 [==============================] - 1s 152ms/step - loss: 1.9412 - accuracy: 0.6008 - val_loss: 1.5275 - val_accuracy: 0.7409\n",
      "Epoch 2/10\n",
      "1/3 [=========>....................] - ETA: 0s - loss: 1.5042 - accuracy: 0.7449"
     ]
    },
    {
     "name": "stderr",
     "output_type": "stream",
     "text": [
      "2024-03-30 17:55:42.740822: I tensorflow/core/grappler/optimizers/custom_graph_optimizer_registry.cc:114] Plugin optimizer for device_type GPU is enabled.\n"
     ]
    },
    {
     "name": "stdout",
     "output_type": "stream",
     "text": [
      "3/3 [==============================] - 0s 59ms/step - loss: 1.4162 - accuracy: 0.8017 - val_loss: 1.3218 - val_accuracy: 0.8451\n",
      "Epoch 3/10\n",
      "3/3 [==============================] - 0s 37ms/step - loss: 1.2171 - accuracy: 0.8826 - val_loss: 1.1791 - val_accuracy: 0.8883\n",
      "Epoch 4/10\n",
      "3/3 [==============================] - 0s 42ms/step - loss: 1.1087 - accuracy: 0.9069 - val_loss: 1.0934 - val_accuracy: 0.9095\n",
      "Epoch 5/10\n",
      "3/3 [==============================] - 0s 43ms/step - loss: 1.0072 - accuracy: 0.9277 - val_loss: 1.0347 - val_accuracy: 0.9170\n",
      "Epoch 6/10\n",
      "3/3 [==============================] - 0s 49ms/step - loss: 0.9399 - accuracy: 0.9415 - val_loss: 1.0120 - val_accuracy: 0.9261\n",
      "Epoch 7/10\n",
      "3/3 [==============================] - 0s 45ms/step - loss: 0.9047 - accuracy: 0.9440 - val_loss: 0.9622 - val_accuracy: 0.9280\n",
      "Epoch 8/10\n",
      "3/3 [==============================] - 0s 40ms/step - loss: 0.8573 - accuracy: 0.9535 - val_loss: 0.9364 - val_accuracy: 0.9356\n",
      "Epoch 9/10\n",
      "3/3 [==============================] - 0s 50ms/step - loss: 0.8029 - accuracy: 0.9654 - val_loss: 0.9258 - val_accuracy: 0.9337\n",
      "Epoch 10/10\n",
      "3/3 [==============================] - 0s 43ms/step - loss: 0.7661 - accuracy: 0.9677 - val_loss: 0.8816 - val_accuracy: 0.9367\n",
      "1/1 [==============================] - 0s 133ms/step\n",
      "Epoch 1/10\n"
     ]
    },
    {
     "name": "stderr",
     "output_type": "stream",
     "text": [
      "2024-03-30 17:55:43.986256: I tensorflow/core/grappler/optimizers/custom_graph_optimizer_registry.cc:114] Plugin optimizer for device_type GPU is enabled.\n",
      "/Users/venessa/Desktop/5342project/venv/lib/python3.8/site-packages/keras/src/optimizers/legacy/adam.py:118: UserWarning: The `lr` argument is deprecated, use `learning_rate` instead.\n",
      "  super().__init__(name, **kwargs)\n",
      "2024-03-30 17:55:44.337055: I tensorflow/core/grappler/optimizers/custom_graph_optimizer_registry.cc:114] Plugin optimizer for device_type GPU is enabled.\n"
     ]
    },
    {
     "name": "stdout",
     "output_type": "stream",
     "text": [
      "3/3 [==============================] - 1s 138ms/step - loss: 1.9069 - accuracy: 0.6165 - val_loss: 1.5435 - val_accuracy: 0.7030\n",
      "Epoch 2/10\n",
      "1/3 [=========>....................] - ETA: 0s - loss: 1.4992 - accuracy: 0.7338"
     ]
    },
    {
     "name": "stderr",
     "output_type": "stream",
     "text": [
      "2024-03-30 17:55:44.722313: I tensorflow/core/grappler/optimizers/custom_graph_optimizer_registry.cc:114] Plugin optimizer for device_type GPU is enabled.\n"
     ]
    },
    {
     "name": "stdout",
     "output_type": "stream",
     "text": [
      "3/3 [==============================] - 0s 58ms/step - loss: 1.4325 - accuracy: 0.7911 - val_loss: 1.3064 - val_accuracy: 0.8318\n",
      "Epoch 3/10\n",
      "3/3 [==============================] - 0s 44ms/step - loss: 1.2214 - accuracy: 0.8722 - val_loss: 1.1945 - val_accuracy: 0.8583\n",
      "Epoch 4/10\n",
      "3/3 [==============================] - 0s 40ms/step - loss: 1.1062 - accuracy: 0.8984 - val_loss: 1.0955 - val_accuracy: 0.8867\n",
      "Epoch 5/10\n",
      "3/3 [==============================] - 0s 47ms/step - loss: 1.0193 - accuracy: 0.9244 - val_loss: 1.0263 - val_accuracy: 0.9087\n",
      "Epoch 6/10\n",
      "3/3 [==============================] - 0s 36ms/step - loss: 0.9476 - accuracy: 0.9380 - val_loss: 0.9637 - val_accuracy: 0.9182\n",
      "Epoch 7/10\n",
      "3/3 [==============================] - 0s 48ms/step - loss: 0.8977 - accuracy: 0.9475 - val_loss: 0.9376 - val_accuracy: 0.9205\n",
      "Epoch 8/10\n",
      "3/3 [==============================] - 0s 36ms/step - loss: 0.8505 - accuracy: 0.9530 - val_loss: 0.8891 - val_accuracy: 0.9284\n",
      "Epoch 9/10\n",
      "3/3 [==============================] - 0s 39ms/step - loss: 0.8024 - accuracy: 0.9633 - val_loss: 0.8569 - val_accuracy: 0.9333\n",
      "Epoch 10/10\n",
      "3/3 [==============================] - 0s 38ms/step - loss: 0.7500 - accuracy: 0.9694 - val_loss: 0.8225 - val_accuracy: 0.9299\n",
      "1/1 [==============================] - 0s 129ms/step\n",
      "Epoch 1/10\n"
     ]
    },
    {
     "name": "stderr",
     "output_type": "stream",
     "text": [
      "2024-03-30 17:55:45.929544: I tensorflow/core/grappler/optimizers/custom_graph_optimizer_registry.cc:114] Plugin optimizer for device_type GPU is enabled.\n",
      "/Users/venessa/Desktop/5342project/venv/lib/python3.8/site-packages/keras/src/optimizers/legacy/adam.py:118: UserWarning: The `lr` argument is deprecated, use `learning_rate` instead.\n",
      "  super().__init__(name, **kwargs)\n",
      "2024-03-30 17:55:46.259480: I tensorflow/core/grappler/optimizers/custom_graph_optimizer_registry.cc:114] Plugin optimizer for device_type GPU is enabled.\n"
     ]
    },
    {
     "name": "stdout",
     "output_type": "stream",
     "text": [
      "3/3 [==============================] - 1s 156ms/step - loss: 1.7616 - accuracy: 0.4918 - val_loss: 1.3840 - val_accuracy: 0.8008\n",
      "Epoch 2/10\n"
     ]
    },
    {
     "name": "stderr",
     "output_type": "stream",
     "text": [
      "2024-03-30 17:55:46.685826: I tensorflow/core/grappler/optimizers/custom_graph_optimizer_registry.cc:114] Plugin optimizer for device_type GPU is enabled.\n"
     ]
    },
    {
     "name": "stdout",
     "output_type": "stream",
     "text": [
      "3/3 [==============================] - 0s 47ms/step - loss: 1.2950 - accuracy: 0.8449 - val_loss: 1.1901 - val_accuracy: 0.8818\n",
      "Epoch 3/10\n",
      "3/3 [==============================] - 0s 58ms/step - loss: 1.1659 - accuracy: 0.8894 - val_loss: 1.0980 - val_accuracy: 0.8932\n",
      "Epoch 4/10\n",
      "3/3 [==============================] - 0s 43ms/step - loss: 1.0392 - accuracy: 0.9220 - val_loss: 0.9995 - val_accuracy: 0.9242\n",
      "Epoch 5/10\n",
      "3/3 [==============================] - 0s 42ms/step - loss: 0.9621 - accuracy: 0.9390 - val_loss: 0.9508 - val_accuracy: 0.9337\n",
      "Epoch 6/10\n",
      "3/3 [==============================] - 0s 39ms/step - loss: 0.8979 - accuracy: 0.9521 - val_loss: 0.8962 - val_accuracy: 0.9462\n",
      "Epoch 7/10\n",
      "3/3 [==============================] - 0s 38ms/step - loss: 0.8485 - accuracy: 0.9619 - val_loss: 0.8813 - val_accuracy: 0.9470\n",
      "Epoch 8/10\n",
      "3/3 [==============================] - 0s 44ms/step - loss: 0.7994 - accuracy: 0.9696 - val_loss: 0.8377 - val_accuracy: 0.9523\n",
      "Epoch 9/10\n",
      "3/3 [==============================] - 0s 39ms/step - loss: 0.7508 - accuracy: 0.9757 - val_loss: 0.8045 - val_accuracy: 0.9508\n",
      "Epoch 10/10\n",
      "3/3 [==============================] - 0s 39ms/step - loss: 0.7006 - accuracy: 0.9795 - val_loss: 0.7529 - val_accuracy: 0.9583\n",
      "1/1 [==============================] - 0s 135ms/step\n",
      "K-Fold Cross-Validation Results (5 folds):\n",
      "Average Accuracy: 0.9455 ± 0.0124\n",
      "Average Precision: 0.9021 ± 0.0282\n",
      "Average Recall: 0.8945 ± 0.0231\n",
      "Average F1-Score: 0.8972 ± 0.0235\n"
     ]
    },
    {
     "name": "stderr",
     "output_type": "stream",
     "text": [
      "2024-03-30 17:55:47.914263: I tensorflow/core/grappler/optimizers/custom_graph_optimizer_registry.cc:114] Plugin optimizer for device_type GPU is enabled.\n"
     ]
    }
   ],
   "source": [
    "# Cross validation training for multimodal data\n",
    "\n",
    "cross_val_training(CNNModel, train_data, train_label, num_folds=5, epochs=10, batch_size=32)"
   ]
  },
  {
   "cell_type": "code",
   "execution_count": 79,
   "metadata": {},
   "outputs": [
    {
     "name": "stdout",
     "output_type": "stream",
     "text": [
      "Epoch 1/10\n"
     ]
    },
    {
     "name": "stderr",
     "output_type": "stream",
     "text": [
      "/Users/venessa/Desktop/5342project/venv/lib/python3.8/site-packages/keras/src/optimizers/legacy/adam.py:118: UserWarning: The `lr` argument is deprecated, use `learning_rate` instead.\n",
      "  super().__init__(name, **kwargs)\n",
      "2024-03-30 17:54:45.063591: I tensorflow/core/grappler/optimizers/custom_graph_optimizer_registry.cc:114] Plugin optimizer for device_type GPU is enabled.\n"
     ]
    },
    {
     "name": "stdout",
     "output_type": "stream",
     "text": [
      "4/4 [==============================] - 1s 95ms/step - loss: 2.0102 - accuracy: 0.5773\n",
      "Epoch 2/10\n",
      "4/4 [==============================] - 0s 52ms/step - loss: 1.4140 - accuracy: 0.7960\n",
      "Epoch 3/10\n",
      "4/4 [==============================] - 0s 38ms/step - loss: 1.1926 - accuracy: 0.8804\n",
      "Epoch 4/10\n",
      "4/4 [==============================] - 0s 40ms/step - loss: 1.0712 - accuracy: 0.9074\n",
      "Epoch 5/10\n",
      "4/4 [==============================] - 0s 37ms/step - loss: 0.9711 - accuracy: 0.9277\n",
      "Epoch 6/10\n",
      "4/4 [==============================] - 0s 43ms/step - loss: 0.9032 - accuracy: 0.9439\n",
      "Epoch 7/10\n",
      "4/4 [==============================] - 0s 40ms/step - loss: 0.8459 - accuracy: 0.9555\n",
      "Epoch 8/10\n",
      "4/4 [==============================] - 0s 40ms/step - loss: 0.7912 - accuracy: 0.9620\n",
      "Epoch 9/10\n",
      "4/4 [==============================] - 0s 54ms/step - loss: 0.7350 - accuracy: 0.9662\n",
      "Epoch 10/10\n",
      "4/4 [==============================] - 0s 45ms/step - loss: 0.6637 - accuracy: 0.9712\n",
      "1/1 [==============================] - 0s 137ms/step\n",
      "Test Metrics:\n",
      "Accuracy: 0.7927\n",
      "Precision: 0.6645\n",
      "Recall: 0.6531\n",
      "F1 Score: 0.6544\n"
     ]
    },
    {
     "name": "stderr",
     "output_type": "stream",
     "text": [
      "2024-03-30 17:54:47.348010: I tensorflow/core/grappler/optimizers/custom_graph_optimizer_registry.cc:114] Plugin optimizer for device_type GPU is enabled.\n"
     ]
    }
   ],
   "source": [
    "# Train and evaluate based on test data for multimodal data\n",
    "\n",
    "# Instantiate the model\n",
    "cnn_model_multimodal = CNNModel(input_shape=train_data.shape[1:], num_classes=train_label.shape[2])\n",
    "\n",
    "# Compile the model\n",
    "cnn_model_multimodal.compile(lr=0.001)\n",
    "\n",
    "# Train and evaluate on the test dataset\n",
    "history, test_metrics = cnn_model_multimodal.train_and_evaluate_on_test(train_data, train_label, test_data, test_label, epochs=10, batch_size=32)"
   ]
  },
  {
   "cell_type": "markdown",
   "metadata": {},
   "source": [
    "## Transformer model"
   ]
  },
  {
   "cell_type": "code",
   "execution_count": 57,
   "metadata": {},
   "outputs": [],
   "source": [
    "# Transformer model\n",
    "\n",
    "def point_wise_feed_forward_network(d_model, dff):\n",
    "    return tf.keras.Sequential([\n",
    "        Dense(dff, activation='relu'),  # (batch_size, seq_len, dff)\n",
    "        Dense(d_model)  # (batch_size, seq_len, d_model)\n",
    "    ])\n",
    "\n",
    "class TransformerBlock(Layer):\n",
    "    def __init__(self, d_model, num_heads, dff, rate, key_dim):\n",
    "        super(TransformerBlock, self).__init__()\n",
    "        self.mha = MultiHeadAttention(num_heads=num_heads, key_dim=key_dim)\n",
    "        self.ffn = point_wise_feed_forward_network(d_model, dff)\n",
    "        \n",
    "        self.layernorm1 = LayerNormalization(epsilon=1e-6)\n",
    "        self.layernorm2 = LayerNormalization(epsilon=1e-6)\n",
    "        \n",
    "        self.dropout1 = Dropout(rate)\n",
    "        self.dropout2 = Dropout(rate)\n",
    "        \n",
    "    def call(self, inputs, training=False):\n",
    "        attn_output = self.mha(inputs, inputs, inputs)  # Self attention\n",
    "        attn_output = self.dropout1(attn_output, training=training)\n",
    "        out1 = self.layernorm1(inputs + attn_output)  # Add & Norm\n",
    "        \n",
    "        ffn_output = self.ffn(out1)\n",
    "        ffn_output = self.dropout2(ffn_output, training=training)\n",
    "        out2 = self.layernorm2(out1 + ffn_output)  # Add & Norm\n",
    "        \n",
    "        return out2\n",
    "\n",
    "class TransformerModel(BaseModel):\n",
    "\n",
    "    def __init__(self, input_shape, num_classes):\n",
    "        self.input_shape = input_shape\n",
    "        self.num_classes = num_classes\n",
    "        self.d_model = input_shape[1]\n",
    "        if self.d_model == 512:\n",
    "            self.num_heads = 8\n",
    "            self.key_dim = 64\n",
    "        elif self.d_model == 100:\n",
    "            self.num_heads = 4\n",
    "            self.key_dim = 25\n",
    "        elif self.d_model == 712:\n",
    "            self.num_heads = 8\n",
    "            self.key_dim = 89\n",
    "        self.dff = 2048\n",
    "        self.rate = 0.1\n",
    "        self.model = self.build_model()\n",
    "\n",
    "    def build_model(self):\n",
    "        inputs = Input(shape=(self.input_shape[0],self.input_shape[1]))\n",
    "        x = TransformerBlock(d_model=self.d_model, num_heads=self.num_heads, dff=self.dff, rate=self.rate, key_dim=self.key_dim)(inputs, training=True)\n",
    "        x = Dense(64, activation='relu')(x)\n",
    "        outputs = Dense(self.num_classes, activation='softmax')(x)\n",
    "        model = Model(inputs=inputs, outputs=outputs)\n",
    "        return model"
   ]
  },
  {
   "cell_type": "code",
   "execution_count": 50,
   "metadata": {},
   "outputs": [
    {
     "name": "stdout",
     "output_type": "stream",
     "text": [
      "Epoch 1/10\n"
     ]
    },
    {
     "name": "stderr",
     "output_type": "stream",
     "text": [
      "/Users/venessa/Desktop/5342project/venv/lib/python3.8/site-packages/keras/src/optimizers/legacy/adam.py:118: UserWarning: The `lr` argument is deprecated, use `learning_rate` instead.\n",
      "  super().__init__(name, **kwargs)\n",
      "2024-03-29 22:34:41.589698: I tensorflow/core/grappler/optimizers/custom_graph_optimizer_registry.cc:114] Plugin optimizer for device_type GPU is enabled.\n"
     ]
    },
    {
     "name": "stdout",
     "output_type": "stream",
     "text": [
      "3/3 [==============================] - ETA: 0s - loss: 1.9990 - accuracy: 0.4428"
     ]
    },
    {
     "name": "stderr",
     "output_type": "stream",
     "text": [
      "2024-03-29 22:34:42.606091: I tensorflow/core/grappler/optimizers/custom_graph_optimizer_registry.cc:114] Plugin optimizer for device_type GPU is enabled.\n"
     ]
    },
    {
     "name": "stdout",
     "output_type": "stream",
     "text": [
      "3/3 [==============================] - 2s 344ms/step - loss: 1.9990 - accuracy: 0.4428 - val_loss: 1.3659 - val_accuracy: 0.6311\n",
      "Epoch 2/10\n",
      "3/3 [==============================] - 1s 180ms/step - loss: 1.0826 - accuracy: 0.6563 - val_loss: 0.7727 - val_accuracy: 0.6731\n",
      "Epoch 3/10\n",
      "3/3 [==============================] - 1s 176ms/step - loss: 0.8436 - accuracy: 0.6775 - val_loss: 0.7433 - val_accuracy: 0.6686\n",
      "Epoch 4/10\n",
      "3/3 [==============================] - 0s 169ms/step - loss: 0.7703 - accuracy: 0.6646 - val_loss: 0.7084 - val_accuracy: 0.7170\n",
      "Epoch 5/10\n",
      "3/3 [==============================] - 0s 169ms/step - loss: 0.7399 - accuracy: 0.6781 - val_loss: 0.7161 - val_accuracy: 0.6958\n",
      "Epoch 6/10\n",
      "3/3 [==============================] - 1s 199ms/step - loss: 0.7291 - accuracy: 0.6843 - val_loss: 0.6845 - val_accuracy: 0.7223\n",
      "Epoch 7/10\n",
      "3/3 [==============================] - 0s 170ms/step - loss: 0.6969 - accuracy: 0.7204 - val_loss: 0.6755 - val_accuracy: 0.7072\n",
      "Epoch 8/10\n",
      "3/3 [==============================] - 0s 174ms/step - loss: 0.6844 - accuracy: 0.7199 - val_loss: 0.6437 - val_accuracy: 0.7288\n",
      "Epoch 9/10\n",
      "3/3 [==============================] - 0s 169ms/step - loss: 0.6588 - accuracy: 0.7302 - val_loss: 0.6253 - val_accuracy: 0.7428\n",
      "Epoch 10/10\n",
      "3/3 [==============================] - 0s 177ms/step - loss: 0.6476 - accuracy: 0.7303 - val_loss: 0.6190 - val_accuracy: 0.7432\n"
     ]
    },
    {
     "name": "stderr",
     "output_type": "stream",
     "text": [
      "2024-03-29 22:34:47.410000: I tensorflow/core/grappler/optimizers/custom_graph_optimizer_registry.cc:114] Plugin optimizer for device_type GPU is enabled.\n"
     ]
    },
    {
     "name": "stdout",
     "output_type": "stream",
     "text": [
      "1/1 [==============================] - 0s 275ms/step\n",
      "Epoch 1/10\n"
     ]
    },
    {
     "name": "stderr",
     "output_type": "stream",
     "text": [
      "/Users/venessa/Desktop/5342project/venv/lib/python3.8/site-packages/keras/src/optimizers/legacy/adam.py:118: UserWarning: The `lr` argument is deprecated, use `learning_rate` instead.\n",
      "  super().__init__(name, **kwargs)\n",
      "2024-03-29 22:34:48.012969: I tensorflow/core/grappler/optimizers/custom_graph_optimizer_registry.cc:114] Plugin optimizer for device_type GPU is enabled.\n"
     ]
    },
    {
     "name": "stdout",
     "output_type": "stream",
     "text": [
      "3/3 [==============================] - ETA: 0s - loss: 1.9025 - accuracy: 0.4619"
     ]
    },
    {
     "name": "stderr",
     "output_type": "stream",
     "text": [
      "2024-03-29 22:34:48.957961: I tensorflow/core/grappler/optimizers/custom_graph_optimizer_registry.cc:114] Plugin optimizer for device_type GPU is enabled.\n"
     ]
    },
    {
     "name": "stdout",
     "output_type": "stream",
     "text": [
      "3/3 [==============================] - 1s 333ms/step - loss: 1.9025 - accuracy: 0.4619 - val_loss: 1.0042 - val_accuracy: 0.6898\n",
      "Epoch 2/10\n",
      "3/3 [==============================] - 1s 178ms/step - loss: 0.9764 - accuracy: 0.6823 - val_loss: 0.7975 - val_accuracy: 0.6996\n",
      "Epoch 3/10\n",
      "3/3 [==============================] - 0s 172ms/step - loss: 0.7727 - accuracy: 0.6755 - val_loss: 0.6949 - val_accuracy: 0.7110\n",
      "Epoch 4/10\n",
      "3/3 [==============================] - 1s 179ms/step - loss: 0.7440 - accuracy: 0.7040 - val_loss: 0.7002 - val_accuracy: 0.6962\n",
      "Epoch 5/10\n",
      "3/3 [==============================] - 1s 205ms/step - loss: 0.7325 - accuracy: 0.7025 - val_loss: 0.7004 - val_accuracy: 0.7000\n",
      "Epoch 6/10\n",
      "3/3 [==============================] - 0s 175ms/step - loss: 0.6970 - accuracy: 0.7177 - val_loss: 0.6575 - val_accuracy: 0.7117\n",
      "Epoch 7/10\n",
      "3/3 [==============================] - 1s 175ms/step - loss: 0.6847 - accuracy: 0.7227 - val_loss: 0.6711 - val_accuracy: 0.7095\n",
      "Epoch 8/10\n",
      "3/3 [==============================] - 1s 197ms/step - loss: 0.6592 - accuracy: 0.7283 - val_loss: 0.6296 - val_accuracy: 0.7223\n",
      "Epoch 9/10\n",
      "3/3 [==============================] - 0s 173ms/step - loss: 0.6516 - accuracy: 0.7366 - val_loss: 0.6210 - val_accuracy: 0.7314\n",
      "Epoch 10/10\n",
      "3/3 [==============================] - 0s 174ms/step - loss: 0.6251 - accuracy: 0.7486 - val_loss: 0.6391 - val_accuracy: 0.7303\n"
     ]
    },
    {
     "name": "stderr",
     "output_type": "stream",
     "text": [
      "2024-03-29 22:34:53.915940: I tensorflow/core/grappler/optimizers/custom_graph_optimizer_registry.cc:114] Plugin optimizer for device_type GPU is enabled.\n"
     ]
    },
    {
     "name": "stdout",
     "output_type": "stream",
     "text": [
      "WARNING:tensorflow:5 out of the last 5 calls to <function Model.make_predict_function.<locals>.predict_function at 0x2d42e9d30> triggered tf.function retracing. Tracing is expensive and the excessive number of tracings could be due to (1) creating @tf.function repeatedly in a loop, (2) passing tensors with different shapes, (3) passing Python objects instead of tensors. For (1), please define your @tf.function outside of the loop. For (2), @tf.function has reduce_retracing=True option that can avoid unnecessary retracing. For (3), please refer to https://www.tensorflow.org/guide/function#controlling_retracing and https://www.tensorflow.org/api_docs/python/tf/function for  more details.\n",
      "1/1 [==============================] - 0s 280ms/step\n",
      "Epoch 1/10\n"
     ]
    },
    {
     "name": "stderr",
     "output_type": "stream",
     "text": [
      "/Users/venessa/Desktop/5342project/venv/lib/python3.8/site-packages/keras/src/optimizers/legacy/adam.py:118: UserWarning: The `lr` argument is deprecated, use `learning_rate` instead.\n",
      "  super().__init__(name, **kwargs)\n",
      "2024-03-29 22:34:54.500438: I tensorflow/core/grappler/optimizers/custom_graph_optimizer_registry.cc:114] Plugin optimizer for device_type GPU is enabled.\n"
     ]
    },
    {
     "name": "stdout",
     "output_type": "stream",
     "text": [
      "3/3 [==============================] - ETA: 0s - loss: 1.6365 - accuracy: 0.4778"
     ]
    },
    {
     "name": "stderr",
     "output_type": "stream",
     "text": [
      "2024-03-29 22:34:55.414003: I tensorflow/core/grappler/optimizers/custom_graph_optimizer_registry.cc:114] Plugin optimizer for device_type GPU is enabled.\n"
     ]
    },
    {
     "name": "stdout",
     "output_type": "stream",
     "text": [
      "3/3 [==============================] - 1s 331ms/step - loss: 1.6365 - accuracy: 0.4778 - val_loss: 2.0812 - val_accuracy: 0.6045\n",
      "Epoch 2/10\n",
      "3/3 [==============================] - 1s 192ms/step - loss: 1.2078 - accuracy: 0.6872 - val_loss: 1.1795 - val_accuracy: 0.6693\n",
      "Epoch 3/10\n",
      "3/3 [==============================] - 1s 173ms/step - loss: 0.8048 - accuracy: 0.7070 - val_loss: 0.8267 - val_accuracy: 0.6356\n",
      "Epoch 4/10\n",
      "3/3 [==============================] - 0s 175ms/step - loss: 0.7148 - accuracy: 0.6650 - val_loss: 0.8049 - val_accuracy: 0.6689\n",
      "Epoch 5/10\n",
      "3/3 [==============================] - 1s 181ms/step - loss: 0.6917 - accuracy: 0.7033 - val_loss: 0.8324 - val_accuracy: 0.6367\n",
      "Epoch 6/10\n",
      "3/3 [==============================] - 0s 174ms/step - loss: 0.6571 - accuracy: 0.7322 - val_loss: 0.7712 - val_accuracy: 0.6822\n",
      "Epoch 7/10\n",
      "3/3 [==============================] - 0s 170ms/step - loss: 0.6347 - accuracy: 0.7482 - val_loss: 0.8031 - val_accuracy: 0.6689\n",
      "Epoch 8/10\n",
      "3/3 [==============================] - 0s 170ms/step - loss: 0.6264 - accuracy: 0.7463 - val_loss: 0.8187 - val_accuracy: 0.6564\n",
      "Epoch 9/10\n",
      "3/3 [==============================] - 0s 173ms/step - loss: 0.6078 - accuracy: 0.7566 - val_loss: 0.7242 - val_accuracy: 0.6883\n",
      "Epoch 10/10\n",
      "3/3 [==============================] - 0s 174ms/step - loss: 0.5898 - accuracy: 0.7618 - val_loss: 0.7667 - val_accuracy: 0.6746\n"
     ]
    },
    {
     "name": "stderr",
     "output_type": "stream",
     "text": [
      "2024-03-29 22:35:00.297183: I tensorflow/core/grappler/optimizers/custom_graph_optimizer_registry.cc:114] Plugin optimizer for device_type GPU is enabled.\n"
     ]
    },
    {
     "name": "stdout",
     "output_type": "stream",
     "text": [
      "WARNING:tensorflow:6 out of the last 6 calls to <function Model.make_predict_function.<locals>.predict_function at 0x2ff2c8280> triggered tf.function retracing. Tracing is expensive and the excessive number of tracings could be due to (1) creating @tf.function repeatedly in a loop, (2) passing tensors with different shapes, (3) passing Python objects instead of tensors. For (1), please define your @tf.function outside of the loop. For (2), @tf.function has reduce_retracing=True option that can avoid unnecessary retracing. For (3), please refer to https://www.tensorflow.org/guide/function#controlling_retracing and https://www.tensorflow.org/api_docs/python/tf/function for  more details.\n",
      "1/1 [==============================] - 0s 276ms/step\n",
      "Epoch 1/10\n"
     ]
    },
    {
     "name": "stderr",
     "output_type": "stream",
     "text": [
      "/Users/venessa/Desktop/5342project/venv/lib/python3.8/site-packages/keras/src/optimizers/legacy/adam.py:118: UserWarning: The `lr` argument is deprecated, use `learning_rate` instead.\n",
      "  super().__init__(name, **kwargs)\n",
      "2024-03-29 22:35:00.891952: I tensorflow/core/grappler/optimizers/custom_graph_optimizer_registry.cc:114] Plugin optimizer for device_type GPU is enabled.\n"
     ]
    },
    {
     "name": "stdout",
     "output_type": "stream",
     "text": [
      "3/3 [==============================] - ETA: 0s - loss: 1.3596 - accuracy: 0.4694"
     ]
    },
    {
     "name": "stderr",
     "output_type": "stream",
     "text": [
      "2024-03-29 22:35:01.822236: I tensorflow/core/grappler/optimizers/custom_graph_optimizer_registry.cc:114] Plugin optimizer for device_type GPU is enabled.\n"
     ]
    },
    {
     "name": "stdout",
     "output_type": "stream",
     "text": [
      "3/3 [==============================] - 1s 331ms/step - loss: 1.3596 - accuracy: 0.4694 - val_loss: 0.6697 - val_accuracy: 0.7205\n",
      "Epoch 2/10\n",
      "3/3 [==============================] - 1s 186ms/step - loss: 0.7731 - accuracy: 0.6902 - val_loss: 0.7115 - val_accuracy: 0.7280\n",
      "Epoch 3/10\n",
      "3/3 [==============================] - 1s 182ms/step - loss: 0.7745 - accuracy: 0.6865 - val_loss: 0.6574 - val_accuracy: 0.7417\n",
      "Epoch 4/10\n",
      "3/3 [==============================] - 1s 224ms/step - loss: 0.7007 - accuracy: 0.7105 - val_loss: 0.5961 - val_accuracy: 0.7659\n",
      "Epoch 5/10\n",
      "3/3 [==============================] - 0s 171ms/step - loss: 0.6761 - accuracy: 0.7233 - val_loss: 0.5872 - val_accuracy: 0.7773\n",
      "Epoch 6/10\n",
      "3/3 [==============================] - 0s 175ms/step - loss: 0.6399 - accuracy: 0.7329 - val_loss: 0.5896 - val_accuracy: 0.7629\n",
      "Epoch 7/10\n",
      "3/3 [==============================] - 0s 170ms/step - loss: 0.6213 - accuracy: 0.7367 - val_loss: 0.5470 - val_accuracy: 0.8000\n",
      "Epoch 8/10\n",
      "3/3 [==============================] - 0s 172ms/step - loss: 0.6065 - accuracy: 0.7491 - val_loss: 0.5489 - val_accuracy: 0.7833\n",
      "Epoch 9/10\n",
      "3/3 [==============================] - 0s 175ms/step - loss: 0.5924 - accuracy: 0.7580 - val_loss: 0.5434 - val_accuracy: 0.7989\n",
      "Epoch 10/10\n",
      "3/3 [==============================] - 0s 171ms/step - loss: 0.5875 - accuracy: 0.7580 - val_loss: 0.5301 - val_accuracy: 0.8004\n"
     ]
    },
    {
     "name": "stderr",
     "output_type": "stream",
     "text": [
      "2024-03-29 22:35:06.744800: I tensorflow/core/grappler/optimizers/custom_graph_optimizer_registry.cc:114] Plugin optimizer for device_type GPU is enabled.\n"
     ]
    },
    {
     "name": "stdout",
     "output_type": "stream",
     "text": [
      "1/1 [==============================] - 0s 279ms/step\n",
      "Epoch 1/10\n"
     ]
    },
    {
     "name": "stderr",
     "output_type": "stream",
     "text": [
      "/Users/venessa/Desktop/5342project/venv/lib/python3.8/site-packages/keras/src/optimizers/legacy/adam.py:118: UserWarning: The `lr` argument is deprecated, use `learning_rate` instead.\n",
      "  super().__init__(name, **kwargs)\n",
      "2024-03-29 22:35:07.330751: I tensorflow/core/grappler/optimizers/custom_graph_optimizer_registry.cc:114] Plugin optimizer for device_type GPU is enabled.\n"
     ]
    },
    {
     "name": "stdout",
     "output_type": "stream",
     "text": [
      "3/3 [==============================] - ETA: 0s - loss: 1.8030 - accuracy: 0.4455"
     ]
    },
    {
     "name": "stderr",
     "output_type": "stream",
     "text": [
      "2024-03-29 22:35:08.291825: I tensorflow/core/grappler/optimizers/custom_graph_optimizer_registry.cc:114] Plugin optimizer for device_type GPU is enabled.\n"
     ]
    },
    {
     "name": "stdout",
     "output_type": "stream",
     "text": [
      "3/3 [==============================] - 2s 348ms/step - loss: 1.8030 - accuracy: 0.4455 - val_loss: 0.9407 - val_accuracy: 0.6379\n",
      "Epoch 2/10\n",
      "3/3 [==============================] - 1s 184ms/step - loss: 0.8515 - accuracy: 0.6563 - val_loss: 0.7760 - val_accuracy: 0.6799\n",
      "Epoch 3/10\n",
      "3/3 [==============================] - 1s 180ms/step - loss: 0.7403 - accuracy: 0.6930 - val_loss: 0.7723 - val_accuracy: 0.6663\n",
      "Epoch 4/10\n",
      "3/3 [==============================] - 1s 176ms/step - loss: 0.7177 - accuracy: 0.7007 - val_loss: 0.7361 - val_accuracy: 0.6985\n",
      "Epoch 5/10\n",
      "3/3 [==============================] - 0s 176ms/step - loss: 0.6905 - accuracy: 0.7161 - val_loss: 0.7281 - val_accuracy: 0.6879\n",
      "Epoch 6/10\n",
      "3/3 [==============================] - 1s 198ms/step - loss: 0.6694 - accuracy: 0.7322 - val_loss: 0.7074 - val_accuracy: 0.6992\n",
      "Epoch 7/10\n",
      "3/3 [==============================] - 1s 177ms/step - loss: 0.6489 - accuracy: 0.7409 - val_loss: 0.6912 - val_accuracy: 0.6985\n",
      "Epoch 8/10\n",
      "3/3 [==============================] - 0s 171ms/step - loss: 0.6251 - accuracy: 0.7450 - val_loss: 0.6841 - val_accuracy: 0.7148\n",
      "Epoch 9/10\n",
      "3/3 [==============================] - 0s 176ms/step - loss: 0.6153 - accuracy: 0.7546 - val_loss: 0.6743 - val_accuracy: 0.7174\n",
      "Epoch 10/10\n",
      "3/3 [==============================] - 1s 180ms/step - loss: 0.6015 - accuracy: 0.7575 - val_loss: 0.6656 - val_accuracy: 0.7246\n"
     ]
    },
    {
     "name": "stderr",
     "output_type": "stream",
     "text": [
      "2024-03-29 22:35:13.248581: I tensorflow/core/grappler/optimizers/custom_graph_optimizer_registry.cc:114] Plugin optimizer for device_type GPU is enabled.\n"
     ]
    },
    {
     "name": "stdout",
     "output_type": "stream",
     "text": [
      "1/1 [==============================] - 0s 314ms/step\n",
      "K-Fold Cross-Validation Results (5 folds):\n",
      "Average Accuracy: 0.7322 ± 0.0391\n",
      "Average Precision: 0.5432 ± 0.0434\n",
      "Average Recall: 0.5058 ± 0.0675\n",
      "Average F1-Score: 0.4883 ± 0.0641\n"
     ]
    }
   ],
   "source": [
    "# Cross validation training for transformer model on visual modality\n",
    "cross_val_training(TransformerModel, train_visual, train_label, num_folds=5, epochs=10, batch_size=32)"
   ]
  },
  {
   "cell_type": "code",
   "execution_count": 49,
   "metadata": {},
   "outputs": [
    {
     "name": "stdout",
     "output_type": "stream",
     "text": [
      "Epoch 1/10\n"
     ]
    },
    {
     "name": "stderr",
     "output_type": "stream",
     "text": [
      "/Users/venessa/Desktop/5342project/venv/lib/python3.8/site-packages/keras/src/optimizers/legacy/adam.py:118: UserWarning: The `lr` argument is deprecated, use `learning_rate` instead.\n",
      "  super().__init__(name, **kwargs)\n",
      "2024-03-29 22:34:23.233956: I tensorflow/core/grappler/optimizers/custom_graph_optimizer_registry.cc:114] Plugin optimizer for device_type GPU is enabled.\n"
     ]
    },
    {
     "name": "stdout",
     "output_type": "stream",
     "text": [
      "4/4 [==============================] - 2s 220ms/step - loss: 1.7154 - accuracy: 0.4829\n",
      "Epoch 2/10\n",
      "4/4 [==============================] - 1s 157ms/step - loss: 0.7834 - accuracy: 0.6793\n",
      "Epoch 3/10\n",
      "4/4 [==============================] - 1s 144ms/step - loss: 0.7393 - accuracy: 0.6714\n",
      "Epoch 4/10\n",
      "4/4 [==============================] - 1s 154ms/step - loss: 0.7082 - accuracy: 0.6857\n",
      "Epoch 5/10\n",
      "4/4 [==============================] - 1s 162ms/step - loss: 0.7022 - accuracy: 0.6884\n",
      "Epoch 6/10\n",
      "4/4 [==============================] - 1s 146ms/step - loss: 0.6786 - accuracy: 0.7043\n",
      "Epoch 7/10\n",
      "4/4 [==============================] - 1s 146ms/step - loss: 0.6681 - accuracy: 0.7313\n",
      "Epoch 8/10\n",
      "4/4 [==============================] - 1s 158ms/step - loss: 0.6515 - accuracy: 0.7317\n",
      "Epoch 9/10\n",
      "4/4 [==============================] - 1s 149ms/step - loss: 0.6340 - accuracy: 0.7458\n",
      "Epoch 10/10\n",
      "4/4 [==============================] - 1s 154ms/step - loss: 0.6228 - accuracy: 0.7416\n"
     ]
    },
    {
     "name": "stderr",
     "output_type": "stream",
     "text": [
      "2024-03-29 22:34:30.278941: I tensorflow/core/grappler/optimizers/custom_graph_optimizer_registry.cc:114] Plugin optimizer for device_type GPU is enabled.\n"
     ]
    },
    {
     "name": "stdout",
     "output_type": "stream",
     "text": [
      "1/1 [==============================] - 0s 311ms/step\n",
      "Test Metrics:\n",
      "Accuracy: 0.6622\n",
      "Precision: 0.4519\n",
      "Recall: 0.3837\n",
      "F1 Score: 0.3756\n"
     ]
    }
   ],
   "source": [
    "# Test transformer model on visual modality\n",
    "\n",
    "# Instantiate the model\n",
    "transformer_model = TransformerModel(input_shape=train_visual.shape[1:], num_classes=train_label.shape[2])\n",
    "\n",
    "# Compile the model\n",
    "transformer_model.compile(lr=0.001)\n",
    "\n",
    "# Train and evaluate on the test dataset\n",
    "history, test_metrics = transformer_model.train_and_evaluate_on_test(train_visual, train_label, test_visual, test_label, epochs=10, batch_size=32)"
   ]
  },
  {
   "cell_type": "code",
   "execution_count": 51,
   "metadata": {},
   "outputs": [
    {
     "name": "stdout",
     "output_type": "stream",
     "text": [
      "Epoch 1/10\n"
     ]
    },
    {
     "name": "stderr",
     "output_type": "stream",
     "text": [
      "/Users/venessa/Desktop/5342project/venv/lib/python3.8/site-packages/keras/src/optimizers/legacy/adam.py:118: UserWarning: The `lr` argument is deprecated, use `learning_rate` instead.\n",
      "  super().__init__(name, **kwargs)\n",
      "2024-03-29 22:36:24.362995: I tensorflow/core/grappler/optimizers/custom_graph_optimizer_registry.cc:114] Plugin optimizer for device_type GPU is enabled.\n"
     ]
    },
    {
     "name": "stdout",
     "output_type": "stream",
     "text": [
      "3/3 [==============================] - ETA: 0s - loss: 1.3612 - accuracy: 0.5257"
     ]
    },
    {
     "name": "stderr",
     "output_type": "stream",
     "text": [
      "2024-03-29 22:36:26.606008: I tensorflow/core/grappler/optimizers/custom_graph_optimizer_registry.cc:114] Plugin optimizer for device_type GPU is enabled.\n"
     ]
    },
    {
     "name": "stdout",
     "output_type": "stream",
     "text": [
      "3/3 [==============================] - 3s 835ms/step - loss: 1.3612 - accuracy: 0.5257 - val_loss: 0.7838 - val_accuracy: 0.6841\n",
      "Epoch 2/10\n",
      "3/3 [==============================] - 0s 85ms/step - loss: 0.7084 - accuracy: 0.7308 - val_loss: 0.6927 - val_accuracy: 0.7254\n",
      "Epoch 3/10\n",
      "3/3 [==============================] - 0s 76ms/step - loss: 0.6638 - accuracy: 0.7528 - val_loss: 0.6595 - val_accuracy: 0.7360\n",
      "Epoch 4/10\n",
      "3/3 [==============================] - 0s 73ms/step - loss: 0.6538 - accuracy: 0.7504 - val_loss: 0.6556 - val_accuracy: 0.7360\n",
      "Epoch 5/10\n",
      "3/3 [==============================] - 0s 86ms/step - loss: 0.6252 - accuracy: 0.7607 - val_loss: 0.6587 - val_accuracy: 0.7360\n",
      "Epoch 6/10\n",
      "3/3 [==============================] - 0s 78ms/step - loss: 0.6220 - accuracy: 0.7546 - val_loss: 0.6728 - val_accuracy: 0.7341\n",
      "Epoch 7/10\n",
      "3/3 [==============================] - 0s 71ms/step - loss: 0.6075 - accuracy: 0.7632 - val_loss: 0.6513 - val_accuracy: 0.7386\n",
      "Epoch 8/10\n",
      "3/3 [==============================] - 0s 74ms/step - loss: 0.6071 - accuracy: 0.7630 - val_loss: 0.6488 - val_accuracy: 0.7364\n",
      "Epoch 9/10\n",
      "3/3 [==============================] - 0s 73ms/step - loss: 0.5968 - accuracy: 0.7651 - val_loss: 0.6433 - val_accuracy: 0.7375\n",
      "Epoch 10/10\n",
      "3/3 [==============================] - 0s 74ms/step - loss: 0.5912 - accuracy: 0.7650 - val_loss: 0.6402 - val_accuracy: 0.7367\n",
      "1/1 [==============================] - 0s 246ms/step\n"
     ]
    },
    {
     "name": "stderr",
     "output_type": "stream",
     "text": [
      "2024-03-29 22:36:28.954292: I tensorflow/core/grappler/optimizers/custom_graph_optimizer_registry.cc:114] Plugin optimizer for device_type GPU is enabled.\n"
     ]
    },
    {
     "name": "stdout",
     "output_type": "stream",
     "text": [
      "Epoch 1/10\n"
     ]
    },
    {
     "name": "stderr",
     "output_type": "stream",
     "text": [
      "/Users/venessa/Desktop/5342project/venv/lib/python3.8/site-packages/keras/src/optimizers/legacy/adam.py:118: UserWarning: The `lr` argument is deprecated, use `learning_rate` instead.\n",
      "  super().__init__(name, **kwargs)\n",
      "2024-03-29 22:36:29.500381: I tensorflow/core/grappler/optimizers/custom_graph_optimizer_registry.cc:114] Plugin optimizer for device_type GPU is enabled.\n"
     ]
    },
    {
     "name": "stdout",
     "output_type": "stream",
     "text": [
      "3/3 [==============================] - ETA: 0s - loss: 1.2428 - accuracy: 0.4910"
     ]
    },
    {
     "name": "stderr",
     "output_type": "stream",
     "text": [
      "2024-03-29 22:36:30.268505: I tensorflow/core/grappler/optimizers/custom_graph_optimizer_registry.cc:114] Plugin optimizer for device_type GPU is enabled.\n"
     ]
    },
    {
     "name": "stdout",
     "output_type": "stream",
     "text": [
      "3/3 [==============================] - 1s 239ms/step - loss: 1.2428 - accuracy: 0.4910 - val_loss: 0.6617 - val_accuracy: 0.7330\n",
      "Epoch 2/10\n",
      "3/3 [==============================] - 0s 106ms/step - loss: 0.6754 - accuracy: 0.7298 - val_loss: 0.6115 - val_accuracy: 0.7655\n",
      "Epoch 3/10\n",
      "3/3 [==============================] - 0s 81ms/step - loss: 0.6472 - accuracy: 0.7497 - val_loss: 0.6069 - val_accuracy: 0.7746\n",
      "Epoch 4/10\n",
      "3/3 [==============================] - 0s 76ms/step - loss: 0.6409 - accuracy: 0.7505 - val_loss: 0.5943 - val_accuracy: 0.7739\n",
      "Epoch 5/10\n",
      "3/3 [==============================] - 0s 78ms/step - loss: 0.6244 - accuracy: 0.7532 - val_loss: 0.5898 - val_accuracy: 0.7701\n",
      "Epoch 6/10\n",
      "3/3 [==============================] - 0s 71ms/step - loss: 0.6165 - accuracy: 0.7543 - val_loss: 0.5686 - val_accuracy: 0.7712\n",
      "Epoch 7/10\n",
      "3/3 [==============================] - 0s 76ms/step - loss: 0.6053 - accuracy: 0.7552 - val_loss: 0.5608 - val_accuracy: 0.7765\n",
      "Epoch 8/10\n",
      "3/3 [==============================] - 0s 119ms/step - loss: 0.6011 - accuracy: 0.7605 - val_loss: 0.5691 - val_accuracy: 0.7731\n",
      "Epoch 9/10\n",
      "3/3 [==============================] - 0s 71ms/step - loss: 0.5963 - accuracy: 0.7619 - val_loss: 0.5588 - val_accuracy: 0.7780\n",
      "Epoch 10/10\n",
      "3/3 [==============================] - 0s 70ms/step - loss: 0.5919 - accuracy: 0.7637 - val_loss: 0.5495 - val_accuracy: 0.7803\n"
     ]
    },
    {
     "name": "stderr",
     "output_type": "stream",
     "text": [
      "2024-03-29 22:36:32.668659: I tensorflow/core/grappler/optimizers/custom_graph_optimizer_registry.cc:114] Plugin optimizer for device_type GPU is enabled.\n"
     ]
    },
    {
     "name": "stdout",
     "output_type": "stream",
     "text": [
      "1/1 [==============================] - 0s 281ms/step\n",
      "Epoch 1/10\n"
     ]
    },
    {
     "name": "stderr",
     "output_type": "stream",
     "text": [
      "/Users/venessa/Desktop/5342project/venv/lib/python3.8/site-packages/keras/src/optimizers/legacy/adam.py:118: UserWarning: The `lr` argument is deprecated, use `learning_rate` instead.\n",
      "  super().__init__(name, **kwargs)\n",
      "2024-03-29 22:36:33.230787: I tensorflow/core/grappler/optimizers/custom_graph_optimizer_registry.cc:114] Plugin optimizer for device_type GPU is enabled.\n"
     ]
    },
    {
     "name": "stdout",
     "output_type": "stream",
     "text": [
      "3/3 [==============================] - ETA: 0s - loss: 1.5293 - accuracy: 0.4483"
     ]
    },
    {
     "name": "stderr",
     "output_type": "stream",
     "text": [
      "2024-03-29 22:36:34.047459: I tensorflow/core/grappler/optimizers/custom_graph_optimizer_registry.cc:114] Plugin optimizer for device_type GPU is enabled.\n"
     ]
    },
    {
     "name": "stdout",
     "output_type": "stream",
     "text": [
      "3/3 [==============================] - 1s 258ms/step - loss: 1.5293 - accuracy: 0.4483 - val_loss: 0.8913 - val_accuracy: 0.6117\n",
      "Epoch 2/10\n",
      "3/3 [==============================] - 0s 103ms/step - loss: 0.7492 - accuracy: 0.6949 - val_loss: 0.8340 - val_accuracy: 0.6742\n",
      "Epoch 3/10\n",
      "3/3 [==============================] - 0s 85ms/step - loss: 0.6734 - accuracy: 0.7338 - val_loss: 0.7288 - val_accuracy: 0.7284\n",
      "Epoch 4/10\n",
      "3/3 [==============================] - 0s 88ms/step - loss: 0.6367 - accuracy: 0.7458 - val_loss: 0.7241 - val_accuracy: 0.7280\n",
      "Epoch 5/10\n",
      "3/3 [==============================] - 0s 80ms/step - loss: 0.6308 - accuracy: 0.7461 - val_loss: 0.7222 - val_accuracy: 0.7314\n",
      "Epoch 6/10\n",
      "3/3 [==============================] - 0s 71ms/step - loss: 0.6096 - accuracy: 0.7575 - val_loss: 0.7124 - val_accuracy: 0.7303\n",
      "Epoch 7/10\n",
      "3/3 [==============================] - 0s 88ms/step - loss: 0.6042 - accuracy: 0.7593 - val_loss: 0.6989 - val_accuracy: 0.7299\n",
      "Epoch 8/10\n",
      "3/3 [==============================] - 0s 123ms/step - loss: 0.5985 - accuracy: 0.7585 - val_loss: 0.6948 - val_accuracy: 0.7303\n",
      "Epoch 9/10\n",
      "3/3 [==============================] - 0s 92ms/step - loss: 0.5950 - accuracy: 0.7581 - val_loss: 0.6892 - val_accuracy: 0.7341\n",
      "Epoch 10/10\n",
      "3/3 [==============================] - 0s 72ms/step - loss: 0.5865 - accuracy: 0.7634 - val_loss: 0.6861 - val_accuracy: 0.7348\n"
     ]
    },
    {
     "name": "stderr",
     "output_type": "stream",
     "text": [
      "2024-03-29 22:36:36.588636: I tensorflow/core/grappler/optimizers/custom_graph_optimizer_registry.cc:114] Plugin optimizer for device_type GPU is enabled.\n"
     ]
    },
    {
     "name": "stdout",
     "output_type": "stream",
     "text": [
      "1/1 [==============================] - 0s 297ms/step\n",
      "Epoch 1/10\n"
     ]
    },
    {
     "name": "stderr",
     "output_type": "stream",
     "text": [
      "/Users/venessa/Desktop/5342project/venv/lib/python3.8/site-packages/keras/src/optimizers/legacy/adam.py:118: UserWarning: The `lr` argument is deprecated, use `learning_rate` instead.\n",
      "  super().__init__(name, **kwargs)\n",
      "2024-03-29 22:36:37.196918: I tensorflow/core/grappler/optimizers/custom_graph_optimizer_registry.cc:114] Plugin optimizer for device_type GPU is enabled.\n"
     ]
    },
    {
     "name": "stdout",
     "output_type": "stream",
     "text": [
      "3/3 [==============================] - ETA: 0s - loss: 1.3047 - accuracy: 0.4527"
     ]
    },
    {
     "name": "stderr",
     "output_type": "stream",
     "text": [
      "2024-03-29 22:36:37.935373: I tensorflow/core/grappler/optimizers/custom_graph_optimizer_registry.cc:114] Plugin optimizer for device_type GPU is enabled.\n"
     ]
    },
    {
     "name": "stdout",
     "output_type": "stream",
     "text": [
      "3/3 [==============================] - 1s 277ms/step - loss: 1.3047 - accuracy: 0.4527 - val_loss: 0.6615 - val_accuracy: 0.7409\n",
      "Epoch 2/10\n",
      "3/3 [==============================] - 0s 96ms/step - loss: 0.7037 - accuracy: 0.7206 - val_loss: 0.6803 - val_accuracy: 0.7352\n",
      "Epoch 3/10\n",
      "3/3 [==============================] - 0s 89ms/step - loss: 0.6616 - accuracy: 0.7407 - val_loss: 0.6411 - val_accuracy: 0.7553\n",
      "Epoch 4/10\n",
      "3/3 [==============================] - 0s 95ms/step - loss: 0.6365 - accuracy: 0.7461 - val_loss: 0.6232 - val_accuracy: 0.7564\n",
      "Epoch 5/10\n",
      "3/3 [==============================] - 0s 81ms/step - loss: 0.6249 - accuracy: 0.7518 - val_loss: 0.6147 - val_accuracy: 0.7545\n",
      "Epoch 6/10\n",
      "3/3 [==============================] - 0s 154ms/step - loss: 0.6133 - accuracy: 0.7560 - val_loss: 0.6234 - val_accuracy: 0.7451\n",
      "Epoch 7/10\n",
      "3/3 [==============================] - 0s 76ms/step - loss: 0.6085 - accuracy: 0.7521 - val_loss: 0.6081 - val_accuracy: 0.7515\n",
      "Epoch 8/10\n",
      "3/3 [==============================] - 0s 75ms/step - loss: 0.5997 - accuracy: 0.7588 - val_loss: 0.5989 - val_accuracy: 0.7602\n",
      "Epoch 9/10\n",
      "3/3 [==============================] - 0s 71ms/step - loss: 0.5948 - accuracy: 0.7635 - val_loss: 0.5906 - val_accuracy: 0.7621\n",
      "Epoch 10/10\n",
      "3/3 [==============================] - 0s 76ms/step - loss: 0.5901 - accuracy: 0.7617 - val_loss: 0.5935 - val_accuracy: 0.7587\n"
     ]
    },
    {
     "name": "stderr",
     "output_type": "stream",
     "text": [
      "2024-03-29 22:36:40.548161: I tensorflow/core/grappler/optimizers/custom_graph_optimizer_registry.cc:114] Plugin optimizer for device_type GPU is enabled.\n"
     ]
    },
    {
     "name": "stdout",
     "output_type": "stream",
     "text": [
      "1/1 [==============================] - 0s 339ms/step\n",
      "Epoch 1/10\n"
     ]
    },
    {
     "name": "stderr",
     "output_type": "stream",
     "text": [
      "/Users/venessa/Desktop/5342project/venv/lib/python3.8/site-packages/keras/src/optimizers/legacy/adam.py:118: UserWarning: The `lr` argument is deprecated, use `learning_rate` instead.\n",
      "  super().__init__(name, **kwargs)\n",
      "2024-03-29 22:36:41.180663: I tensorflow/core/grappler/optimizers/custom_graph_optimizer_registry.cc:114] Plugin optimizer for device_type GPU is enabled.\n"
     ]
    },
    {
     "name": "stdout",
     "output_type": "stream",
     "text": [
      "3/3 [==============================] - ETA: 0s - loss: 1.8015 - accuracy: 0.4589"
     ]
    },
    {
     "name": "stderr",
     "output_type": "stream",
     "text": [
      "2024-03-29 22:36:41.975677: I tensorflow/core/grappler/optimizers/custom_graph_optimizer_registry.cc:114] Plugin optimizer for device_type GPU is enabled.\n"
     ]
    },
    {
     "name": "stdout",
     "output_type": "stream",
     "text": [
      "3/3 [==============================] - 1s 272ms/step - loss: 1.8015 - accuracy: 0.4589 - val_loss: 0.8782 - val_accuracy: 0.6939\n",
      "Epoch 2/10\n",
      "3/3 [==============================] - 0s 76ms/step - loss: 0.8369 - accuracy: 0.7006 - val_loss: 0.7217 - val_accuracy: 0.7367\n",
      "Epoch 3/10\n",
      "3/3 [==============================] - 0s 106ms/step - loss: 0.7233 - accuracy: 0.7289 - val_loss: 0.6586 - val_accuracy: 0.7371\n",
      "Epoch 4/10\n",
      "3/3 [==============================] - 0s 96ms/step - loss: 0.6738 - accuracy: 0.7359 - val_loss: 0.6365 - val_accuracy: 0.7413\n",
      "Epoch 5/10\n",
      "3/3 [==============================] - 0s 75ms/step - loss: 0.6557 - accuracy: 0.7414 - val_loss: 0.6046 - val_accuracy: 0.7591\n",
      "Epoch 6/10\n",
      "3/3 [==============================] - 0s 86ms/step - loss: 0.6391 - accuracy: 0.7475 - val_loss: 0.5930 - val_accuracy: 0.7621\n",
      "Epoch 7/10\n",
      "3/3 [==============================] - 0s 71ms/step - loss: 0.6287 - accuracy: 0.7530 - val_loss: 0.5948 - val_accuracy: 0.7621\n",
      "Epoch 8/10\n",
      "3/3 [==============================] - 0s 72ms/step - loss: 0.6216 - accuracy: 0.7525 - val_loss: 0.6064 - val_accuracy: 0.7553\n",
      "Epoch 9/10\n",
      "3/3 [==============================] - 0s 74ms/step - loss: 0.6140 - accuracy: 0.7551 - val_loss: 0.6023 - val_accuracy: 0.7561\n",
      "Epoch 10/10\n",
      "3/3 [==============================] - 0s 71ms/step - loss: 0.6056 - accuracy: 0.7563 - val_loss: 0.5812 - val_accuracy: 0.7659\n"
     ]
    },
    {
     "name": "stderr",
     "output_type": "stream",
     "text": [
      "2024-03-29 22:36:44.354115: I tensorflow/core/grappler/optimizers/custom_graph_optimizer_registry.cc:114] Plugin optimizer for device_type GPU is enabled.\n"
     ]
    },
    {
     "name": "stdout",
     "output_type": "stream",
     "text": [
      "1/1 [==============================] - 0s 307ms/step\n",
      "K-Fold Cross-Validation Results (5 folds):\n",
      "Average Accuracy: 0.7567 ± 0.0183\n",
      "Average Precision: 0.5438 ± 0.0243\n",
      "Average Recall: 0.5760 ± 0.0179\n",
      "Average F1-Score: 0.5498 ± 0.0251\n"
     ]
    }
   ],
   "source": [
    "# Cross validation training for transformer model on audio modality\n",
    "cross_val_training(TransformerModel, train_audio, train_label, num_folds=5, epochs=10, batch_size=32)"
   ]
  },
  {
   "cell_type": "code",
   "execution_count": 52,
   "metadata": {},
   "outputs": [
    {
     "name": "stdout",
     "output_type": "stream",
     "text": [
      "Epoch 1/10\n"
     ]
    },
    {
     "name": "stderr",
     "output_type": "stream",
     "text": [
      "/Users/venessa/Desktop/5342project/venv/lib/python3.8/site-packages/keras/src/optimizers/legacy/adam.py:118: UserWarning: The `lr` argument is deprecated, use `learning_rate` instead.\n",
      "  super().__init__(name, **kwargs)\n",
      "2024-03-29 22:37:05.390774: I tensorflow/core/grappler/optimizers/custom_graph_optimizer_registry.cc:114] Plugin optimizer for device_type GPU is enabled.\n"
     ]
    },
    {
     "name": "stdout",
     "output_type": "stream",
     "text": [
      "4/4 [==============================] - 2s 234ms/step - loss: 1.0197 - accuracy: 0.5949\n",
      "Epoch 2/10\n",
      "4/4 [==============================] - 0s 96ms/step - loss: 0.6683 - accuracy: 0.7330\n",
      "Epoch 3/10\n",
      "4/4 [==============================] - 0s 77ms/step - loss: 0.6441 - accuracy: 0.7448\n",
      "Epoch 4/10\n",
      "4/4 [==============================] - 0s 65ms/step - loss: 0.6231 - accuracy: 0.7533\n",
      "Epoch 5/10\n",
      "4/4 [==============================] - 0s 57ms/step - loss: 0.6124 - accuracy: 0.7548\n",
      "Epoch 6/10\n",
      "4/4 [==============================] - 0s 79ms/step - loss: 0.6056 - accuracy: 0.7593\n",
      "Epoch 7/10\n",
      "4/4 [==============================] - 0s 61ms/step - loss: 0.5971 - accuracy: 0.7616\n",
      "Epoch 8/10\n",
      "4/4 [==============================] - 0s 63ms/step - loss: 0.5917 - accuracy: 0.7617\n",
      "Epoch 9/10\n",
      "4/4 [==============================] - 0s 61ms/step - loss: 0.5906 - accuracy: 0.7668\n",
      "Epoch 10/10\n",
      "4/4 [==============================] - 0s 60ms/step - loss: 0.5826 - accuracy: 0.7669\n"
     ]
    },
    {
     "name": "stderr",
     "output_type": "stream",
     "text": [
      "2024-03-29 22:37:09.405055: I tensorflow/core/grappler/optimizers/custom_graph_optimizer_registry.cc:114] Plugin optimizer for device_type GPU is enabled.\n"
     ]
    },
    {
     "name": "stdout",
     "output_type": "stream",
     "text": [
      "1/1 [==============================] - 0s 456ms/step\n",
      "Test Metrics:\n",
      "Accuracy: 0.7147\n",
      "Precision: 0.5172\n",
      "Recall: 0.5523\n",
      "F1 Score: 0.5150\n"
     ]
    }
   ],
   "source": [
    "# Test transformer model on audio modality\n",
    "\n",
    "# Instantiate the model\n",
    "transformer_model = TransformerModel(input_shape=train_audio.shape[1:], num_classes=train_label.shape[2])\n",
    "\n",
    "# Compile the model\n",
    "transformer_model.compile(lr=0.001)\n",
    "\n",
    "# Train and evaluate on the test dataset\n",
    "history, test_metrics = transformer_model.train_and_evaluate_on_test(train_audio, train_label, test_audio, test_label, epochs=10, batch_size=32)"
   ]
  },
  {
   "cell_type": "code",
   "execution_count": 53,
   "metadata": {},
   "outputs": [
    {
     "name": "stdout",
     "output_type": "stream",
     "text": [
      "Epoch 1/10\n"
     ]
    },
    {
     "name": "stderr",
     "output_type": "stream",
     "text": [
      "/Users/venessa/Desktop/5342project/venv/lib/python3.8/site-packages/keras/src/optimizers/legacy/adam.py:118: UserWarning: The `lr` argument is deprecated, use `learning_rate` instead.\n",
      "  super().__init__(name, **kwargs)\n",
      "2024-03-29 22:39:37.959056: I tensorflow/core/grappler/optimizers/custom_graph_optimizer_registry.cc:114] Plugin optimizer for device_type GPU is enabled.\n"
     ]
    },
    {
     "name": "stdout",
     "output_type": "stream",
     "text": [
      "3/3 [==============================] - ETA: 0s - loss: 0.9287 - accuracy: 0.6116"
     ]
    },
    {
     "name": "stderr",
     "output_type": "stream",
     "text": [
      "2024-03-29 22:39:38.945006: I tensorflow/core/grappler/optimizers/custom_graph_optimizer_registry.cc:114] Plugin optimizer for device_type GPU is enabled.\n"
     ]
    },
    {
     "name": "stdout",
     "output_type": "stream",
     "text": [
      "3/3 [==============================] - 2s 296ms/step - loss: 0.9287 - accuracy: 0.6116 - val_loss: 0.2769 - val_accuracy: 0.9386\n",
      "Epoch 2/10\n",
      "3/3 [==============================] - 0s 120ms/step - loss: 0.2289 - accuracy: 0.9456 - val_loss: 0.1671 - val_accuracy: 0.9561\n",
      "Epoch 3/10\n",
      "3/3 [==============================] - 0s 80ms/step - loss: 0.1595 - accuracy: 0.9540 - val_loss: 0.1558 - val_accuracy: 0.9561\n",
      "Epoch 4/10\n",
      "3/3 [==============================] - 0s 88ms/step - loss: 0.1477 - accuracy: 0.9555 - val_loss: 0.1510 - val_accuracy: 0.9557\n",
      "Epoch 5/10\n",
      "3/3 [==============================] - 0s 88ms/step - loss: 0.1402 - accuracy: 0.9574 - val_loss: 0.1460 - val_accuracy: 0.9564\n",
      "Epoch 6/10\n",
      "3/3 [==============================] - 0s 85ms/step - loss: 0.1335 - accuracy: 0.9580 - val_loss: 0.1407 - val_accuracy: 0.9568\n",
      "Epoch 7/10\n",
      "3/3 [==============================] - 0s 75ms/step - loss: 0.1300 - accuracy: 0.9586 - val_loss: 0.1357 - val_accuracy: 0.9587\n",
      "Epoch 8/10\n",
      "3/3 [==============================] - 0s 74ms/step - loss: 0.1245 - accuracy: 0.9592 - val_loss: 0.1322 - val_accuracy: 0.9595\n",
      "Epoch 9/10\n",
      "3/3 [==============================] - 0s 116ms/step - loss: 0.1213 - accuracy: 0.9609 - val_loss: 0.1301 - val_accuracy: 0.9595\n",
      "Epoch 10/10\n",
      "3/3 [==============================] - 0s 73ms/step - loss: 0.1167 - accuracy: 0.9615 - val_loss: 0.1296 - val_accuracy: 0.9587\n"
     ]
    },
    {
     "name": "stderr",
     "output_type": "stream",
     "text": [
      "2024-03-29 22:39:41.520553: I tensorflow/core/grappler/optimizers/custom_graph_optimizer_registry.cc:114] Plugin optimizer for device_type GPU is enabled.\n"
     ]
    },
    {
     "name": "stdout",
     "output_type": "stream",
     "text": [
      "1/1 [==============================] - 0s 331ms/step\n",
      "Epoch 1/10\n"
     ]
    },
    {
     "name": "stderr",
     "output_type": "stream",
     "text": [
      "/Users/venessa/Desktop/5342project/venv/lib/python3.8/site-packages/keras/src/optimizers/legacy/adam.py:118: UserWarning: The `lr` argument is deprecated, use `learning_rate` instead.\n",
      "  super().__init__(name, **kwargs)\n",
      "2024-03-29 22:39:42.157706: I tensorflow/core/grappler/optimizers/custom_graph_optimizer_registry.cc:114] Plugin optimizer for device_type GPU is enabled.\n"
     ]
    },
    {
     "name": "stdout",
     "output_type": "stream",
     "text": [
      "3/3 [==============================] - ETA: 0s - loss: 1.1516 - accuracy: 0.5789"
     ]
    },
    {
     "name": "stderr",
     "output_type": "stream",
     "text": [
      "2024-03-29 22:39:44.433634: I tensorflow/core/grappler/optimizers/custom_graph_optimizer_registry.cc:114] Plugin optimizer for device_type GPU is enabled.\n"
     ]
    },
    {
     "name": "stdout",
     "output_type": "stream",
     "text": [
      "3/3 [==============================] - 3s 980ms/step - loss: 1.1516 - accuracy: 0.5789 - val_loss: 0.4111 - val_accuracy: 0.9095\n",
      "Epoch 2/10\n",
      "3/3 [==============================] - 0s 90ms/step - loss: 0.2809 - accuracy: 0.9391 - val_loss: 0.2007 - val_accuracy: 0.9451\n",
      "Epoch 3/10\n",
      "3/3 [==============================] - 0s 99ms/step - loss: 0.1596 - accuracy: 0.9553 - val_loss: 0.1704 - val_accuracy: 0.9496\n",
      "Epoch 4/10\n",
      "3/3 [==============================] - 0s 87ms/step - loss: 0.1454 - accuracy: 0.9554 - val_loss: 0.1701 - val_accuracy: 0.9473\n",
      "Epoch 5/10\n",
      "3/3 [==============================] - 0s 86ms/step - loss: 0.1375 - accuracy: 0.9580 - val_loss: 0.1662 - val_accuracy: 0.9473\n",
      "Epoch 6/10\n",
      "3/3 [==============================] - 0s 76ms/step - loss: 0.1327 - accuracy: 0.9585 - val_loss: 0.1596 - val_accuracy: 0.9496\n",
      "Epoch 7/10\n",
      "3/3 [==============================] - 0s 86ms/step - loss: 0.1263 - accuracy: 0.9601 - val_loss: 0.1559 - val_accuracy: 0.9515\n",
      "Epoch 8/10\n",
      "3/3 [==============================] - 0s 96ms/step - loss: 0.1205 - accuracy: 0.9614 - val_loss: 0.1542 - val_accuracy: 0.9500\n",
      "Epoch 9/10\n",
      "3/3 [==============================] - 0s 91ms/step - loss: 0.1182 - accuracy: 0.9624 - val_loss: 0.1522 - val_accuracy: 0.9496\n",
      "Epoch 10/10\n",
      "3/3 [==============================] - 0s 74ms/step - loss: 0.1134 - accuracy: 0.9628 - val_loss: 0.1507 - val_accuracy: 0.9511\n"
     ]
    },
    {
     "name": "stderr",
     "output_type": "stream",
     "text": [
      "2024-03-29 22:39:47.067976: I tensorflow/core/grappler/optimizers/custom_graph_optimizer_registry.cc:114] Plugin optimizer for device_type GPU is enabled.\n"
     ]
    },
    {
     "name": "stdout",
     "output_type": "stream",
     "text": [
      "1/1 [==============================] - 0s 288ms/step\n",
      "Epoch 1/10\n"
     ]
    },
    {
     "name": "stderr",
     "output_type": "stream",
     "text": [
      "/Users/venessa/Desktop/5342project/venv/lib/python3.8/site-packages/keras/src/optimizers/legacy/adam.py:118: UserWarning: The `lr` argument is deprecated, use `learning_rate` instead.\n",
      "  super().__init__(name, **kwargs)\n",
      "2024-03-29 22:39:47.681485: I tensorflow/core/grappler/optimizers/custom_graph_optimizer_registry.cc:114] Plugin optimizer for device_type GPU is enabled.\n"
     ]
    },
    {
     "name": "stdout",
     "output_type": "stream",
     "text": [
      "3/3 [==============================] - ETA: 0s - loss: 1.3830 - accuracy: 0.4990"
     ]
    },
    {
     "name": "stderr",
     "output_type": "stream",
     "text": [
      "2024-03-29 22:39:48.485214: I tensorflow/core/grappler/optimizers/custom_graph_optimizer_registry.cc:114] Plugin optimizer for device_type GPU is enabled.\n"
     ]
    },
    {
     "name": "stdout",
     "output_type": "stream",
     "text": [
      "3/3 [==============================] - 1s 255ms/step - loss: 1.3830 - accuracy: 0.4990 - val_loss: 0.3983 - val_accuracy: 0.8765\n",
      "Epoch 2/10\n",
      "3/3 [==============================] - 0s 112ms/step - loss: 0.3319 - accuracy: 0.9060 - val_loss: 0.1819 - val_accuracy: 0.9530\n",
      "Epoch 3/10\n",
      "3/3 [==============================] - 0s 88ms/step - loss: 0.1767 - accuracy: 0.9538 - val_loss: 0.1462 - val_accuracy: 0.9591\n",
      "Epoch 4/10\n",
      "3/3 [==============================] - 0s 85ms/step - loss: 0.1521 - accuracy: 0.9550 - val_loss: 0.1416 - val_accuracy: 0.9572\n",
      "Epoch 5/10\n",
      "3/3 [==============================] - 0s 92ms/step - loss: 0.1454 - accuracy: 0.9556 - val_loss: 0.1399 - val_accuracy: 0.9583\n",
      "Epoch 6/10\n",
      "3/3 [==============================] - 0s 77ms/step - loss: 0.1396 - accuracy: 0.9569 - val_loss: 0.1362 - val_accuracy: 0.9598\n",
      "Epoch 7/10\n",
      "3/3 [==============================] - 0s 76ms/step - loss: 0.1336 - accuracy: 0.9588 - val_loss: 0.1323 - val_accuracy: 0.9610\n",
      "Epoch 8/10\n",
      "3/3 [==============================] - 0s 72ms/step - loss: 0.1289 - accuracy: 0.9595 - val_loss: 0.1295 - val_accuracy: 0.9602\n",
      "Epoch 9/10\n",
      "3/3 [==============================] - 0s 72ms/step - loss: 0.1231 - accuracy: 0.9598 - val_loss: 0.1277 - val_accuracy: 0.9591\n",
      "Epoch 10/10\n",
      "3/3 [==============================] - 0s 72ms/step - loss: 0.1182 - accuracy: 0.9614 - val_loss: 0.1264 - val_accuracy: 0.9595\n"
     ]
    },
    {
     "name": "stderr",
     "output_type": "stream",
     "text": [
      "2024-03-29 22:39:50.952753: I tensorflow/core/grappler/optimizers/custom_graph_optimizer_registry.cc:114] Plugin optimizer for device_type GPU is enabled.\n"
     ]
    },
    {
     "name": "stdout",
     "output_type": "stream",
     "text": [
      "1/1 [==============================] - 0s 313ms/step\n",
      "Epoch 1/10\n"
     ]
    },
    {
     "name": "stderr",
     "output_type": "stream",
     "text": [
      "/Users/venessa/Desktop/5342project/venv/lib/python3.8/site-packages/keras/src/optimizers/legacy/adam.py:118: UserWarning: The `lr` argument is deprecated, use `learning_rate` instead.\n",
      "  super().__init__(name, **kwargs)\n",
      "2024-03-29 22:39:51.552917: I tensorflow/core/grappler/optimizers/custom_graph_optimizer_registry.cc:114] Plugin optimizer for device_type GPU is enabled.\n"
     ]
    },
    {
     "name": "stdout",
     "output_type": "stream",
     "text": [
      "3/3 [==============================] - ETA: 0s - loss: 1.1949 - accuracy: 0.5601"
     ]
    },
    {
     "name": "stderr",
     "output_type": "stream",
     "text": [
      "2024-03-29 22:39:52.431322: I tensorflow/core/grappler/optimizers/custom_graph_optimizer_registry.cc:114] Plugin optimizer for device_type GPU is enabled.\n"
     ]
    },
    {
     "name": "stdout",
     "output_type": "stream",
     "text": [
      "3/3 [==============================] - 1s 281ms/step - loss: 1.1949 - accuracy: 0.5601 - val_loss: 0.3515 - val_accuracy: 0.9072\n",
      "Epoch 2/10\n",
      "3/3 [==============================] - 0s 100ms/step - loss: 0.2754 - accuracy: 0.9334 - val_loss: 0.1892 - val_accuracy: 0.9519\n",
      "Epoch 3/10\n",
      "3/3 [==============================] - 0s 83ms/step - loss: 0.1683 - accuracy: 0.9544 - val_loss: 0.1640 - val_accuracy: 0.9519\n",
      "Epoch 4/10\n",
      "3/3 [==============================] - 0s 94ms/step - loss: 0.1473 - accuracy: 0.9549 - val_loss: 0.1566 - val_accuracy: 0.9530\n",
      "Epoch 5/10\n",
      "3/3 [==============================] - 0s 96ms/step - loss: 0.1375 - accuracy: 0.9572 - val_loss: 0.1569 - val_accuracy: 0.9527\n",
      "Epoch 6/10\n",
      "3/3 [==============================] - 0s 76ms/step - loss: 0.1324 - accuracy: 0.9579 - val_loss: 0.1577 - val_accuracy: 0.9511\n",
      "Epoch 7/10\n",
      "3/3 [==============================] - 0s 79ms/step - loss: 0.1270 - accuracy: 0.9599 - val_loss: 0.1560 - val_accuracy: 0.9515\n",
      "Epoch 8/10\n",
      "3/3 [==============================] - 0s 75ms/step - loss: 0.1235 - accuracy: 0.9606 - val_loss: 0.1528 - val_accuracy: 0.9527\n",
      "Epoch 9/10\n",
      "3/3 [==============================] - 0s 79ms/step - loss: 0.1193 - accuracy: 0.9625 - val_loss: 0.1494 - val_accuracy: 0.9564\n",
      "Epoch 10/10\n",
      "3/3 [==============================] - 0s 68ms/step - loss: 0.1155 - accuracy: 0.9626 - val_loss: 0.1465 - val_accuracy: 0.9568\n"
     ]
    },
    {
     "name": "stderr",
     "output_type": "stream",
     "text": [
      "2024-03-29 22:39:54.843319: I tensorflow/core/grappler/optimizers/custom_graph_optimizer_registry.cc:114] Plugin optimizer for device_type GPU is enabled.\n"
     ]
    },
    {
     "name": "stdout",
     "output_type": "stream",
     "text": [
      "1/1 [==============================] - 0s 357ms/step\n",
      "Epoch 1/10\n"
     ]
    },
    {
     "name": "stderr",
     "output_type": "stream",
     "text": [
      "/Users/venessa/Desktop/5342project/venv/lib/python3.8/site-packages/keras/src/optimizers/legacy/adam.py:118: UserWarning: The `lr` argument is deprecated, use `learning_rate` instead.\n",
      "  super().__init__(name, **kwargs)\n",
      "2024-03-29 22:39:55.490217: I tensorflow/core/grappler/optimizers/custom_graph_optimizer_registry.cc:114] Plugin optimizer for device_type GPU is enabled.\n"
     ]
    },
    {
     "name": "stdout",
     "output_type": "stream",
     "text": [
      "3/3 [==============================] - ETA: 0s - loss: 1.4609 - accuracy: 0.5224"
     ]
    },
    {
     "name": "stderr",
     "output_type": "stream",
     "text": [
      "2024-03-29 22:39:56.378065: I tensorflow/core/grappler/optimizers/custom_graph_optimizer_registry.cc:114] Plugin optimizer for device_type GPU is enabled.\n"
     ]
    },
    {
     "name": "stdout",
     "output_type": "stream",
     "text": [
      "3/3 [==============================] - 1s 288ms/step - loss: 1.4609 - accuracy: 0.5224 - val_loss: 0.4334 - val_accuracy: 0.8606\n",
      "Epoch 2/10\n",
      "3/3 [==============================] - 0s 91ms/step - loss: 0.3881 - accuracy: 0.8741 - val_loss: 0.2111 - val_accuracy: 0.9473\n",
      "Epoch 3/10\n",
      "3/3 [==============================] - 0s 87ms/step - loss: 0.1991 - accuracy: 0.9507 - val_loss: 0.1644 - val_accuracy: 0.9576\n",
      "Epoch 4/10\n",
      "3/3 [==============================] - 0s 92ms/step - loss: 0.1600 - accuracy: 0.9553 - val_loss: 0.1551 - val_accuracy: 0.9553\n",
      "Epoch 5/10\n",
      "3/3 [==============================] - 0s 72ms/step - loss: 0.1496 - accuracy: 0.9569 - val_loss: 0.1523 - val_accuracy: 0.9553\n",
      "Epoch 6/10\n",
      "3/3 [==============================] - 0s 85ms/step - loss: 0.1451 - accuracy: 0.9569 - val_loss: 0.1501 - val_accuracy: 0.9564\n",
      "Epoch 7/10\n",
      "3/3 [==============================] - 0s 82ms/step - loss: 0.1351 - accuracy: 0.9586 - val_loss: 0.1482 - val_accuracy: 0.9549\n",
      "Epoch 8/10\n",
      "3/3 [==============================] - 0s 78ms/step - loss: 0.1304 - accuracy: 0.9600 - val_loss: 0.1468 - val_accuracy: 0.9557\n",
      "Epoch 9/10\n",
      "3/3 [==============================] - 0s 72ms/step - loss: 0.1263 - accuracy: 0.9620 - val_loss: 0.1455 - val_accuracy: 0.9553\n",
      "Epoch 10/10\n",
      "3/3 [==============================] - 0s 72ms/step - loss: 0.1219 - accuracy: 0.9616 - val_loss: 0.1443 - val_accuracy: 0.9549\n"
     ]
    },
    {
     "name": "stderr",
     "output_type": "stream",
     "text": [
      "2024-03-29 22:39:58.746470: I tensorflow/core/grappler/optimizers/custom_graph_optimizer_registry.cc:114] Plugin optimizer for device_type GPU is enabled.\n"
     ]
    },
    {
     "name": "stdout",
     "output_type": "stream",
     "text": [
      "1/1 [==============================] - 0s 276ms/step\n",
      "K-Fold Cross-Validation Results (5 folds):\n",
      "Average Accuracy: 0.9559 ± 0.0032\n",
      "Average Precision: 0.9146 ± 0.0027\n",
      "Average Recall: 0.9155 ± 0.0046\n",
      "Average F1-Score: 0.9148 ± 0.0033\n"
     ]
    }
   ],
   "source": [
    "# Cross validation training for transformer model on text modality\n",
    "cross_val_training(TransformerModel, train_text, train_label, num_folds=5, epochs=10, batch_size=32)"
   ]
  },
  {
   "cell_type": "code",
   "execution_count": 54,
   "metadata": {},
   "outputs": [
    {
     "name": "stdout",
     "output_type": "stream",
     "text": [
      "Epoch 1/10\n"
     ]
    },
    {
     "name": "stderr",
     "output_type": "stream",
     "text": [
      "/Users/venessa/Desktop/5342project/venv/lib/python3.8/site-packages/keras/src/optimizers/legacy/adam.py:118: UserWarning: The `lr` argument is deprecated, use `learning_rate` instead.\n",
      "  super().__init__(name, **kwargs)\n",
      "2024-03-29 22:40:00.843596: I tensorflow/core/grappler/optimizers/custom_graph_optimizer_registry.cc:114] Plugin optimizer for device_type GPU is enabled.\n"
     ]
    },
    {
     "name": "stdout",
     "output_type": "stream",
     "text": [
      "4/4 [==============================] - 2s 184ms/step - loss: 1.3790 - accuracy: 0.4938\n",
      "Epoch 2/10\n",
      "4/4 [==============================] - 0s 86ms/step - loss: 0.6809 - accuracy: 0.7307\n",
      "Epoch 3/10\n",
      "4/4 [==============================] - 0s 83ms/step - loss: 0.6450 - accuracy: 0.7457\n",
      "Epoch 4/10\n",
      "4/4 [==============================] - 0s 82ms/step - loss: 0.6348 - accuracy: 0.7437\n",
      "Epoch 5/10\n",
      "4/4 [==============================] - 0s 74ms/step - loss: 0.6221 - accuracy: 0.7545\n",
      "Epoch 6/10\n",
      "4/4 [==============================] - 0s 60ms/step - loss: 0.6142 - accuracy: 0.7526\n",
      "Epoch 7/10\n",
      "4/4 [==============================] - 0s 62ms/step - loss: 0.6088 - accuracy: 0.7543\n",
      "Epoch 8/10\n",
      "4/4 [==============================] - 0s 76ms/step - loss: 0.6009 - accuracy: 0.7598\n",
      "Epoch 9/10\n",
      "4/4 [==============================] - 0s 65ms/step - loss: 0.5955 - accuracy: 0.7625\n",
      "Epoch 10/10\n",
      "4/4 [==============================] - 0s 65ms/step - loss: 0.5945 - accuracy: 0.7634\n"
     ]
    },
    {
     "name": "stderr",
     "output_type": "stream",
     "text": [
      "2024-03-29 22:40:04.949112: I tensorflow/core/grappler/optimizers/custom_graph_optimizer_registry.cc:114] Plugin optimizer for device_type GPU is enabled.\n"
     ]
    },
    {
     "name": "stdout",
     "output_type": "stream",
     "text": [
      "1/1 [==============================] - 0s 379ms/step\n",
      "Test Metrics:\n",
      "Accuracy: 0.7091\n",
      "Precision: 0.5124\n",
      "Recall: 0.5404\n",
      "F1 Score: 0.5061\n"
     ]
    }
   ],
   "source": [
    "# Test transformer model on text modality\n",
    "\n",
    "# Instantiate the model\n",
    "transformer_model = TransformerModel(input_shape=train_audio.shape[1:], num_classes=train_label.shape[2])\n",
    "\n",
    "# Compile the model\n",
    "transformer_model.compile(lr=0.001)\n",
    "\n",
    "# Train and evaluate on the test dataset\n",
    "history, test_metrics = transformer_model.train_and_evaluate_on_test(train_audio, train_label, test_audio, test_label, epochs=10, batch_size=32)"
   ]
  },
  {
   "cell_type": "code",
   "execution_count": 58,
   "metadata": {},
   "outputs": [
    {
     "name": "stdout",
     "output_type": "stream",
     "text": [
      "Epoch 1/10\n"
     ]
    },
    {
     "name": "stderr",
     "output_type": "stream",
     "text": [
      "/Users/venessa/Desktop/5342project/venv/lib/python3.8/site-packages/keras/src/optimizers/legacy/adam.py:118: UserWarning: The `lr` argument is deprecated, use `learning_rate` instead.\n",
      "  super().__init__(name, **kwargs)\n",
      "2024-03-29 22:52:18.829415: I tensorflow/core/grappler/optimizers/custom_graph_optimizer_registry.cc:114] Plugin optimizer for device_type GPU is enabled.\n"
     ]
    },
    {
     "name": "stdout",
     "output_type": "stream",
     "text": [
      "3/3 [==============================] - ETA: 0s - loss: 1.4781 - accuracy: 0.5739"
     ]
    },
    {
     "name": "stderr",
     "output_type": "stream",
     "text": [
      "2024-03-29 22:52:20.631699: I tensorflow/core/grappler/optimizers/custom_graph_optimizer_registry.cc:114] Plugin optimizer for device_type GPU is enabled.\n"
     ]
    },
    {
     "name": "stdout",
     "output_type": "stream",
     "text": [
      "3/3 [==============================] - 3s 545ms/step - loss: 1.4781 - accuracy: 0.5739 - val_loss: 0.3268 - val_accuracy: 0.9246\n",
      "Epoch 2/10\n",
      "3/3 [==============================] - 1s 349ms/step - loss: 0.2513 - accuracy: 0.9425 - val_loss: 0.1763 - val_accuracy: 0.9538\n",
      "Epoch 3/10\n",
      "3/3 [==============================] - 1s 333ms/step - loss: 0.1760 - accuracy: 0.9535 - val_loss: 0.1776 - val_accuracy: 0.9523\n",
      "Epoch 4/10\n",
      "3/3 [==============================] - 1s 318ms/step - loss: 0.1745 - accuracy: 0.9538 - val_loss: 0.1657 - val_accuracy: 0.9527\n",
      "Epoch 5/10\n",
      "3/3 [==============================] - 1s 273ms/step - loss: 0.1523 - accuracy: 0.9548 - val_loss: 0.1454 - val_accuracy: 0.9587\n",
      "Epoch 6/10\n",
      "3/3 [==============================] - 1s 355ms/step - loss: 0.1385 - accuracy: 0.9550 - val_loss: 0.1308 - val_accuracy: 0.9580\n",
      "Epoch 7/10\n",
      "3/3 [==============================] - 1s 291ms/step - loss: 0.1319 - accuracy: 0.9565 - val_loss: 0.1234 - val_accuracy: 0.9617\n",
      "Epoch 8/10\n",
      "3/3 [==============================] - 1s 268ms/step - loss: 0.1234 - accuracy: 0.9590 - val_loss: 0.1218 - val_accuracy: 0.9617\n",
      "Epoch 9/10\n",
      "3/3 [==============================] - 1s 256ms/step - loss: 0.1151 - accuracy: 0.9615 - val_loss: 0.1213 - val_accuracy: 0.9614\n",
      "Epoch 10/10\n",
      "3/3 [==============================] - 1s 263ms/step - loss: 0.1108 - accuracy: 0.9617 - val_loss: 0.1196 - val_accuracy: 0.9614\n"
     ]
    },
    {
     "name": "stderr",
     "output_type": "stream",
     "text": [
      "2024-03-29 22:52:28.685982: I tensorflow/core/grappler/optimizers/custom_graph_optimizer_registry.cc:114] Plugin optimizer for device_type GPU is enabled.\n"
     ]
    },
    {
     "name": "stdout",
     "output_type": "stream",
     "text": [
      "1/1 [==============================] - 0s 357ms/step\n",
      "Epoch 1/10\n"
     ]
    },
    {
     "name": "stderr",
     "output_type": "stream",
     "text": [
      "/Users/venessa/Desktop/5342project/venv/lib/python3.8/site-packages/keras/src/optimizers/legacy/adam.py:118: UserWarning: The `lr` argument is deprecated, use `learning_rate` instead.\n",
      "  super().__init__(name, **kwargs)\n",
      "2024-03-29 22:52:29.392189: I tensorflow/core/grappler/optimizers/custom_graph_optimizer_registry.cc:114] Plugin optimizer for device_type GPU is enabled.\n"
     ]
    },
    {
     "name": "stdout",
     "output_type": "stream",
     "text": [
      "3/3 [==============================] - ETA: 0s - loss: 1.4321 - accuracy: 0.6019"
     ]
    },
    {
     "name": "stderr",
     "output_type": "stream",
     "text": [
      "2024-03-29 22:52:30.743843: I tensorflow/core/grappler/optimizers/custom_graph_optimizer_registry.cc:114] Plugin optimizer for device_type GPU is enabled.\n"
     ]
    },
    {
     "name": "stdout",
     "output_type": "stream",
     "text": [
      "3/3 [==============================] - 2s 488ms/step - loss: 1.4321 - accuracy: 0.6019 - val_loss: 0.1975 - val_accuracy: 0.9451\n",
      "Epoch 2/10\n",
      "3/3 [==============================] - 1s 312ms/step - loss: 0.1834 - accuracy: 0.9522 - val_loss: 0.2296 - val_accuracy: 0.9462\n",
      "Epoch 3/10\n",
      "3/3 [==============================] - 1s 277ms/step - loss: 0.1685 - accuracy: 0.9545 - val_loss: 0.2035 - val_accuracy: 0.9508\n",
      "Epoch 4/10\n",
      "3/3 [==============================] - 1s 317ms/step - loss: 0.1484 - accuracy: 0.9564 - val_loss: 0.1713 - val_accuracy: 0.9508\n",
      "Epoch 5/10\n",
      "3/3 [==============================] - 1s 307ms/step - loss: 0.1305 - accuracy: 0.9578 - val_loss: 0.1567 - val_accuracy: 0.9523\n",
      "Epoch 6/10\n",
      "3/3 [==============================] - 1s 280ms/step - loss: 0.1207 - accuracy: 0.9600 - val_loss: 0.1615 - val_accuracy: 0.9538\n",
      "Epoch 7/10\n",
      "3/3 [==============================] - 1s 300ms/step - loss: 0.1137 - accuracy: 0.9631 - val_loss: 0.1623 - val_accuracy: 0.9549\n",
      "Epoch 8/10\n",
      "3/3 [==============================] - 1s 275ms/step - loss: 0.1073 - accuracy: 0.9642 - val_loss: 0.1575 - val_accuracy: 0.9534\n",
      "Epoch 9/10\n",
      "3/3 [==============================] - 1s 317ms/step - loss: 0.0997 - accuracy: 0.9654 - val_loss: 0.1568 - val_accuracy: 0.9538\n",
      "Epoch 10/10\n",
      "3/3 [==============================] - 1s 323ms/step - loss: 0.0960 - accuracy: 0.9664 - val_loss: 0.1591 - val_accuracy: 0.9545\n"
     ]
    },
    {
     "name": "stderr",
     "output_type": "stream",
     "text": [
      "2024-03-29 22:52:38.751121: I tensorflow/core/grappler/optimizers/custom_graph_optimizer_registry.cc:114] Plugin optimizer for device_type GPU is enabled.\n"
     ]
    },
    {
     "name": "stdout",
     "output_type": "stream",
     "text": [
      "1/1 [==============================] - 0s 371ms/step\n",
      "Epoch 1/10\n"
     ]
    },
    {
     "name": "stderr",
     "output_type": "stream",
     "text": [
      "/Users/venessa/Desktop/5342project/venv/lib/python3.8/site-packages/keras/src/optimizers/legacy/adam.py:118: UserWarning: The `lr` argument is deprecated, use `learning_rate` instead.\n",
      "  super().__init__(name, **kwargs)\n",
      "2024-03-29 22:52:39.480385: I tensorflow/core/grappler/optimizers/custom_graph_optimizer_registry.cc:114] Plugin optimizer for device_type GPU is enabled.\n"
     ]
    },
    {
     "name": "stdout",
     "output_type": "stream",
     "text": [
      "3/3 [==============================] - ETA: 0s - loss: 1.3292 - accuracy: 0.5607"
     ]
    },
    {
     "name": "stderr",
     "output_type": "stream",
     "text": [
      "2024-03-29 22:52:42.280294: I tensorflow/core/grappler/optimizers/custom_graph_optimizer_registry.cc:114] Plugin optimizer for device_type GPU is enabled.\n"
     ]
    },
    {
     "name": "stdout",
     "output_type": "stream",
     "text": [
      "3/3 [==============================] - 3s 1s/step - loss: 1.3292 - accuracy: 0.5607 - val_loss: 0.2555 - val_accuracy: 0.9390\n",
      "Epoch 2/10\n",
      "3/3 [==============================] - 1s 288ms/step - loss: 0.2102 - accuracy: 0.9474 - val_loss: 0.1562 - val_accuracy: 0.9545\n",
      "Epoch 3/10\n",
      "3/3 [==============================] - 1s 300ms/step - loss: 0.1764 - accuracy: 0.9529 - val_loss: 0.1543 - val_accuracy: 0.9534\n",
      "Epoch 4/10\n",
      "3/3 [==============================] - 1s 285ms/step - loss: 0.1636 - accuracy: 0.9553 - val_loss: 0.1335 - val_accuracy: 0.9583\n",
      "Epoch 5/10\n",
      "3/3 [==============================] - 1s 271ms/step - loss: 0.1395 - accuracy: 0.9563 - val_loss: 0.1273 - val_accuracy: 0.9595\n",
      "Epoch 6/10\n",
      "3/3 [==============================] - 1s 264ms/step - loss: 0.1315 - accuracy: 0.9562 - val_loss: 0.1232 - val_accuracy: 0.9602\n",
      "Epoch 7/10\n",
      "3/3 [==============================] - 1s 285ms/step - loss: 0.1218 - accuracy: 0.9593 - val_loss: 0.1210 - val_accuracy: 0.9583\n",
      "Epoch 8/10\n",
      "3/3 [==============================] - 1s 286ms/step - loss: 0.1144 - accuracy: 0.9613 - val_loss: 0.1213 - val_accuracy: 0.9568\n",
      "Epoch 9/10\n",
      "3/3 [==============================] - 1s 269ms/step - loss: 0.1097 - accuracy: 0.9621 - val_loss: 0.1195 - val_accuracy: 0.9595\n",
      "Epoch 10/10\n",
      "3/3 [==============================] - 1s 261ms/step - loss: 0.1037 - accuracy: 0.9642 - val_loss: 0.1169 - val_accuracy: 0.9576\n"
     ]
    },
    {
     "name": "stderr",
     "output_type": "stream",
     "text": [
      "2024-03-29 22:52:50.209232: I tensorflow/core/grappler/optimizers/custom_graph_optimizer_registry.cc:114] Plugin optimizer for device_type GPU is enabled.\n"
     ]
    },
    {
     "name": "stdout",
     "output_type": "stream",
     "text": [
      "1/1 [==============================] - 0s 414ms/step\n",
      "Epoch 1/10\n"
     ]
    },
    {
     "name": "stderr",
     "output_type": "stream",
     "text": [
      "/Users/venessa/Desktop/5342project/venv/lib/python3.8/site-packages/keras/src/optimizers/legacy/adam.py:118: UserWarning: The `lr` argument is deprecated, use `learning_rate` instead.\n",
      "  super().__init__(name, **kwargs)\n",
      "2024-03-29 22:52:51.009838: I tensorflow/core/grappler/optimizers/custom_graph_optimizer_registry.cc:114] Plugin optimizer for device_type GPU is enabled.\n"
     ]
    },
    {
     "name": "stdout",
     "output_type": "stream",
     "text": [
      "3/3 [==============================] - ETA: 0s - loss: 1.3424 - accuracy: 0.5779"
     ]
    },
    {
     "name": "stderr",
     "output_type": "stream",
     "text": [
      "2024-03-29 22:52:52.569572: I tensorflow/core/grappler/optimizers/custom_graph_optimizer_registry.cc:114] Plugin optimizer for device_type GPU is enabled.\n"
     ]
    },
    {
     "name": "stdout",
     "output_type": "stream",
     "text": [
      "3/3 [==============================] - 2s 493ms/step - loss: 1.3424 - accuracy: 0.5779 - val_loss: 0.1913 - val_accuracy: 0.9481\n",
      "Epoch 2/10\n",
      "3/3 [==============================] - 1s 279ms/step - loss: 0.1844 - accuracy: 0.9505 - val_loss: 0.1589 - val_accuracy: 0.9542\n",
      "Epoch 3/10\n",
      "3/3 [==============================] - 1s 290ms/step - loss: 0.1543 - accuracy: 0.9535 - val_loss: 0.1585 - val_accuracy: 0.9538\n",
      "Epoch 4/10\n",
      "3/3 [==============================] - 1s 273ms/step - loss: 0.1430 - accuracy: 0.9554 - val_loss: 0.1528 - val_accuracy: 0.9527\n",
      "Epoch 5/10\n",
      "3/3 [==============================] - 1s 310ms/step - loss: 0.1339 - accuracy: 0.9588 - val_loss: 0.1399 - val_accuracy: 0.9572\n",
      "Epoch 6/10\n",
      "3/3 [==============================] - 1s 291ms/step - loss: 0.1203 - accuracy: 0.9602 - val_loss: 0.1323 - val_accuracy: 0.9576\n",
      "Epoch 7/10\n",
      "3/3 [==============================] - 1s 258ms/step - loss: 0.1157 - accuracy: 0.9597 - val_loss: 0.1297 - val_accuracy: 0.9561\n",
      "Epoch 8/10\n",
      "3/3 [==============================] - 1s 258ms/step - loss: 0.1108 - accuracy: 0.9629 - val_loss: 0.1266 - val_accuracy: 0.9572\n",
      "Epoch 9/10\n",
      "3/3 [==============================] - 1s 253ms/step - loss: 0.1036 - accuracy: 0.9641 - val_loss: 0.1236 - val_accuracy: 0.9583\n",
      "Epoch 10/10\n",
      "3/3 [==============================] - 1s 249ms/step - loss: 0.0979 - accuracy: 0.9655 - val_loss: 0.1211 - val_accuracy: 0.9598\n"
     ]
    },
    {
     "name": "stderr",
     "output_type": "stream",
     "text": [
      "2024-03-29 22:52:59.973729: I tensorflow/core/grappler/optimizers/custom_graph_optimizer_registry.cc:114] Plugin optimizer for device_type GPU is enabled.\n"
     ]
    },
    {
     "name": "stdout",
     "output_type": "stream",
     "text": [
      "1/1 [==============================] - 0s 363ms/step\n",
      "Epoch 1/10\n"
     ]
    },
    {
     "name": "stderr",
     "output_type": "stream",
     "text": [
      "/Users/venessa/Desktop/5342project/venv/lib/python3.8/site-packages/keras/src/optimizers/legacy/adam.py:118: UserWarning: The `lr` argument is deprecated, use `learning_rate` instead.\n",
      "  super().__init__(name, **kwargs)\n",
      "2024-03-29 22:53:00.684669: I tensorflow/core/grappler/optimizers/custom_graph_optimizer_registry.cc:114] Plugin optimizer for device_type GPU is enabled.\n"
     ]
    },
    {
     "name": "stdout",
     "output_type": "stream",
     "text": [
      "3/3 [==============================] - ETA: 0s - loss: 1.1733 - accuracy: 0.6377"
     ]
    },
    {
     "name": "stderr",
     "output_type": "stream",
     "text": [
      "2024-03-29 22:53:02.084478: I tensorflow/core/grappler/optimizers/custom_graph_optimizer_registry.cc:114] Plugin optimizer for device_type GPU is enabled.\n"
     ]
    },
    {
     "name": "stdout",
     "output_type": "stream",
     "text": [
      "3/3 [==============================] - 2s 640ms/step - loss: 1.1733 - accuracy: 0.6377 - val_loss: 0.2176 - val_accuracy: 0.9417\n",
      "Epoch 2/10\n",
      "3/3 [==============================] - 1s 330ms/step - loss: 0.1951 - accuracy: 0.9501 - val_loss: 0.1849 - val_accuracy: 0.9477\n",
      "Epoch 3/10\n",
      "3/3 [==============================] - 1s 323ms/step - loss: 0.1629 - accuracy: 0.9529 - val_loss: 0.1624 - val_accuracy: 0.9519\n",
      "Epoch 4/10\n",
      "3/3 [==============================] - 1s 274ms/step - loss: 0.1453 - accuracy: 0.9554 - val_loss: 0.1623 - val_accuracy: 0.9511\n",
      "Epoch 5/10\n",
      "3/3 [==============================] - 1s 264ms/step - loss: 0.1392 - accuracy: 0.9572 - val_loss: 0.1569 - val_accuracy: 0.9489\n",
      "Epoch 6/10\n",
      "3/3 [==============================] - 1s 270ms/step - loss: 0.1286 - accuracy: 0.9580 - val_loss: 0.1507 - val_accuracy: 0.9504\n",
      "Epoch 7/10\n",
      "3/3 [==============================] - 1s 258ms/step - loss: 0.1179 - accuracy: 0.9606 - val_loss: 0.1505 - val_accuracy: 0.9500\n",
      "Epoch 8/10\n",
      "3/3 [==============================] - 1s 259ms/step - loss: 0.1127 - accuracy: 0.9626 - val_loss: 0.1409 - val_accuracy: 0.9545\n",
      "Epoch 9/10\n",
      "3/3 [==============================] - 1s 266ms/step - loss: 0.1067 - accuracy: 0.9632 - val_loss: 0.1395 - val_accuracy: 0.9557\n",
      "Epoch 10/10\n",
      "3/3 [==============================] - 1s 250ms/step - loss: 0.1003 - accuracy: 0.9640 - val_loss: 0.1381 - val_accuracy: 0.9553\n"
     ]
    },
    {
     "name": "stderr",
     "output_type": "stream",
     "text": [
      "2024-03-29 22:53:09.882958: I tensorflow/core/grappler/optimizers/custom_graph_optimizer_registry.cc:114] Plugin optimizer for device_type GPU is enabled.\n"
     ]
    },
    {
     "name": "stdout",
     "output_type": "stream",
     "text": [
      "1/1 [==============================] - 0s 374ms/step\n",
      "K-Fold Cross-Validation Results (5 folds):\n",
      "Average Accuracy: 0.9577 ± 0.0033\n",
      "Average Precision: 0.9203 ± 0.0115\n",
      "Average Recall: 0.9212 ± 0.0039\n",
      "Average F1-Score: 0.9200 ± 0.0064\n"
     ]
    }
   ],
   "source": [
    "# Cross validation training for transformer model on multimodal data\n",
    "\n",
    "cross_val_training(TransformerModel, train_data, train_label, num_folds=5, epochs=10, batch_size=32)"
   ]
  },
  {
   "cell_type": "code",
   "execution_count": 59,
   "metadata": {},
   "outputs": [
    {
     "name": "stdout",
     "output_type": "stream",
     "text": [
      "Epoch 1/10\n"
     ]
    },
    {
     "name": "stderr",
     "output_type": "stream",
     "text": [
      "/Users/venessa/Desktop/5342project/venv/lib/python3.8/site-packages/keras/src/optimizers/legacy/adam.py:118: UserWarning: The `lr` argument is deprecated, use `learning_rate` instead.\n",
      "  super().__init__(name, **kwargs)\n",
      "2024-03-29 22:53:32.885979: I tensorflow/core/grappler/optimizers/custom_graph_optimizer_registry.cc:114] Plugin optimizer for device_type GPU is enabled.\n"
     ]
    },
    {
     "name": "stdout",
     "output_type": "stream",
     "text": [
      "4/4 [==============================] - 3s 436ms/step - loss: 1.0696 - accuracy: 0.6174\n",
      "Epoch 2/10\n",
      "4/4 [==============================] - 1s 252ms/step - loss: 0.1764 - accuracy: 0.9511\n",
      "Epoch 3/10\n",
      "4/4 [==============================] - 1s 250ms/step - loss: 0.1647 - accuracy: 0.9535\n",
      "Epoch 4/10\n",
      "4/4 [==============================] - 1s 260ms/step - loss: 0.1451 - accuracy: 0.9539\n",
      "Epoch 5/10\n",
      "4/4 [==============================] - 1s 224ms/step - loss: 0.1306 - accuracy: 0.9566\n",
      "Epoch 6/10\n",
      "4/4 [==============================] - 1s 217ms/step - loss: 0.1196 - accuracy: 0.9602\n",
      "Epoch 7/10\n",
      "4/4 [==============================] - 1s 230ms/step - loss: 0.1137 - accuracy: 0.9612\n",
      "Epoch 8/10\n",
      "4/4 [==============================] - 1s 218ms/step - loss: 0.1064 - accuracy: 0.9621\n",
      "Epoch 9/10\n",
      "4/4 [==============================] - 1s 233ms/step - loss: 0.1012 - accuracy: 0.9643\n",
      "Epoch 10/10\n",
      "4/4 [==============================] - 1s 235ms/step - loss: 0.0954 - accuracy: 0.9660\n"
     ]
    },
    {
     "name": "stderr",
     "output_type": "stream",
     "text": [
      "2024-03-29 22:53:43.921350: I tensorflow/core/grappler/optimizers/custom_graph_optimizer_registry.cc:114] Plugin optimizer for device_type GPU is enabled.\n"
     ]
    },
    {
     "name": "stdout",
     "output_type": "stream",
     "text": [
      "1/1 [==============================] - 0s 491ms/step\n",
      "Test Metrics:\n",
      "Accuracy: 0.7833\n",
      "Precision: 0.6411\n",
      "Recall: 0.6291\n",
      "F1 Score: 0.6319\n"
     ]
    }
   ],
   "source": [
    "# Test transformer model on multimodal data\n",
    "\n",
    "# Instantiate the model\n",
    "transformer_model = TransformerModel(input_shape=train_data.shape[1:], num_classes=train_label.shape[2])\n",
    "\n",
    "# Compile the model\n",
    "transformer_model.compile(lr=0.001)\n",
    "\n",
    "# Train and evaluate on the test dataset\n",
    "history, test_metrics = transformer_model.train_and_evaluate_on_test(train_data, train_label, test_data, test_label, epochs=10, batch_size=32)"
   ]
  }
 ],
 "metadata": {
  "kernelspec": {
   "display_name": "venv",
   "language": "python",
   "name": "python3"
  },
  "language_info": {
   "codemirror_mode": {
    "name": "ipython",
    "version": 3
   },
   "file_extension": ".py",
   "mimetype": "text/x-python",
   "name": "python",
   "nbconvert_exporter": "python",
   "pygments_lexer": "ipython3",
   "version": "3.8.18"
  }
 },
 "nbformat": 4,
 "nbformat_minor": 2
}
