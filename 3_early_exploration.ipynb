{
 "cells": [
  {
   "cell_type": "markdown",
   "metadata": {},
   "source": [
    "# Part 3: Early exploration of multimodal emotion recognition\n",
    "\n",
    "Previously, we implemented the TIMNet Model on multimodal data. We now continue with exploration of the dataset, and define a base model class, upon which various models can be explored. We compare the performance of early and late fusion, as well as training using individual modalities versus multiple modalities. "
   ]
  },
  {
   "cell_type": "markdown",
   "metadata": {},
   "source": [
    "## Import Libraries"
   ]
  },
  {
   "cell_type": "code",
   "execution_count": 2,
   "metadata": {},
   "outputs": [],
   "source": [
    "import os\n",
    "import sys\n",
    "import copy\n",
    "import pickle\n",
    "import datetime\n",
    "import numpy as np\n",
    "import pandas as pd\n",
    "import tensorflow as tf\n",
    "import matplotlib.pyplot as plt\n",
    "import seaborn as sns\n",
    "import keras.api._v2.keras as keras\n",
    "import keras.backend as K\n",
    "from keras.optimizers.legacy import Adam\n",
    "from keras.optimizers import SGD\n",
    "from keras import callbacks\n",
    "from keras.models import Model\n",
    "from keras.layers import Layer, Dense, Input, Activation, Lambda, BatchNormalization, Conv1D, SpatialDropout1D, add, GlobalAveragePooling1D, LSTM, Dense, concatenate, TimeDistributed\n",
    "from keras.activations import sigmoid\n",
    "from sklearn.model_selection import KFold\n",
    "from keras.callbacks import ModelCheckpoint\n",
    "from sklearn.metrics import classification_report, confusion_matrix, precision_recall_fscore_support, accuracy_score\n",
    "import tensorflow as tf\n",
    "from tensorflow.keras import optimizers"
   ]
  },
  {
   "cell_type": "markdown",
   "metadata": {},
   "source": [
    "## Load data"
   ]
  },
  {
   "cell_type": "code",
   "execution_count": 3,
   "metadata": {},
   "outputs": [
    {
     "name": "stdout",
     "output_type": "stream",
     "text": [
      "Number of training samples:  120\n",
      "Number of testing samples:  31\n",
      "Max length of sequences:  110\n",
      "\n",
      "Train text shape: 120 samples, 110 timesteps, 100 features\n",
      "Train audio shape: 120 samples, 110 timesteps, 100 features\n",
      "Train visual shape: 120 samples, 110 timesteps, 512 features\n",
      "\n",
      "Test text shape: 31 samples, 110 timesteps, 100 features\n",
      "Test audio shape: 31 samples, 110 timesteps, 100 features\n",
      "Test visual shape: 31 samples, 110 timesteps, 512 features\n",
      "\n",
      "Train data shape: 120 samples, 110 timesteps, 712 features\n",
      "Train label shape: 120 samples, 110 timesteps, 6 classes\n",
      "\n",
      "Test data shape: 31 samples, 110 timesteps, 712 features\n",
      "Test label shape: 31 samples, 110 timesteps, 6 classes\n",
      "\n"
     ]
    }
   ],
   "source": [
    "# Load multimodal data\n",
    "\n",
    "from collections import Counter\n",
    "# emotion_counter = Counter()\n",
    "\n",
    "def createOneHot(train_label, test_label):\n",
    "    \n",
    "    maxlen = int(max(train_label.max(), test_label.max()))\n",
    "\n",
    "    train = np.zeros((train_label.shape[0], train_label.shape[1], maxlen + 1))\n",
    "    test = np.zeros((test_label.shape[0], test_label.shape[1], maxlen + 1))\n",
    "\n",
    "    for i in range(train_label.shape[0]):\n",
    "        for j in range(train_label.shape[1]):\n",
    "            train[i, j, train_label[i, j]] = 1\n",
    "\n",
    "    for i in range(test_label.shape[0]):\n",
    "        for j in range(test_label.shape[1]):\n",
    "            test[i, j, test_label[i, j]] = 1\n",
    "\n",
    "    return train, test\n",
    "\n",
    "# Load data\n",
    "f = open(\"dataset/iemocap/raw/IEMOCAP_features_raw.pkl\", \"rb\")\n",
    "u = pickle._Unpickler(f)\n",
    "u.encoding = 'latin1'\n",
    "videoIDs, videoSpeakers, videoLabels, videoText, videoAudio, videoVisual, videoSentence, trainVid, testVid = u.load()\n",
    "# label index mapping = {'hap':0, 'sad':1, 'neu':2, 'ang':3, 'exc':4, 'fru':5}\n",
    "\n",
    "print('Number of training samples: ',len(trainVid))\n",
    "print('Number of testing samples: ',len(testVid))\n",
    "\n",
    "train_audio = []\n",
    "train_text = []\n",
    "train_visual = []\n",
    "train_seq_len = []\n",
    "train_label = []\n",
    "\n",
    "test_audio = []\n",
    "test_text = []\n",
    "test_visual = []\n",
    "test_seq_len = []\n",
    "test_label = []\n",
    "for vid in trainVid:\n",
    "    train_seq_len.append(len(videoIDs[vid]))\n",
    "for vid in testVid:\n",
    "    test_seq_len.append(len(videoIDs[vid]))\n",
    "\n",
    "max_len = max(max(train_seq_len), max(test_seq_len))\n",
    "print('Max length of sequences: ', max_len)\n",
    "print()\n",
    "\n",
    "for vid in trainVid:\n",
    "    # emotion_counter.update(videoLabels[vid])\n",
    "    train_label.append(videoLabels[vid] + [0] * (max_len - len(videoIDs[vid])))\n",
    "    pad = [np.zeros(videoText[vid][0].shape)] * (max_len - len(videoIDs[vid]))\n",
    "    text = np.stack(videoText[vid] + pad, axis=0)\n",
    "    train_text.append(text)\n",
    "\n",
    "    pad = [np.zeros(videoAudio[vid][0].shape)] * (max_len - len(videoIDs[vid]))\n",
    "    audio = np.stack(videoAudio[vid] + pad, axis=0)\n",
    "    train_audio.append(audio)\n",
    "\n",
    "    pad = [np.zeros(videoVisual[vid][0].shape)] * (max_len - len(videoIDs[vid]))\n",
    "    video = np.stack(videoVisual[vid] + pad, axis=0)\n",
    "    train_visual.append(video)\n",
    "\n",
    "for vid in testVid:\n",
    "    test_label.append(videoLabels[vid] + [0] * (max_len - len(videoIDs[vid])))\n",
    "    pad = [np.zeros(videoText[vid][0].shape)] * (max_len - len(videoIDs[vid]))\n",
    "    text = np.stack(videoText[vid] + pad, axis=0)\n",
    "    test_text.append(text)\n",
    "\n",
    "    pad = [np.zeros(videoAudio[vid][0].shape)] * (max_len - len(videoIDs[vid]))\n",
    "    audio = np.stack(videoAudio[vid] + pad, axis=0)\n",
    "    test_audio.append(audio)\n",
    "\n",
    "    pad = [np.zeros(videoVisual[vid][0].shape)] * (max_len - len(videoIDs[vid]))\n",
    "    video = np.stack(videoVisual[vid] + pad, axis=0)\n",
    "    test_visual.append(video)\n",
    "\n",
    "train_text = np.stack(train_text, axis=0)\n",
    "train_audio = np.stack(train_audio, axis=0)\n",
    "train_visual = np.stack(train_visual, axis=0)\n",
    "print(f\"Train text shape: {train_text.shape[0]} samples, {train_text.shape[1]} timesteps, {train_text.shape[2]} features\")\n",
    "print(f\"Train audio shape: {train_audio.shape[0]} samples, {train_audio.shape[1]} timesteps, {train_audio.shape[2]} features\")\n",
    "print(f\"Train visual shape: {train_visual.shape[0]} samples, {train_visual.shape[1]} timesteps, {train_visual.shape[2]} features\")\n",
    "print()\n",
    "\n",
    "test_text = np.stack(test_text, axis=0)\n",
    "test_audio = np.stack(test_audio, axis=0)\n",
    "test_visual = np.stack(test_visual, axis=0)\n",
    "print(f\"Test text shape: {test_text.shape[0]} samples, {test_text.shape[1]} timesteps, {test_text.shape[2]} features\")\n",
    "print(f\"Test audio shape: {test_audio.shape[0]} samples, {test_audio.shape[1]} timesteps, {test_audio.shape[2]} features\")\n",
    "print(f\"Test visual shape: {test_visual.shape[0]} samples, {test_visual.shape[1]} timesteps, {test_visual.shape[2]} features\")\n",
    "print()\n",
    "\n",
    "train_label = np.array(train_label)\n",
    "test_label = np.array(test_label)\n",
    "train_seq_len = np.array(train_seq_len)\n",
    "test_seq_len = np.array(test_seq_len)\n",
    "\n",
    "train_mask = np.zeros((train_text.shape[0], train_text.shape[1]), dtype='float')\n",
    "for i in range(len(train_seq_len)):\n",
    "    train_mask[i, :train_seq_len[i]] = 1.0\n",
    "\n",
    "test_mask = np.zeros((test_text.shape[0], test_text.shape[1]), dtype='float')\n",
    "for i in range(len(test_seq_len)):\n",
    "    test_mask[i, :test_seq_len[i]] = 1.0\n",
    "\n",
    "train_label, test_label = createOneHot(train_label, test_label)\n",
    "train_data = np.concatenate((train_audio, train_visual, train_text), axis=-1)\n",
    "test_data = np.concatenate((test_audio, test_visual, test_text), axis=-1)\n",
    "audio_text_train_data = np.concatenate((train_audio, train_text), axis=-1)\n",
    "audio_text_test_data = np.concatenate((test_audio, test_text), axis=-1)\n",
    "\n",
    "print(f\"Train data shape: {train_data.shape[0]} samples, {train_data.shape[1]} timesteps, {train_data.shape[2]} features\")\n",
    "print(f\"Train label shape: {train_label.shape[0]} samples, {train_label.shape[1]} timesteps, {train_label.shape[2]} classes\")\n",
    "print()\n",
    "print(f\"Test data shape: {test_data.shape[0]} samples, {test_data.shape[1]} timesteps, {test_data.shape[2]} features\")\n",
    "print(f\"Test label shape: {test_label.shape[0]} samples, {test_label.shape[1]} timesteps, {test_label.shape[2]} classes\")\n",
    "print()\n",
    "\n",
    "# for emotion, count in emotion_counter.items():\n",
    "#   print(f\"{emotion}: {count}\")"
   ]
  },
  {
   "cell_type": "markdown",
   "metadata": {},
   "source": [
    "# Define Models"
   ]
  },
  {
   "cell_type": "code",
   "execution_count": 31,
   "metadata": {},
   "outputs": [],
   "source": [
    "class BaseModel:\n",
    "    def __init__(self, input_shape, num_classes):\n",
    "        self.input_shape = input_shape\n",
    "        self.num_classes = num_classes\n",
    "        self.model = self.build_model()\n",
    "\n",
    "    def build_model(self):\n",
    "        pass\n",
    "\n",
    "    def compile(self, lr=0.001):\n",
    "        self.model.compile(\n",
    "            optimizer=Adam(lr=lr),\n",
    "            loss='categorical_crossentropy',\n",
    "            metrics=['accuracy']\n",
    "        )\n",
    "\n",
    "    def train(self, x_train, y_train, x_val, y_val, epochs=10, batch_size=32):\n",
    "        return self.model.fit(\n",
    "            x_train, y_train,\n",
    "            validation_data=(x_val, y_val),\n",
    "            epochs=epochs,\n",
    "            batch_size=batch_size\n",
    "        )\n",
    "\n",
    "    def evaluate(self, x_test, y_test):\n",
    "        predictions = self.model.predict(x_test)\n",
    "        y_pred = np.argmax(predictions, axis=-1).flatten()\n",
    "        y_true = np.argmax(y_test, axis=-1).flatten()\n",
    "\n",
    "        accuracy = accuracy_score(y_true, y_pred)\n",
    "        precision, recall, f1, _ = precision_recall_fscore_support(y_true, y_pred, average='macro')\n",
    "\n",
    "        # Return a dictionary of metrics\n",
    "        return {\n",
    "            'accuracy': accuracy,\n",
    "            'precision': precision,\n",
    "            'recall': recall,\n",
    "            'f1_score': f1,\n",
    "        }\n"
   ]
  },
  {
   "cell_type": "code",
   "execution_count": 32,
   "metadata": {},
   "outputs": [],
   "source": [
    "# Define early fusion model \n",
    "\n",
    "class EarlyFusionModel(BaseModel):\n",
    "    def build_model(self):\n",
    "        inputs = Input(shape=self.input_shape)\n",
    "        x = LSTM(32, return_sequences=True)(inputs)\n",
    "        outputs = Dense(self.num_classes, activation='softmax')(x)\n",
    "        return Model(inputs, outputs)\n",
    "    \n",
    "    def train_and_evaluate_on_test(self, x_train, y_train, x_test, y_test, epochs=10, batch_size=32):\n",
    "        # Train the model on the entire training dataset\n",
    "        history = self.model.fit(\n",
    "            x_train, y_train,\n",
    "            epochs=epochs,\n",
    "            batch_size=batch_size,\n",
    "            verbose=1\n",
    "        )\n",
    "\n",
    "        # Evaluate the model on the test dataset\n",
    "        test_metrics = self.evaluate(x_test, y_test)\n",
    "\n",
    "        return history, test_metrics"
   ]
  },
  {
   "cell_type": "code",
   "execution_count": 33,
   "metadata": {},
   "outputs": [],
   "source": [
    "# Define late fusion model\n",
    "\n",
    "class LateFusionModel(BaseModel):\n",
    "    def __init__(self, input_shapes, num_classes):\n",
    "        self.input_shapes = input_shapes  # A list of input shapes for each modality\n",
    "        super().__init__(input_shape=None, num_classes=num_classes)\n",
    "\n",
    "    def build_model(self):\n",
    "        inputs = [Input(shape=shape) for shape in self.input_shapes]\n",
    "        features = [LSTM(32, return_sequences=True)(input_tensor) for input_tensor in inputs]\n",
    "        combined_features = concatenate(features, axis=-1)\n",
    "        outputs = TimeDistributed(Dense(self.num_classes, activation='softmax'))(combined_features)\n",
    "        model = Model(inputs=inputs, outputs=outputs)\n",
    "        return model\n",
    "    \n",
    "    def train_and_evaluate_on_test(self):\n",
    "        history = self.model.fit(\n",
    "            [train_audio, train_visual, train_text], train_label,\n",
    "            epochs=10,\n",
    "            batch_size=32,\n",
    "            verbose=1\n",
    "        )\n",
    "        test_metrics = self.evaluate([test_audio, test_visual, test_text], test_label)\n",
    "        return history, test_metrics"
   ]
  },
  {
   "cell_type": "markdown",
   "metadata": {},
   "source": [
    "# Model Training"
   ]
  },
  {
   "cell_type": "markdown",
   "metadata": {},
   "source": [
    "## With all modalities"
   ]
  },
  {
   "cell_type": "markdown",
   "metadata": {},
   "source": [
    "### Early fusion model"
   ]
  },
  {
   "cell_type": "code",
   "execution_count": 34,
   "metadata": {},
   "outputs": [
    {
     "name": "stdout",
     "output_type": "stream",
     "text": [
      "Epoch 1/10\n"
     ]
    },
    {
     "name": "stderr",
     "output_type": "stream",
     "text": [
      "/Users/venessa/Desktop/5342project/venv/lib/python3.8/site-packages/keras/src/optimizers/legacy/adam.py:118: UserWarning: The `lr` argument is deprecated, use `learning_rate` instead.\n",
      "  super().__init__(name, **kwargs)\n",
      "2024-03-28 18:54:50.913278: I tensorflow/core/grappler/optimizers/custom_graph_optimizer_registry.cc:114] Plugin optimizer for device_type GPU is enabled.\n",
      "2024-03-28 18:54:51.052515: I tensorflow/core/grappler/optimizers/custom_graph_optimizer_registry.cc:114] Plugin optimizer for device_type GPU is enabled.\n",
      "2024-03-28 18:54:51.305016: I tensorflow/core/grappler/optimizers/custom_graph_optimizer_registry.cc:114] Plugin optimizer for device_type GPU is enabled.\n"
     ]
    },
    {
     "name": "stdout",
     "output_type": "stream",
     "text": [
      "3/3 [==============================] - ETA: 0s - loss: 1.6848 - accuracy: 0.5195"
     ]
    },
    {
     "name": "stderr",
     "output_type": "stream",
     "text": [
      "2024-03-28 18:54:51.845187: I tensorflow/core/grappler/optimizers/custom_graph_optimizer_registry.cc:114] Plugin optimizer for device_type GPU is enabled.\n",
      "2024-03-28 18:54:51.896798: I tensorflow/core/grappler/optimizers/custom_graph_optimizer_registry.cc:114] Plugin optimizer for device_type GPU is enabled.\n"
     ]
    },
    {
     "name": "stdout",
     "output_type": "stream",
     "text": [
      "3/3 [==============================] - 2s 265ms/step - loss: 1.6848 - accuracy: 0.5195 - val_loss: 1.5507 - val_accuracy: 0.7068\n",
      "Epoch 2/10\n",
      "3/3 [==============================] - 0s 44ms/step - loss: 1.4879 - accuracy: 0.7828 - val_loss: 1.3964 - val_accuracy: 0.8239\n",
      "Epoch 3/10\n",
      "3/3 [==============================] - 0s 69ms/step - loss: 1.3543 - accuracy: 0.8522 - val_loss: 1.2845 - val_accuracy: 0.8636\n",
      "Epoch 4/10\n",
      "3/3 [==============================] - 0s 58ms/step - loss: 1.2552 - accuracy: 0.8833 - val_loss: 1.1972 - val_accuracy: 0.8875\n",
      "Epoch 5/10\n",
      "3/3 [==============================] - 0s 54ms/step - loss: 1.1720 - accuracy: 0.9050 - val_loss: 1.1175 - val_accuracy: 0.9027\n",
      "Epoch 6/10\n",
      "3/3 [==============================] - 0s 43ms/step - loss: 1.0897 - accuracy: 0.9199 - val_loss: 1.0286 - val_accuracy: 0.9167\n",
      "Epoch 7/10\n",
      "3/3 [==============================] - 0s 60ms/step - loss: 0.9920 - accuracy: 0.9313 - val_loss: 0.9147 - val_accuracy: 0.9258\n",
      "Epoch 8/10\n",
      "3/3 [==============================] - 0s 52ms/step - loss: 0.8619 - accuracy: 0.9403 - val_loss: 0.7580 - val_accuracy: 0.9360\n",
      "Epoch 9/10\n",
      "3/3 [==============================] - 0s 49ms/step - loss: 0.6859 - accuracy: 0.9462 - val_loss: 0.5795 - val_accuracy: 0.9398\n",
      "Epoch 10/10\n",
      "3/3 [==============================] - 0s 60ms/step - loss: 0.5095 - accuracy: 0.9500 - val_loss: 0.4384 - val_accuracy: 0.9420\n"
     ]
    },
    {
     "name": "stderr",
     "output_type": "stream",
     "text": [
      "2024-03-28 18:54:53.581362: I tensorflow/core/grappler/optimizers/custom_graph_optimizer_registry.cc:114] Plugin optimizer for device_type GPU is enabled.\n",
      "2024-03-28 18:54:53.622417: I tensorflow/core/grappler/optimizers/custom_graph_optimizer_registry.cc:114] Plugin optimizer for device_type GPU is enabled.\n"
     ]
    },
    {
     "name": "stdout",
     "output_type": "stream",
     "text": [
      "1/1 [==============================] - 0s 290ms/step\n",
      "Epoch 1/10\n"
     ]
    },
    {
     "name": "stderr",
     "output_type": "stream",
     "text": [
      "/Users/venessa/Desktop/5342project/venv/lib/python3.8/site-packages/keras/src/optimizers/legacy/adam.py:118: UserWarning: The `lr` argument is deprecated, use `learning_rate` instead.\n",
      "  super().__init__(name, **kwargs)\n",
      "2024-03-28 18:54:54.291310: I tensorflow/core/grappler/optimizers/custom_graph_optimizer_registry.cc:114] Plugin optimizer for device_type GPU is enabled.\n",
      "2024-03-28 18:54:54.393724: I tensorflow/core/grappler/optimizers/custom_graph_optimizer_registry.cc:114] Plugin optimizer for device_type GPU is enabled.\n",
      "2024-03-28 18:54:54.615149: I tensorflow/core/grappler/optimizers/custom_graph_optimizer_registry.cc:114] Plugin optimizer for device_type GPU is enabled.\n"
     ]
    },
    {
     "name": "stdout",
     "output_type": "stream",
     "text": [
      "3/3 [==============================] - ETA: 0s - loss: 1.7629 - accuracy: 0.4138"
     ]
    },
    {
     "name": "stderr",
     "output_type": "stream",
     "text": [
      "2024-03-28 18:54:55.159108: I tensorflow/core/grappler/optimizers/custom_graph_optimizer_registry.cc:114] Plugin optimizer for device_type GPU is enabled.\n",
      "2024-03-28 18:54:55.210333: I tensorflow/core/grappler/optimizers/custom_graph_optimizer_registry.cc:114] Plugin optimizer for device_type GPU is enabled.\n"
     ]
    },
    {
     "name": "stdout",
     "output_type": "stream",
     "text": [
      "3/3 [==============================] - 1s 261ms/step - loss: 1.7629 - accuracy: 0.4138 - val_loss: 1.6643 - val_accuracy: 0.6473\n",
      "Epoch 2/10\n",
      "3/3 [==============================] - 0s 67ms/step - loss: 1.5777 - accuracy: 0.7032 - val_loss: 1.5369 - val_accuracy: 0.7860\n",
      "Epoch 3/10\n",
      "3/3 [==============================] - 0s 69ms/step - loss: 1.4481 - accuracy: 0.8072 - val_loss: 1.4450 - val_accuracy: 0.8458\n",
      "Epoch 4/10\n",
      "3/3 [==============================] - 0s 51ms/step - loss: 1.3527 - accuracy: 0.8585 - val_loss: 1.3726 - val_accuracy: 0.8830\n",
      "Epoch 5/10\n",
      "3/3 [==============================] - 0s 56ms/step - loss: 1.2768 - accuracy: 0.8825 - val_loss: 1.3090 - val_accuracy: 0.9000\n",
      "Epoch 6/10\n",
      "3/3 [==============================] - 0s 46ms/step - loss: 1.2090 - accuracy: 0.8967 - val_loss: 1.2429 - val_accuracy: 0.9148\n",
      "Epoch 7/10\n",
      "3/3 [==============================] - 0s 50ms/step - loss: 1.1374 - accuracy: 0.9092 - val_loss: 1.1616 - val_accuracy: 0.9223\n",
      "Epoch 8/10\n",
      "3/3 [==============================] - 0s 52ms/step - loss: 1.0492 - accuracy: 0.9206 - val_loss: 1.0467 - val_accuracy: 0.9303\n",
      "Epoch 9/10\n",
      "3/3 [==============================] - 0s 45ms/step - loss: 0.9274 - accuracy: 0.9306 - val_loss: 0.8802 - val_accuracy: 0.9379\n",
      "Epoch 10/10\n",
      "3/3 [==============================] - 0s 65ms/step - loss: 0.7714 - accuracy: 0.9389 - val_loss: 0.7051 - val_accuracy: 0.9443\n"
     ]
    },
    {
     "name": "stderr",
     "output_type": "stream",
     "text": [
      "2024-03-28 18:54:56.871837: I tensorflow/core/grappler/optimizers/custom_graph_optimizer_registry.cc:114] Plugin optimizer for device_type GPU is enabled.\n",
      "2024-03-28 18:54:56.911128: I tensorflow/core/grappler/optimizers/custom_graph_optimizer_registry.cc:114] Plugin optimizer for device_type GPU is enabled.\n"
     ]
    },
    {
     "name": "stdout",
     "output_type": "stream",
     "text": [
      "1/1 [==============================] - 0s 290ms/step\n",
      "Epoch 1/10\n"
     ]
    },
    {
     "name": "stderr",
     "output_type": "stream",
     "text": [
      "/Users/venessa/Desktop/5342project/venv/lib/python3.8/site-packages/keras/src/optimizers/legacy/adam.py:118: UserWarning: The `lr` argument is deprecated, use `learning_rate` instead.\n",
      "  super().__init__(name, **kwargs)\n",
      "2024-03-28 18:54:57.933368: I tensorflow/core/grappler/optimizers/custom_graph_optimizer_registry.cc:114] Plugin optimizer for device_type GPU is enabled.\n",
      "2024-03-28 18:54:58.067005: I tensorflow/core/grappler/optimizers/custom_graph_optimizer_registry.cc:114] Plugin optimizer for device_type GPU is enabled.\n",
      "2024-03-28 18:54:58.287310: I tensorflow/core/grappler/optimizers/custom_graph_optimizer_registry.cc:114] Plugin optimizer for device_type GPU is enabled.\n"
     ]
    },
    {
     "name": "stdout",
     "output_type": "stream",
     "text": [
      "3/3 [==============================] - ETA: 0s - loss: 1.7577 - accuracy: 0.4895"
     ]
    },
    {
     "name": "stderr",
     "output_type": "stream",
     "text": [
      "2024-03-28 18:54:58.816910: I tensorflow/core/grappler/optimizers/custom_graph_optimizer_registry.cc:114] Plugin optimizer for device_type GPU is enabled.\n",
      "2024-03-28 18:54:58.871159: I tensorflow/core/grappler/optimizers/custom_graph_optimizer_registry.cc:114] Plugin optimizer for device_type GPU is enabled.\n"
     ]
    },
    {
     "name": "stdout",
     "output_type": "stream",
     "text": [
      "3/3 [==============================] - 2s 290ms/step - loss: 1.7577 - accuracy: 0.4895 - val_loss: 1.6071 - val_accuracy: 0.6985\n",
      "Epoch 2/10\n",
      "3/3 [==============================] - 0s 65ms/step - loss: 1.5353 - accuracy: 0.7571 - val_loss: 1.4458 - val_accuracy: 0.7939\n",
      "Epoch 3/10\n",
      "3/3 [==============================] - 0s 83ms/step - loss: 1.3907 - accuracy: 0.8390 - val_loss: 1.3376 - val_accuracy: 0.8386\n",
      "Epoch 4/10\n",
      "3/3 [==============================] - 0s 67ms/step - loss: 1.2887 - accuracy: 0.8743 - val_loss: 1.2575 - val_accuracy: 0.8602\n",
      "Epoch 5/10\n",
      "3/3 [==============================] - 0s 65ms/step - loss: 1.2078 - accuracy: 0.8978 - val_loss: 1.1862 - val_accuracy: 0.8803\n",
      "Epoch 6/10\n",
      "3/3 [==============================] - 0s 48ms/step - loss: 1.1348 - accuracy: 0.9185 - val_loss: 1.1152 - val_accuracy: 0.8981\n",
      "Epoch 7/10\n",
      "3/3 [==============================] - 0s 54ms/step - loss: 1.0564 - accuracy: 0.9324 - val_loss: 1.0302 - val_accuracy: 0.9117\n",
      "Epoch 8/10\n",
      "3/3 [==============================] - 0s 54ms/step - loss: 0.9534 - accuracy: 0.9420 - val_loss: 0.9075 - val_accuracy: 0.9223\n",
      "Epoch 9/10\n",
      "3/3 [==============================] - 0s 44ms/step - loss: 0.7984 - accuracy: 0.9488 - val_loss: 0.7169 - val_accuracy: 0.9288\n",
      "Epoch 10/10\n",
      "3/3 [==============================] - 0s 50ms/step - loss: 0.5842 - accuracy: 0.9530 - val_loss: 0.5221 - val_accuracy: 0.9356\n",
      "1/1 [==============================] - 0s 273ms/step\n"
     ]
    },
    {
     "name": "stderr",
     "output_type": "stream",
     "text": [
      "2024-03-28 18:55:00.624277: I tensorflow/core/grappler/optimizers/custom_graph_optimizer_registry.cc:114] Plugin optimizer for device_type GPU is enabled.\n",
      "2024-03-28 18:55:00.663046: I tensorflow/core/grappler/optimizers/custom_graph_optimizer_registry.cc:114] Plugin optimizer for device_type GPU is enabled.\n"
     ]
    },
    {
     "name": "stdout",
     "output_type": "stream",
     "text": [
      "Epoch 1/10\n"
     ]
    },
    {
     "name": "stderr",
     "output_type": "stream",
     "text": [
      "/Users/venessa/Desktop/5342project/venv/lib/python3.8/site-packages/keras/src/optimizers/legacy/adam.py:118: UserWarning: The `lr` argument is deprecated, use `learning_rate` instead.\n",
      "  super().__init__(name, **kwargs)\n",
      "2024-03-28 18:55:01.272136: I tensorflow/core/grappler/optimizers/custom_graph_optimizer_registry.cc:114] Plugin optimizer for device_type GPU is enabled.\n",
      "2024-03-28 18:55:01.373750: I tensorflow/core/grappler/optimizers/custom_graph_optimizer_registry.cc:114] Plugin optimizer for device_type GPU is enabled.\n",
      "2024-03-28 18:55:01.592704: I tensorflow/core/grappler/optimizers/custom_graph_optimizer_registry.cc:114] Plugin optimizer for device_type GPU is enabled.\n"
     ]
    },
    {
     "name": "stdout",
     "output_type": "stream",
     "text": [
      "3/3 [==============================] - ETA: 0s - loss: 1.8008 - accuracy: 0.4289"
     ]
    },
    {
     "name": "stderr",
     "output_type": "stream",
     "text": [
      "2024-03-28 18:55:02.122959: I tensorflow/core/grappler/optimizers/custom_graph_optimizer_registry.cc:114] Plugin optimizer for device_type GPU is enabled.\n",
      "2024-03-28 18:55:02.174660: I tensorflow/core/grappler/optimizers/custom_graph_optimizer_registry.cc:114] Plugin optimizer for device_type GPU is enabled.\n"
     ]
    },
    {
     "name": "stdout",
     "output_type": "stream",
     "text": [
      "3/3 [==============================] - 1s 262ms/step - loss: 1.8008 - accuracy: 0.4289 - val_loss: 1.6394 - val_accuracy: 0.6799\n",
      "Epoch 2/10\n",
      "3/3 [==============================] - 0s 75ms/step - loss: 1.5817 - accuracy: 0.7588 - val_loss: 1.4700 - val_accuracy: 0.8428\n",
      "Epoch 3/10\n",
      "3/3 [==============================] - 0s 72ms/step - loss: 1.4295 - accuracy: 0.8642 - val_loss: 1.3523 - val_accuracy: 0.8818\n",
      "Epoch 4/10\n",
      "3/3 [==============================] - 0s 59ms/step - loss: 1.3236 - accuracy: 0.9033 - val_loss: 1.2614 - val_accuracy: 0.9004\n",
      "Epoch 5/10\n",
      "3/3 [==============================] - 0s 54ms/step - loss: 1.2363 - accuracy: 0.9168 - val_loss: 1.1797 - val_accuracy: 0.9189\n",
      "Epoch 6/10\n",
      "3/3 [==============================] - 0s 56ms/step - loss: 1.1553 - accuracy: 0.9266 - val_loss: 1.0978 - val_accuracy: 0.9261\n",
      "Epoch 7/10\n",
      "3/3 [==============================] - 0s 47ms/step - loss: 1.0700 - accuracy: 0.9341 - val_loss: 1.0051 - val_accuracy: 0.9356\n",
      "Epoch 8/10\n",
      "3/3 [==============================] - 0s 54ms/step - loss: 0.9671 - accuracy: 0.9406 - val_loss: 0.8822 - val_accuracy: 0.9390\n",
      "Epoch 9/10\n",
      "3/3 [==============================] - 0s 50ms/step - loss: 0.8189 - accuracy: 0.9473 - val_loss: 0.7053 - val_accuracy: 0.9417\n",
      "Epoch 10/10\n",
      "3/3 [==============================] - 0s 44ms/step - loss: 0.6209 - accuracy: 0.9512 - val_loss: 0.5093 - val_accuracy: 0.9458\n",
      "1/1 [==============================] - 0s 273ms/step\n"
     ]
    },
    {
     "name": "stderr",
     "output_type": "stream",
     "text": [
      "2024-03-28 18:55:03.857790: I tensorflow/core/grappler/optimizers/custom_graph_optimizer_registry.cc:114] Plugin optimizer for device_type GPU is enabled.\n",
      "2024-03-28 18:55:03.898992: I tensorflow/core/grappler/optimizers/custom_graph_optimizer_registry.cc:114] Plugin optimizer for device_type GPU is enabled.\n"
     ]
    },
    {
     "name": "stdout",
     "output_type": "stream",
     "text": [
      "Epoch 1/10\n"
     ]
    },
    {
     "name": "stderr",
     "output_type": "stream",
     "text": [
      "/Users/venessa/Desktop/5342project/venv/lib/python3.8/site-packages/keras/src/optimizers/legacy/adam.py:118: UserWarning: The `lr` argument is deprecated, use `learning_rate` instead.\n",
      "  super().__init__(name, **kwargs)\n",
      "2024-03-28 18:55:04.496600: I tensorflow/core/grappler/optimizers/custom_graph_optimizer_registry.cc:114] Plugin optimizer for device_type GPU is enabled.\n",
      "2024-03-28 18:55:04.594840: I tensorflow/core/grappler/optimizers/custom_graph_optimizer_registry.cc:114] Plugin optimizer for device_type GPU is enabled.\n",
      "2024-03-28 18:55:04.802774: I tensorflow/core/grappler/optimizers/custom_graph_optimizer_registry.cc:114] Plugin optimizer for device_type GPU is enabled.\n"
     ]
    },
    {
     "name": "stdout",
     "output_type": "stream",
     "text": [
      "2/3 [===================>..........] - ETA: 0s - loss: 1.8001 - accuracy: 0.2621"
     ]
    },
    {
     "name": "stderr",
     "output_type": "stream",
     "text": [
      "2024-03-28 18:55:05.318117: I tensorflow/core/grappler/optimizers/custom_graph_optimizer_registry.cc:114] Plugin optimizer for device_type GPU is enabled.\n",
      "2024-03-28 18:55:05.370588: I tensorflow/core/grappler/optimizers/custom_graph_optimizer_registry.cc:114] Plugin optimizer for device_type GPU is enabled.\n"
     ]
    },
    {
     "name": "stdout",
     "output_type": "stream",
     "text": [
      "3/3 [==============================] - 1s 260ms/step - loss: 1.7564 - accuracy: 0.3759 - val_loss: 1.6086 - val_accuracy: 0.6909\n",
      "Epoch 2/10\n",
      "3/3 [==============================] - 0s 69ms/step - loss: 1.5526 - accuracy: 0.7193 - val_loss: 1.4624 - val_accuracy: 0.8178\n",
      "Epoch 3/10\n",
      "3/3 [==============================] - 0s 70ms/step - loss: 1.4136 - accuracy: 0.8258 - val_loss: 1.3536 - val_accuracy: 0.8712\n",
      "Epoch 4/10\n",
      "3/3 [==============================] - 0s 64ms/step - loss: 1.3104 - accuracy: 0.8717 - val_loss: 1.2659 - val_accuracy: 0.8992\n",
      "Epoch 5/10\n",
      "3/3 [==============================] - 0s 81ms/step - loss: 1.2244 - accuracy: 0.8969 - val_loss: 1.1879 - val_accuracy: 0.9125\n",
      "Epoch 6/10\n",
      "3/3 [==============================] - 0s 48ms/step - loss: 1.1472 - accuracy: 0.9140 - val_loss: 1.1086 - val_accuracy: 0.9250\n",
      "Epoch 7/10\n",
      "3/3 [==============================] - 0s 48ms/step - loss: 1.0624 - accuracy: 0.9248 - val_loss: 1.0147 - val_accuracy: 0.9326\n",
      "Epoch 8/10\n",
      "3/3 [==============================] - 0s 50ms/step - loss: 0.9557 - accuracy: 0.9345 - val_loss: 0.8810 - val_accuracy: 0.9390\n",
      "Epoch 9/10\n",
      "3/3 [==============================] - 0s 53ms/step - loss: 0.8007 - accuracy: 0.9416 - val_loss: 0.6680 - val_accuracy: 0.9428\n",
      "Epoch 10/10\n",
      "3/3 [==============================] - 0s 45ms/step - loss: 0.5668 - accuracy: 0.9482 - val_loss: 0.4401 - val_accuracy: 0.9466\n",
      "1/1 [==============================] - 0s 271ms/step\n",
      "K-Fold Cross-Validation Results (5 folds):\n",
      "Average Accuracy: 0.9429 ± 0.0040\n",
      "Average Precision: 0.8969 ± 0.0174\n",
      "Average Recall: 0.9105 ± 0.0087\n",
      "Average F1-Score: 0.9029 ± 0.0076\n"
     ]
    },
    {
     "name": "stderr",
     "output_type": "stream",
     "text": [
      "2024-03-28 18:55:07.103373: I tensorflow/core/grappler/optimizers/custom_graph_optimizer_registry.cc:114] Plugin optimizer for device_type GPU is enabled.\n",
      "2024-03-28 18:55:07.142459: I tensorflow/core/grappler/optimizers/custom_graph_optimizer_registry.cc:114] Plugin optimizer for device_type GPU is enabled.\n"
     ]
    }
   ],
   "source": [
    "# Perform cross validation\n",
    "def cross_val_training(model_class, data, labels, num_folds=5, epochs=10, batch_size=32):\n",
    "    kf = KFold(n_splits=num_folds, shuffle=True)\n",
    "    accuracies, precisions, recalls, f1_scores = [], [], [], []\n",
    "\n",
    "    for train_index, val_index in kf.split(data):\n",
    "        x_train_fold, x_val_fold = data[train_index], data[val_index]\n",
    "        y_train_fold, y_val_fold = labels[train_index], labels[val_index]\n",
    "\n",
    "        model = model_class(input_shape=x_train_fold.shape[1:], num_classes=y_train_fold.shape[2])\n",
    "        model.compile(lr=0.001)\n",
    "        model.train(x_train_fold, y_train_fold, x_val_fold, y_val_fold, epochs=epochs, batch_size=batch_size)\n",
    "        \n",
    "        # Evaluate the model on the validation fold\n",
    "        y_pred = model.model.predict(x_val_fold)\n",
    "        y_pred = np.argmax(y_pred, axis=-1).flatten()\n",
    "        y_true = np.argmax(y_val_fold, axis=-1).flatten()\n",
    "        \n",
    "        # Calculate and store metrics\n",
    "        accuracy = accuracy_score(y_true, y_pred)\n",
    "        precision, recall, f1, _ = precision_recall_fscore_support(y_true, y_pred, average='macro')\n",
    "        \n",
    "        accuracies.append(accuracy)\n",
    "        precisions.append(precision)\n",
    "        recalls.append(recall)\n",
    "        f1_scores.append(f1)\n",
    "    \n",
    "    # Calculate average metrics across all folds\n",
    "    avg_accuracy = np.mean(accuracies)\n",
    "    avg_precision = np.mean(precisions)\n",
    "    avg_recall = np.mean(recalls)\n",
    "    avg_f1 = np.mean(f1_scores)\n",
    "\n",
    "    # Calculate standard deviations\n",
    "    std_accuracy = np.std(accuracies)\n",
    "    std_precision = np.std(precisions)\n",
    "    std_recall = np.std(recalls)\n",
    "    std_f1 = np.std(f1_scores)\n",
    "\n",
    "    print(f\"K-Fold Cross-Validation Results ({num_folds} folds):\")\n",
    "    print(f\"Average Accuracy: {avg_accuracy:.4f} ± {std_accuracy:.4f}\")\n",
    "    print(f\"Average Precision: {avg_precision:.4f} ± {std_precision:.4f}\")\n",
    "    print(f\"Average Recall: {avg_recall:.4f} ± {std_recall:.4f}\")\n",
    "    print(f\"Average F1-Score: {avg_f1:.4f} ± {std_f1:.4f}\")\n",
    "\n",
    "early_fusion_model = cross_val_training(EarlyFusionModel, train_data, train_label, num_folds=5, epochs=10, batch_size=32)"
   ]
  },
  {
   "cell_type": "code",
   "execution_count": 35,
   "metadata": {},
   "outputs": [
    {
     "name": "stdout",
     "output_type": "stream",
     "text": [
      "Epoch 1/10\n"
     ]
    },
    {
     "name": "stderr",
     "output_type": "stream",
     "text": [
      "/Users/venessa/Desktop/5342project/venv/lib/python3.8/site-packages/keras/src/optimizers/legacy/adam.py:118: UserWarning: The `lr` argument is deprecated, use `learning_rate` instead.\n",
      "  super().__init__(name, **kwargs)\n",
      "2024-03-28 18:55:30.049520: I tensorflow/core/grappler/optimizers/custom_graph_optimizer_registry.cc:114] Plugin optimizer for device_type GPU is enabled.\n",
      "2024-03-28 18:55:30.162497: I tensorflow/core/grappler/optimizers/custom_graph_optimizer_registry.cc:114] Plugin optimizer for device_type GPU is enabled.\n",
      "2024-03-28 18:55:30.437001: I tensorflow/core/grappler/optimizers/custom_graph_optimizer_registry.cc:114] Plugin optimizer for device_type GPU is enabled.\n"
     ]
    },
    {
     "name": "stdout",
     "output_type": "stream",
     "text": [
      "4/4 [==============================] - 1s 105ms/step - loss: 1.7091 - accuracy: 0.4738\n",
      "Epoch 2/10\n",
      "4/4 [==============================] - 0s 49ms/step - loss: 1.4735 - accuracy: 0.8053\n",
      "Epoch 3/10\n",
      "4/4 [==============================] - 0s 39ms/step - loss: 1.3211 - accuracy: 0.8830\n",
      "Epoch 4/10\n",
      "4/4 [==============================] - 0s 45ms/step - loss: 1.2015 - accuracy: 0.9149\n",
      "Epoch 5/10\n",
      "4/4 [==============================] - 0s 33ms/step - loss: 1.0827 - accuracy: 0.9317\n",
      "Epoch 6/10\n",
      "4/4 [==============================] - 0s 33ms/step - loss: 0.9275 - accuracy: 0.9420\n",
      "Epoch 7/10\n",
      "4/4 [==============================] - 0s 33ms/step - loss: 0.6944 - accuracy: 0.9503\n",
      "Epoch 8/10\n",
      "4/4 [==============================] - 0s 30ms/step - loss: 0.4456 - accuracy: 0.9552\n",
      "Epoch 9/10\n",
      "4/4 [==============================] - 0s 32ms/step - loss: 0.3085 - accuracy: 0.9576\n",
      "Epoch 10/10\n",
      "4/4 [==============================] - 0s 32ms/step - loss: 0.2528 - accuracy: 0.9590\n"
     ]
    },
    {
     "name": "stderr",
     "output_type": "stream",
     "text": [
      "2024-03-28 18:55:32.544014: I tensorflow/core/grappler/optimizers/custom_graph_optimizer_registry.cc:114] Plugin optimizer for device_type GPU is enabled.\n",
      "2024-03-28 18:55:32.585754: I tensorflow/core/grappler/optimizers/custom_graph_optimizer_registry.cc:114] Plugin optimizer for device_type GPU is enabled.\n"
     ]
    },
    {
     "name": "stdout",
     "output_type": "stream",
     "text": [
      "1/1 [==============================] - 0s 292ms/step\n",
      "Test Metrics:\n",
      "Accuracy: 0.7695\n",
      "Precision: 0.6460\n",
      "Recall: 0.5961\n",
      "F1 Score: 0.6101\n"
     ]
    }
   ],
   "source": [
    "# Train and evaluate on test data\n",
    "# Instantiate the model\n",
    "early_fusion_model = EarlyFusionModel(input_shape=train_data.shape[1:], num_classes=train_label.shape[2])\n",
    "\n",
    "# Compile the model\n",
    "early_fusion_model.compile(lr=0.001)\n",
    "\n",
    "# Train and evaluate on the test dataset\n",
    "history, test_metrics = early_fusion_model.train_and_evaluate_on_test(train_data, train_label, test_data, test_label, epochs=10, batch_size=32)\n",
    "\n",
    "# Print the test metrics\n",
    "print(\"Test Metrics:\")\n",
    "print(f\"Accuracy: {test_metrics['accuracy']:.4f}\")\n",
    "print(f\"Precision: {test_metrics['precision']:.4f}\")\n",
    "print(f\"Recall: {test_metrics['recall']:.4f}\")\n",
    "print(f\"F1 Score: {test_metrics['f1_score']:.4f}\")\n"
   ]
  },
  {
   "cell_type": "markdown",
   "metadata": {},
   "source": [
    "## Late Fusion Model"
   ]
  },
  {
   "cell_type": "code",
   "execution_count": 12,
   "metadata": {},
   "outputs": [
    {
     "name": "stdout",
     "output_type": "stream",
     "text": [
      "Epoch 1/10\n"
     ]
    },
    {
     "name": "stderr",
     "output_type": "stream",
     "text": [
      "/Users/venessa/Desktop/5342project/venv/lib/python3.8/site-packages/keras/src/optimizers/legacy/adam.py:118: UserWarning: The `lr` argument is deprecated, use `learning_rate` instead.\n",
      "  super().__init__(name, **kwargs)\n",
      "2024-03-28 17:41:08.837646: I tensorflow/core/grappler/optimizers/custom_graph_optimizer_registry.cc:114] Plugin optimizer for device_type GPU is enabled.\n",
      "2024-03-28 17:41:09.074456: I tensorflow/core/grappler/optimizers/custom_graph_optimizer_registry.cc:114] Plugin optimizer for device_type GPU is enabled.\n",
      "2024-03-28 17:41:09.075557: I tensorflow/core/grappler/optimizers/custom_graph_optimizer_registry.cc:114] Plugin optimizer for device_type GPU is enabled.\n",
      "2024-03-28 17:41:09.075654: I tensorflow/core/grappler/optimizers/custom_graph_optimizer_registry.cc:114] Plugin optimizer for device_type GPU is enabled.\n",
      "2024-03-28 17:41:09.332234: I tensorflow/core/grappler/optimizers/custom_graph_optimizer_registry.cc:114] Plugin optimizer for device_type GPU is enabled.\n",
      "2024-03-28 17:41:09.354236: I tensorflow/core/grappler/optimizers/custom_graph_optimizer_registry.cc:114] Plugin optimizer for device_type GPU is enabled.\n",
      "2024-03-28 17:41:09.382639: I tensorflow/core/grappler/optimizers/custom_graph_optimizer_registry.cc:114] Plugin optimizer for device_type GPU is enabled.\n"
     ]
    },
    {
     "name": "stdout",
     "output_type": "stream",
     "text": [
      "2/3 [===================>..........] - ETA: 0s - loss: 1.8295 - accuracy: 0.3740"
     ]
    },
    {
     "name": "stderr",
     "output_type": "stream",
     "text": [
      "2024-03-28 17:41:10.176788: I tensorflow/core/grappler/optimizers/custom_graph_optimizer_registry.cc:114] Plugin optimizer for device_type GPU is enabled.\n",
      "2024-03-28 17:41:10.275746: I tensorflow/core/grappler/optimizers/custom_graph_optimizer_registry.cc:114] Plugin optimizer for device_type GPU is enabled.\n",
      "2024-03-28 17:41:10.275773: I tensorflow/core/grappler/optimizers/custom_graph_optimizer_registry.cc:114] Plugin optimizer for device_type GPU is enabled.\n",
      "2024-03-28 17:41:10.276081: I tensorflow/core/grappler/optimizers/custom_graph_optimizer_registry.cc:114] Plugin optimizer for device_type GPU is enabled.\n"
     ]
    },
    {
     "name": "stdout",
     "output_type": "stream",
     "text": [
      "3/3 [==============================] - 2s 427ms/step - loss: 1.8126 - accuracy: 0.4455 - val_loss: 1.7328 - val_accuracy: 0.6587\n",
      "Epoch 2/10\n",
      "3/3 [==============================] - 0s 69ms/step - loss: 1.6938 - accuracy: 0.6411 - val_loss: 1.6403 - val_accuracy: 0.7398\n",
      "Epoch 3/10\n",
      "3/3 [==============================] - 0s 57ms/step - loss: 1.5873 - accuracy: 0.7341 - val_loss: 1.5487 - val_accuracy: 0.8053\n",
      "Epoch 4/10\n",
      "3/3 [==============================] - 0s 48ms/step - loss: 1.4838 - accuracy: 0.7897 - val_loss: 1.4519 - val_accuracy: 0.8417\n",
      "Epoch 5/10\n",
      "3/3 [==============================] - 0s 54ms/step - loss: 1.3729 - accuracy: 0.8370 - val_loss: 1.3350 - val_accuracy: 0.8754\n",
      "Epoch 6/10\n",
      "3/3 [==============================] - 0s 48ms/step - loss: 1.2438 - accuracy: 0.8652 - val_loss: 1.1779 - val_accuracy: 0.8943\n",
      "Epoch 7/10\n",
      "3/3 [==============================] - 0s 44ms/step - loss: 1.0712 - accuracy: 0.8803 - val_loss: 0.9490 - val_accuracy: 0.8905\n",
      "Epoch 8/10\n",
      "3/3 [==============================] - 0s 41ms/step - loss: 0.8491 - accuracy: 0.8773 - val_loss: 0.6892 - val_accuracy: 0.8773\n",
      "Epoch 9/10\n",
      "3/3 [==============================] - 0s 45ms/step - loss: 0.6414 - accuracy: 0.8621 - val_loss: 0.5098 - val_accuracy: 0.8754\n",
      "Epoch 10/10\n",
      "3/3 [==============================] - 0s 54ms/step - loss: 0.5101 - accuracy: 0.8713 - val_loss: 0.4242 - val_accuracy: 0.9008\n"
     ]
    },
    {
     "name": "stderr",
     "output_type": "stream",
     "text": [
      "2024-03-28 17:41:11.929736: I tensorflow/core/grappler/optimizers/custom_graph_optimizer_registry.cc:114] Plugin optimizer for device_type GPU is enabled.\n",
      "2024-03-28 17:41:12.015237: I tensorflow/core/grappler/optimizers/custom_graph_optimizer_registry.cc:114] Plugin optimizer for device_type GPU is enabled.\n",
      "2024-03-28 17:41:12.015409: I tensorflow/core/grappler/optimizers/custom_graph_optimizer_registry.cc:114] Plugin optimizer for device_type GPU is enabled.\n",
      "2024-03-28 17:41:12.015471: I tensorflow/core/grappler/optimizers/custom_graph_optimizer_registry.cc:114] Plugin optimizer for device_type GPU is enabled.\n"
     ]
    },
    {
     "name": "stdout",
     "output_type": "stream",
     "text": [
      "1/1 [==============================] - 0s 421ms/step\n",
      "Epoch 1/10\n"
     ]
    },
    {
     "name": "stderr",
     "output_type": "stream",
     "text": [
      "/Users/venessa/Desktop/5342project/venv/lib/python3.8/site-packages/keras/src/optimizers/legacy/adam.py:118: UserWarning: The `lr` argument is deprecated, use `learning_rate` instead.\n",
      "  super().__init__(name, **kwargs)\n",
      "2024-03-28 17:41:13.219658: I tensorflow/core/grappler/optimizers/custom_graph_optimizer_registry.cc:114] Plugin optimizer for device_type GPU is enabled.\n",
      "2024-03-28 17:41:13.466199: I tensorflow/core/grappler/optimizers/custom_graph_optimizer_registry.cc:114] Plugin optimizer for device_type GPU is enabled.\n",
      "2024-03-28 17:41:13.466825: I tensorflow/core/grappler/optimizers/custom_graph_optimizer_registry.cc:114] Plugin optimizer for device_type GPU is enabled.\n",
      "2024-03-28 17:41:13.466845: I tensorflow/core/grappler/optimizers/custom_graph_optimizer_registry.cc:114] Plugin optimizer for device_type GPU is enabled.\n",
      "2024-03-28 17:41:13.695214: I tensorflow/core/grappler/optimizers/custom_graph_optimizer_registry.cc:114] Plugin optimizer for device_type GPU is enabled.\n",
      "2024-03-28 17:41:13.717693: I tensorflow/core/grappler/optimizers/custom_graph_optimizer_registry.cc:114] Plugin optimizer for device_type GPU is enabled.\n",
      "2024-03-28 17:41:13.748315: I tensorflow/core/grappler/optimizers/custom_graph_optimizer_registry.cc:114] Plugin optimizer for device_type GPU is enabled.\n"
     ]
    },
    {
     "name": "stdout",
     "output_type": "stream",
     "text": [
      "2/3 [===================>..........] - ETA: 0s - loss: 1.8743 - accuracy: 0.2956"
     ]
    },
    {
     "name": "stderr",
     "output_type": "stream",
     "text": [
      "2024-03-28 17:41:14.311605: I tensorflow/core/grappler/optimizers/custom_graph_optimizer_registry.cc:114] Plugin optimizer for device_type GPU is enabled.\n",
      "2024-03-28 17:41:14.408481: I tensorflow/core/grappler/optimizers/custom_graph_optimizer_registry.cc:114] Plugin optimizer for device_type GPU is enabled.\n",
      "2024-03-28 17:41:14.408548: I tensorflow/core/grappler/optimizers/custom_graph_optimizer_registry.cc:114] Plugin optimizer for device_type GPU is enabled.\n",
      "2024-03-28 17:41:14.408558: I tensorflow/core/grappler/optimizers/custom_graph_optimizer_registry.cc:114] Plugin optimizer for device_type GPU is enabled.\n"
     ]
    },
    {
     "name": "stdout",
     "output_type": "stream",
     "text": [
      "3/3 [==============================] - 2s 309ms/step - loss: 1.8577 - accuracy: 0.3685 - val_loss: 1.7746 - val_accuracy: 0.6083\n",
      "Epoch 2/10\n",
      "3/3 [==============================] - 0s 63ms/step - loss: 1.7406 - accuracy: 0.6208 - val_loss: 1.6681 - val_accuracy: 0.6958\n",
      "Epoch 3/10\n",
      "3/3 [==============================] - 0s 57ms/step - loss: 1.6342 - accuracy: 0.7190 - val_loss: 1.5638 - val_accuracy: 0.7663\n",
      "Epoch 4/10\n",
      "3/3 [==============================] - 0s 55ms/step - loss: 1.5306 - accuracy: 0.7854 - val_loss: 1.4617 - val_accuracy: 0.8140\n",
      "Epoch 5/10\n",
      "3/3 [==============================] - 0s 42ms/step - loss: 1.4256 - accuracy: 0.8255 - val_loss: 1.3531 - val_accuracy: 0.8413\n",
      "Epoch 6/10\n",
      "3/3 [==============================] - 0s 44ms/step - loss: 1.3073 - accuracy: 0.8507 - val_loss: 1.2173 - val_accuracy: 0.8595\n",
      "Epoch 7/10\n",
      "3/3 [==============================] - 0s 46ms/step - loss: 1.1574 - accuracy: 0.8606 - val_loss: 1.0217 - val_accuracy: 0.8625\n",
      "Epoch 8/10\n",
      "3/3 [==============================] - 0s 50ms/step - loss: 0.9404 - accuracy: 0.8510 - val_loss: 0.7583 - val_accuracy: 0.8538\n",
      "Epoch 9/10\n",
      "3/3 [==============================] - 0s 41ms/step - loss: 0.6948 - accuracy: 0.8404 - val_loss: 0.5712 - val_accuracy: 0.8545\n",
      "Epoch 10/10\n",
      "3/3 [==============================] - 0s 41ms/step - loss: 0.5529 - accuracy: 0.8391 - val_loss: 0.4824 - val_accuracy: 0.8727\n"
     ]
    },
    {
     "name": "stderr",
     "output_type": "stream",
     "text": [
      "2024-03-28 17:41:16.024346: I tensorflow/core/grappler/optimizers/custom_graph_optimizer_registry.cc:114] Plugin optimizer for device_type GPU is enabled.\n",
      "2024-03-28 17:41:16.108526: I tensorflow/core/grappler/optimizers/custom_graph_optimizer_registry.cc:114] Plugin optimizer for device_type GPU is enabled.\n",
      "2024-03-28 17:41:16.108561: I tensorflow/core/grappler/optimizers/custom_graph_optimizer_registry.cc:114] Plugin optimizer for device_type GPU is enabled.\n",
      "2024-03-28 17:41:16.108567: I tensorflow/core/grappler/optimizers/custom_graph_optimizer_registry.cc:114] Plugin optimizer for device_type GPU is enabled.\n"
     ]
    },
    {
     "name": "stdout",
     "output_type": "stream",
     "text": [
      "1/1 [==============================] - 0s 414ms/step\n",
      "Epoch 1/10\n"
     ]
    },
    {
     "name": "stderr",
     "output_type": "stream",
     "text": [
      "/Users/venessa/Desktop/5342project/venv/lib/python3.8/site-packages/keras/src/optimizers/legacy/adam.py:118: UserWarning: The `lr` argument is deprecated, use `learning_rate` instead.\n",
      "  super().__init__(name, **kwargs)\n",
      "2024-03-28 17:41:17.577830: I tensorflow/core/grappler/optimizers/custom_graph_optimizer_registry.cc:114] Plugin optimizer for device_type GPU is enabled.\n",
      "2024-03-28 17:41:17.850228: I tensorflow/core/grappler/optimizers/custom_graph_optimizer_registry.cc:114] Plugin optimizer for device_type GPU is enabled.\n",
      "2024-03-28 17:41:17.851068: I tensorflow/core/grappler/optimizers/custom_graph_optimizer_registry.cc:114] Plugin optimizer for device_type GPU is enabled.\n",
      "2024-03-28 17:41:17.851275: I tensorflow/core/grappler/optimizers/custom_graph_optimizer_registry.cc:114] Plugin optimizer for device_type GPU is enabled.\n",
      "2024-03-28 17:41:18.079561: I tensorflow/core/grappler/optimizers/custom_graph_optimizer_registry.cc:114] Plugin optimizer for device_type GPU is enabled.\n",
      "2024-03-28 17:41:18.101913: I tensorflow/core/grappler/optimizers/custom_graph_optimizer_registry.cc:114] Plugin optimizer for device_type GPU is enabled.\n",
      "2024-03-28 17:41:18.131455: I tensorflow/core/grappler/optimizers/custom_graph_optimizer_registry.cc:114] Plugin optimizer for device_type GPU is enabled.\n"
     ]
    },
    {
     "name": "stdout",
     "output_type": "stream",
     "text": [
      "3/3 [==============================] - ETA: 0s - loss: 1.7872 - accuracy: 0.4662"
     ]
    },
    {
     "name": "stderr",
     "output_type": "stream",
     "text": [
      "2024-03-28 17:41:18.711421: I tensorflow/core/grappler/optimizers/custom_graph_optimizer_registry.cc:114] Plugin optimizer for device_type GPU is enabled.\n",
      "2024-03-28 17:41:18.808631: I tensorflow/core/grappler/optimizers/custom_graph_optimizer_registry.cc:114] Plugin optimizer for device_type GPU is enabled.\n",
      "2024-03-28 17:41:18.808818: I tensorflow/core/grappler/optimizers/custom_graph_optimizer_registry.cc:114] Plugin optimizer for device_type GPU is enabled.\n",
      "2024-03-28 17:41:18.808906: I tensorflow/core/grappler/optimizers/custom_graph_optimizer_registry.cc:114] Plugin optimizer for device_type GPU is enabled.\n"
     ]
    },
    {
     "name": "stdout",
     "output_type": "stream",
     "text": [
      "3/3 [==============================] - 2s 319ms/step - loss: 1.7872 - accuracy: 0.4662 - val_loss: 1.7142 - val_accuracy: 0.6364\n",
      "Epoch 2/10\n",
      "3/3 [==============================] - 0s 63ms/step - loss: 1.6825 - accuracy: 0.7138 - val_loss: 1.6178 - val_accuracy: 0.7246\n",
      "Epoch 3/10\n",
      "3/3 [==============================] - 0s 45ms/step - loss: 1.5881 - accuracy: 0.7885 - val_loss: 1.5232 - val_accuracy: 0.7803\n",
      "Epoch 4/10\n",
      "3/3 [==============================] - 0s 45ms/step - loss: 1.4895 - accuracy: 0.8240 - val_loss: 1.4222 - val_accuracy: 0.8015\n",
      "Epoch 5/10\n",
      "3/3 [==============================] - 0s 53ms/step - loss: 1.3797 - accuracy: 0.8366 - val_loss: 1.3007 - val_accuracy: 0.8080\n",
      "Epoch 6/10\n",
      "3/3 [==============================] - 0s 51ms/step - loss: 1.2407 - accuracy: 0.8350 - val_loss: 1.1349 - val_accuracy: 0.7962\n",
      "Epoch 7/10\n",
      "3/3 [==============================] - 0s 46ms/step - loss: 1.0370 - accuracy: 0.8187 - val_loss: 0.9133 - val_accuracy: 0.7655\n",
      "Epoch 8/10\n",
      "3/3 [==============================] - 0s 47ms/step - loss: 0.7882 - accuracy: 0.7999 - val_loss: 0.7390 - val_accuracy: 0.7420\n",
      "Epoch 9/10\n",
      "3/3 [==============================] - 0s 46ms/step - loss: 0.6275 - accuracy: 0.7954 - val_loss: 0.6390 - val_accuracy: 0.7663\n",
      "Epoch 10/10\n",
      "3/3 [==============================] - 0s 50ms/step - loss: 0.5292 - accuracy: 0.8283 - val_loss: 0.5391 - val_accuracy: 0.8451\n"
     ]
    },
    {
     "name": "stderr",
     "output_type": "stream",
     "text": [
      "2024-03-28 17:41:20.414289: I tensorflow/core/grappler/optimizers/custom_graph_optimizer_registry.cc:114] Plugin optimizer for device_type GPU is enabled.\n",
      "2024-03-28 17:41:20.498878: I tensorflow/core/grappler/optimizers/custom_graph_optimizer_registry.cc:114] Plugin optimizer for device_type GPU is enabled.\n",
      "2024-03-28 17:41:20.498895: I tensorflow/core/grappler/optimizers/custom_graph_optimizer_registry.cc:114] Plugin optimizer for device_type GPU is enabled.\n",
      "2024-03-28 17:41:20.498906: I tensorflow/core/grappler/optimizers/custom_graph_optimizer_registry.cc:114] Plugin optimizer for device_type GPU is enabled.\n"
     ]
    },
    {
     "name": "stdout",
     "output_type": "stream",
     "text": [
      "1/1 [==============================] - 0s 423ms/step\n",
      "Epoch 1/10\n"
     ]
    },
    {
     "name": "stderr",
     "output_type": "stream",
     "text": [
      "/Users/venessa/Desktop/5342project/venv/lib/python3.8/site-packages/keras/src/optimizers/legacy/adam.py:118: UserWarning: The `lr` argument is deprecated, use `learning_rate` instead.\n",
      "  super().__init__(name, **kwargs)\n",
      "2024-03-28 17:41:21.670826: I tensorflow/core/grappler/optimizers/custom_graph_optimizer_registry.cc:114] Plugin optimizer for device_type GPU is enabled.\n",
      "2024-03-28 17:41:21.910898: I tensorflow/core/grappler/optimizers/custom_graph_optimizer_registry.cc:114] Plugin optimizer for device_type GPU is enabled.\n",
      "2024-03-28 17:41:21.911707: I tensorflow/core/grappler/optimizers/custom_graph_optimizer_registry.cc:114] Plugin optimizer for device_type GPU is enabled.\n",
      "2024-03-28 17:41:21.911779: I tensorflow/core/grappler/optimizers/custom_graph_optimizer_registry.cc:114] Plugin optimizer for device_type GPU is enabled.\n",
      "2024-03-28 17:41:22.142845: I tensorflow/core/grappler/optimizers/custom_graph_optimizer_registry.cc:114] Plugin optimizer for device_type GPU is enabled.\n",
      "2024-03-28 17:41:22.163896: I tensorflow/core/grappler/optimizers/custom_graph_optimizer_registry.cc:114] Plugin optimizer for device_type GPU is enabled.\n",
      "2024-03-28 17:41:22.191651: I tensorflow/core/grappler/optimizers/custom_graph_optimizer_registry.cc:114] Plugin optimizer for device_type GPU is enabled.\n"
     ]
    },
    {
     "name": "stdout",
     "output_type": "stream",
     "text": [
      "3/3 [==============================] - ETA: 0s - loss: 1.7473 - accuracy: 0.4795"
     ]
    },
    {
     "name": "stderr",
     "output_type": "stream",
     "text": [
      "2024-03-28 17:41:22.753297: I tensorflow/core/grappler/optimizers/custom_graph_optimizer_registry.cc:114] Plugin optimizer for device_type GPU is enabled.\n",
      "2024-03-28 17:41:22.851688: I tensorflow/core/grappler/optimizers/custom_graph_optimizer_registry.cc:114] Plugin optimizer for device_type GPU is enabled.\n",
      "2024-03-28 17:41:22.852179: I tensorflow/core/grappler/optimizers/custom_graph_optimizer_registry.cc:114] Plugin optimizer for device_type GPU is enabled.\n",
      "2024-03-28 17:41:22.852778: I tensorflow/core/grappler/optimizers/custom_graph_optimizer_registry.cc:114] Plugin optimizer for device_type GPU is enabled.\n"
     ]
    },
    {
     "name": "stdout",
     "output_type": "stream",
     "text": [
      "3/3 [==============================] - 2s 311ms/step - loss: 1.7473 - accuracy: 0.4795 - val_loss: 1.6923 - val_accuracy: 0.6625\n",
      "Epoch 2/10\n",
      "3/3 [==============================] - 0s 56ms/step - loss: 1.6393 - accuracy: 0.7521 - val_loss: 1.5936 - val_accuracy: 0.7492\n",
      "Epoch 3/10\n",
      "3/3 [==============================] - 0s 67ms/step - loss: 1.5401 - accuracy: 0.8257 - val_loss: 1.4954 - val_accuracy: 0.8030\n",
      "Epoch 4/10\n",
      "3/3 [==============================] - 0s 58ms/step - loss: 1.4410 - accuracy: 0.8636 - val_loss: 1.3904 - val_accuracy: 0.8307\n",
      "Epoch 5/10\n",
      "3/3 [==============================] - 0s 58ms/step - loss: 1.3317 - accuracy: 0.8777 - val_loss: 1.2684 - val_accuracy: 0.8330\n",
      "Epoch 6/10\n",
      "3/3 [==============================] - 0s 47ms/step - loss: 1.1919 - accuracy: 0.8783 - val_loss: 1.1063 - val_accuracy: 0.8068\n",
      "Epoch 7/10\n",
      "3/3 [==============================] - 0s 44ms/step - loss: 0.9956 - accuracy: 0.8481 - val_loss: 0.8836 - val_accuracy: 0.7557\n",
      "Epoch 8/10\n",
      "3/3 [==============================] - 0s 47ms/step - loss: 0.7429 - accuracy: 0.8105 - val_loss: 0.7100 - val_accuracy: 0.7504\n",
      "Epoch 9/10\n",
      "3/3 [==============================] - 0s 49ms/step - loss: 0.5941 - accuracy: 0.8025 - val_loss: 0.5980 - val_accuracy: 0.7848\n",
      "Epoch 10/10\n",
      "3/3 [==============================] - 0s 55ms/step - loss: 0.4776 - accuracy: 0.8700 - val_loss: 0.4625 - val_accuracy: 0.9072\n"
     ]
    },
    {
     "name": "stderr",
     "output_type": "stream",
     "text": [
      "2024-03-28 17:41:24.545679: I tensorflow/core/grappler/optimizers/custom_graph_optimizer_registry.cc:114] Plugin optimizer for device_type GPU is enabled.\n",
      "2024-03-28 17:41:24.630593: I tensorflow/core/grappler/optimizers/custom_graph_optimizer_registry.cc:114] Plugin optimizer for device_type GPU is enabled.\n",
      "2024-03-28 17:41:24.630934: I tensorflow/core/grappler/optimizers/custom_graph_optimizer_registry.cc:114] Plugin optimizer for device_type GPU is enabled.\n",
      "2024-03-28 17:41:24.630945: I tensorflow/core/grappler/optimizers/custom_graph_optimizer_registry.cc:114] Plugin optimizer for device_type GPU is enabled.\n"
     ]
    },
    {
     "name": "stdout",
     "output_type": "stream",
     "text": [
      "1/1 [==============================] - 0s 458ms/step\n",
      "Epoch 1/10\n"
     ]
    },
    {
     "name": "stderr",
     "output_type": "stream",
     "text": [
      "/Users/venessa/Desktop/5342project/venv/lib/python3.8/site-packages/keras/src/optimizers/legacy/adam.py:118: UserWarning: The `lr` argument is deprecated, use `learning_rate` instead.\n",
      "  super().__init__(name, **kwargs)\n",
      "2024-03-28 17:41:26.151613: I tensorflow/core/grappler/optimizers/custom_graph_optimizer_registry.cc:114] Plugin optimizer for device_type GPU is enabled.\n",
      "2024-03-28 17:41:26.394644: I tensorflow/core/grappler/optimizers/custom_graph_optimizer_registry.cc:114] Plugin optimizer for device_type GPU is enabled.\n",
      "2024-03-28 17:41:26.394965: I tensorflow/core/grappler/optimizers/custom_graph_optimizer_registry.cc:114] Plugin optimizer for device_type GPU is enabled.\n",
      "2024-03-28 17:41:26.395525: I tensorflow/core/grappler/optimizers/custom_graph_optimizer_registry.cc:114] Plugin optimizer for device_type GPU is enabled.\n",
      "2024-03-28 17:41:26.682776: I tensorflow/core/grappler/optimizers/custom_graph_optimizer_registry.cc:114] Plugin optimizer for device_type GPU is enabled.\n",
      "2024-03-28 17:41:26.705550: I tensorflow/core/grappler/optimizers/custom_graph_optimizer_registry.cc:114] Plugin optimizer for device_type GPU is enabled.\n",
      "2024-03-28 17:41:26.734887: I tensorflow/core/grappler/optimizers/custom_graph_optimizer_registry.cc:114] Plugin optimizer for device_type GPU is enabled.\n"
     ]
    },
    {
     "name": "stdout",
     "output_type": "stream",
     "text": [
      "3/3 [==============================] - ETA: 0s - loss: 1.7932 - accuracy: 0.3918"
     ]
    },
    {
     "name": "stderr",
     "output_type": "stream",
     "text": [
      "2024-03-28 17:41:27.361530: I tensorflow/core/grappler/optimizers/custom_graph_optimizer_registry.cc:114] Plugin optimizer for device_type GPU is enabled.\n",
      "2024-03-28 17:41:27.461006: I tensorflow/core/grappler/optimizers/custom_graph_optimizer_registry.cc:114] Plugin optimizer for device_type GPU is enabled.\n",
      "2024-03-28 17:41:27.461279: I tensorflow/core/grappler/optimizers/custom_graph_optimizer_registry.cc:114] Plugin optimizer for device_type GPU is enabled.\n",
      "2024-03-28 17:41:27.461395: I tensorflow/core/grappler/optimizers/custom_graph_optimizer_registry.cc:114] Plugin optimizer for device_type GPU is enabled.\n"
     ]
    },
    {
     "name": "stdout",
     "output_type": "stream",
     "text": [
      "3/3 [==============================] - 3s 352ms/step - loss: 1.7932 - accuracy: 0.3918 - val_loss: 1.7230 - val_accuracy: 0.6170\n",
      "Epoch 2/10\n",
      "3/3 [==============================] - 0s 86ms/step - loss: 1.6883 - accuracy: 0.6636 - val_loss: 1.6356 - val_accuracy: 0.7360\n",
      "Epoch 3/10\n",
      "3/3 [==============================] - 0s 78ms/step - loss: 1.5960 - accuracy: 0.7706 - val_loss: 1.5502 - val_accuracy: 0.8049\n",
      "Epoch 4/10\n",
      "3/3 [==============================] - 0s 58ms/step - loss: 1.5099 - accuracy: 0.8365 - val_loss: 1.4659 - val_accuracy: 0.8470\n",
      "Epoch 5/10\n",
      "3/3 [==============================] - 0s 55ms/step - loss: 1.4233 - accuracy: 0.8746 - val_loss: 1.3779 - val_accuracy: 0.8773\n",
      "Epoch 6/10\n",
      "3/3 [==============================] - 0s 46ms/step - loss: 1.3293 - accuracy: 0.9006 - val_loss: 1.2779 - val_accuracy: 0.8981\n",
      "Epoch 7/10\n",
      "3/3 [==============================] - 0s 44ms/step - loss: 1.2207 - accuracy: 0.9146 - val_loss: 1.1522 - val_accuracy: 0.9159\n",
      "Epoch 8/10\n",
      "3/3 [==============================] - 0s 65ms/step - loss: 1.0756 - accuracy: 0.9222 - val_loss: 0.9755 - val_accuracy: 0.9193\n",
      "Epoch 9/10\n",
      "3/3 [==============================] - 0s 47ms/step - loss: 0.8717 - accuracy: 0.9116 - val_loss: 0.7398 - val_accuracy: 0.8928\n",
      "Epoch 10/10\n",
      "3/3 [==============================] - 0s 46ms/step - loss: 0.6430 - accuracy: 0.8711 - val_loss: 0.5629 - val_accuracy: 0.8489\n"
     ]
    },
    {
     "name": "stderr",
     "output_type": "stream",
     "text": [
      "2024-03-28 17:41:29.289589: I tensorflow/core/grappler/optimizers/custom_graph_optimizer_registry.cc:114] Plugin optimizer for device_type GPU is enabled.\n",
      "2024-03-28 17:41:29.374317: I tensorflow/core/grappler/optimizers/custom_graph_optimizer_registry.cc:114] Plugin optimizer for device_type GPU is enabled.\n",
      "2024-03-28 17:41:29.374487: I tensorflow/core/grappler/optimizers/custom_graph_optimizer_registry.cc:114] Plugin optimizer for device_type GPU is enabled.\n",
      "2024-03-28 17:41:29.374506: I tensorflow/core/grappler/optimizers/custom_graph_optimizer_registry.cc:114] Plugin optimizer for device_type GPU is enabled.\n"
     ]
    },
    {
     "name": "stdout",
     "output_type": "stream",
     "text": [
      "1/1 [==============================] - 0s 452ms/step\n",
      "K-Fold Cross-Validation Results (5 folds):\n",
      "Average Accuracy: 0.8749 ± 0.0256\n",
      "Average Precision: 0.8912 ± 0.0096\n",
      "Average Recall: 0.7271 ± 0.0623\n",
      "Average F1-Score: 0.7818 ± 0.0477\n"
     ]
    }
   ],
   "source": [
    "def cross_val_training_late_fusion(model_class, modalities_data, labels, num_folds=5, epochs=10, batch_size=32):\n",
    "    kf = KFold(n_splits=num_folds, shuffle=True)\n",
    "    accuracies, precisions, recalls, f1_scores = [], [], [], []\n",
    "\n",
    "    # Ensure modalities_data is a list of datasets, one for each modality\n",
    "    if not isinstance(modalities_data, list):\n",
    "        raise ValueError(\"modalities_data should be a list of datasets, one for each modality.\")\n",
    "\n",
    "    for train_index, val_index in kf.split(modalities_data[0]):  # Use the first modality to generate indices\n",
    "        # Prepare training and validation data for each modality\n",
    "        x_train_fold = [modality[train_index] for modality in modalities_data]\n",
    "        x_val_fold = [modality[val_index] for modality in modalities_data]\n",
    "        y_train_fold, y_val_fold = labels[train_index], labels[val_index]\n",
    "\n",
    "        # Instantiate the model for each fold. Pass None to input_shape for LateFusionModel\n",
    "        model = model_class(input_shapes=[modality.shape[1:] for modality in x_train_fold], num_classes=y_train_fold.shape[-1])\n",
    "        model.compile(lr=0.001)\n",
    "\n",
    "        # Train the model using the custom train method, which internally uses .fit()\n",
    "        model.train(x_train_fold, y_train_fold, x_val_fold, y_val_fold, epochs=epochs, batch_size=batch_size)\n",
    "\n",
    "        # Evaluate the model on the validation fold using the custom evaluate method\n",
    "        metrics = model.evaluate(x_val_fold, y_val_fold)\n",
    "\n",
    "        # Store the evaluation metrics\n",
    "        accuracies.append(metrics['accuracy'])\n",
    "        precisions.append(metrics['precision'])\n",
    "        recalls.append(metrics['recall'])\n",
    "        f1_scores.append(metrics['f1_score'])\n",
    "    \n",
    "    # Calculate and print the average and standard deviation of the metrics across all folds\n",
    "    avg_accuracy = np.mean(accuracies)\n",
    "    avg_precision = np.mean(precisions)\n",
    "    avg_recall = np.mean(recalls)\n",
    "    avg_f1 = np.mean(f1_scores)\n",
    "\n",
    "    # Calculate standard deviations\n",
    "    std_accuracy = np.std(accuracies)\n",
    "    std_precision = np.std(precisions)\n",
    "    std_recall = np.std(recalls)\n",
    "    std_f1 = np.std(f1_scores)\n",
    "\n",
    "    print(f\"K-Fold Cross-Validation Results ({num_folds} folds):\")\n",
    "    print(f\"Average Accuracy: {avg_accuracy:.4f} ± {std_accuracy:.4f}\")\n",
    "    print(f\"Average Precision: {avg_precision:.4f} ± {std_precision:.4f}\")\n",
    "    print(f\"Average Recall: {avg_recall:.4f} ± {std_recall:.4f}\")\n",
    "    print(f\"Average F1-Score: {avg_f1:.4f} ± {std_f1:.4f}\")\n",
    "\n",
    "cross_val_training_late_fusion(LateFusionModel, [train_audio, train_visual, train_text], train_label, num_folds=5, epochs=10, batch_size=32)"
   ]
  },
  {
   "cell_type": "code",
   "execution_count": 14,
   "metadata": {},
   "outputs": [
    {
     "name": "stdout",
     "output_type": "stream",
     "text": [
      "Epoch 1/10\n"
     ]
    },
    {
     "name": "stderr",
     "output_type": "stream",
     "text": [
      "/Users/venessa/Desktop/5342project/venv/lib/python3.8/site-packages/keras/src/optimizers/legacy/adam.py:118: UserWarning: The `lr` argument is deprecated, use `learning_rate` instead.\n",
      "  super().__init__(name, **kwargs)\n",
      "2024-03-28 17:41:55.943736: I tensorflow/core/grappler/optimizers/custom_graph_optimizer_registry.cc:114] Plugin optimizer for device_type GPU is enabled.\n",
      "2024-03-28 17:41:56.207185: I tensorflow/core/grappler/optimizers/custom_graph_optimizer_registry.cc:114] Plugin optimizer for device_type GPU is enabled.\n",
      "2024-03-28 17:41:56.207207: I tensorflow/core/grappler/optimizers/custom_graph_optimizer_registry.cc:114] Plugin optimizer for device_type GPU is enabled.\n",
      "2024-03-28 17:41:56.207606: I tensorflow/core/grappler/optimizers/custom_graph_optimizer_registry.cc:114] Plugin optimizer for device_type GPU is enabled.\n",
      "2024-03-28 17:41:56.595827: I tensorflow/core/grappler/optimizers/custom_graph_optimizer_registry.cc:114] Plugin optimizer for device_type GPU is enabled.\n",
      "2024-03-28 17:41:56.617014: I tensorflow/core/grappler/optimizers/custom_graph_optimizer_registry.cc:114] Plugin optimizer for device_type GPU is enabled.\n",
      "2024-03-28 17:41:56.640119: I tensorflow/core/grappler/optimizers/custom_graph_optimizer_registry.cc:114] Plugin optimizer for device_type GPU is enabled.\n"
     ]
    },
    {
     "name": "stdout",
     "output_type": "stream",
     "text": [
      "4/4 [==============================] - 2s 151ms/step - loss: 1.7854 - accuracy: 0.4324\n",
      "Epoch 2/10\n",
      "4/4 [==============================] - 0s 71ms/step - loss: 1.6569 - accuracy: 0.7058\n",
      "Epoch 3/10\n",
      "4/4 [==============================] - 0s 55ms/step - loss: 1.5386 - accuracy: 0.8147\n",
      "Epoch 4/10\n",
      "4/4 [==============================] - 0s 56ms/step - loss: 1.4166 - accuracy: 0.8693\n",
      "Epoch 5/10\n",
      "4/4 [==============================] - 0s 40ms/step - loss: 1.2654 - accuracy: 0.8884\n",
      "Epoch 6/10\n",
      "4/4 [==============================] - 0s 49ms/step - loss: 1.0401 - accuracy: 0.8591\n",
      "Epoch 7/10\n",
      "4/4 [==============================] - 0s 42ms/step - loss: 0.7559 - accuracy: 0.8220\n",
      "Epoch 8/10\n",
      "4/4 [==============================] - 0s 48ms/step - loss: 0.5654 - accuracy: 0.8197\n",
      "Epoch 9/10\n",
      "4/4 [==============================] - 0s 36ms/step - loss: 0.4569 - accuracy: 0.8644\n",
      "Epoch 10/10\n",
      "4/4 [==============================] - 0s 40ms/step - loss: 0.3873 - accuracy: 0.9189\n"
     ]
    },
    {
     "name": "stderr",
     "output_type": "stream",
     "text": [
      "2024-03-28 17:41:59.392781: I tensorflow/core/grappler/optimizers/custom_graph_optimizer_registry.cc:114] Plugin optimizer for device_type GPU is enabled.\n",
      "2024-03-28 17:41:59.482804: I tensorflow/core/grappler/optimizers/custom_graph_optimizer_registry.cc:114] Plugin optimizer for device_type GPU is enabled.\n",
      "2024-03-28 17:41:59.482853: I tensorflow/core/grappler/optimizers/custom_graph_optimizer_registry.cc:114] Plugin optimizer for device_type GPU is enabled.\n",
      "2024-03-28 17:41:59.482905: I tensorflow/core/grappler/optimizers/custom_graph_optimizer_registry.cc:114] Plugin optimizer for device_type GPU is enabled.\n"
     ]
    },
    {
     "name": "stdout",
     "output_type": "stream",
     "text": [
      "1/1 [==============================] - 0s 483ms/step\n",
      "Test Metrics for Late Fusion Model:\n",
      "Accuracy: 0.7642\n",
      "Precision: 0.6667\n",
      "Recall: 0.5819\n",
      "F1 Score: 0.5950\n"
     ]
    }
   ],
   "source": [
    "# Test late fusion model on test data\n",
    "input_shapes = [train_audio.shape[1:], train_visual.shape[1:], train_text.shape[1:]]  # Adjust as per your data\n",
    "num_classes = train_label.shape[-1]  # Assuming one-hot encoded labels\n",
    "\n",
    "model = LateFusionModel(input_shapes=input_shapes, num_classes=num_classes)\n",
    "model.compile(lr=0.001)  # Make sure your BaseModel's compile method properly configures the underlying Keras model\n",
    "\n",
    "history, test_metrics = model.train_and_evaluate_on_test()\n",
    "\n",
    "print(\"Test Metrics for Late Fusion Model:\")\n",
    "print(f\"Accuracy: {test_metrics['accuracy']:.4f}\")\n",
    "print(f\"Precision: {test_metrics['precision']:.4f}\")\n",
    "print(f\"Recall: {test_metrics['recall']:.4f}\")\n",
    "print(f\"F1 Score: {test_metrics['f1_score']:.4f}\")"
   ]
  },
  {
   "cell_type": "markdown",
   "metadata": {},
   "source": [
    "## With individual modalities"
   ]
  },
  {
   "cell_type": "code",
   "execution_count": 39,
   "metadata": {},
   "outputs": [
    {
     "name": "stdout",
     "output_type": "stream",
     "text": [
      "Epoch 1/10\n"
     ]
    },
    {
     "name": "stderr",
     "output_type": "stream",
     "text": [
      "/Users/venessa/Desktop/5342project/venv/lib/python3.8/site-packages/keras/src/optimizers/legacy/adam.py:118: UserWarning: The `lr` argument is deprecated, use `learning_rate` instead.\n",
      "  super().__init__(name, **kwargs)\n",
      "2024-03-28 22:13:44.938961: I tensorflow/core/grappler/optimizers/custom_graph_optimizer_registry.cc:114] Plugin optimizer for device_type GPU is enabled.\n",
      "2024-03-28 22:13:45.036413: I tensorflow/core/grappler/optimizers/custom_graph_optimizer_registry.cc:114] Plugin optimizer for device_type GPU is enabled.\n",
      "2024-03-28 22:13:45.243227: I tensorflow/core/grappler/optimizers/custom_graph_optimizer_registry.cc:114] Plugin optimizer for device_type GPU is enabled.\n"
     ]
    },
    {
     "name": "stdout",
     "output_type": "stream",
     "text": [
      "3/3 [==============================] - ETA: 0s - loss: 1.7874 - accuracy: 0.3800"
     ]
    },
    {
     "name": "stderr",
     "output_type": "stream",
     "text": [
      "2024-03-28 22:13:45.761526: I tensorflow/core/grappler/optimizers/custom_graph_optimizer_registry.cc:114] Plugin optimizer for device_type GPU is enabled.\n",
      "2024-03-28 22:13:45.818776: I tensorflow/core/grappler/optimizers/custom_graph_optimizer_registry.cc:114] Plugin optimizer for device_type GPU is enabled.\n"
     ]
    },
    {
     "name": "stdout",
     "output_type": "stream",
     "text": [
      "3/3 [==============================] - 1s 268ms/step - loss: 1.7874 - accuracy: 0.3800 - val_loss: 1.7662 - val_accuracy: 0.5629\n",
      "Epoch 2/10\n",
      "3/3 [==============================] - 0s 65ms/step - loss: 1.7539 - accuracy: 0.6086 - val_loss: 1.7354 - val_accuracy: 0.6625\n",
      "Epoch 3/10\n",
      "3/3 [==============================] - 0s 72ms/step - loss: 1.7218 - accuracy: 0.6747 - val_loss: 1.7041 - val_accuracy: 0.6818\n",
      "Epoch 4/10\n",
      "3/3 [==============================] - 0s 49ms/step - loss: 1.6882 - accuracy: 0.6800 - val_loss: 1.6701 - val_accuracy: 0.6807\n",
      "Epoch 5/10\n",
      "3/3 [==============================] - 0s 51ms/step - loss: 1.6524 - accuracy: 0.6726 - val_loss: 1.6302 - val_accuracy: 0.6716\n",
      "Epoch 6/10\n",
      "3/3 [==============================] - 0s 51ms/step - loss: 1.6077 - accuracy: 0.6633 - val_loss: 1.5788 - val_accuracy: 0.6606\n",
      "Epoch 7/10\n",
      "3/3 [==============================] - 0s 56ms/step - loss: 1.5501 - accuracy: 0.6566 - val_loss: 1.5046 - val_accuracy: 0.6527\n",
      "Epoch 8/10\n",
      "3/3 [==============================] - 0s 43ms/step - loss: 1.4634 - accuracy: 0.6531 - val_loss: 1.3863 - val_accuracy: 0.6500\n",
      "Epoch 9/10\n",
      "3/3 [==============================] - 0s 49ms/step - loss: 1.3225 - accuracy: 0.6501 - val_loss: 1.2039 - val_accuracy: 0.6500\n",
      "Epoch 10/10\n",
      "3/3 [==============================] - 0s 41ms/step - loss: 1.1340 - accuracy: 0.6481 - val_loss: 1.0393 - val_accuracy: 0.6530\n"
     ]
    },
    {
     "name": "stderr",
     "output_type": "stream",
     "text": [
      "2024-03-28 22:13:47.396165: I tensorflow/core/grappler/optimizers/custom_graph_optimizer_registry.cc:114] Plugin optimizer for device_type GPU is enabled.\n",
      "2024-03-28 22:13:47.450561: I tensorflow/core/grappler/optimizers/custom_graph_optimizer_registry.cc:114] Plugin optimizer for device_type GPU is enabled.\n"
     ]
    },
    {
     "name": "stdout",
     "output_type": "stream",
     "text": [
      "1/1 [==============================] - 0s 299ms/step\n",
      "Epoch 1/10\n"
     ]
    },
    {
     "name": "stderr",
     "output_type": "stream",
     "text": [
      "/Users/venessa/Desktop/5342project/venv/lib/python3.8/site-packages/sklearn/metrics/_classification.py:1471: UndefinedMetricWarning: Precision and F-score are ill-defined and being set to 0.0 in labels with no predicted samples. Use `zero_division` parameter to control this behavior.\n",
      "  _warn_prf(average, modifier, msg_start, len(result))\n",
      "/Users/venessa/Desktop/5342project/venv/lib/python3.8/site-packages/keras/src/optimizers/legacy/adam.py:118: UserWarning: The `lr` argument is deprecated, use `learning_rate` instead.\n",
      "  super().__init__(name, **kwargs)\n",
      "2024-03-28 22:13:48.032929: I tensorflow/core/grappler/optimizers/custom_graph_optimizer_registry.cc:114] Plugin optimizer for device_type GPU is enabled.\n",
      "2024-03-28 22:13:48.129536: I tensorflow/core/grappler/optimizers/custom_graph_optimizer_registry.cc:114] Plugin optimizer for device_type GPU is enabled.\n",
      "2024-03-28 22:13:48.322748: I tensorflow/core/grappler/optimizers/custom_graph_optimizer_registry.cc:114] Plugin optimizer for device_type GPU is enabled.\n"
     ]
    },
    {
     "name": "stdout",
     "output_type": "stream",
     "text": [
      "2/3 [===================>..........] - ETA: 0s - loss: 1.7778 - accuracy: 0.3045"
     ]
    },
    {
     "name": "stderr",
     "output_type": "stream",
     "text": [
      "2024-03-28 22:13:49.189209: I tensorflow/core/grappler/optimizers/custom_graph_optimizer_registry.cc:114] Plugin optimizer for device_type GPU is enabled.\n",
      "2024-03-28 22:13:49.250962: I tensorflow/core/grappler/optimizers/custom_graph_optimizer_registry.cc:114] Plugin optimizer for device_type GPU is enabled.\n"
     ]
    },
    {
     "name": "stdout",
     "output_type": "stream",
     "text": [
      "3/3 [==============================] - 2s 446ms/step - loss: 1.7729 - accuracy: 0.3938 - val_loss: 1.7576 - val_accuracy: 0.6553\n",
      "Epoch 2/10\n",
      "3/3 [==============================] - 0s 63ms/step - loss: 1.7465 - accuracy: 0.6503 - val_loss: 1.7323 - val_accuracy: 0.6966\n",
      "Epoch 3/10\n",
      "3/3 [==============================] - 0s 53ms/step - loss: 1.7194 - accuracy: 0.6800 - val_loss: 1.7051 - val_accuracy: 0.6962\n",
      "Epoch 4/10\n",
      "3/3 [==============================] - 0s 59ms/step - loss: 1.6888 - accuracy: 0.6932 - val_loss: 1.6739 - val_accuracy: 0.6867\n",
      "Epoch 5/10\n",
      "3/3 [==============================] - 0s 56ms/step - loss: 1.6525 - accuracy: 0.6979 - val_loss: 1.6352 - val_accuracy: 0.6625\n",
      "Epoch 6/10\n",
      "3/3 [==============================] - 0s 39ms/step - loss: 1.6061 - accuracy: 0.6881 - val_loss: 1.5826 - val_accuracy: 0.6515\n",
      "Epoch 7/10\n",
      "3/3 [==============================] - 0s 39ms/step - loss: 1.5396 - accuracy: 0.6751 - val_loss: 1.5023 - val_accuracy: 0.6447\n",
      "Epoch 8/10\n",
      "3/3 [==============================] - 0s 40ms/step - loss: 1.4386 - accuracy: 0.6594 - val_loss: 1.3671 - val_accuracy: 0.6356\n",
      "Epoch 9/10\n",
      "3/3 [==============================] - 0s 52ms/step - loss: 1.2762 - accuracy: 0.6537 - val_loss: 1.1671 - val_accuracy: 0.6360\n",
      "Epoch 10/10\n",
      "3/3 [==============================] - 0s 37ms/step - loss: 1.0895 - accuracy: 0.6567 - val_loss: 1.0318 - val_accuracy: 0.6424\n",
      "1/1 [==============================] - 0s 265ms/step\n"
     ]
    },
    {
     "name": "stderr",
     "output_type": "stream",
     "text": [
      "2024-03-28 22:13:50.792661: I tensorflow/core/grappler/optimizers/custom_graph_optimizer_registry.cc:114] Plugin optimizer for device_type GPU is enabled.\n",
      "2024-03-28 22:13:50.832211: I tensorflow/core/grappler/optimizers/custom_graph_optimizer_registry.cc:114] Plugin optimizer for device_type GPU is enabled.\n",
      "/Users/venessa/Desktop/5342project/venv/lib/python3.8/site-packages/sklearn/metrics/_classification.py:1471: UndefinedMetricWarning: Precision and F-score are ill-defined and being set to 0.0 in labels with no predicted samples. Use `zero_division` parameter to control this behavior.\n",
      "  _warn_prf(average, modifier, msg_start, len(result))\n"
     ]
    },
    {
     "name": "stdout",
     "output_type": "stream",
     "text": [
      "Epoch 1/10\n"
     ]
    },
    {
     "name": "stderr",
     "output_type": "stream",
     "text": [
      "/Users/venessa/Desktop/5342project/venv/lib/python3.8/site-packages/keras/src/optimizers/legacy/adam.py:118: UserWarning: The `lr` argument is deprecated, use `learning_rate` instead.\n",
      "  super().__init__(name, **kwargs)\n",
      "2024-03-28 22:13:51.393166: I tensorflow/core/grappler/optimizers/custom_graph_optimizer_registry.cc:114] Plugin optimizer for device_type GPU is enabled.\n",
      "2024-03-28 22:13:51.505468: I tensorflow/core/grappler/optimizers/custom_graph_optimizer_registry.cc:114] Plugin optimizer for device_type GPU is enabled.\n",
      "2024-03-28 22:13:51.697442: I tensorflow/core/grappler/optimizers/custom_graph_optimizer_registry.cc:114] Plugin optimizer for device_type GPU is enabled.\n"
     ]
    },
    {
     "name": "stdout",
     "output_type": "stream",
     "text": [
      "3/3 [==============================] - ETA: 0s - loss: 1.7980 - accuracy: 0.3842"
     ]
    },
    {
     "name": "stderr",
     "output_type": "stream",
     "text": [
      "2024-03-28 22:13:52.175186: I tensorflow/core/grappler/optimizers/custom_graph_optimizer_registry.cc:114] Plugin optimizer for device_type GPU is enabled.\n",
      "2024-03-28 22:13:52.227391: I tensorflow/core/grappler/optimizers/custom_graph_optimizer_registry.cc:114] Plugin optimizer for device_type GPU is enabled.\n"
     ]
    },
    {
     "name": "stdout",
     "output_type": "stream",
     "text": [
      "3/3 [==============================] - 1s 254ms/step - loss: 1.7980 - accuracy: 0.3842 - val_loss: 1.7802 - val_accuracy: 0.6110\n",
      "Epoch 2/10\n",
      "3/3 [==============================] - 0s 63ms/step - loss: 1.7700 - accuracy: 0.6175 - val_loss: 1.7535 - val_accuracy: 0.6545\n",
      "Epoch 3/10\n",
      "3/3 [==============================] - 0s 66ms/step - loss: 1.7423 - accuracy: 0.6588 - val_loss: 1.7247 - val_accuracy: 0.6580\n",
      "Epoch 4/10\n",
      "3/3 [==============================] - 0s 48ms/step - loss: 1.7117 - accuracy: 0.6750 - val_loss: 1.6907 - val_accuracy: 0.6610\n",
      "Epoch 5/10\n",
      "3/3 [==============================] - 0s 48ms/step - loss: 1.6744 - accuracy: 0.6797 - val_loss: 1.6440 - val_accuracy: 0.6598\n",
      "Epoch 6/10\n",
      "3/3 [==============================] - 0s 41ms/step - loss: 1.6217 - accuracy: 0.6769 - val_loss: 1.5718 - val_accuracy: 0.6564\n",
      "Epoch 7/10\n",
      "3/3 [==============================] - 0s 39ms/step - loss: 1.5378 - accuracy: 0.6655 - val_loss: 1.4469 - val_accuracy: 0.6523\n",
      "Epoch 8/10\n",
      "3/3 [==============================] - 0s 71ms/step - loss: 1.3919 - accuracy: 0.6538 - val_loss: 1.2571 - val_accuracy: 0.6633\n",
      "Epoch 9/10\n",
      "3/3 [==============================] - 0s 59ms/step - loss: 1.2138 - accuracy: 0.6473 - val_loss: 1.0929 - val_accuracy: 0.6629\n",
      "Epoch 10/10\n",
      "3/3 [==============================] - 0s 39ms/step - loss: 1.0796 - accuracy: 0.6463 - val_loss: 0.9995 - val_accuracy: 0.6652\n",
      "1/1 [==============================] - 0s 266ms/step\n"
     ]
    },
    {
     "name": "stderr",
     "output_type": "stream",
     "text": [
      "2024-03-28 22:13:53.790559: I tensorflow/core/grappler/optimizers/custom_graph_optimizer_registry.cc:114] Plugin optimizer for device_type GPU is enabled.\n",
      "2024-03-28 22:13:53.830436: I tensorflow/core/grappler/optimizers/custom_graph_optimizer_registry.cc:114] Plugin optimizer for device_type GPU is enabled.\n",
      "/Users/venessa/Desktop/5342project/venv/lib/python3.8/site-packages/sklearn/metrics/_classification.py:1471: UndefinedMetricWarning: Precision and F-score are ill-defined and being set to 0.0 in labels with no predicted samples. Use `zero_division` parameter to control this behavior.\n",
      "  _warn_prf(average, modifier, msg_start, len(result))\n"
     ]
    },
    {
     "name": "stdout",
     "output_type": "stream",
     "text": [
      "Epoch 1/10\n"
     ]
    },
    {
     "name": "stderr",
     "output_type": "stream",
     "text": [
      "/Users/venessa/Desktop/5342project/venv/lib/python3.8/site-packages/keras/src/optimizers/legacy/adam.py:118: UserWarning: The `lr` argument is deprecated, use `learning_rate` instead.\n",
      "  super().__init__(name, **kwargs)\n",
      "2024-03-28 22:13:54.402368: I tensorflow/core/grappler/optimizers/custom_graph_optimizer_registry.cc:114] Plugin optimizer for device_type GPU is enabled.\n",
      "2024-03-28 22:13:54.501073: I tensorflow/core/grappler/optimizers/custom_graph_optimizer_registry.cc:114] Plugin optimizer for device_type GPU is enabled.\n",
      "2024-03-28 22:13:54.704150: I tensorflow/core/grappler/optimizers/custom_graph_optimizer_registry.cc:114] Plugin optimizer for device_type GPU is enabled.\n"
     ]
    },
    {
     "name": "stdout",
     "output_type": "stream",
     "text": [
      "3/3 [==============================] - ETA: 0s - loss: 1.7818 - accuracy: 0.3683"
     ]
    },
    {
     "name": "stderr",
     "output_type": "stream",
     "text": [
      "2024-03-28 22:13:55.202618: I tensorflow/core/grappler/optimizers/custom_graph_optimizer_registry.cc:114] Plugin optimizer for device_type GPU is enabled.\n",
      "2024-03-28 22:13:55.253437: I tensorflow/core/grappler/optimizers/custom_graph_optimizer_registry.cc:114] Plugin optimizer for device_type GPU is enabled.\n"
     ]
    },
    {
     "name": "stdout",
     "output_type": "stream",
     "text": [
      "3/3 [==============================] - 1s 250ms/step - loss: 1.7818 - accuracy: 0.3683 - val_loss: 1.7673 - val_accuracy: 0.5273\n",
      "Epoch 2/10\n",
      "3/3 [==============================] - 0s 69ms/step - loss: 1.7551 - accuracy: 0.6217 - val_loss: 1.7397 - val_accuracy: 0.6121\n",
      "Epoch 3/10\n",
      "3/3 [==============================] - 0s 66ms/step - loss: 1.7297 - accuracy: 0.6730 - val_loss: 1.7127 - val_accuracy: 0.6727\n",
      "Epoch 4/10\n",
      "3/3 [==============================] - 0s 49ms/step - loss: 1.7032 - accuracy: 0.7052 - val_loss: 1.6845 - val_accuracy: 0.6830\n",
      "Epoch 5/10\n",
      "3/3 [==============================] - 0s 49ms/step - loss: 1.6752 - accuracy: 0.7124 - val_loss: 1.6537 - val_accuracy: 0.6879\n",
      "Epoch 6/10\n",
      "3/3 [==============================] - 0s 47ms/step - loss: 1.6434 - accuracy: 0.7154 - val_loss: 1.6196 - val_accuracy: 0.6898\n",
      "Epoch 7/10\n",
      "3/3 [==============================] - 0s 51ms/step - loss: 1.6064 - accuracy: 0.7118 - val_loss: 1.5806 - val_accuracy: 0.6902\n",
      "Epoch 8/10\n",
      "3/3 [==============================] - 0s 39ms/step - loss: 1.5628 - accuracy: 0.7089 - val_loss: 1.5308 - val_accuracy: 0.6902\n",
      "Epoch 9/10\n",
      "3/3 [==============================] - 0s 40ms/step - loss: 1.5063 - accuracy: 0.7078 - val_loss: 1.4651 - val_accuracy: 0.6932\n",
      "Epoch 10/10\n",
      "3/3 [==============================] - 0s 40ms/step - loss: 1.4323 - accuracy: 0.7041 - val_loss: 1.3748 - val_accuracy: 0.6875\n",
      "1/1 [==============================] - 0s 272ms/step\n"
     ]
    },
    {
     "name": "stderr",
     "output_type": "stream",
     "text": [
      "2024-03-28 22:13:56.769673: I tensorflow/core/grappler/optimizers/custom_graph_optimizer_registry.cc:114] Plugin optimizer for device_type GPU is enabled.\n",
      "2024-03-28 22:13:56.809706: I tensorflow/core/grappler/optimizers/custom_graph_optimizer_registry.cc:114] Plugin optimizer for device_type GPU is enabled.\n",
      "/Users/venessa/Desktop/5342project/venv/lib/python3.8/site-packages/sklearn/metrics/_classification.py:1471: UndefinedMetricWarning: Precision and F-score are ill-defined and being set to 0.0 in labels with no predicted samples. Use `zero_division` parameter to control this behavior.\n",
      "  _warn_prf(average, modifier, msg_start, len(result))\n"
     ]
    },
    {
     "name": "stdout",
     "output_type": "stream",
     "text": [
      "Epoch 1/10\n"
     ]
    },
    {
     "name": "stderr",
     "output_type": "stream",
     "text": [
      "/Users/venessa/Desktop/5342project/venv/lib/python3.8/site-packages/keras/src/optimizers/legacy/adam.py:118: UserWarning: The `lr` argument is deprecated, use `learning_rate` instead.\n",
      "  super().__init__(name, **kwargs)\n",
      "2024-03-28 22:13:57.390702: I tensorflow/core/grappler/optimizers/custom_graph_optimizer_registry.cc:114] Plugin optimizer for device_type GPU is enabled.\n",
      "2024-03-28 22:13:57.489000: I tensorflow/core/grappler/optimizers/custom_graph_optimizer_registry.cc:114] Plugin optimizer for device_type GPU is enabled.\n",
      "2024-03-28 22:13:57.701307: I tensorflow/core/grappler/optimizers/custom_graph_optimizer_registry.cc:114] Plugin optimizer for device_type GPU is enabled.\n"
     ]
    },
    {
     "name": "stdout",
     "output_type": "stream",
     "text": [
      "3/3 [==============================] - ETA: 0s - loss: 1.7771 - accuracy: 0.4352"
     ]
    },
    {
     "name": "stderr",
     "output_type": "stream",
     "text": [
      "2024-03-28 22:13:58.173504: I tensorflow/core/grappler/optimizers/custom_graph_optimizer_registry.cc:114] Plugin optimizer for device_type GPU is enabled.\n",
      "2024-03-28 22:13:58.224436: I tensorflow/core/grappler/optimizers/custom_graph_optimizer_registry.cc:114] Plugin optimizer for device_type GPU is enabled.\n"
     ]
    },
    {
     "name": "stdout",
     "output_type": "stream",
     "text": [
      "3/3 [==============================] - 1s 238ms/step - loss: 1.7771 - accuracy: 0.4352 - val_loss: 1.7566 - val_accuracy: 0.6220\n",
      "Epoch 2/10\n",
      "3/3 [==============================] - 0s 79ms/step - loss: 1.7447 - accuracy: 0.6093 - val_loss: 1.7339 - val_accuracy: 0.6333\n",
      "Epoch 3/10\n",
      "3/3 [==============================] - 0s 58ms/step - loss: 1.7124 - accuracy: 0.6275 - val_loss: 1.7098 - val_accuracy: 0.6409\n",
      "Epoch 4/10\n",
      "3/3 [==============================] - 0s 65ms/step - loss: 1.6786 - accuracy: 0.6374 - val_loss: 1.6814 - val_accuracy: 0.6473\n",
      "Epoch 5/10\n",
      "3/3 [==============================] - 0s 47ms/step - loss: 1.6391 - accuracy: 0.6417 - val_loss: 1.6439 - val_accuracy: 0.6473\n",
      "Epoch 6/10\n",
      "3/3 [==============================] - 0s 48ms/step - loss: 1.5870 - accuracy: 0.6416 - val_loss: 1.5846 - val_accuracy: 0.6420\n",
      "Epoch 7/10\n",
      "3/3 [==============================] - 0s 49ms/step - loss: 1.5108 - accuracy: 0.6402 - val_loss: 1.4758 - val_accuracy: 0.6390\n",
      "Epoch 8/10\n",
      "3/3 [==============================] - 0s 45ms/step - loss: 1.3722 - accuracy: 0.6387 - val_loss: 1.2881 - val_accuracy: 0.6307\n",
      "Epoch 9/10\n",
      "3/3 [==============================] - 0s 47ms/step - loss: 1.1908 - accuracy: 0.6385 - val_loss: 1.1394 - val_accuracy: 0.6295\n",
      "Epoch 10/10\n",
      "3/3 [==============================] - 0s 37ms/step - loss: 1.0705 - accuracy: 0.6403 - val_loss: 1.0549 - val_accuracy: 0.6318\n",
      "1/1 [==============================] - 0s 258ms/step\n",
      "K-Fold Cross-Validation Results (5 folds):\n",
      "Average Accuracy: 0.6560 ± 0.0193\n",
      "Average Precision: 0.3863 ± 0.0632\n",
      "Average Recall: 0.3021 ± 0.0488\n",
      "Average F1-Score: 0.2980 ± 0.0476\n"
     ]
    },
    {
     "name": "stderr",
     "output_type": "stream",
     "text": [
      "2024-03-28 22:13:59.776665: I tensorflow/core/grappler/optimizers/custom_graph_optimizer_registry.cc:114] Plugin optimizer for device_type GPU is enabled.\n",
      "2024-03-28 22:13:59.815725: I tensorflow/core/grappler/optimizers/custom_graph_optimizer_registry.cc:114] Plugin optimizer for device_type GPU is enabled.\n",
      "/Users/venessa/Desktop/5342project/venv/lib/python3.8/site-packages/sklearn/metrics/_classification.py:1471: UndefinedMetricWarning: Precision and F-score are ill-defined and being set to 0.0 in labels with no predicted samples. Use `zero_division` parameter to control this behavior.\n",
      "  _warn_prf(average, modifier, msg_start, len(result))\n"
     ]
    }
   ],
   "source": [
    "# Try with just audio data\n",
    "cross_val_training(EarlyFusionModel, train_audio, train_label, num_folds=5, epochs=10, batch_size=32)"
   ]
  },
  {
   "cell_type": "code",
   "execution_count": 40,
   "metadata": {},
   "outputs": [
    {
     "name": "stdout",
     "output_type": "stream",
     "text": [
      "Epoch 1/10\n"
     ]
    },
    {
     "name": "stderr",
     "output_type": "stream",
     "text": [
      "/Users/venessa/Desktop/5342project/venv/lib/python3.8/site-packages/keras/src/optimizers/legacy/adam.py:118: UserWarning: The `lr` argument is deprecated, use `learning_rate` instead.\n",
      "  super().__init__(name, **kwargs)\n",
      "2024-03-28 22:14:17.309190: I tensorflow/core/grappler/optimizers/custom_graph_optimizer_registry.cc:114] Plugin optimizer for device_type GPU is enabled.\n",
      "2024-03-28 22:14:17.427681: I tensorflow/core/grappler/optimizers/custom_graph_optimizer_registry.cc:114] Plugin optimizer for device_type GPU is enabled.\n",
      "2024-03-28 22:14:17.634722: I tensorflow/core/grappler/optimizers/custom_graph_optimizer_registry.cc:114] Plugin optimizer for device_type GPU is enabled.\n"
     ]
    },
    {
     "name": "stdout",
     "output_type": "stream",
     "text": [
      "2/3 [===================>..........] - ETA: 0s - loss: 1.7906 - accuracy: 0.3317"
     ]
    },
    {
     "name": "stderr",
     "output_type": "stream",
     "text": [
      "2024-03-28 22:14:18.127014: I tensorflow/core/grappler/optimizers/custom_graph_optimizer_registry.cc:114] Plugin optimizer for device_type GPU is enabled.\n",
      "2024-03-28 22:14:18.180002: I tensorflow/core/grappler/optimizers/custom_graph_optimizer_registry.cc:114] Plugin optimizer for device_type GPU is enabled.\n"
     ]
    },
    {
     "name": "stdout",
     "output_type": "stream",
     "text": [
      "3/3 [==============================] - 1s 251ms/step - loss: 1.7865 - accuracy: 0.4255 - val_loss: 1.7699 - val_accuracy: 0.5678\n",
      "Epoch 2/10\n",
      "3/3 [==============================] - 0s 73ms/step - loss: 1.7632 - accuracy: 0.6058 - val_loss: 1.7430 - val_accuracy: 0.5678\n",
      "Epoch 3/10\n",
      "3/3 [==============================] - 0s 49ms/step - loss: 1.7353 - accuracy: 0.6058 - val_loss: 1.7081 - val_accuracy: 0.5678\n",
      "Epoch 4/10\n",
      "3/3 [==============================] - 0s 73ms/step - loss: 1.6951 - accuracy: 0.6059 - val_loss: 1.6578 - val_accuracy: 0.5682\n",
      "Epoch 5/10\n",
      "3/3 [==============================] - 0s 53ms/step - loss: 1.6322 - accuracy: 0.6060 - val_loss: 1.5756 - val_accuracy: 0.5682\n",
      "Epoch 6/10\n",
      "3/3 [==============================] - 0s 72ms/step - loss: 1.5258 - accuracy: 0.6063 - val_loss: 1.4339 - val_accuracy: 0.5686\n",
      "Epoch 7/10\n",
      "3/3 [==============================] - 0s 51ms/step - loss: 1.3435 - accuracy: 0.6074 - val_loss: 1.2698 - val_accuracy: 0.5746\n",
      "Epoch 8/10\n",
      "3/3 [==============================] - 0s 47ms/step - loss: 1.1798 - accuracy: 0.6101 - val_loss: 1.1946 - val_accuracy: 0.5807\n",
      "Epoch 9/10\n",
      "3/3 [==============================] - 0s 51ms/step - loss: 1.1036 - accuracy: 0.6142 - val_loss: 1.1258 - val_accuracy: 0.5894\n",
      "Epoch 10/10\n",
      "3/3 [==============================] - 0s 40ms/step - loss: 1.0179 - accuracy: 0.6238 - val_loss: 0.9994 - val_accuracy: 0.6364\n",
      "1/1 [==============================] - 0s 253ms/step\n"
     ]
    },
    {
     "name": "stderr",
     "output_type": "stream",
     "text": [
      "2024-03-28 22:14:19.807104: I tensorflow/core/grappler/optimizers/custom_graph_optimizer_registry.cc:114] Plugin optimizer for device_type GPU is enabled.\n",
      "2024-03-28 22:14:19.845616: I tensorflow/core/grappler/optimizers/custom_graph_optimizer_registry.cc:114] Plugin optimizer for device_type GPU is enabled.\n",
      "/Users/venessa/Desktop/5342project/venv/lib/python3.8/site-packages/sklearn/metrics/_classification.py:1471: UndefinedMetricWarning: Precision and F-score are ill-defined and being set to 0.0 in labels with no predicted samples. Use `zero_division` parameter to control this behavior.\n",
      "  _warn_prf(average, modifier, msg_start, len(result))\n"
     ]
    },
    {
     "name": "stdout",
     "output_type": "stream",
     "text": [
      "Epoch 1/10\n"
     ]
    },
    {
     "name": "stderr",
     "output_type": "stream",
     "text": [
      "/Users/venessa/Desktop/5342project/venv/lib/python3.8/site-packages/keras/src/optimizers/legacy/adam.py:118: UserWarning: The `lr` argument is deprecated, use `learning_rate` instead.\n",
      "  super().__init__(name, **kwargs)\n",
      "2024-03-28 22:14:20.463561: I tensorflow/core/grappler/optimizers/custom_graph_optimizer_registry.cc:114] Plugin optimizer for device_type GPU is enabled.\n",
      "2024-03-28 22:14:20.563110: I tensorflow/core/grappler/optimizers/custom_graph_optimizer_registry.cc:114] Plugin optimizer for device_type GPU is enabled.\n",
      "2024-03-28 22:14:20.745286: I tensorflow/core/grappler/optimizers/custom_graph_optimizer_registry.cc:114] Plugin optimizer for device_type GPU is enabled.\n"
     ]
    },
    {
     "name": "stdout",
     "output_type": "stream",
     "text": [
      "3/3 [==============================] - ETA: 0s - loss: 1.7855 - accuracy: 0.4531"
     ]
    },
    {
     "name": "stderr",
     "output_type": "stream",
     "text": [
      "2024-03-28 22:14:21.249252: I tensorflow/core/grappler/optimizers/custom_graph_optimizer_registry.cc:114] Plugin optimizer for device_type GPU is enabled.\n",
      "2024-03-28 22:14:21.300294: I tensorflow/core/grappler/optimizers/custom_graph_optimizer_registry.cc:114] Plugin optimizer for device_type GPU is enabled.\n"
     ]
    },
    {
     "name": "stdout",
     "output_type": "stream",
     "text": [
      "3/3 [==============================] - 1s 255ms/step - loss: 1.7855 - accuracy: 0.4531 - val_loss: 1.7738 - val_accuracy: 0.6110\n",
      "Epoch 2/10\n",
      "3/3 [==============================] - 0s 77ms/step - loss: 1.7674 - accuracy: 0.6105 - val_loss: 1.7535 - val_accuracy: 0.6117\n",
      "Epoch 3/10\n",
      "3/3 [==============================] - 0s 54ms/step - loss: 1.7449 - accuracy: 0.6073 - val_loss: 1.7269 - val_accuracy: 0.6102\n",
      "Epoch 4/10\n",
      "3/3 [==============================] - 0s 48ms/step - loss: 1.7141 - accuracy: 0.6045 - val_loss: 1.6880 - val_accuracy: 0.6083\n",
      "Epoch 5/10\n",
      "3/3 [==============================] - 0s 39ms/step - loss: 1.6654 - accuracy: 0.6038 - val_loss: 1.6246 - val_accuracy: 0.6080\n",
      "Epoch 6/10\n",
      "3/3 [==============================] - 0s 52ms/step - loss: 1.5865 - accuracy: 0.6044 - val_loss: 1.5136 - val_accuracy: 0.6076\n",
      "Epoch 7/10\n",
      "3/3 [==============================] - 0s 39ms/step - loss: 1.4516 - accuracy: 0.6062 - val_loss: 1.3485 - val_accuracy: 0.6072\n",
      "Epoch 8/10\n",
      "3/3 [==============================] - 0s 49ms/step - loss: 1.2963 - accuracy: 0.6065 - val_loss: 1.2140 - val_accuracy: 0.6076\n",
      "Epoch 9/10\n",
      "3/3 [==============================] - 0s 48ms/step - loss: 1.1853 - accuracy: 0.6072 - val_loss: 1.1316 - val_accuracy: 0.6095\n",
      "Epoch 10/10\n",
      "3/3 [==============================] - 0s 44ms/step - loss: 1.1116 - accuracy: 0.6120 - val_loss: 1.0638 - val_accuracy: 0.6129\n",
      "1/1 [==============================] - 0s 262ms/step\n"
     ]
    },
    {
     "name": "stderr",
     "output_type": "stream",
     "text": [
      "2024-03-28 22:14:22.808925: I tensorflow/core/grappler/optimizers/custom_graph_optimizer_registry.cc:114] Plugin optimizer for device_type GPU is enabled.\n",
      "2024-03-28 22:14:22.849328: I tensorflow/core/grappler/optimizers/custom_graph_optimizer_registry.cc:114] Plugin optimizer for device_type GPU is enabled.\n",
      "/Users/venessa/Desktop/5342project/venv/lib/python3.8/site-packages/sklearn/metrics/_classification.py:1471: UndefinedMetricWarning: Precision and F-score are ill-defined and being set to 0.0 in labels with no predicted samples. Use `zero_division` parameter to control this behavior.\n",
      "  _warn_prf(average, modifier, msg_start, len(result))\n"
     ]
    },
    {
     "name": "stdout",
     "output_type": "stream",
     "text": [
      "Epoch 1/10\n"
     ]
    },
    {
     "name": "stderr",
     "output_type": "stream",
     "text": [
      "/Users/venessa/Desktop/5342project/venv/lib/python3.8/site-packages/keras/src/optimizers/legacy/adam.py:118: UserWarning: The `lr` argument is deprecated, use `learning_rate` instead.\n",
      "  super().__init__(name, **kwargs)\n",
      "2024-03-28 22:14:24.019744: I tensorflow/core/grappler/optimizers/custom_graph_optimizer_registry.cc:114] Plugin optimizer for device_type GPU is enabled.\n",
      "2024-03-28 22:14:24.146538: I tensorflow/core/grappler/optimizers/custom_graph_optimizer_registry.cc:114] Plugin optimizer for device_type GPU is enabled.\n",
      "2024-03-28 22:14:24.339063: I tensorflow/core/grappler/optimizers/custom_graph_optimizer_registry.cc:114] Plugin optimizer for device_type GPU is enabled.\n"
     ]
    },
    {
     "name": "stdout",
     "output_type": "stream",
     "text": [
      "3/3 [==============================] - ETA: 0s - loss: 1.7868 - accuracy: 0.4630"
     ]
    },
    {
     "name": "stderr",
     "output_type": "stream",
     "text": [
      "2024-03-28 22:14:24.835050: I tensorflow/core/grappler/optimizers/custom_graph_optimizer_registry.cc:114] Plugin optimizer for device_type GPU is enabled.\n",
      "2024-03-28 22:14:24.886577: I tensorflow/core/grappler/optimizers/custom_graph_optimizer_registry.cc:114] Plugin optimizer for device_type GPU is enabled.\n"
     ]
    },
    {
     "name": "stdout",
     "output_type": "stream",
     "text": [
      "3/3 [==============================] - 2s 246ms/step - loss: 1.7868 - accuracy: 0.4630 - val_loss: 1.7746 - val_accuracy: 0.6337\n",
      "Epoch 2/10\n",
      "3/3 [==============================] - 0s 67ms/step - loss: 1.7698 - accuracy: 0.6098 - val_loss: 1.7564 - val_accuracy: 0.6545\n",
      "Epoch 3/10\n",
      "3/3 [==============================] - 0s 59ms/step - loss: 1.7533 - accuracy: 0.6238 - val_loss: 1.7351 - val_accuracy: 0.6633\n",
      "Epoch 4/10\n",
      "3/3 [==============================] - 0s 56ms/step - loss: 1.7316 - accuracy: 0.6326 - val_loss: 1.7081 - val_accuracy: 0.6735\n",
      "Epoch 5/10\n",
      "3/3 [==============================] - 0s 49ms/step - loss: 1.7036 - accuracy: 0.6425 - val_loss: 1.6698 - val_accuracy: 0.6845\n",
      "Epoch 6/10\n",
      "3/3 [==============================] - 0s 49ms/step - loss: 1.6630 - accuracy: 0.6558 - val_loss: 1.6083 - val_accuracy: 0.6977\n",
      "Epoch 7/10\n",
      "3/3 [==============================] - 0s 51ms/step - loss: 1.5989 - accuracy: 0.6556 - val_loss: 1.4979 - val_accuracy: 0.6830\n",
      "Epoch 8/10\n",
      "3/3 [==============================] - 0s 48ms/step - loss: 1.4833 - accuracy: 0.6272 - val_loss: 1.3007 - val_accuracy: 0.6758\n",
      "Epoch 9/10\n",
      "3/3 [==============================] - 0s 42ms/step - loss: 1.3086 - accuracy: 0.6147 - val_loss: 1.1299 - val_accuracy: 0.6705\n",
      "Epoch 10/10\n",
      "3/3 [==============================] - 0s 47ms/step - loss: 1.2177 - accuracy: 0.6101 - val_loss: 1.0519 - val_accuracy: 0.6693\n",
      "1/1 [==============================] - 0s 280ms/step\n"
     ]
    },
    {
     "name": "stderr",
     "output_type": "stream",
     "text": [
      "2024-03-28 22:14:26.440712: I tensorflow/core/grappler/optimizers/custom_graph_optimizer_registry.cc:114] Plugin optimizer for device_type GPU is enabled.\n",
      "2024-03-28 22:14:26.481059: I tensorflow/core/grappler/optimizers/custom_graph_optimizer_registry.cc:114] Plugin optimizer for device_type GPU is enabled.\n",
      "/Users/venessa/Desktop/5342project/venv/lib/python3.8/site-packages/sklearn/metrics/_classification.py:1471: UndefinedMetricWarning: Precision and F-score are ill-defined and being set to 0.0 in labels with no predicted samples. Use `zero_division` parameter to control this behavior.\n",
      "  _warn_prf(average, modifier, msg_start, len(result))\n"
     ]
    },
    {
     "name": "stdout",
     "output_type": "stream",
     "text": [
      "Epoch 1/10\n"
     ]
    },
    {
     "name": "stderr",
     "output_type": "stream",
     "text": [
      "/Users/venessa/Desktop/5342project/venv/lib/python3.8/site-packages/keras/src/optimizers/legacy/adam.py:118: UserWarning: The `lr` argument is deprecated, use `learning_rate` instead.\n",
      "  super().__init__(name, **kwargs)\n",
      "2024-03-28 22:14:27.101429: I tensorflow/core/grappler/optimizers/custom_graph_optimizer_registry.cc:114] Plugin optimizer for device_type GPU is enabled.\n",
      "2024-03-28 22:14:27.204259: I tensorflow/core/grappler/optimizers/custom_graph_optimizer_registry.cc:114] Plugin optimizer for device_type GPU is enabled.\n",
      "2024-03-28 22:14:27.400641: I tensorflow/core/grappler/optimizers/custom_graph_optimizer_registry.cc:114] Plugin optimizer for device_type GPU is enabled.\n"
     ]
    },
    {
     "name": "stdout",
     "output_type": "stream",
     "text": [
      "3/3 [==============================] - ETA: 0s - loss: 1.7870 - accuracy: 0.4534"
     ]
    },
    {
     "name": "stderr",
     "output_type": "stream",
     "text": [
      "2024-03-28 22:14:27.896983: I tensorflow/core/grappler/optimizers/custom_graph_optimizer_registry.cc:114] Plugin optimizer for device_type GPU is enabled.\n",
      "2024-03-28 22:14:27.949467: I tensorflow/core/grappler/optimizers/custom_graph_optimizer_registry.cc:114] Plugin optimizer for device_type GPU is enabled.\n"
     ]
    },
    {
     "name": "stdout",
     "output_type": "stream",
     "text": [
      "3/3 [==============================] - 1s 260ms/step - loss: 1.7870 - accuracy: 0.4534 - val_loss: 1.7771 - val_accuracy: 0.6500\n",
      "Epoch 2/10\n",
      "3/3 [==============================] - 0s 64ms/step - loss: 1.7706 - accuracy: 0.6752 - val_loss: 1.7622 - val_accuracy: 0.6523\n",
      "Epoch 3/10\n",
      "3/3 [==============================] - 0s 66ms/step - loss: 1.7526 - accuracy: 0.6774 - val_loss: 1.7447 - val_accuracy: 0.6549\n",
      "Epoch 4/10\n",
      "3/3 [==============================] - 0s 43ms/step - loss: 1.7317 - accuracy: 0.6801 - val_loss: 1.7224 - val_accuracy: 0.6568\n",
      "Epoch 5/10\n",
      "3/3 [==============================] - 0s 41ms/step - loss: 1.7046 - accuracy: 0.6806 - val_loss: 1.6920 - val_accuracy: 0.6769\n",
      "Epoch 6/10\n",
      "3/3 [==============================] - 0s 57ms/step - loss: 1.6704 - accuracy: 0.6833 - val_loss: 1.6468 - val_accuracy: 0.6614\n",
      "Epoch 7/10\n",
      "3/3 [==============================] - 0s 49ms/step - loss: 1.6168 - accuracy: 0.6491 - val_loss: 1.5715 - val_accuracy: 0.6348\n",
      "Epoch 8/10\n",
      "3/3 [==============================] - 0s 59ms/step - loss: 1.5271 - accuracy: 0.6202 - val_loss: 1.4373 - val_accuracy: 0.6254\n",
      "Epoch 9/10\n",
      "3/3 [==============================] - 0s 43ms/step - loss: 1.3780 - accuracy: 0.6118 - val_loss: 1.2323 - val_accuracy: 0.6250\n",
      "Epoch 10/10\n",
      "3/3 [==============================] - 0s 42ms/step - loss: 1.1810 - accuracy: 0.6114 - val_loss: 1.0598 - val_accuracy: 0.6280\n",
      "1/1 [==============================] - 0s 265ms/step\n"
     ]
    },
    {
     "name": "stderr",
     "output_type": "stream",
     "text": [
      "2024-03-28 22:14:29.534049: I tensorflow/core/grappler/optimizers/custom_graph_optimizer_registry.cc:114] Plugin optimizer for device_type GPU is enabled.\n",
      "2024-03-28 22:14:29.573829: I tensorflow/core/grappler/optimizers/custom_graph_optimizer_registry.cc:114] Plugin optimizer for device_type GPU is enabled.\n",
      "/Users/venessa/Desktop/5342project/venv/lib/python3.8/site-packages/sklearn/metrics/_classification.py:1471: UndefinedMetricWarning: Precision and F-score are ill-defined and being set to 0.0 in labels with no predicted samples. Use `zero_division` parameter to control this behavior.\n",
      "  _warn_prf(average, modifier, msg_start, len(result))\n"
     ]
    },
    {
     "name": "stdout",
     "output_type": "stream",
     "text": [
      "Epoch 1/10\n"
     ]
    },
    {
     "name": "stderr",
     "output_type": "stream",
     "text": [
      "/Users/venessa/Desktop/5342project/venv/lib/python3.8/site-packages/keras/src/optimizers/legacy/adam.py:118: UserWarning: The `lr` argument is deprecated, use `learning_rate` instead.\n",
      "  super().__init__(name, **kwargs)\n",
      "2024-03-28 22:14:30.164568: I tensorflow/core/grappler/optimizers/custom_graph_optimizer_registry.cc:114] Plugin optimizer for device_type GPU is enabled.\n",
      "2024-03-28 22:14:30.266581: I tensorflow/core/grappler/optimizers/custom_graph_optimizer_registry.cc:114] Plugin optimizer for device_type GPU is enabled.\n",
      "2024-03-28 22:14:30.518897: I tensorflow/core/grappler/optimizers/custom_graph_optimizer_registry.cc:114] Plugin optimizer for device_type GPU is enabled.\n"
     ]
    },
    {
     "name": "stdout",
     "output_type": "stream",
     "text": [
      "2/3 [===================>..........] - ETA: 0s - loss: 1.7914 - accuracy: 0.3643"
     ]
    },
    {
     "name": "stderr",
     "output_type": "stream",
     "text": [
      "2024-03-28 22:14:30.990866: I tensorflow/core/grappler/optimizers/custom_graph_optimizer_registry.cc:114] Plugin optimizer for device_type GPU is enabled.\n",
      "2024-03-28 22:14:31.041922: I tensorflow/core/grappler/optimizers/custom_graph_optimizer_registry.cc:114] Plugin optimizer for device_type GPU is enabled.\n"
     ]
    },
    {
     "name": "stdout",
     "output_type": "stream",
     "text": [
      "3/3 [==============================] - 1s 241ms/step - loss: 1.7877 - accuracy: 0.4453 - val_loss: 1.7776 - val_accuracy: 0.5636\n",
      "Epoch 2/10\n",
      "3/3 [==============================] - 0s 81ms/step - loss: 1.7674 - accuracy: 0.6128 - val_loss: 1.7607 - val_accuracy: 0.5833\n",
      "Epoch 3/10\n",
      "3/3 [==============================] - 0s 57ms/step - loss: 1.7453 - accuracy: 0.6449 - val_loss: 1.7411 - val_accuracy: 0.6148\n",
      "Epoch 4/10\n",
      "3/3 [==============================] - 0s 83ms/step - loss: 1.7189 - accuracy: 0.6734 - val_loss: 1.7172 - val_accuracy: 0.6235\n",
      "Epoch 5/10\n",
      "3/3 [==============================] - 0s 65ms/step - loss: 1.6864 - accuracy: 0.6700 - val_loss: 1.6854 - val_accuracy: 0.6098\n",
      "Epoch 6/10\n",
      "3/3 [==============================] - 0s 54ms/step - loss: 1.6420 - accuracy: 0.6518 - val_loss: 1.6386 - val_accuracy: 0.5856\n",
      "Epoch 7/10\n",
      "3/3 [==============================] - 0s 59ms/step - loss: 1.5760 - accuracy: 0.6356 - val_loss: 1.5629 - val_accuracy: 0.5742\n",
      "Epoch 8/10\n",
      "3/3 [==============================] - 0s 40ms/step - loss: 1.4699 - accuracy: 0.6299 - val_loss: 1.4355 - val_accuracy: 0.5742\n",
      "Epoch 9/10\n",
      "3/3 [==============================] - 0s 50ms/step - loss: 1.2970 - accuracy: 0.6291 - val_loss: 1.2663 - val_accuracy: 0.5765\n",
      "Epoch 10/10\n",
      "3/3 [==============================] - 0s 44ms/step - loss: 1.1143 - accuracy: 0.6327 - val_loss: 1.1578 - val_accuracy: 0.5871\n",
      "1/1 [==============================] - 0s 303ms/step\n"
     ]
    },
    {
     "name": "stderr",
     "output_type": "stream",
     "text": [
      "2024-03-28 22:14:32.724895: I tensorflow/core/grappler/optimizers/custom_graph_optimizer_registry.cc:114] Plugin optimizer for device_type GPU is enabled.\n",
      "2024-03-28 22:14:32.770625: I tensorflow/core/grappler/optimizers/custom_graph_optimizer_registry.cc:114] Plugin optimizer for device_type GPU is enabled.\n"
     ]
    },
    {
     "name": "stdout",
     "output_type": "stream",
     "text": [
      "K-Fold Cross-Validation Results (5 folds):\n",
      "Average Accuracy: 0.6267 ± 0.0271\n",
      "Average Precision: 0.1669 ± 0.0193\n",
      "Average Recall: 0.2192 ± 0.0187\n",
      "Average F1-Score: 0.1849 ± 0.0146\n"
     ]
    },
    {
     "name": "stderr",
     "output_type": "stream",
     "text": [
      "/Users/venessa/Desktop/5342project/venv/lib/python3.8/site-packages/sklearn/metrics/_classification.py:1471: UndefinedMetricWarning: Precision and F-score are ill-defined and being set to 0.0 in labels with no predicted samples. Use `zero_division` parameter to control this behavior.\n",
      "  _warn_prf(average, modifier, msg_start, len(result))\n"
     ]
    }
   ],
   "source": [
    "cross_val_training(EarlyFusionModel, train_visual, train_label, num_folds=5, epochs=10, batch_size=32)"
   ]
  },
  {
   "cell_type": "code",
   "execution_count": 37,
   "metadata": {},
   "outputs": [
    {
     "name": "stdout",
     "output_type": "stream",
     "text": [
      "Epoch 1/10\n"
     ]
    },
    {
     "name": "stderr",
     "output_type": "stream",
     "text": [
      "/Users/venessa/Desktop/5342project/venv/lib/python3.8/site-packages/keras/src/optimizers/legacy/adam.py:118: UserWarning: The `lr` argument is deprecated, use `learning_rate` instead.\n",
      "  super().__init__(name, **kwargs)\n",
      "2024-03-28 22:12:00.109395: I tensorflow/core/grappler/optimizers/custom_graph_optimizer_registry.cc:114] Plugin optimizer for device_type GPU is enabled.\n",
      "2024-03-28 22:12:00.208092: I tensorflow/core/grappler/optimizers/custom_graph_optimizer_registry.cc:114] Plugin optimizer for device_type GPU is enabled.\n",
      "2024-03-28 22:12:00.509264: I tensorflow/core/grappler/optimizers/custom_graph_optimizer_registry.cc:114] Plugin optimizer for device_type GPU is enabled.\n"
     ]
    },
    {
     "name": "stdout",
     "output_type": "stream",
     "text": [
      "3/3 [==============================] - ETA: 0s - loss: 1.7873 - accuracy: 0.4532"
     ]
    },
    {
     "name": "stderr",
     "output_type": "stream",
     "text": [
      "2024-03-28 22:12:01.030188: I tensorflow/core/grappler/optimizers/custom_graph_optimizer_registry.cc:114] Plugin optimizer for device_type GPU is enabled.\n",
      "2024-03-28 22:12:01.081371: I tensorflow/core/grappler/optimizers/custom_graph_optimizer_registry.cc:114] Plugin optimizer for device_type GPU is enabled.\n"
     ]
    },
    {
     "name": "stdout",
     "output_type": "stream",
     "text": [
      "3/3 [==============================] - 2s 260ms/step - loss: 1.7873 - accuracy: 0.4532 - val_loss: 1.7289 - val_accuracy: 0.6019\n",
      "Epoch 2/10\n",
      "3/3 [==============================] - 0s 73ms/step - loss: 1.6607 - accuracy: 0.6597 - val_loss: 1.6273 - val_accuracy: 0.6970\n",
      "Epoch 3/10\n",
      "3/3 [==============================] - 0s 63ms/step - loss: 1.5542 - accuracy: 0.7643 - val_loss: 1.5342 - val_accuracy: 0.7697\n",
      "Epoch 4/10\n",
      "3/3 [==============================] - 0s 77ms/step - loss: 1.4572 - accuracy: 0.8236 - val_loss: 1.4410 - val_accuracy: 0.8223\n",
      "Epoch 5/10\n",
      "3/3 [==============================] - 0s 71ms/step - loss: 1.3604 - accuracy: 0.8645 - val_loss: 1.3437 - val_accuracy: 0.8610\n",
      "Epoch 6/10\n",
      "3/3 [==============================] - 0s 51ms/step - loss: 1.2504 - accuracy: 0.8902 - val_loss: 1.2213 - val_accuracy: 0.8773\n",
      "Epoch 7/10\n",
      "3/3 [==============================] - 0s 47ms/step - loss: 1.1050 - accuracy: 0.9086 - val_loss: 1.0441 - val_accuracy: 0.8943\n",
      "Epoch 8/10\n",
      "3/3 [==============================] - 0s 45ms/step - loss: 0.9068 - accuracy: 0.9211 - val_loss: 0.8138 - val_accuracy: 0.9042\n",
      "Epoch 9/10\n",
      "3/3 [==============================] - 0s 54ms/step - loss: 0.6881 - accuracy: 0.9303 - val_loss: 0.6246 - val_accuracy: 0.9140\n",
      "Epoch 10/10\n",
      "3/3 [==============================] - 0s 38ms/step - loss: 0.5360 - accuracy: 0.9377 - val_loss: 0.5112 - val_accuracy: 0.9227\n",
      "1/1 [==============================] - 0s 276ms/step\n"
     ]
    },
    {
     "name": "stderr",
     "output_type": "stream",
     "text": [
      "2024-03-28 22:12:02.730271: I tensorflow/core/grappler/optimizers/custom_graph_optimizer_registry.cc:114] Plugin optimizer for device_type GPU is enabled.\n",
      "2024-03-28 22:12:02.769546: I tensorflow/core/grappler/optimizers/custom_graph_optimizer_registry.cc:114] Plugin optimizer for device_type GPU is enabled.\n"
     ]
    },
    {
     "name": "stdout",
     "output_type": "stream",
     "text": [
      "Epoch 1/10\n"
     ]
    },
    {
     "name": "stderr",
     "output_type": "stream",
     "text": [
      "/Users/venessa/Desktop/5342project/venv/lib/python3.8/site-packages/keras/src/optimizers/legacy/adam.py:118: UserWarning: The `lr` argument is deprecated, use `learning_rate` instead.\n",
      "  super().__init__(name, **kwargs)\n",
      "2024-03-28 22:12:03.355340: I tensorflow/core/grappler/optimizers/custom_graph_optimizer_registry.cc:114] Plugin optimizer for device_type GPU is enabled.\n",
      "2024-03-28 22:12:03.451779: I tensorflow/core/grappler/optimizers/custom_graph_optimizer_registry.cc:114] Plugin optimizer for device_type GPU is enabled.\n",
      "2024-03-28 22:12:03.659542: I tensorflow/core/grappler/optimizers/custom_graph_optimizer_registry.cc:114] Plugin optimizer for device_type GPU is enabled.\n"
     ]
    },
    {
     "name": "stdout",
     "output_type": "stream",
     "text": [
      "3/3 [==============================] - ETA: 0s - loss: 1.7886 - accuracy: 0.3770"
     ]
    },
    {
     "name": "stderr",
     "output_type": "stream",
     "text": [
      "2024-03-28 22:12:04.142454: I tensorflow/core/grappler/optimizers/custom_graph_optimizer_registry.cc:114] Plugin optimizer for device_type GPU is enabled.\n",
      "2024-03-28 22:12:04.195731: I tensorflow/core/grappler/optimizers/custom_graph_optimizer_registry.cc:114] Plugin optimizer for device_type GPU is enabled.\n"
     ]
    },
    {
     "name": "stdout",
     "output_type": "stream",
     "text": [
      "3/3 [==============================] - 1s 251ms/step - loss: 1.7886 - accuracy: 0.3770 - val_loss: 1.7131 - val_accuracy: 0.5663\n",
      "Epoch 2/10\n",
      "3/3 [==============================] - 0s 78ms/step - loss: 1.6584 - accuracy: 0.6340 - val_loss: 1.5964 - val_accuracy: 0.6902\n",
      "Epoch 3/10\n",
      "3/3 [==============================] - 0s 70ms/step - loss: 1.5499 - accuracy: 0.7384 - val_loss: 1.4909 - val_accuracy: 0.7655\n",
      "Epoch 4/10\n",
      "3/3 [==============================] - 0s 55ms/step - loss: 1.4588 - accuracy: 0.7983 - val_loss: 1.4008 - val_accuracy: 0.8144\n",
      "Epoch 5/10\n",
      "3/3 [==============================] - 0s 47ms/step - loss: 1.3723 - accuracy: 0.8393 - val_loss: 1.3147 - val_accuracy: 0.8477\n",
      "Epoch 6/10\n",
      "3/3 [==============================] - 0s 48ms/step - loss: 1.2854 - accuracy: 0.8689 - val_loss: 1.2217 - val_accuracy: 0.8723\n",
      "Epoch 7/10\n",
      "3/3 [==============================] - 0s 40ms/step - loss: 1.1833 - accuracy: 0.8869 - val_loss: 1.1025 - val_accuracy: 0.8860\n",
      "Epoch 8/10\n",
      "3/3 [==============================] - 0s 56ms/step - loss: 1.0397 - accuracy: 0.9036 - val_loss: 0.9359 - val_accuracy: 0.9008\n",
      "Epoch 9/10\n",
      "3/3 [==============================] - 0s 44ms/step - loss: 0.8592 - accuracy: 0.9156 - val_loss: 0.7557 - val_accuracy: 0.9106\n",
      "Epoch 10/10\n",
      "3/3 [==============================] - 0s 46ms/step - loss: 0.6826 - accuracy: 0.9252 - val_loss: 0.6124 - val_accuracy: 0.9208\n",
      "1/1 [==============================] - 0s 284ms/step\n"
     ]
    },
    {
     "name": "stderr",
     "output_type": "stream",
     "text": [
      "2024-03-28 22:12:05.805677: I tensorflow/core/grappler/optimizers/custom_graph_optimizer_registry.cc:114] Plugin optimizer for device_type GPU is enabled.\n",
      "2024-03-28 22:12:05.845078: I tensorflow/core/grappler/optimizers/custom_graph_optimizer_registry.cc:114] Plugin optimizer for device_type GPU is enabled.\n"
     ]
    },
    {
     "name": "stdout",
     "output_type": "stream",
     "text": [
      "Epoch 1/10\n"
     ]
    },
    {
     "name": "stderr",
     "output_type": "stream",
     "text": [
      "/Users/venessa/Desktop/5342project/venv/lib/python3.8/site-packages/keras/src/optimizers/legacy/adam.py:118: UserWarning: The `lr` argument is deprecated, use `learning_rate` instead.\n",
      "  super().__init__(name, **kwargs)\n",
      "2024-03-28 22:12:06.993714: I tensorflow/core/grappler/optimizers/custom_graph_optimizer_registry.cc:114] Plugin optimizer for device_type GPU is enabled.\n",
      "2024-03-28 22:12:07.097349: I tensorflow/core/grappler/optimizers/custom_graph_optimizer_registry.cc:114] Plugin optimizer for device_type GPU is enabled.\n",
      "2024-03-28 22:12:07.317145: I tensorflow/core/grappler/optimizers/custom_graph_optimizer_registry.cc:114] Plugin optimizer for device_type GPU is enabled.\n"
     ]
    },
    {
     "name": "stdout",
     "output_type": "stream",
     "text": [
      "3/3 [==============================] - ETA: 0s - loss: 1.7877 - accuracy: 0.3615"
     ]
    },
    {
     "name": "stderr",
     "output_type": "stream",
     "text": [
      "2024-03-28 22:12:07.867282: I tensorflow/core/grappler/optimizers/custom_graph_optimizer_registry.cc:114] Plugin optimizer for device_type GPU is enabled.\n",
      "2024-03-28 22:12:07.924962: I tensorflow/core/grappler/optimizers/custom_graph_optimizer_registry.cc:114] Plugin optimizer for device_type GPU is enabled.\n"
     ]
    },
    {
     "name": "stdout",
     "output_type": "stream",
     "text": [
      "3/3 [==============================] - 2s 265ms/step - loss: 1.7877 - accuracy: 0.3615 - val_loss: 1.7194 - val_accuracy: 0.5928\n",
      "Epoch 2/10\n",
      "3/3 [==============================] - 0s 66ms/step - loss: 1.6709 - accuracy: 0.6009 - val_loss: 1.6330 - val_accuracy: 0.6932\n",
      "Epoch 3/10\n",
      "3/3 [==============================] - 0s 68ms/step - loss: 1.5756 - accuracy: 0.7093 - val_loss: 1.5556 - val_accuracy: 0.7686\n",
      "Epoch 4/10\n",
      "3/3 [==============================] - 0s 43ms/step - loss: 1.4931 - accuracy: 0.7824 - val_loss: 1.4823 - val_accuracy: 0.8186\n",
      "Epoch 5/10\n",
      "3/3 [==============================] - 0s 38ms/step - loss: 1.4143 - accuracy: 0.8302 - val_loss: 1.4092 - val_accuracy: 0.8576\n",
      "Epoch 6/10\n",
      "3/3 [==============================] - 0s 40ms/step - loss: 1.3367 - accuracy: 0.8647 - val_loss: 1.3314 - val_accuracy: 0.8818\n",
      "Epoch 7/10\n",
      "3/3 [==============================] - 0s 66ms/step - loss: 1.2542 - accuracy: 0.8844 - val_loss: 1.2393 - val_accuracy: 0.8947\n",
      "Epoch 8/10\n",
      "3/3 [==============================] - 0s 50ms/step - loss: 1.1568 - accuracy: 0.8987 - val_loss: 1.1158 - val_accuracy: 0.9049\n",
      "Epoch 9/10\n",
      "3/3 [==============================] - 0s 44ms/step - loss: 1.0248 - accuracy: 0.9118 - val_loss: 0.9313 - val_accuracy: 0.9201\n",
      "Epoch 10/10\n",
      "3/3 [==============================] - 0s 48ms/step - loss: 0.8313 - accuracy: 0.9198 - val_loss: 0.6780 - val_accuracy: 0.9303\n",
      "1/1 [==============================] - 0s 274ms/step\n"
     ]
    },
    {
     "name": "stderr",
     "output_type": "stream",
     "text": [
      "2024-03-28 22:12:09.513636: I tensorflow/core/grappler/optimizers/custom_graph_optimizer_registry.cc:114] Plugin optimizer for device_type GPU is enabled.\n",
      "2024-03-28 22:12:09.552865: I tensorflow/core/grappler/optimizers/custom_graph_optimizer_registry.cc:114] Plugin optimizer for device_type GPU is enabled.\n"
     ]
    },
    {
     "name": "stdout",
     "output_type": "stream",
     "text": [
      "Epoch 1/10\n"
     ]
    },
    {
     "name": "stderr",
     "output_type": "stream",
     "text": [
      "/Users/venessa/Desktop/5342project/venv/lib/python3.8/site-packages/keras/src/optimizers/legacy/adam.py:118: UserWarning: The `lr` argument is deprecated, use `learning_rate` instead.\n",
      "  super().__init__(name, **kwargs)\n",
      "2024-03-28 22:12:10.121195: I tensorflow/core/grappler/optimizers/custom_graph_optimizer_registry.cc:114] Plugin optimizer for device_type GPU is enabled.\n",
      "2024-03-28 22:12:10.218445: I tensorflow/core/grappler/optimizers/custom_graph_optimizer_registry.cc:114] Plugin optimizer for device_type GPU is enabled.\n",
      "2024-03-28 22:12:10.416151: I tensorflow/core/grappler/optimizers/custom_graph_optimizer_registry.cc:114] Plugin optimizer for device_type GPU is enabled.\n"
     ]
    },
    {
     "name": "stdout",
     "output_type": "stream",
     "text": [
      "3/3 [==============================] - ETA: 0s - loss: 1.7646 - accuracy: 0.4261"
     ]
    },
    {
     "name": "stderr",
     "output_type": "stream",
     "text": [
      "2024-03-28 22:12:10.917971: I tensorflow/core/grappler/optimizers/custom_graph_optimizer_registry.cc:114] Plugin optimizer for device_type GPU is enabled.\n",
      "2024-03-28 22:12:10.969966: I tensorflow/core/grappler/optimizers/custom_graph_optimizer_registry.cc:114] Plugin optimizer for device_type GPU is enabled.\n"
     ]
    },
    {
     "name": "stdout",
     "output_type": "stream",
     "text": [
      "3/3 [==============================] - 1s 259ms/step - loss: 1.7646 - accuracy: 0.4261 - val_loss: 1.6699 - val_accuracy: 0.5754\n",
      "Epoch 2/10\n",
      "3/3 [==============================] - 0s 79ms/step - loss: 1.6499 - accuracy: 0.6491 - val_loss: 1.5758 - val_accuracy: 0.6924\n",
      "Epoch 3/10\n",
      "3/3 [==============================] - 0s 62ms/step - loss: 1.5550 - accuracy: 0.7463 - val_loss: 1.4909 - val_accuracy: 0.7663\n",
      "Epoch 4/10\n",
      "3/3 [==============================] - 0s 51ms/step - loss: 1.4730 - accuracy: 0.8100 - val_loss: 1.4144 - val_accuracy: 0.8178\n",
      "Epoch 5/10\n",
      "3/3 [==============================] - 0s 64ms/step - loss: 1.3995 - accuracy: 0.8558 - val_loss: 1.3451 - val_accuracy: 0.8508\n",
      "Epoch 6/10\n",
      "3/3 [==============================] - 0s 48ms/step - loss: 1.3309 - accuracy: 0.8847 - val_loss: 1.2779 - val_accuracy: 0.8731\n",
      "Epoch 7/10\n",
      "3/3 [==============================] - 0s 52ms/step - loss: 1.2633 - accuracy: 0.9051 - val_loss: 1.2104 - val_accuracy: 0.8928\n",
      "Epoch 8/10\n",
      "3/3 [==============================] - 0s 47ms/step - loss: 1.1917 - accuracy: 0.9171 - val_loss: 1.1379 - val_accuracy: 0.9064\n",
      "Epoch 9/10\n",
      "3/3 [==============================] - 0s 40ms/step - loss: 1.1066 - accuracy: 0.9269 - val_loss: 1.0498 - val_accuracy: 0.9155\n",
      "Epoch 10/10\n",
      "3/3 [==============================] - 0s 38ms/step - loss: 0.9973 - accuracy: 0.9344 - val_loss: 0.9273 - val_accuracy: 0.9220\n",
      "1/1 [==============================] - 0s 279ms/step\n"
     ]
    },
    {
     "name": "stderr",
     "output_type": "stream",
     "text": [
      "2024-03-28 22:12:12.524391: I tensorflow/core/grappler/optimizers/custom_graph_optimizer_registry.cc:114] Plugin optimizer for device_type GPU is enabled.\n",
      "2024-03-28 22:12:12.564960: I tensorflow/core/grappler/optimizers/custom_graph_optimizer_registry.cc:114] Plugin optimizer for device_type GPU is enabled.\n"
     ]
    },
    {
     "name": "stdout",
     "output_type": "stream",
     "text": [
      "Epoch 1/10\n"
     ]
    },
    {
     "name": "stderr",
     "output_type": "stream",
     "text": [
      "/Users/venessa/Desktop/5342project/venv/lib/python3.8/site-packages/keras/src/optimizers/legacy/adam.py:118: UserWarning: The `lr` argument is deprecated, use `learning_rate` instead.\n",
      "  super().__init__(name, **kwargs)\n",
      "2024-03-28 22:12:13.139613: I tensorflow/core/grappler/optimizers/custom_graph_optimizer_registry.cc:114] Plugin optimizer for device_type GPU is enabled.\n",
      "2024-03-28 22:12:13.237664: I tensorflow/core/grappler/optimizers/custom_graph_optimizer_registry.cc:114] Plugin optimizer for device_type GPU is enabled.\n",
      "2024-03-28 22:12:13.435282: I tensorflow/core/grappler/optimizers/custom_graph_optimizer_registry.cc:114] Plugin optimizer for device_type GPU is enabled.\n"
     ]
    },
    {
     "name": "stdout",
     "output_type": "stream",
     "text": [
      "3/3 [==============================] - ETA: 0s - loss: 1.8284 - accuracy: 0.3922"
     ]
    },
    {
     "name": "stderr",
     "output_type": "stream",
     "text": [
      "2024-03-28 22:12:13.925308: I tensorflow/core/grappler/optimizers/custom_graph_optimizer_registry.cc:114] Plugin optimizer for device_type GPU is enabled.\n",
      "2024-03-28 22:12:13.983926: I tensorflow/core/grappler/optimizers/custom_graph_optimizer_registry.cc:114] Plugin optimizer for device_type GPU is enabled.\n"
     ]
    },
    {
     "name": "stdout",
     "output_type": "stream",
     "text": [
      "3/3 [==============================] - 1s 256ms/step - loss: 1.8284 - accuracy: 0.3922 - val_loss: 1.7583 - val_accuracy: 0.5447\n",
      "Epoch 2/10\n",
      "3/3 [==============================] - 0s 54ms/step - loss: 1.7117 - accuracy: 0.6161 - val_loss: 1.6540 - val_accuracy: 0.6458\n",
      "Epoch 3/10\n",
      "3/3 [==============================] - 0s 52ms/step - loss: 1.6093 - accuracy: 0.7071 - val_loss: 1.5577 - val_accuracy: 0.7371\n",
      "Epoch 4/10\n",
      "3/3 [==============================] - 0s 66ms/step - loss: 1.5180 - accuracy: 0.7790 - val_loss: 1.4659 - val_accuracy: 0.7992\n",
      "Epoch 5/10\n",
      "3/3 [==============================] - 0s 65ms/step - loss: 1.4317 - accuracy: 0.8288 - val_loss: 1.3741 - val_accuracy: 0.8462\n",
      "Epoch 6/10\n",
      "3/3 [==============================] - 0s 44ms/step - loss: 1.3437 - accuracy: 0.8655 - val_loss: 1.2834 - val_accuracy: 0.8659\n",
      "Epoch 7/10\n",
      "3/3 [==============================] - 0s 48ms/step - loss: 1.2513 - accuracy: 0.8899 - val_loss: 1.1841 - val_accuracy: 0.8886\n",
      "Epoch 8/10\n",
      "3/3 [==============================] - 0s 51ms/step - loss: 1.1423 - accuracy: 0.9051 - val_loss: 1.0608 - val_accuracy: 0.9015\n",
      "Epoch 9/10\n",
      "3/3 [==============================] - 0s 38ms/step - loss: 0.9952 - accuracy: 0.9133 - val_loss: 0.8841 - val_accuracy: 0.9125\n",
      "Epoch 10/10\n",
      "3/3 [==============================] - 0s 44ms/step - loss: 0.7859 - accuracy: 0.9223 - val_loss: 0.6672 - val_accuracy: 0.9212\n",
      "1/1 [==============================] - 0s 267ms/step\n",
      "K-Fold Cross-Validation Results (5 folds):\n",
      "Average Accuracy: 0.9234 ± 0.0035\n",
      "Average Precision: 0.8703 ± 0.0108\n",
      "Average Recall: 0.8756 ± 0.0148\n",
      "Average F1-Score: 0.8701 ± 0.0091\n"
     ]
    },
    {
     "name": "stderr",
     "output_type": "stream",
     "text": [
      "2024-03-28 22:12:15.585584: I tensorflow/core/grappler/optimizers/custom_graph_optimizer_registry.cc:114] Plugin optimizer for device_type GPU is enabled.\n",
      "2024-03-28 22:12:15.624311: I tensorflow/core/grappler/optimizers/custom_graph_optimizer_registry.cc:114] Plugin optimizer for device_type GPU is enabled.\n"
     ]
    }
   ],
   "source": [
    "cross_val_training(EarlyFusionModel, train_text, train_label, num_folds=5, epochs=10, batch_size=32)"
   ]
  },
  {
   "cell_type": "code",
   "execution_count": 38,
   "metadata": {},
   "outputs": [
    {
     "name": "stdout",
     "output_type": "stream",
     "text": [
      "Epoch 1/10\n"
     ]
    },
    {
     "name": "stderr",
     "output_type": "stream",
     "text": [
      "/Users/venessa/Desktop/5342project/venv/lib/python3.8/site-packages/keras/src/optimizers/legacy/adam.py:118: UserWarning: The `lr` argument is deprecated, use `learning_rate` instead.\n",
      "  super().__init__(name, **kwargs)\n",
      "2024-03-28 22:12:29.466853: I tensorflow/core/grappler/optimizers/custom_graph_optimizer_registry.cc:114] Plugin optimizer for device_type GPU is enabled.\n",
      "2024-03-28 22:12:29.581551: I tensorflow/core/grappler/optimizers/custom_graph_optimizer_registry.cc:114] Plugin optimizer for device_type GPU is enabled.\n",
      "2024-03-28 22:12:29.855925: I tensorflow/core/grappler/optimizers/custom_graph_optimizer_registry.cc:114] Plugin optimizer for device_type GPU is enabled.\n"
     ]
    },
    {
     "name": "stdout",
     "output_type": "stream",
     "text": [
      "4/4 [==============================] - 1s 94ms/step - loss: 1.7571 - accuracy: 0.4501\n",
      "Epoch 2/10\n",
      "4/4 [==============================] - 0s 44ms/step - loss: 1.6185 - accuracy: 0.6787\n",
      "Epoch 3/10\n",
      "4/4 [==============================] - 0s 38ms/step - loss: 1.5030 - accuracy: 0.7642\n",
      "Epoch 4/10\n",
      "4/4 [==============================] - 0s 43ms/step - loss: 1.4043 - accuracy: 0.8230\n",
      "Epoch 5/10\n",
      "4/4 [==============================] - 0s 32ms/step - loss: 1.3086 - accuracy: 0.8661\n",
      "Epoch 6/10\n",
      "4/4 [==============================] - 0s 40ms/step - loss: 1.2064 - accuracy: 0.8898\n",
      "Epoch 7/10\n",
      "4/4 [==============================] - 0s 35ms/step - loss: 1.0669 - accuracy: 0.9071\n",
      "Epoch 8/10\n",
      "4/4 [==============================] - 0s 31ms/step - loss: 0.8349 - accuracy: 0.9195\n",
      "Epoch 9/10\n",
      "4/4 [==============================] - 0s 29ms/step - loss: 0.5933 - accuracy: 0.9296\n",
      "Epoch 10/10\n",
      "4/4 [==============================] - 0s 29ms/step - loss: 0.4488 - accuracy: 0.9373\n"
     ]
    },
    {
     "name": "stderr",
     "output_type": "stream",
     "text": [
      "2024-03-28 22:12:31.836489: I tensorflow/core/grappler/optimizers/custom_graph_optimizer_registry.cc:114] Plugin optimizer for device_type GPU is enabled.\n",
      "2024-03-28 22:12:31.877467: I tensorflow/core/grappler/optimizers/custom_graph_optimizer_registry.cc:114] Plugin optimizer for device_type GPU is enabled.\n"
     ]
    },
    {
     "name": "stdout",
     "output_type": "stream",
     "text": [
      "1/1 [==============================] - 0s 292ms/step\n",
      "Test Metrics for text:\n",
      "Accuracy: 0.7560\n",
      "Precision: 0.5927\n",
      "Recall: 0.6039\n",
      "F1 Score: 0.5925\n"
     ]
    }
   ],
   "source": [
    "# Train and evaluate based on test data for text modality\n",
    "# Instantiate the model\n",
    "early_fusion_model = EarlyFusionModel(input_shape=train_text.shape[1:], num_classes=train_label.shape[2])\n",
    "\n",
    "# Compile the model\n",
    "early_fusion_model.compile(lr=0.001)\n",
    "\n",
    "# Train and evaluate on the test dataset\n",
    "history, test_metrics = early_fusion_model.train_and_evaluate_on_test(train_text, train_label, test_text, test_label, epochs=10, batch_size=32)\n",
    "\n",
    "# Print the test metrics\n",
    "print(\"Test Metrics for text:\")\n",
    "print(f\"Accuracy: {test_metrics['accuracy']:.4f}\")\n",
    "print(f\"Precision: {test_metrics['precision']:.4f}\")\n",
    "print(f\"Recall: {test_metrics['recall']:.4f}\")\n",
    "print(f\"F1 Score: {test_metrics['f1_score']:.4f}\")\n"
   ]
  },
  {
   "cell_type": "code",
   "execution_count": 41,
   "metadata": {},
   "outputs": [
    {
     "name": "stdout",
     "output_type": "stream",
     "text": [
      "Epoch 1/10\n"
     ]
    },
    {
     "name": "stderr",
     "output_type": "stream",
     "text": [
      "/Users/venessa/Desktop/5342project/venv/lib/python3.8/site-packages/keras/src/optimizers/legacy/adam.py:118: UserWarning: The `lr` argument is deprecated, use `learning_rate` instead.\n",
      "  super().__init__(name, **kwargs)\n",
      "2024-03-28 22:14:51.050722: I tensorflow/core/grappler/optimizers/custom_graph_optimizer_registry.cc:114] Plugin optimizer for device_type GPU is enabled.\n",
      "2024-03-28 22:14:51.181921: I tensorflow/core/grappler/optimizers/custom_graph_optimizer_registry.cc:114] Plugin optimizer for device_type GPU is enabled.\n",
      "2024-03-28 22:14:51.449341: I tensorflow/core/grappler/optimizers/custom_graph_optimizer_registry.cc:114] Plugin optimizer for device_type GPU is enabled.\n"
     ]
    },
    {
     "name": "stdout",
     "output_type": "stream",
     "text": [
      "4/4 [==============================] - 1s 106ms/step - loss: 1.7800 - accuracy: 0.4482\n",
      "Epoch 2/10\n",
      "4/4 [==============================] - 0s 57ms/step - loss: 1.7455 - accuracy: 0.6237\n",
      "Epoch 3/10\n",
      "4/4 [==============================] - 0s 27ms/step - loss: 1.7112 - accuracy: 0.6580\n",
      "Epoch 4/10\n",
      "4/4 [==============================] - 0s 53ms/step - loss: 1.6715 - accuracy: 0.6761\n",
      "Epoch 5/10\n",
      "4/4 [==============================] - 0s 39ms/step - loss: 1.6199 - accuracy: 0.6683\n",
      "Epoch 6/10\n",
      "4/4 [==============================] - 0s 31ms/step - loss: 1.5425 - accuracy: 0.6539\n",
      "Epoch 7/10\n",
      "4/4 [==============================] - 0s 33ms/step - loss: 1.3995 - accuracy: 0.6349\n",
      "Epoch 8/10\n",
      "4/4 [==============================] - 0s 31ms/step - loss: 1.1487 - accuracy: 0.6284\n",
      "Epoch 9/10\n",
      "4/4 [==============================] - 0s 29ms/step - loss: 0.9714 - accuracy: 0.6327\n",
      "Epoch 10/10\n",
      "4/4 [==============================] - 0s 29ms/step - loss: 0.8899 - accuracy: 0.6525\n",
      "1/1 [==============================] - 0s 261ms/step\n",
      "Test Metrics for audio:\n",
      "Accuracy: 0.6384\n",
      "Precision: 0.5215\n",
      "Recall: 0.3496\n",
      "F1 Score: 0.3218\n"
     ]
    },
    {
     "name": "stderr",
     "output_type": "stream",
     "text": [
      "2024-03-28 22:14:53.453785: I tensorflow/core/grappler/optimizers/custom_graph_optimizer_registry.cc:114] Plugin optimizer for device_type GPU is enabled.\n",
      "2024-03-28 22:14:53.493016: I tensorflow/core/grappler/optimizers/custom_graph_optimizer_registry.cc:114] Plugin optimizer for device_type GPU is enabled.\n"
     ]
    }
   ],
   "source": [
    "# Train and evaluate based on test data for audio modality\n",
    "# Instantiate the model\n",
    "early_fusion_model = EarlyFusionModel(input_shape=train_audio.shape[1:], num_classes=train_label.shape[2])\n",
    "\n",
    "# Compile the model\n",
    "early_fusion_model.compile(lr=0.001)\n",
    "\n",
    "# Train and evaluate on the test dataset\n",
    "history, test_metrics = early_fusion_model.train_and_evaluate_on_test(train_audio, train_label, test_audio, test_label, epochs=10, batch_size=32)\n",
    "\n",
    "# Print the test metrics\n",
    "print(\"Test Metrics for audio:\")\n",
    "print(f\"Accuracy: {test_metrics['accuracy']:.4f}\")\n",
    "print(f\"Precision: {test_metrics['precision']:.4f}\")\n",
    "print(f\"Recall: {test_metrics['recall']:.4f}\")\n",
    "print(f\"F1 Score: {test_metrics['f1_score']:.4f}\")\n"
   ]
  },
  {
   "cell_type": "code",
   "execution_count": 42,
   "metadata": {},
   "outputs": [
    {
     "name": "stdout",
     "output_type": "stream",
     "text": [
      "Epoch 1/10\n"
     ]
    },
    {
     "name": "stderr",
     "output_type": "stream",
     "text": [
      "/Users/venessa/Desktop/5342project/venv/lib/python3.8/site-packages/keras/src/optimizers/legacy/adam.py:118: UserWarning: The `lr` argument is deprecated, use `learning_rate` instead.\n",
      "  super().__init__(name, **kwargs)\n",
      "2024-03-28 22:15:06.600393: I tensorflow/core/grappler/optimizers/custom_graph_optimizer_registry.cc:114] Plugin optimizer for device_type GPU is enabled.\n",
      "2024-03-28 22:15:06.726004: I tensorflow/core/grappler/optimizers/custom_graph_optimizer_registry.cc:114] Plugin optimizer for device_type GPU is enabled.\n",
      "2024-03-28 22:15:06.995468: I tensorflow/core/grappler/optimizers/custom_graph_optimizer_registry.cc:114] Plugin optimizer for device_type GPU is enabled.\n"
     ]
    },
    {
     "name": "stdout",
     "output_type": "stream",
     "text": [
      "4/4 [==============================] - 2s 127ms/step - loss: 1.7900 - accuracy: 0.4195\n",
      "Epoch 2/10\n",
      "4/4 [==============================] - 0s 44ms/step - loss: 1.7677 - accuracy: 0.5991\n",
      "Epoch 3/10\n",
      "4/4 [==============================] - 0s 41ms/step - loss: 1.7435 - accuracy: 0.6127\n",
      "Epoch 4/10\n",
      "4/4 [==============================] - 0s 45ms/step - loss: 1.7118 - accuracy: 0.6209\n",
      "Epoch 5/10\n",
      "4/4 [==============================] - 0s 57ms/step - loss: 1.6649 - accuracy: 0.6173\n",
      "Epoch 6/10\n",
      "4/4 [==============================] - 0s 33ms/step - loss: 1.5762 - accuracy: 0.6118\n",
      "Epoch 7/10\n",
      "4/4 [==============================] - 0s 34ms/step - loss: 1.3648 - accuracy: 0.6090\n",
      "Epoch 8/10\n",
      "4/4 [==============================] - 0s 30ms/step - loss: 1.1102 - accuracy: 0.6140\n",
      "Epoch 9/10\n",
      "4/4 [==============================] - 0s 34ms/step - loss: 0.9645 - accuracy: 0.6443\n",
      "Epoch 10/10\n",
      "4/4 [==============================] - 0s 29ms/step - loss: 0.9391 - accuracy: 0.6646\n"
     ]
    },
    {
     "name": "stderr",
     "output_type": "stream",
     "text": [
      "2024-03-28 22:15:09.255608: I tensorflow/core/grappler/optimizers/custom_graph_optimizer_registry.cc:114] Plugin optimizer for device_type GPU is enabled.\n",
      "2024-03-28 22:15:09.295831: I tensorflow/core/grappler/optimizers/custom_graph_optimizer_registry.cc:114] Plugin optimizer for device_type GPU is enabled.\n"
     ]
    },
    {
     "name": "stdout",
     "output_type": "stream",
     "text": [
      "1/1 [==============================] - 0s 376ms/step\n",
      "Test Metrics for video:\n",
      "Accuracy: 0.6475\n",
      "Precision: 0.1958\n",
      "Recall: 0.3184\n",
      "F1 Score: 0.2241\n"
     ]
    },
    {
     "name": "stderr",
     "output_type": "stream",
     "text": [
      "/Users/venessa/Desktop/5342project/venv/lib/python3.8/site-packages/sklearn/metrics/_classification.py:1471: UndefinedMetricWarning: Precision and F-score are ill-defined and being set to 0.0 in labels with no predicted samples. Use `zero_division` parameter to control this behavior.\n",
      "  _warn_prf(average, modifier, msg_start, len(result))\n"
     ]
    }
   ],
   "source": [
    "# Train and evaluate based on test data for visual modality\n",
    "# Instantiate the model\n",
    "early_fusion_model = EarlyFusionModel(input_shape=train_visual.shape[1:], num_classes=train_label.shape[2])\n",
    "\n",
    "# Compile the model\n",
    "early_fusion_model.compile(lr=0.001)\n",
    "\n",
    "# Train and evaluate on the test dataset\n",
    "history, test_metrics = early_fusion_model.train_and_evaluate_on_test(train_visual, train_label, test_visual, test_label, epochs=10, batch_size=32)\n",
    "\n",
    "# Print the test metrics\n",
    "print(\"Test Metrics for video:\")\n",
    "print(f\"Accuracy: {test_metrics['accuracy']:.4f}\")\n",
    "print(f\"Precision: {test_metrics['precision']:.4f}\")\n",
    "print(f\"Recall: {test_metrics['recall']:.4f}\")\n",
    "print(f\"F1 Score: {test_metrics['f1_score']:.4f}\")\n"
   ]
  }
 ],
 "metadata": {
  "kernelspec": {
   "display_name": "venv",
   "language": "python",
   "name": "python3"
  },
  "language_info": {
   "codemirror_mode": {
    "name": "ipython",
    "version": 3
   },
   "file_extension": ".py",
   "mimetype": "text/x-python",
   "name": "python",
   "nbconvert_exporter": "python",
   "pygments_lexer": "ipython3",
   "version": "3.8.18"
  }
 },
 "nbformat": 4,
 "nbformat_minor": 2
}
