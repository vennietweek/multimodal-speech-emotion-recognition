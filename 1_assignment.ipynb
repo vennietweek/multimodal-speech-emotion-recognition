{
 "cells": [
  {
   "cell_type": "code",
   "execution_count": 2,
   "metadata": {},
   "outputs": [],
   "source": [
    "import os\n",
    "import sys\n",
    "import copy\n",
    "import pickle\n",
    "import datetime\n",
    "import numpy as np\n",
    "import pandas as pd\n",
    "import tensorflow as tf\n",
    "import matplotlib.pyplot as plt\n",
    "import seaborn as sns\n",
    "import keras.api._v2.keras as keras\n",
    "import keras.backend as K\n",
    "from keras.optimizers.legacy import Adam\n",
    "from keras.optimizers import SGD\n",
    "from keras import callbacks\n",
    "from keras.models import Model\n",
    "from keras.layers import Layer, Dense, Input, Activation, Lambda, BatchNormalization, Conv1D, SpatialDropout1D, add, GlobalAveragePooling1D\n",
    "from keras.activations import sigmoid\n",
    "from sklearn.model_selection import KFold\n",
    "from keras.callbacks import ModelCheckpoint\n",
    "from sklearn.metrics import classification_report, confusion_matrix, precision_recall_fscore_support"
   ]
  },
  {
   "cell_type": "code",
   "execution_count": 3,
   "metadata": {},
   "outputs": [
    {
     "name": "stdout",
     "output_type": "stream",
     "text": [
      "x shape: (5531, 606, 39)\n",
      "y shape: (5531, 4)\n"
     ]
    }
   ],
   "source": [
    "# Load pre-processed audio-only data\n",
    "data = np.load(\"./MFCC/IEMOCAP.npy\",allow_pickle=True).item()\n",
    "x_source = data[\"x\"]\n",
    "y_source = data[\"y\"]\n",
    "# Print shape of data\n",
    "print(\"x shape:\", x_source.shape)\n",
    "print(\"y shape:\", y_source.shape)\n",
    "CLASS_LABELS = (\"angry\", \"happy\", \"neutral\", \"sad\")"
   ]
  },
  {
   "cell_type": "code",
   "execution_count": 9,
   "metadata": {},
   "outputs": [],
   "source": [
    "# TIM-Net Model\n",
    "\n",
    "# Define Common Model class\n",
    "class Common_Model(object):\n",
    "\n",
    "    def __init__(self, save_path: str = '', name: str = 'Not Specified'):\n",
    "        self.model = None\n",
    "        self.trained = False \n",
    "\n",
    "    def train(self, x_train, y_train, x_val, y_val):\n",
    "        raise NotImplementedError()\n",
    "\n",
    "    def predict(self, samples):\n",
    "        raise NotImplementedError()\n",
    "        \n",
    "\n",
    "    def predict_proba(self, samples):\n",
    "        if not self.trained:\n",
    "            sys.stderr.write(\"No Model.\")\n",
    "            sys.exit(-1)\n",
    "        return self.model.predict_proba(samples)\n",
    "\n",
    "    def save_model(self, model_name: str):\n",
    "        raise NotImplementedError()\n",
    "\n",
    "\n",
    "def Temporal_Aware_Block(x, s, i, activation, nb_filters, kernel_size, dropout_rate=0, name=''):\n",
    "\n",
    "    original_x = x\n",
    "    #1.1\n",
    "    conv_1_1 = Conv1D(filters=nb_filters, kernel_size=kernel_size,\n",
    "                  dilation_rate=i, padding='causal')(x)\n",
    "    conv_1_1 = BatchNormalization(trainable=True,axis=-1)(conv_1_1)\n",
    "    conv_1_1 =  Activation(activation)(conv_1_1)\n",
    "    output_1_1 =  SpatialDropout1D(dropout_rate)(conv_1_1)\n",
    "\n",
    "    # 2.1\n",
    "    conv_2_1 = Conv1D(filters=nb_filters, kernel_size=kernel_size,\n",
    "                  dilation_rate=i, padding='causal')(output_1_1)\n",
    "    conv_2_1 = BatchNormalization(trainable=True,axis=-1)(conv_2_1)\n",
    "    conv_2_1 = Activation(activation)(conv_2_1)\n",
    "    output_2_1 =  SpatialDropout1D(dropout_rate)(conv_2_1)\n",
    "    \n",
    "    if original_x.shape[-1] != output_2_1.shape[-1]:\n",
    "        original_x = Conv1D(filters=nb_filters, kernel_size=1, padding='same')(original_x)\n",
    "        \n",
    "    output_2_1 = Lambda(sigmoid)(output_2_1)\n",
    "    F_x = Lambda(lambda x: tf.multiply(x[0], x[1]))([original_x, output_2_1])\n",
    "    return F_x\n",
    "\n",
    "\n",
    "class TIMNET:\n",
    "    def __init__(self,\n",
    "                 nb_filters=64,\n",
    "                 kernel_size=2,\n",
    "                 nb_stacks=1,\n",
    "                 dilations=None,\n",
    "                 activation = \"relu\",\n",
    "                 dropout_rate=0.1,\n",
    "                 return_sequences=True,\n",
    "                 name='TIMNET'):\n",
    "        self.name = name\n",
    "        self.return_sequences = return_sequences\n",
    "        self.activation = activation\n",
    "        self.dropout_rate = dropout_rate\n",
    "        self.dilations = dilations\n",
    "        self.nb_stacks = nb_stacks\n",
    "        self.kernel_size = kernel_size\n",
    "        self.nb_filters = nb_filters\n",
    "\n",
    "        self.supports_masking = True\n",
    "        self.mask_value=0.\n",
    "\n",
    "        if not isinstance(nb_filters, int):\n",
    "            raise Exception()\n",
    "\n",
    "    def __call__(self, inputs, mask=None):\n",
    "        if self.dilations is None:\n",
    "            self.dilations = 8\n",
    "        forward = inputs\n",
    "        backward = K.reverse(inputs,axes=1)\n",
    "        \n",
    "        print(\"Input Shape=\",inputs.shape)\n",
    "        forward_convd = Conv1D(filters=self.nb_filters,kernel_size=1, dilation_rate=1, padding='causal')(forward)\n",
    "        backward_convd = Conv1D(filters=self.nb_filters,kernel_size=1, dilation_rate=1, padding='causal')(backward)\n",
    "\n",
    "        final_skip_connection = []\n",
    "        \n",
    "        skip_out_forward = forward_convd\n",
    "        skip_out_backward = backward_convd\n",
    "        \n",
    "        for s in range(self.nb_stacks):\n",
    "            for i in [2 ** i for i in range(self.dilations)]:\n",
    "                skip_out_forward = Temporal_Aware_Block(skip_out_forward, s, i, self.activation,\n",
    "                                                        self.nb_filters,\n",
    "                                                        self.kernel_size, \n",
    "                                                        self.dropout_rate,  \n",
    "                                                        name=self.name)\n",
    "                skip_out_backward = Temporal_Aware_Block(skip_out_backward, s, i, self.activation,\n",
    "                                                        self.nb_filters,\n",
    "                                                        self.kernel_size, \n",
    "                                                        self.dropout_rate,  \n",
    "                                                        name=self.name)\n",
    "                \n",
    "                temp_skip = add([skip_out_forward, skip_out_backward],name = \"biadd_\"+str(i))\n",
    "                temp_skip=GlobalAveragePooling1D()(temp_skip)\n",
    "                temp_skip=tf.expand_dims(temp_skip, axis=1)\n",
    "                final_skip_connection.append(temp_skip)\n",
    "\n",
    "        output_2 = final_skip_connection[0]\n",
    "        for i,item in enumerate(final_skip_connection):\n",
    "            if i==0:\n",
    "                continue\n",
    "            output_2 = K.concatenate([output_2,item],axis=-2)\n",
    "        x = output_2\n",
    "\n",
    "        return x\n",
    "\n",
    "def smooth_labels(labels, factor=0.1):\n",
    "    # smooth the labels\n",
    "    labels *= (1 - factor)\n",
    "    labels += (factor / labels.shape[1])\n",
    "    return labels\n",
    "\n",
    "class WeightLayer(Layer):\n",
    "    def __init__(self, **kwargs):\n",
    "        super(WeightLayer, self).__init__(**kwargs)\n",
    "\n",
    "    def build(self, input_shape):\n",
    "        self.kernel = self.add_weight(name='kernel',\n",
    "                                      shape=(input_shape[1],1),\n",
    "                                      initializer='uniform',\n",
    "                                      trainable=True)  \n",
    "        super(WeightLayer, self).build(input_shape)  \n",
    " \n",
    "    def call(self, x):\n",
    "        tempx = tf.transpose(x,[0,2,1])\n",
    "        x = K.dot(tempx,self.kernel)\n",
    "        x = tf.squeeze(x,axis=-1)\n",
    "        return  x\n",
    " \n",
    "    def compute_output_shape(self, input_shape):\n",
    "        return (input_shape[0],input_shape[2])\n",
    "\n",
    "def softmax(x, axis=-1):\n",
    "    ex = K.exp(x - K.max(x, axis=axis, keepdims=True))\n",
    "    return ex/K.sum(ex, axis=axis, keepdims=True)\n",
    "\n",
    "class TIMNET_Model(Common_Model):\n",
    "    def __init__(self, args, input_shape, class_label, **params):\n",
    "        super(TIMNET_Model,self).__init__(**params)\n",
    "        self.args = args\n",
    "        self.data_shape = input_shape\n",
    "        self.num_classes = len(class_label)\n",
    "        self.class_label = class_label\n",
    "        self.matrix = []\n",
    "        self.eva_matrix = []\n",
    "        self.acc = 0\n",
    "    \n",
    "    def create_model(self):\n",
    "        self.inputs=Input(shape = (self.data_shape[0],self.data_shape[1]))\n",
    "        self.multi_decision = TIMNET(nb_filters=self.args.filter_size,\n",
    "                                kernel_size=self.args.kernel_size, \n",
    "                                nb_stacks=self.args.stack_size,\n",
    "                                dilations=self.args.dilation_size,\n",
    "                                dropout_rate=self.args.dropout,\n",
    "                                activation = self.args.activation,\n",
    "                                return_sequences=True, \n",
    "                                name='TIMNET')(self.inputs)\n",
    "\n",
    "        self.decision = WeightLayer()(self.multi_decision)\n",
    "        self.predictions = Dense(self.num_classes, activation='softmax')(self.decision)\n",
    "        self.model = Model(inputs = self.inputs, outputs = self.predictions)\n",
    "        \n",
    "        self.model.compile(loss = \"categorical_crossentropy\",\n",
    "                           optimizer =Adam(learning_rate=self.args.lr, beta_1=self.args.beta1, beta_2=self.args.beta2, epsilon=1e-8),\n",
    "                           metrics = ['accuracy'])\n",
    "        print(\"TIMNet Model creation completed\")\n",
    "        \n",
    "    def train(self, x, y):\n",
    "        label_mapping = {'hap': 0, 'sad': 1, 'neu': 2, 'ang': 3, 'exc': 4, 'fru': 5}\n",
    "        reverse_mapping = {v: k for k, v in label_mapping.items()}\n",
    "\n",
    "        filepath = self.args.model_path\n",
    "        resultpath = self.args.result_path\n",
    "\n",
    "        os.makedirs(filepath, exist_ok=True)\n",
    "        os.makedirs(resultpath, exist_ok=True)\n",
    "\n",
    "        now = datetime.datetime.now()\n",
    "        now_time = datetime.datetime.strftime(now,'%Y-%m-%d_%H-%M-%S')\n",
    "\n",
    "        total_accuracy = 0\n",
    "        total_loss = 0\n",
    "        total_precision = []\n",
    "        total_recall = []\n",
    "        total_f1 = []\n",
    "\n",
    "        kfold = KFold(n_splits=self.args.split_fold, shuffle=True, random_state=self.args.random_seed)\n",
    "        \n",
    "        fold_counter = 0\n",
    "        \n",
    "        for train_index, test_index in kfold.split(x):\n",
    "            self.create_model()\n",
    "            y_train_smoothed = smooth_labels(y[train_index].copy(), 0.1)\n",
    "            \n",
    "            folder_address = os.path.join(filepath, f\"{self.args.data}_{self.args.random_seed}_{now_time}\")\n",
    "            os.makedirs(folder_address, exist_ok=True)\n",
    "            \n",
    "            weight_path = os.path.join(folder_address, f\"{self.args.split_fold}-fold_weights_best_{fold_counter+1}.hdf5\")\n",
    "            checkpoint = ModelCheckpoint(weight_path, verbose=1, save_weights_only=True, save_best_only=True)\n",
    "\n",
    "            self.model.fit(x[train_index], y_train_smoothed, validation_data=(x[test_index], y[test_index]),\n",
    "                            batch_size=self.args.batch_size, epochs=self.args.epoch, verbose=1, callbacks=[checkpoint])\n",
    "            \n",
    "            self.model.load_weights(weight_path)\n",
    "            eval_result = self.model.evaluate(x[test_index], y[test_index], verbose=0)\n",
    "            \n",
    "            total_loss += eval_result[0]\n",
    "            total_accuracy += eval_result[1]\n",
    "\n",
    "            # Generate predictions for the current fold's test set\n",
    "            y_pred = self.model.predict(x[test_index])\n",
    "            y_true = y[test_index]\n",
    "            y_pred_classes = np.argmax(y_pred, axis=-1).flatten()  # Convert softmax outputs to class indices and flatten\n",
    "            y_true_classes = np.argmax(y[test_index], axis=-1).flatten()  # Correctly using y[test_index] to flatten the true labels\n",
    "\n",
    "            # Generate the classification report for the current fold\n",
    "            try:\n",
    "                print(classification_report(y_true_classes, y_pred_classes, target_names=[reverse_mapping[i] for i in range(len(label_mapping))]))\n",
    "            except Exception as e:\n",
    "                print(f\"Error generating classification report: {e}\")\n",
    "\n",
    "            try:\n",
    "                precision, recall, f1, _ = precision_recall_fscore_support(y_true_classes, y_pred_classes, average='weighted')\n",
    "                total_precision.append(precision)\n",
    "                total_recall.append(recall)\n",
    "                total_f1.append(f1)\n",
    "            except Exception as e:\n",
    "                print(f\"Error generating precision, recall, and f1-score: {e}\")\n",
    "\n",
    "            fold_counter += 1\n",
    "\n",
    "        avg_accuracy = total_accuracy / self.args.split_fold\n",
    "        avg_loss = total_loss / self.args.split_fold\n",
    "        print(f\"Average accuracy over {self.args.split_fold} folds: {avg_accuracy}\")\n",
    "        print(f\"Average loss over {self.args.split_fold} folds: {avg_loss}\")\n",
    "        avg_precision = np.mean(total_precision)\n",
    "        avg_recall = np.mean(total_recall)\n",
    "        avg_f1 = np.mean(total_f1)\n",
    "\n",
    "        print(f\"Average Precision: {avg_precision}\")\n",
    "        print(f\"Average Recall: {avg_recall}\")\n",
    "        print(f\"Average F1-Score: {avg_f1}\")\n",
    "\n",
    "        # Cleanup\n",
    "        K.clear_session()\n",
    "    \n",
    "    def test(self, x, y, path):\n",
    "        i = 1\n",
    "        kfold = KFold(n_splits=self.args.split_fold, shuffle=True, random_state=self.args.random_seed)\n",
    "        avg_accuracy = 0\n",
    "        avg_loss = 0\n",
    "        all_metrics = []\n",
    "        x_feats = []\n",
    "        y_labels = []\n",
    "\n",
    "        for train, test in kfold.split(x, y):\n",
    "            self.create_model()\n",
    "            weight_path=path + '/' + str(self.args.split_fold) + \"-fold_weights_best_\" + str(i) + \".hdf5\"\n",
    "            # self.model.fit(x[train], y[train],validation_data=(x[test],  y[test]),batch_size = 64,epochs = 0,verbose=0)\n",
    "            self.model.load_weights(weight_path)#+source_name+'_single_best.hdf5')\n",
    "            best_eva_list = self.model.evaluate(x[test],  y[test])\n",
    "            avg_loss += best_eva_list[0]\n",
    "            avg_accuracy += best_eva_list[1]\n",
    "            print(str(i)+'_Model evaluation: ', best_eva_list,\"   Now ACC:\",str(round(avg_accuracy*10000)/100/i))\n",
    "            i+=1\n",
    "\n",
    "            # Predict and extract features\n",
    "            y_pred_best = self.model.predict(x[test])\n",
    "            caps_layer_model = Model(inputs=self.model.input, outputs=self.model.get_layer(index=-2).output)\n",
    "            feature_source = caps_layer_model.predict(x[test])\n",
    "            x_feats.append(feature_source)\n",
    "            y_labels.append(y[test])\n",
    "\n",
    "            # Save confusion matrix and classification report\n",
    "            self.matrix.append(confusion_matrix(np.argmax(y[test],axis=1),np.argmax(y_pred_best,axis=1)))\n",
    "            report = classification_report(np.argmax(y[test], axis=1), np.argmax(y_pred_best, axis=1), target_names=self.class_label, output_dict=True)\n",
    "            all_metrics.append(report)\n",
    "            print(classification_report(np.argmax(y[test], axis=1), np.argmax(y_pred_best, axis=1), target_names=self.class_label))\n",
    "            \n",
    "        print(\"Average ACC:\",avg_accuracy/self.args.split_fold)\n",
    "        self.acc = avg_accuracy/self.args.split_fold\n",
    "        avg_loss /= i - 1\n",
    "        avg_precision = np.mean([metrics['macro avg']['precision'] for metrics in all_metrics])\n",
    "        avg_recall = np.mean([metrics['macro avg']['recall'] for metrics in all_metrics])\n",
    "        avg_f1_score = np.mean([metrics['macro avg']['f1-score'] for metrics in all_metrics])\n",
    "\n",
    "        print(f\"Average Loss: {avg_loss}\")\n",
    "        print(f\"Average Accuracy: {self.acc}\")\n",
    "        print(f\"Average Precision: {avg_precision}\")\n",
    "        print(f\"Average Recall: {avg_recall}\")\n",
    "        print(f\"Average F1-Score: {avg_f1_score}\")\n",
    "        return x_feats, y_labels\n",
    "\n",
    "        \n"
   ]
  },
  {
   "cell_type": "code",
   "execution_count": 5,
   "metadata": {},
   "outputs": [],
   "source": [
    "# Define and set parameters\n",
    "class Args:\n",
    "    def __init__(self, mode, data='IEMOCAP', split_fold=5, random_seed=16, epoch=50, test_path='./Test_Models/IEMOCAP_16'):\n",
    "        self.mode = mode\n",
    "        self.data = data\n",
    "        self.split_fold = split_fold\n",
    "        self.random_seed = random_seed\n",
    "        self.epoch = epoch\n",
    "        self.gpu = 0\n",
    "        self.model_path = './Models/'\n",
    "        self.result_path = './Results/'\n",
    "        self.test_path = test_path\n",
    "        self.lr = 0.001\n",
    "        self.beta1 = 0.93\n",
    "        self.beta2 = 0.98\n",
    "        self.batch_size = 64\n",
    "        self.dropout = 0.1\n",
    "        self.activation = 'relu'\n",
    "        self.filter_size = 39\n",
    "        self.dilation_size = 8 \n",
    "        self.kernel_size = 2\n",
    "        self.stack_size = 1\n"
   ]
  },
  {
   "cell_type": "code",
   "execution_count": null,
   "metadata": {},
   "outputs": [],
   "source": [
    "# Train the model\n",
    "args_train = Args(mode=\"train\")\n",
    "model = TIMNET_Model(args=args_train, input_shape=x_source.shape[1:], class_label=CLASS_LABELS)\n",
    "model.train(x_source, y_source)"
   ]
  },
  {
   "cell_type": "code",
   "execution_count": 11,
   "metadata": {},
   "outputs": [
    {
     "name": "stdout",
     "output_type": "stream",
     "text": [
      "Input Shape= (None, 606, 39)\n",
      "TIMNet Model creation completed\n"
     ]
    },
    {
     "name": "stderr",
     "output_type": "stream",
     "text": [
      "2024-03-12 20:00:22.120764: I tensorflow/core/grappler/optimizers/custom_graph_optimizer_registry.cc:114] Plugin optimizer for device_type GPU is enabled.\n"
     ]
    },
    {
     "name": "stdout",
     "output_type": "stream",
     "text": [
      "35/35 [==============================] - 12s 260ms/step - loss: 0.9265 - accuracy: 0.6260\n",
      "1_Model evaluation:  [0.9264979958534241, 0.6260162591934204]    Now ACC: 62.6\n"
     ]
    },
    {
     "name": "stderr",
     "output_type": "stream",
     "text": [
      "2024-03-12 20:00:33.762466: I tensorflow/core/grappler/optimizers/custom_graph_optimizer_registry.cc:114] Plugin optimizer for device_type GPU is enabled.\n"
     ]
    },
    {
     "name": "stdout",
     "output_type": "stream",
     "text": [
      "35/35 [==============================] - 12s 240ms/step\n"
     ]
    },
    {
     "name": "stderr",
     "output_type": "stream",
     "text": [
      "2024-03-12 20:00:45.873154: I tensorflow/core/grappler/optimizers/custom_graph_optimizer_registry.cc:114] Plugin optimizer for device_type GPU is enabled.\n"
     ]
    },
    {
     "name": "stdout",
     "output_type": "stream",
     "text": [
      "35/35 [==============================] - 12s 251ms/step\n",
      "              precision    recall  f1-score   support\n",
      "\n",
      "       angry       0.71      0.73      0.72       239\n",
      "       happy       0.77      0.41      0.54       339\n",
      "     neutral       0.56      0.69      0.62       331\n",
      "         sad       0.55      0.76      0.64       198\n",
      "\n",
      "    accuracy                           0.63      1107\n",
      "   macro avg       0.65      0.65      0.63      1107\n",
      "weighted avg       0.66      0.63      0.62      1107\n",
      "\n",
      "Input Shape= (None, 606, 39)\n",
      "TIMNet Model creation completed\n"
     ]
    },
    {
     "name": "stderr",
     "output_type": "stream",
     "text": [
      "2024-03-12 20:00:59.124663: I tensorflow/core/grappler/optimizers/custom_graph_optimizer_registry.cc:114] Plugin optimizer for device_type GPU is enabled.\n"
     ]
    },
    {
     "name": "stdout",
     "output_type": "stream",
     "text": [
      "35/35 [==============================] - 14s 311ms/step - loss: 0.9886 - accuracy: 0.5741\n",
      "2_Model evaluation:  [0.9885936975479126, 0.5741410255432129]    Now ACC: 60.01\n"
     ]
    },
    {
     "name": "stderr",
     "output_type": "stream",
     "text": [
      "2024-03-12 20:01:12.752423: I tensorflow/core/grappler/optimizers/custom_graph_optimizer_registry.cc:114] Plugin optimizer for device_type GPU is enabled.\n"
     ]
    },
    {
     "name": "stdout",
     "output_type": "stream",
     "text": [
      "35/35 [==============================] - 13s 288ms/step\n"
     ]
    },
    {
     "name": "stderr",
     "output_type": "stream",
     "text": [
      "2024-03-12 20:01:26.199761: I tensorflow/core/grappler/optimizers/custom_graph_optimizer_registry.cc:114] Plugin optimizer for device_type GPU is enabled.\n"
     ]
    },
    {
     "name": "stdout",
     "output_type": "stream",
     "text": [
      "35/35 [==============================] - 15s 293ms/step\n",
      "              precision    recall  f1-score   support\n",
      "\n",
      "       angry       0.64      0.75      0.69       217\n",
      "       happy       0.73      0.45      0.56       336\n",
      "     neutral       0.47      0.79      0.59       335\n",
      "         sad       0.71      0.25      0.37       218\n",
      "\n",
      "    accuracy                           0.57      1106\n",
      "   macro avg       0.64      0.56      0.55      1106\n",
      "weighted avg       0.63      0.57      0.56      1106\n",
      "\n",
      "Input Shape= (None, 606, 39)\n",
      "TIMNet Model creation completed\n"
     ]
    },
    {
     "name": "stderr",
     "output_type": "stream",
     "text": [
      "2024-03-12 20:01:41.992483: I tensorflow/core/grappler/optimizers/custom_graph_optimizer_registry.cc:114] Plugin optimizer for device_type GPU is enabled.\n"
     ]
    },
    {
     "name": "stdout",
     "output_type": "stream",
     "text": [
      "35/35 [==============================] - 14s 304ms/step - loss: 0.9367 - accuracy: 0.6329\n",
      "3_Model evaluation:  [0.9366781711578369, 0.6329113841056824]    Now ACC: 61.10333333333333\n"
     ]
    },
    {
     "name": "stderr",
     "output_type": "stream",
     "text": [
      "2024-03-12 20:01:56.045346: I tensorflow/core/grappler/optimizers/custom_graph_optimizer_registry.cc:114] Plugin optimizer for device_type GPU is enabled.\n"
     ]
    },
    {
     "name": "stdout",
     "output_type": "stream",
     "text": [
      "35/35 [==============================] - 15s 303ms/step\n"
     ]
    },
    {
     "name": "stderr",
     "output_type": "stream",
     "text": [
      "2024-03-12 20:02:11.137434: I tensorflow/core/grappler/optimizers/custom_graph_optimizer_registry.cc:114] Plugin optimizer for device_type GPU is enabled.\n"
     ]
    },
    {
     "name": "stdout",
     "output_type": "stream",
     "text": [
      "35/35 [==============================] - 14s 270ms/step\n",
      "              precision    recall  f1-score   support\n",
      "\n",
      "       angry       0.86      0.47      0.61       233\n",
      "       happy       0.68      0.53      0.60       333\n",
      "     neutral       0.54      0.81      0.65       333\n",
      "         sad       0.67      0.69      0.68       207\n",
      "\n",
      "    accuracy                           0.63      1106\n",
      "   macro avg       0.69      0.63      0.63      1106\n",
      "weighted avg       0.67      0.63      0.63      1106\n",
      "\n",
      "Input Shape= (None, 606, 39)\n",
      "TIMNet Model creation completed\n"
     ]
    },
    {
     "name": "stderr",
     "output_type": "stream",
     "text": [
      "2024-03-12 20:02:33.289827: I tensorflow/core/grappler/optimizers/custom_graph_optimizer_registry.cc:114] Plugin optimizer for device_type GPU is enabled.\n"
     ]
    },
    {
     "name": "stdout",
     "output_type": "stream",
     "text": [
      "35/35 [==============================] - 22s 324ms/step - loss: 3.8492 - accuracy: 0.4575\n",
      "4_Model evaluation:  [3.8491547107696533, 0.4575045108795166]    Now ACC: 57.265\n"
     ]
    },
    {
     "name": "stderr",
     "output_type": "stream",
     "text": [
      "2024-03-12 20:02:49.343455: I tensorflow/core/grappler/optimizers/custom_graph_optimizer_registry.cc:114] Plugin optimizer for device_type GPU is enabled.\n"
     ]
    },
    {
     "name": "stdout",
     "output_type": "stream",
     "text": [
      "35/35 [==============================] - 15s 321ms/step\n"
     ]
    },
    {
     "name": "stderr",
     "output_type": "stream",
     "text": [
      "2024-03-12 20:03:05.138274: I tensorflow/core/grappler/optimizers/custom_graph_optimizer_registry.cc:114] Plugin optimizer for device_type GPU is enabled.\n"
     ]
    },
    {
     "name": "stdout",
     "output_type": "stream",
     "text": [
      "35/35 [==============================] - 15s 305ms/step\n",
      "              precision    recall  f1-score   support\n",
      "\n",
      "       angry       0.89      0.34      0.50       206\n",
      "       happy       0.36      0.93      0.52       321\n",
      "     neutral       1.00      0.00      0.01       338\n",
      "         sad       0.67      0.56      0.61       241\n",
      "\n",
      "    accuracy                           0.46      1106\n",
      "   macro avg       0.73      0.46      0.41      1106\n",
      "weighted avg       0.72      0.46      0.38      1106\n",
      "\n",
      "Input Shape= (None, 606, 39)\n",
      "TIMNet Model creation completed\n"
     ]
    },
    {
     "name": "stderr",
     "output_type": "stream",
     "text": [
      "2024-03-12 20:03:21.661483: I tensorflow/core/grappler/optimizers/custom_graph_optimizer_registry.cc:114] Plugin optimizer for device_type GPU is enabled.\n"
     ]
    },
    {
     "name": "stdout",
     "output_type": "stream",
     "text": [
      "35/35 [==============================] - 18s 377ms/step - loss: 0.8518 - accuracy: 0.6618\n",
      "5_Model evaluation:  [0.8517801761627197, 0.6618444919586182]    Now ACC: 59.048\n"
     ]
    },
    {
     "name": "stderr",
     "output_type": "stream",
     "text": [
      "2024-03-12 20:03:39.415255: I tensorflow/core/grappler/optimizers/custom_graph_optimizer_registry.cc:114] Plugin optimizer for device_type GPU is enabled.\n"
     ]
    },
    {
     "name": "stdout",
     "output_type": "stream",
     "text": [
      "35/35 [==============================] - 19s 399ms/step\n"
     ]
    },
    {
     "name": "stderr",
     "output_type": "stream",
     "text": [
      "2024-03-12 20:03:58.264884: I tensorflow/core/grappler/optimizers/custom_graph_optimizer_registry.cc:114] Plugin optimizer for device_type GPU is enabled.\n"
     ]
    },
    {
     "name": "stdout",
     "output_type": "stream",
     "text": [
      "35/35 [==============================] - 20s 375ms/step\n",
      "              precision    recall  f1-score   support\n",
      "\n",
      "       angry       0.65      0.81      0.72       208\n",
      "       happy       0.82      0.41      0.55       307\n",
      "     neutral       0.59      0.78      0.67       371\n",
      "         sad       0.73      0.67      0.70       220\n",
      "\n",
      "    accuracy                           0.66      1106\n",
      "   macro avg       0.70      0.67      0.66      1106\n",
      "weighted avg       0.69      0.66      0.65      1106\n",
      "\n",
      "Average ACC: 0.5904835343360901\n",
      "Average Loss: 1.5105409502983094\n",
      "Average Accuracy: 0.5904835343360901\n",
      "Average Precision: 0.6798576872677939\n",
      "Average Recall: 0.5928196142167792\n",
      "Average F1-Score: 0.5766427027065326\n"
     ]
    },
    {
     "data": {
      "text/plain": [
       "([array([[-0.09415281,  0.2816987 , -0.08230273, ...,  0.80194163,\n",
       "           0.34453133,  0.09030837],\n",
       "         [ 0.04952177,  0.2376175 , -0.00700203, ..., -0.301638  ,\n",
       "           0.15649363, -0.08379543],\n",
       "         [ 0.18336776,  0.3999239 , -0.05506032, ...,  0.03790897,\n",
       "           0.07963908, -0.45834166],\n",
       "         ...,\n",
       "         [ 0.58902335, -0.12620223, -0.1916033 , ..., -0.4098872 ,\n",
       "           0.1426087 , -0.23450506],\n",
       "         [ 0.15683413, -0.8893722 , -0.07984397, ..., -3.5773897 ,\n",
       "           0.47785825,  0.25450313],\n",
       "         [ 0.18292552, -0.10119823, -0.07814464, ...,  0.03336895,\n",
       "           0.1191507 , -0.08173478]], dtype=float32),\n",
       "  array([[-0.03938535, -0.03730422, -0.01228315, ..., -0.05101323,\n",
       "          -0.41557917, -0.48843098],\n",
       "         [-0.6391901 , -0.15676546, -0.21929765, ...,  0.69846463,\n",
       "          -0.10090506, -0.12464249],\n",
       "         [-0.2395438 , -0.00909469,  0.01300383, ...,  0.15188313,\n",
       "          -0.4998518 , -0.22258866],\n",
       "         ...,\n",
       "         [-0.03982183, -0.20582092,  0.00950062, ...,  1.0013835 ,\n",
       "          -0.01372868,  0.18693614],\n",
       "         [ 0.11413346, -0.30386573, -0.01618862, ...,  0.22155225,\n",
       "          -0.16821603, -0.00686765],\n",
       "         [ 0.1637579 , -0.34378687, -0.08699334, ...,  0.20057285,\n",
       "          -0.3292114 , -0.18934715]], dtype=float32),\n",
       "  array([[ 0.02037114,  0.0586015 ,  0.03908989, ...,  0.0051477 ,\n",
       "          -0.01196334, -0.01880428],\n",
       "         [ 0.06514566, -0.3506595 ,  0.05934072, ..., -0.10421553,\n",
       "          -0.41755414, -0.6975923 ],\n",
       "         [ 0.04054546,  0.01754075,  0.0843569 , ..., -0.4540311 ,\n",
       "           0.12321413, -0.0084374 ],\n",
       "         ...,\n",
       "         [ 0.05344006, -0.00285521, -0.08805829, ..., -1.2517769 ,\n",
       "           0.22514012,  0.10496783],\n",
       "         [ 0.34045106,  0.47419864, -1.3752406 , ..., -2.0053172 ,\n",
       "           0.03357288, -0.3906728 ],\n",
       "         [ 0.1496779 ,  0.07958999, -0.60117435, ..., -0.9654685 ,\n",
       "           0.21937239, -0.13338077]], dtype=float32),\n",
       "  array([[ 0.1483641 ,  0.44717818,  0.04793912, ..., -0.19196671,\n",
       "          -1.0061245 ,  0.10276592],\n",
       "         [-0.21188816, -3.3401413 ,  0.03632313, ...,  1.9798068 ,\n",
       "          -0.46367103, -0.05417731],\n",
       "         [ 0.23790222,  0.68893534,  0.11372857, ...,  0.0424614 ,\n",
       "          -1.1210057 , -0.13579288],\n",
       "         ...,\n",
       "         [-0.3786469 , -2.278283  ,  0.10938227, ...,  3.5363674 ,\n",
       "          -0.07298905,  0.2827025 ],\n",
       "         [-0.13761176, -3.6195173 ,  0.0771879 , ...,  2.4457726 ,\n",
       "          -0.05396682,  0.17984575],\n",
       "         [-0.32668287, -2.6269765 ,  0.02878737, ...,  2.2713728 ,\n",
       "          -0.41103637,  0.15711844]], dtype=float32),\n",
       "  array([[-0.03132026,  0.33659023,  0.20823312, ...,  2.9759798 ,\n",
       "           0.25167274, -0.9509454 ],\n",
       "         [-0.08161275,  0.43115926,  0.14814276, ...,  0.11937922,\n",
       "           2.3290594 ,  0.07177339],\n",
       "         [-0.09396892,  0.28905913,  0.38528365, ...,  2.1592143 ,\n",
       "           0.93219817,  0.04954194],\n",
       "         ...,\n",
       "         [-0.1828851 ,  1.1115861 , -0.12911159, ..., -0.5096512 ,\n",
       "          -0.3549385 ,  0.00304779],\n",
       "         [-0.04314285,  0.35480887,  0.2265619 , ...,  0.13591063,\n",
       "          -0.1529398 , -0.18187243],\n",
       "         [-0.17230524,  1.0838685 , -0.4934042 , ..., -0.6886803 ,\n",
       "          -0.4404299 ,  0.11519012]], dtype=float32)],\n",
       " [array([[1., 0., 0., 0.],\n",
       "         [1., 0., 0., 0.],\n",
       "         [1., 0., 0., 0.],\n",
       "         ...,\n",
       "         [0., 0., 0., 1.],\n",
       "         [0., 0., 0., 1.],\n",
       "         [0., 0., 0., 1.]], dtype=float32),\n",
       "  array([[1., 0., 0., 0.],\n",
       "         [1., 0., 0., 0.],\n",
       "         [1., 0., 0., 0.],\n",
       "         ...,\n",
       "         [0., 0., 0., 1.],\n",
       "         [0., 0., 0., 1.],\n",
       "         [0., 0., 0., 1.]], dtype=float32),\n",
       "  array([[1., 0., 0., 0.],\n",
       "         [1., 0., 0., 0.],\n",
       "         [1., 0., 0., 0.],\n",
       "         ...,\n",
       "         [0., 0., 0., 1.],\n",
       "         [0., 0., 0., 1.],\n",
       "         [0., 0., 0., 1.]], dtype=float32),\n",
       "  array([[1., 0., 0., 0.],\n",
       "         [1., 0., 0., 0.],\n",
       "         [1., 0., 0., 0.],\n",
       "         ...,\n",
       "         [0., 0., 0., 1.],\n",
       "         [0., 0., 0., 1.],\n",
       "         [0., 0., 0., 1.]], dtype=float32),\n",
       "  array([[1., 0., 0., 0.],\n",
       "         [1., 0., 0., 0.],\n",
       "         [1., 0., 0., 0.],\n",
       "         ...,\n",
       "         [0., 0., 0., 1.],\n",
       "         [0., 0., 0., 1.],\n",
       "         [0., 0., 0., 1.]], dtype=float32)])"
      ]
     },
     "execution_count": 11,
     "metadata": {},
     "output_type": "execute_result"
    }
   ],
   "source": [
    "# Test the model\n",
    "args_test = Args(mode=\"test\", test_path='./Models/IEMOCAP_16_2024-03-08_11-13-15')\n",
    "model = TIMNET_Model(args=args_test, input_shape=x_source.shape[1:], class_label=CLASS_LABELS)\n",
    "model.test(x_source, y_source, path=args_test.test_path)"
   ]
  },
  {
   "cell_type": "code",
   "execution_count": 12,
   "metadata": {},
   "outputs": [
    {
     "data": {
      "image/png": "[encoded data removed]",
      "text/plain": [
       "<Figure size 1000x700 with 2 Axes>"
      ]
     },
     "metadata": {},
     "output_type": "display_data"
    }
   ],
   "source": [
    "# Plot aggregated and normalized confusion matrix\n",
    "\n",
    "aggregated_cm = np.sum(model.matrix, axis=0)\n",
    "normalized_cm = aggregated_cm.astype('float') / aggregated_cm.sum(axis=1)[:, np.newaxis]\n",
    "\n",
    "plt.figure(figsize=(10, 7))\n",
    "sns.heatmap(normalized_cm, annot=True, fmt=\".2f\", cmap=\"Blues\", xticklabels=CLASS_LABELS, yticklabels=CLASS_LABELS)\n",
    "plt.title('Normalized Confusion Matrix')\n",
    "plt.xlabel('Predicted Labels')\n",
    "plt.ylabel('True Labels')\n",
    "plt.show()"
   ]
  }
 ],
 "metadata": {
  "kernelspec": {
   "display_name": "venv",
   "language": "python",
   "name": "python3"
  },
  "language_info": {
   "codemirror_mode": {
    "name": "ipython",
    "version": 3
   },
   "file_extension": ".py",
   "mimetype": "text/x-python",
   "name": "python",
   "nbconvert_exporter": "python",
   "pygments_lexer": "ipython3",
   "version": "3.8.18"
  }
 },
 "nbformat": 4,
 "nbformat_minor": 2
}
