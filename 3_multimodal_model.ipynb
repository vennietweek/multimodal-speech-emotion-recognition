{
 "cells": [
  {
   "cell_type": "code",
   "execution_count": 9,
   "metadata": {},
   "outputs": [
    {
     "name": "stdout",
     "output_type": "stream",
     "text": [
      "The autoreload extension is already loaded. To reload it, use:\n",
      "  %reload_ext autoreload\n"
     ]
    }
   ],
   "source": [
    "# Import necessary libraries\n",
    "\n",
    "import os\n",
    "import sys\n",
    "import copy\n",
    "import pickle\n",
    "import datetime\n",
    "import numpy as np\n",
    "import pandas as pd\n",
    "import tensorflow as tf\n",
    "import matplotlib.pyplot as plt\n",
    "import seaborn as sns\n",
    "import keras.api._v2.keras as keras\n",
    "import keras.backend as K\n",
    "from keras.optimizers.legacy import Adam\n",
    "from keras.optimizers import SGD\n",
    "from keras import callbacks\n",
    "from keras.models import Model\n",
    "from keras.layers import Masking, Layer, Dense, Input, Activation, Lambda, BatchNormalization, Conv1D, SpatialDropout1D, Add, GlobalAveragePooling1D, LSTM, Dense, concatenate, TimeDistributed, Bidirectional, Dropout, Embedding, Attention, MultiHeadAttention, LayerNormalization, Flatten, Concatenate\n",
    "from tensorflow.keras.backend import sigmoid\n",
    "from sklearn.model_selection import KFold\n",
    "from keras.callbacks import ModelCheckpoint\n",
    "from sklearn.metrics import classification_report, confusion_matrix, precision_recall_fscore_support, accuracy_score\n",
    "import tensorflow as tf\n",
    "from data_utils import *\n",
    "from model_utils import *\n",
    "import tensorflow as tf\n",
    "from collections import Counter\n",
    "\n",
    "%load_ext autoreload\n",
    "%autoreload 2"
   ]
  },
  {
   "cell_type": "code",
   "execution_count": 10,
   "metadata": {},
   "outputs": [
    {
     "name": "stdout",
     "output_type": "stream",
     "text": [
      "Max length of sequences:  110\n",
      "\n",
      "Number of training samples: 120\n",
      "Number of testing samples: 31\n",
      "\n",
      "Train text shape: 120 samples, 110 timesteps, 100 features\n",
      "Train audio shape: 120 samples, 110 timesteps, 100 features\n",
      "Train visual shape: 120 samples, 110 timesteps, 512 features\n",
      "\n",
      "Test text shape: 31 samples, 110 timesteps, 100 features\n",
      "Test audio shape: 31 samples, 110 timesteps, 100 features\n",
      "Test visual shape: 31 samples, 110 timesteps, 512 features\n",
      "\n"
     ]
    }
   ],
   "source": [
    "# Load data\n",
    "train_data, train_label, train_mask, test_data, test_label, test_mask, train_text, train_audio, train_visual, test_text, test_audio, test_visual = load_data()"
   ]
  },
  {
   "cell_type": "code",
   "execution_count": 11,
   "metadata": {},
   "outputs": [],
   "source": [
    "train_dataset, validation_dataset = create_and_split_multimodal_dataset(audio=train_audio, visual=train_visual, text=train_text, data=train_data, labels=train_label, mask=train_mask, batch_size=32, train_size=0.8, shuffle=True)\n",
    "test_dataset = tf.data.Dataset.from_tensor_slices(((test_audio, test_visual, test_text, test_data), test_label, test_mask)).batch(32).prefetch(tf.data.experimental.AUTOTUNE)"
   ]
  },
  {
   "cell_type": "code",
   "execution_count": 12,
   "metadata": {},
   "outputs": [],
   "source": [
    "class MultimodalModel(Model):\n",
    "    def __init__(self, num_classes, d_model, num_heads):\n",
    "        super(MultimodalModel, self).__init__()\n",
    "\n",
    "        # Text feature processing using bi-LSTM\n",
    "        self.text_mask = Masking(mask_value=0.0, input_shape=(None, 110))\n",
    "        self.text_bilstm_1 = Bidirectional(LSTM(64, return_sequences=True))\n",
    "        self.text_bilstm_2 = Bidirectional(LSTM(64, return_sequences=True))\n",
    "        self.text_dense = Dense(d_model, activation='relu')\n",
    "\n",
    "        # Audio feature processing using 1D CNN with padding\n",
    "        self.audio_mask = Masking(mask_value=0.0, input_shape=(None, 110))\n",
    "        self.audio_cnn_1 = Conv1D(filters=128, kernel_size=8, activation='relu', padding='same')\n",
    "        self.audio_cnn_2 = Conv1D(filters=128, kernel_size=3, activation='relu', padding='same')\n",
    "        self.audio_dense = Dense(d_model, activation='relu')\n",
    "\n",
    "        # Video feature processing using CNN and Multi-Head Attention\n",
    "        self.video_mask = Masking(mask_value=0.0, input_shape=(None, 110))\n",
    "        self.video_attn = MultiHeadAttention(num_heads=8, key_dim=64)\n",
    "        self.video_cnn_1 = Conv1D(128, kernel_size=8, activation='relu', padding='same')\n",
    "        self.video_cnn_2 = Conv1D(128, kernel_size=3, activation='relu', padding='same')\n",
    "        self.video_dense = Dense(d_model, activation='relu')\n",
    "\n",
    "        # Cross-modal attention layers\n",
    "        self.text_audio_attention = CrossModalAttentionLayer(d_model=d_model, num_heads=num_heads)\n",
    "        self.text_video_attention = CrossModalAttentionLayer(d_model=d_model, num_heads=num_heads)\n",
    "\n",
    "        # Final processing and classification layers\n",
    "        self.concat = Concatenate()\n",
    "        self.classifier = Dense(num_classes, activation='softmax')\n",
    "\n",
    "    def call(self, inputs, training):\n",
    "        audio_features, video_features, text_features, all_features = inputs\n",
    "\n",
    "        # Process text features\n",
    "        text_features = self.text_mask(text_features)\n",
    "        text_features = self.text_bilstm_1(text_features)\n",
    "        text_features = self.text_bilstm_2(text_features)\n",
    "        text_features = self.text_dense(text_features)\n",
    "\n",
    "        # Process audio features\n",
    "        audio_features = self.audio_mask(audio_features)\n",
    "        audio_features = self.audio_cnn_1(audio_features)\n",
    "        audio_features = self.audio_cnn_2(audio_features)\n",
    "        audio_features = self.audio_dense(audio_features)\n",
    "\n",
    "        # Process video features and reduce dimensionality\n",
    "        video_features = self.video_mask(video_features)\n",
    "        video_features = self.video_attn(video_features, video_features)\n",
    "        video_features = self.video_cnn_1(video_features)\n",
    "        video_features = self.video_cnn_2(video_features)\n",
    "        video_features = self.video_dense(video_features)\n",
    "        \n",
    "        # Apply cross-modal attention between audio-video and text-video\n",
    "        text_audio_attn = self.text_audio_attention(text_features, audio_features)\n",
    "        text_video_attn = self.text_video_attention(text_features, video_features)\n",
    "        \n",
    "        # Combine features from both attention mechanisms\n",
    "        combined_features = self.concat([text_features, text_audio_attn, text_video_attn])\n",
    "        outputs = self.classifier(combined_features)\n",
    "\n",
    "        # Return the final prediction\n",
    "        return outputs\n",
    "\n",
    "    def evaluate_model(self, dataset):\n",
    "        \n",
    "        for batch in dataset:\n",
    "            (inputs, labels, mask) = batch\n",
    "            predictions = self.predict(inputs)\n",
    "            y_pred = np.argmax(predictions, axis=-1).flatten()\n",
    "            y_true = np.argmax(labels, axis=-1).flatten()\n",
    "\n",
    "            # Apply mask to predictions and true values\n",
    "            valid_indices = np.where(mask.numpy().flatten() == 1)\n",
    "            y_pred = y_pred[valid_indices]\n",
    "            y_true = y_true[valid_indices]\n",
    "\n",
    "            # Calculate metrics\n",
    "            accuracy = accuracy_score(y_true, y_pred)\n",
    "            precision, recall, f1, _ = precision_recall_fscore_support(y_true, y_pred, average='macro')\n",
    "\n",
    "            self.test_metrics = {\n",
    "                'accuracy': accuracy,\n",
    "                'precision': precision,\n",
    "                'recall': recall,\n",
    "                'f1_score': f1,\n",
    "                'cm': confusion_matrix(y_true, y_pred)\n",
    "            }\n",
    "\n",
    "    def print_metrics(self):\n",
    "        print(\"Test Metrics:\")\n",
    "        print(f\"Accuracy: {self.test_metrics['accuracy']:.4f}\")\n",
    "        print(f\"Precision: {self.test_metrics['precision']:.4f}\")\n",
    "        print(f\"Recall: {self.test_metrics['recall']:.4f}\")\n",
    "        print(f\"F1 Score: {self.test_metrics['f1_score']:.4f}\")\n",
    "\n",
    "        class_labels = ['hap', 'ang', 'sad', 'neu']\n",
    "        print(\"Confusion Matrix:\")\n",
    "        plt.figure(figsize=(8,6))\n",
    "        sns.heatmap(self.test_metrics['cm'], annot=True, fmt='g', cmap='Blues', xticklabels=class_labels, yticklabels=class_labels)\n",
    "        plt.xlabel('Predicted labels')\n",
    "        plt.ylabel('True labels')\n",
    "        plt.title('Confusion Matrix')\n",
    "        plt.show()"
   ]
  },
  {
   "cell_type": "code",
   "execution_count": 13,
   "metadata": {},
   "outputs": [
    {
     "name": "stdout",
     "output_type": "stream",
     "text": [
      "Epoch 1/10\n"
     ]
    },
    {
     "name": "stderr",
     "output_type": "stream",
     "text": [
      "2024-04-15 22:30:14.286290: I tensorflow/core/grappler/optimizers/custom_graph_optimizer_registry.cc:114] Plugin optimizer for device_type GPU is enabled.\n",
      "2024-04-15 22:30:15.322998: W tensorflow/core/common_runtime/type_inference.cc:339] Type inference failed. This indicates an invalid graph that escaped type checking. Error message: INVALID_ARGUMENT: expected compatible input types, but input 1:\n",
      "type_id: TFT_OPTIONAL\n",
      "args {\n",
      "  type_id: TFT_PRODUCT\n",
      "  args {\n",
      "    type_id: TFT_TENSOR\n",
      "    args {\n",
      "      type_id: TFT_INT32\n",
      "    }\n",
      "  }\n",
      "}\n",
      " is neither a subtype nor a supertype of the combined inputs preceding it:\n",
      "type_id: TFT_OPTIONAL\n",
      "args {\n",
      "  type_id: TFT_PRODUCT\n",
      "  args {\n",
      "    type_id: TFT_TENSOR\n",
      "    args {\n",
      "      type_id: TFT_FLOAT\n",
      "    }\n",
      "  }\n",
      "}\n",
      "\n",
      "\tfor Tuple type infernce function 0\n",
      "\twhile inferring type of node 'cond_42/output/_24'\n",
      "2024-04-15 22:30:15.329877: I tensorflow/core/grappler/optimizers/custom_graph_optimizer_registry.cc:114] Plugin optimizer for device_type GPU is enabled.\n",
      "2024-04-15 22:30:15.524807: I tensorflow/core/grappler/optimizers/custom_graph_optimizer_registry.cc:114] Plugin optimizer for device_type GPU is enabled.\n",
      "2024-04-15 22:30:15.727440: I tensorflow/core/grappler/optimizers/custom_graph_optimizer_registry.cc:114] Plugin optimizer for device_type GPU is enabled.\n",
      "2024-04-15 22:30:15.876409: I tensorflow/core/grappler/optimizers/custom_graph_optimizer_registry.cc:114] Plugin optimizer for device_type GPU is enabled.\n",
      "2024-04-15 22:30:16.334004: I tensorflow/core/grappler/optimizers/custom_graph_optimizer_registry.cc:114] Plugin optimizer for device_type GPU is enabled.\n",
      "2024-04-15 22:30:16.512242: I tensorflow/core/grappler/optimizers/custom_graph_optimizer_registry.cc:114] Plugin optimizer for device_type GPU is enabled.\n",
      "2024-04-15 22:30:16.798985: I tensorflow/core/grappler/optimizers/custom_graph_optimizer_registry.cc:114] Plugin optimizer for device_type GPU is enabled.\n",
      "2024-04-15 22:30:16.939807: I tensorflow/core/grappler/optimizers/custom_graph_optimizer_registry.cc:114] Plugin optimizer for device_type GPU is enabled.\n"
     ]
    },
    {
     "name": "stdout",
     "output_type": "stream",
     "text": [
      "3/3 [==============================] - ETA: 0s - loss: 1.4597 - accuracy: 0.5335WARNING:tensorflow:`evaluate()` received a value for `sample_weight`, but `weighted_metrics` were not provided.  Did you mean to pass metrics to `weighted_metrics` in `compile()`?  If this is intentional you can pass `weighted_metrics=[]` to `compile()` in order to silence this warning.\n"
     ]
    },
    {
     "name": "stderr",
     "output_type": "stream",
     "text": [
      "2024-04-15 22:30:19.055377: I tensorflow/core/grappler/optimizers/custom_graph_optimizer_registry.cc:114] Plugin optimizer for device_type GPU is enabled.\n",
      "2024-04-15 22:30:19.572244: I tensorflow/core/grappler/optimizers/custom_graph_optimizer_registry.cc:114] Plugin optimizer for device_type GPU is enabled.\n",
      "2024-04-15 22:30:19.649031: I tensorflow/core/grappler/optimizers/custom_graph_optimizer_registry.cc:114] Plugin optimizer for device_type GPU is enabled.\n",
      "2024-04-15 22:30:19.805102: I tensorflow/core/grappler/optimizers/custom_graph_optimizer_registry.cc:114] Plugin optimizer for device_type GPU is enabled.\n",
      "2024-04-15 22:30:19.863271: I tensorflow/core/grappler/optimizers/custom_graph_optimizer_registry.cc:114] Plugin optimizer for device_type GPU is enabled.\n"
     ]
    },
    {
     "name": "stdout",
     "output_type": "stream",
     "text": [
      "3/3 [==============================] - 10s 1s/step - loss: 1.4597 - accuracy: 0.5335 - val_loss: 1.2024 - val_accuracy: 0.6992\n",
      "Epoch 2/10\n",
      "3/3 [==============================] - ETA: 0s - loss: 1.1078 - accuracy: 0.6612WARNING:tensorflow:`evaluate()` received a value for `sample_weight`, but `weighted_metrics` were not provided.  Did you mean to pass metrics to `weighted_metrics` in `compile()`?  If this is intentional you can pass `weighted_metrics=[]` to `compile()` in order to silence this warning.\n",
      "3/3 [==============================] - 1s 363ms/step - loss: 1.1078 - accuracy: 0.6612 - val_loss: 1.0063 - val_accuracy: 0.6178\n",
      "Epoch 3/10\n",
      "3/3 [==============================] - ETA: 0s - loss: 0.8532 - accuracy: 0.6895WARNING:tensorflow:`evaluate()` received a value for `sample_weight`, but `weighted_metrics` were not provided.  Did you mean to pass metrics to `weighted_metrics` in `compile()`?  If this is intentional you can pass `weighted_metrics=[]` to `compile()` in order to silence this warning.\n",
      "3/3 [==============================] - 1s 394ms/step - loss: 0.8532 - accuracy: 0.6895 - val_loss: 0.6911 - val_accuracy: 0.7874\n",
      "Epoch 4/10\n",
      "3/3 [==============================] - ETA: 0s - loss: 0.6524 - accuracy: 0.7684WARNING:tensorflow:`evaluate()` received a value for `sample_weight`, but `weighted_metrics` were not provided.  Did you mean to pass metrics to `weighted_metrics` in `compile()`?  If this is intentional you can pass `weighted_metrics=[]` to `compile()` in order to silence this warning.\n",
      "3/3 [==============================] - 1s 369ms/step - loss: 0.6524 - accuracy: 0.7684 - val_loss: 0.5766 - val_accuracy: 0.8129\n",
      "Epoch 5/10\n",
      "3/3 [==============================] - ETA: 0s - loss: 0.5702 - accuracy: 0.7905WARNING:tensorflow:`evaluate()` received a value for `sample_weight`, but `weighted_metrics` were not provided.  Did you mean to pass metrics to `weighted_metrics` in `compile()`?  If this is intentional you can pass `weighted_metrics=[]` to `compile()` in order to silence this warning.\n",
      "3/3 [==============================] - 1s 369ms/step - loss: 0.5702 - accuracy: 0.7905 - val_loss: 0.5514 - val_accuracy: 0.7864\n",
      "Epoch 6/10\n",
      "3/3 [==============================] - ETA: 0s - loss: 0.4886 - accuracy: 0.8074WARNING:tensorflow:`evaluate()` received a value for `sample_weight`, but `weighted_metrics` were not provided.  Did you mean to pass metrics to `weighted_metrics` in `compile()`?  If this is intentional you can pass `weighted_metrics=[]` to `compile()` in order to silence this warning.\n",
      "3/3 [==============================] - 1s 359ms/step - loss: 0.4886 - accuracy: 0.8074 - val_loss: 0.4807 - val_accuracy: 0.8089\n",
      "Epoch 7/10\n",
      "3/3 [==============================] - ETA: 0s - loss: 0.4382 - accuracy: 0.8340WARNING:tensorflow:`evaluate()` received a value for `sample_weight`, but `weighted_metrics` were not provided.  Did you mean to pass metrics to `weighted_metrics` in `compile()`?  If this is intentional you can pass `weighted_metrics=[]` to `compile()` in order to silence this warning.\n",
      "3/3 [==============================] - 1s 359ms/step - loss: 0.4382 - accuracy: 0.8340 - val_loss: 0.3324 - val_accuracy: 0.8927\n",
      "Epoch 8/10\n",
      "3/3 [==============================] - ETA: 0s - loss: 0.4120 - accuracy: 0.8459WARNING:tensorflow:`evaluate()` received a value for `sample_weight`, but `weighted_metrics` were not provided.  Did you mean to pass metrics to `weighted_metrics` in `compile()`?  If this is intentional you can pass `weighted_metrics=[]` to `compile()` in order to silence this warning.\n",
      "3/3 [==============================] - 1s 371ms/step - loss: 0.4120 - accuracy: 0.8459 - val_loss: 0.3587 - val_accuracy: 0.8782\n",
      "Epoch 9/10\n",
      "3/3 [==============================] - ETA: 0s - loss: 0.3353 - accuracy: 0.8806WARNING:tensorflow:`evaluate()` received a value for `sample_weight`, but `weighted_metrics` were not provided.  Did you mean to pass metrics to `weighted_metrics` in `compile()`?  If this is intentional you can pass `weighted_metrics=[]` to `compile()` in order to silence this warning.\n",
      "3/3 [==============================] - 1s 363ms/step - loss: 0.3353 - accuracy: 0.8806 - val_loss: 0.3499 - val_accuracy: 0.8865\n",
      "Epoch 10/10\n",
      "3/3 [==============================] - ETA: 0s - loss: 0.2963 - accuracy: 0.8998WARNING:tensorflow:`evaluate()` received a value for `sample_weight`, but `weighted_metrics` were not provided.  Did you mean to pass metrics to `weighted_metrics` in `compile()`?  If this is intentional you can pass `weighted_metrics=[]` to `compile()` in order to silence this warning.\n",
      "3/3 [==============================] - 1s 361ms/step - loss: 0.2963 - accuracy: 0.8998 - val_loss: 0.2675 - val_accuracy: 0.9021\n"
     ]
    },
    {
     "name": "stderr",
     "output_type": "stream",
     "text": [
      "2024-04-15 22:30:30.590939: I tensorflow/core/grappler/optimizers/custom_graph_optimizer_registry.cc:114] Plugin optimizer for device_type GPU is enabled.\n",
      "2024-04-15 22:30:31.074446: I tensorflow/core/grappler/optimizers/custom_graph_optimizer_registry.cc:114] Plugin optimizer for device_type GPU is enabled.\n",
      "2024-04-15 22:30:31.156058: I tensorflow/core/grappler/optimizers/custom_graph_optimizer_registry.cc:114] Plugin optimizer for device_type GPU is enabled.\n",
      "2024-04-15 22:30:31.314895: I tensorflow/core/grappler/optimizers/custom_graph_optimizer_registry.cc:114] Plugin optimizer for device_type GPU is enabled.\n",
      "2024-04-15 22:30:31.375247: I tensorflow/core/grappler/optimizers/custom_graph_optimizer_registry.cc:114] Plugin optimizer for device_type GPU is enabled.\n"
     ]
    },
    {
     "name": "stdout",
     "output_type": "stream",
     "text": [
      "1/1 [==============================] - 2s 2s/step\n",
      "Test Metrics:\n",
      "Accuracy: 0.7369\n",
      "Precision: 0.7611\n",
      "Recall: 0.7168\n",
      "F1 Score: 0.7323\n",
      "Confusion Matrix:\n"
     ]
    },
    {
     "data": {
      "image/png": "[encoded data removed]",
      "text/plain": [
       "<Figure size 800x600 with 2 Axes>"
      ]
     },
     "metadata": {},
     "output_type": "display_data"
    }
   ],
   "source": [
    "# Instantiate the model\n",
    "multimodal_model = MultimodalModel(num_classes=5, d_model=128, num_heads=8)\n",
    "\n",
    "# Compile the model\n",
    "multimodal_model.compile(optimizer='adam', loss='categorical_crossentropy', metrics=['accuracy'])\n",
    "\n",
    "# Train the model\n",
    "multimodal_model.fit(train_dataset, epochs=10, validation_data=validation_dataset)\n",
    "\n",
    "# Evaluate the model on test dataset\n",
    "multimodal_model.evaluate_model(test_dataset)\n",
    "\n",
    "# Print test metrics\n",
    "multimodal_model.print_metrics()"
   ]
  },
  {
   "cell_type": "code",
   "execution_count": 17,
   "metadata": {},
   "outputs": [],
   "source": [
    "class RNNModel(Model):\n",
    "    def __init__(self, num_classes, modality):\n",
    "        super(RNNModel, self).__init__()\n",
    "        self.num_classes = num_classes\n",
    "        self.modality = modality\n",
    "        \n",
    "        self.mask = Masking(mask_value=0.0)\n",
    "        self.bilstm1 = Bidirectional(LSTM(64, return_sequences=True))\n",
    "        self.bilstm2 = Bidirectional(LSTM(64, return_sequences=True))\n",
    "        self.dropout = Dropout(0.5)\n",
    "        self.dense = Dense(64, activation='relu')\n",
    "        self.classifier = Dense(num_classes, activation='softmax')\n",
    "\n",
    "    def call(self, inputs):\n",
    "        audio_features, video_features, text_features, all_features = inputs\n",
    "        if self.modality == 'audio':\n",
    "            inputs = audio_features\n",
    "        elif self.modality == 'video':\n",
    "            inputs = video_features\n",
    "        elif self.modality == 'text':\n",
    "            inputs = text_features\n",
    "        elif self.modality == 'multimodal':\n",
    "            inputs = all_features\n",
    "        x = self.mask(inputs)\n",
    "        x = self.bilstm1(x)\n",
    "        x = self.bilstm2(x)\n",
    "        x = self.dropout(x)\n",
    "        x = self.dense(x)\n",
    "        return self.classifier(x)\n",
    "\n",
    "    def evaluate_model(self, dataset):\n",
    "        \n",
    "        for batch in dataset:\n",
    "            (inputs, labels, mask) = batch\n",
    "            predictions = self.predict(inputs)\n",
    "            y_pred = np.argmax(predictions, axis=-1).flatten()\n",
    "            y_true = np.argmax(labels, axis=-1).flatten()\n",
    "\n",
    "            # Apply mask to predictions and true values\n",
    "            valid_indices = np.where(mask.numpy().flatten() == 1)\n",
    "            y_pred = y_pred[valid_indices]\n",
    "            y_true = y_true[valid_indices]\n",
    "\n",
    "            # Calculate metrics\n",
    "            accuracy = accuracy_score(y_true, y_pred)\n",
    "            precision, recall, f1, _ = precision_recall_fscore_support(y_true, y_pred, average='macro')\n",
    "\n",
    "            self.test_metrics = {\n",
    "                'accuracy': accuracy,\n",
    "                'precision': precision,\n",
    "                'recall': recall,\n",
    "                'f1_score': f1,\n",
    "                'cm': confusion_matrix(y_true, y_pred)\n",
    "            }\n",
    "\n",
    "    def print_metrics(self):\n",
    "        print(\"Test Metrics:\")\n",
    "        print(f\"Accuracy: {self.test_metrics['accuracy']:.4f}\")\n",
    "        print(f\"Precision: {self.test_metrics['precision']:.4f}\")\n",
    "        print(f\"Recall: {self.test_metrics['recall']:.4f}\")\n",
    "        print(f\"F1 Score: {self.test_metrics['f1_score']:.4f}\")\n",
    "\n",
    "        class_labels = ['hap', 'ang', 'sad', 'neu']\n",
    "        print(\"Confusion Matrix:\")\n",
    "        plt.figure(figsize=(8,6))\n",
    "        sns.heatmap(self.test_metrics['cm'], annot=True, fmt='g', cmap='Blues', xticklabels=class_labels, yticklabels=class_labels)\n",
    "        plt.xlabel('Predicted labels')\n",
    "        plt.ylabel('True labels')\n",
    "        plt.title('Confusion Matrix')\n",
    "        plt.show()"
   ]
  },
  {
   "cell_type": "code",
   "execution_count": 19,
   "metadata": {},
   "outputs": [
    {
     "name": "stdout",
     "output_type": "stream",
     "text": [
      "Epoch 1/10\n"
     ]
    },
    {
     "name": "stderr",
     "output_type": "stream",
     "text": [
      "2024-04-15 22:33:45.958359: I tensorflow/core/grappler/optimizers/custom_graph_optimizer_registry.cc:114] Plugin optimizer for device_type GPU is enabled.\n",
      "2024-04-15 22:33:46.830998: I tensorflow/core/grappler/optimizers/custom_graph_optimizer_registry.cc:114] Plugin optimizer for device_type GPU is enabled.\n",
      "2024-04-15 22:33:46.976266: I tensorflow/core/grappler/optimizers/custom_graph_optimizer_registry.cc:114] Plugin optimizer for device_type GPU is enabled.\n",
      "2024-04-15 22:33:47.176877: I tensorflow/core/grappler/optimizers/custom_graph_optimizer_registry.cc:114] Plugin optimizer for device_type GPU is enabled.\n",
      "2024-04-15 22:33:47.324780: I tensorflow/core/grappler/optimizers/custom_graph_optimizer_registry.cc:114] Plugin optimizer for device_type GPU is enabled.\n",
      "2024-04-15 22:33:47.755765: I tensorflow/core/grappler/optimizers/custom_graph_optimizer_registry.cc:114] Plugin optimizer for device_type GPU is enabled.\n",
      "2024-04-15 22:33:47.906618: I tensorflow/core/grappler/optimizers/custom_graph_optimizer_registry.cc:114] Plugin optimizer for device_type GPU is enabled.\n",
      "2024-04-15 22:33:48.197801: I tensorflow/core/grappler/optimizers/custom_graph_optimizer_registry.cc:114] Plugin optimizer for device_type GPU is enabled.\n",
      "2024-04-15 22:33:48.336135: I tensorflow/core/grappler/optimizers/custom_graph_optimizer_registry.cc:114] Plugin optimizer for device_type GPU is enabled.\n"
     ]
    },
    {
     "name": "stdout",
     "output_type": "stream",
     "text": [
      "3/3 [==============================] - ETA: 0s - loss: 1.4272 - accuracy: 0.4069WARNING:tensorflow:`evaluate()` received a value for `sample_weight`, but `weighted_metrics` were not provided.  Did you mean to pass metrics to `weighted_metrics` in `compile()`?  If this is intentional you can pass `weighted_metrics=[]` to `compile()` in order to silence this warning.\n"
     ]
    },
    {
     "name": "stderr",
     "output_type": "stream",
     "text": [
      "2024-04-15 22:33:50.003260: I tensorflow/core/grappler/optimizers/custom_graph_optimizer_registry.cc:114] Plugin optimizer for device_type GPU is enabled.\n",
      "2024-04-15 22:33:50.454911: I tensorflow/core/grappler/optimizers/custom_graph_optimizer_registry.cc:114] Plugin optimizer for device_type GPU is enabled.\n",
      "2024-04-15 22:33:50.514284: I tensorflow/core/grappler/optimizers/custom_graph_optimizer_registry.cc:114] Plugin optimizer for device_type GPU is enabled.\n",
      "2024-04-15 22:33:50.641290: I tensorflow/core/grappler/optimizers/custom_graph_optimizer_registry.cc:114] Plugin optimizer for device_type GPU is enabled.\n"
     ]
    },
    {
     "name": "stdout",
     "output_type": "stream",
     "text": [
      "3/3 [==============================] - 8s 1s/step - loss: 1.4272 - accuracy: 0.4069 - val_loss: 1.1193 - val_accuracy: 0.7635\n",
      "Epoch 2/10\n"
     ]
    },
    {
     "name": "stderr",
     "output_type": "stream",
     "text": [
      "2024-04-15 22:33:50.701692: I tensorflow/core/grappler/optimizers/custom_graph_optimizer_registry.cc:114] Plugin optimizer for device_type GPU is enabled.\n"
     ]
    },
    {
     "name": "stdout",
     "output_type": "stream",
     "text": [
      "3/3 [==============================] - ETA: 0s - loss: 1.0314 - accuracy: 0.7193WARNING:tensorflow:`evaluate()` received a value for `sample_weight`, but `weighted_metrics` were not provided.  Did you mean to pass metrics to `weighted_metrics` in `compile()`?  If this is intentional you can pass `weighted_metrics=[]` to `compile()` in order to silence this warning.\n",
      "3/3 [==============================] - 1s 246ms/step - loss: 1.0314 - accuracy: 0.7193 - val_loss: 0.8123 - val_accuracy: 0.7355\n",
      "Epoch 3/10\n",
      "3/3 [==============================] - ETA: 0s - loss: 0.7947 - accuracy: 0.7457WARNING:tensorflow:`evaluate()` received a value for `sample_weight`, but `weighted_metrics` were not provided.  Did you mean to pass metrics to `weighted_metrics` in `compile()`?  If this is intentional you can pass `weighted_metrics=[]` to `compile()` in order to silence this warning.\n",
      "3/3 [==============================] - 1s 254ms/step - loss: 0.7947 - accuracy: 0.7457 - val_loss: 0.6023 - val_accuracy: 0.7809\n",
      "Epoch 4/10\n",
      "3/3 [==============================] - ETA: 0s - loss: 0.6207 - accuracy: 0.7886WARNING:tensorflow:`evaluate()` received a value for `sample_weight`, but `weighted_metrics` were not provided.  Did you mean to pass metrics to `weighted_metrics` in `compile()`?  If this is intentional you can pass `weighted_metrics=[]` to `compile()` in order to silence this warning.\n",
      "3/3 [==============================] - 1s 259ms/step - loss: 0.6207 - accuracy: 0.7886 - val_loss: 0.5030 - val_accuracy: 0.8288\n",
      "Epoch 5/10\n",
      "3/3 [==============================] - ETA: 0s - loss: 0.5282 - accuracy: 0.8188WARNING:tensorflow:`evaluate()` received a value for `sample_weight`, but `weighted_metrics` were not provided.  Did you mean to pass metrics to `weighted_metrics` in `compile()`?  If this is intentional you can pass `weighted_metrics=[]` to `compile()` in order to silence this warning.\n",
      "3/3 [==============================] - 1s 246ms/step - loss: 0.5282 - accuracy: 0.8188 - val_loss: 0.4294 - val_accuracy: 0.8387\n",
      "Epoch 6/10\n",
      "3/3 [==============================] - ETA: 0s - loss: 0.4719 - accuracy: 0.8239WARNING:tensorflow:`evaluate()` received a value for `sample_weight`, but `weighted_metrics` were not provided.  Did you mean to pass metrics to `weighted_metrics` in `compile()`?  If this is intentional you can pass `weighted_metrics=[]` to `compile()` in order to silence this warning.\n",
      "3/3 [==============================] - 1s 258ms/step - loss: 0.4719 - accuracy: 0.8239 - val_loss: 0.4357 - val_accuracy: 0.8316\n",
      "Epoch 7/10\n",
      "3/3 [==============================] - ETA: 0s - loss: 0.4342 - accuracy: 0.8393WARNING:tensorflow:`evaluate()` received a value for `sample_weight`, but `weighted_metrics` were not provided.  Did you mean to pass metrics to `weighted_metrics` in `compile()`?  If this is intentional you can pass `weighted_metrics=[]` to `compile()` in order to silence this warning.\n",
      "3/3 [==============================] - 1s 248ms/step - loss: 0.4342 - accuracy: 0.8393 - val_loss: 0.4398 - val_accuracy: 0.8333\n",
      "Epoch 8/10\n",
      "3/3 [==============================] - ETA: 0s - loss: 0.4024 - accuracy: 0.8519WARNING:tensorflow:`evaluate()` received a value for `sample_weight`, but `weighted_metrics` were not provided.  Did you mean to pass metrics to `weighted_metrics` in `compile()`?  If this is intentional you can pass `weighted_metrics=[]` to `compile()` in order to silence this warning.\n",
      "3/3 [==============================] - 1s 257ms/step - loss: 0.4024 - accuracy: 0.8519 - val_loss: 0.2991 - val_accuracy: 0.8906\n",
      "Epoch 9/10\n",
      "3/3 [==============================] - ETA: 0s - loss: 0.3606 - accuracy: 0.8731WARNING:tensorflow:`evaluate()` received a value for `sample_weight`, but `weighted_metrics` were not provided.  Did you mean to pass metrics to `weighted_metrics` in `compile()`?  If this is intentional you can pass `weighted_metrics=[]` to `compile()` in order to silence this warning.\n",
      "3/3 [==============================] - 1s 245ms/step - loss: 0.3606 - accuracy: 0.8731 - val_loss: 0.2786 - val_accuracy: 0.8990\n",
      "Epoch 10/10\n",
      "3/3 [==============================] - ETA: 0s - loss: 0.3189 - accuracy: 0.8887WARNING:tensorflow:`evaluate()` received a value for `sample_weight`, but `weighted_metrics` were not provided.  Did you mean to pass metrics to `weighted_metrics` in `compile()`?  If this is intentional you can pass `weighted_metrics=[]` to `compile()` in order to silence this warning.\n",
      "3/3 [==============================] - 1s 258ms/step - loss: 0.3189 - accuracy: 0.8887 - val_loss: 0.3229 - val_accuracy: 0.8875\n"
     ]
    },
    {
     "name": "stderr",
     "output_type": "stream",
     "text": [
      "2024-04-15 22:33:58.525485: I tensorflow/core/grappler/optimizers/custom_graph_optimizer_registry.cc:114] Plugin optimizer for device_type GPU is enabled.\n",
      "2024-04-15 22:33:58.969870: I tensorflow/core/grappler/optimizers/custom_graph_optimizer_registry.cc:114] Plugin optimizer for device_type GPU is enabled.\n",
      "2024-04-15 22:33:59.034696: I tensorflow/core/grappler/optimizers/custom_graph_optimizer_registry.cc:114] Plugin optimizer for device_type GPU is enabled.\n",
      "2024-04-15 22:33:59.181533: I tensorflow/core/grappler/optimizers/custom_graph_optimizer_registry.cc:114] Plugin optimizer for device_type GPU is enabled.\n",
      "2024-04-15 22:33:59.242531: I tensorflow/core/grappler/optimizers/custom_graph_optimizer_registry.cc:114] Plugin optimizer for device_type GPU is enabled.\n"
     ]
    },
    {
     "name": "stdout",
     "output_type": "stream",
     "text": [
      "1/1 [==============================] - 2s 2s/step\n",
      "Test Metrics:\n",
      "Accuracy: 0.7270\n",
      "Precision: 0.7526\n",
      "Recall: 0.7183\n",
      "F1 Score: 0.7305\n",
      "Confusion Matrix:\n"
     ]
    },
    {
     "data": {
      "image/png": "[encoded data removed]",
      "text/plain": [
       "<Figure size 800x600 with 2 Axes>"
      ]
     },
     "metadata": {},
     "output_type": "display_data"
    }
   ],
   "source": [
    "#RNN model for text\n",
    "rnn_model = RNNModel(num_classes=5, modality='text')\n",
    "rnn_model.compile(optimizer='adam', loss='categorical_crossentropy', metrics=['accuracy'])\n",
    "rnn_model.fit(train_dataset, epochs=10, validation_data=validation_dataset)\n",
    "rnn_model.evaluate_model(test_dataset)\n",
    "rnn_model.print_metrics()"
   ]
  }
 ],
 "metadata": {
  "kernelspec": {
   "display_name": "venv",
   "language": "python",
   "name": "python3"
  },
  "language_info": {
   "codemirror_mode": {
    "name": "ipython",
    "version": 3
   },
   "file_extension": ".py",
   "mimetype": "text/x-python",
   "name": "python",
   "nbconvert_exporter": "python",
   "pygments_lexer": "ipython3",
   "version": "3.8.18"
  }
 },
 "nbformat": 4,
 "nbformat_minor": 2
}
